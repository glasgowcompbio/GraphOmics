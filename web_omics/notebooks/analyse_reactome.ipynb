{
 "cells": [
  {
   "cell_type": "markdown",
   "metadata": {},
   "source": [
    "# Maps Kevin's data onto reactome pathways"
   ]
  },
  {
   "cell_type": "code",
   "execution_count": 1,
   "metadata": {},
   "outputs": [],
   "source": [
    "%load_ext autoreload\n",
    "%autoreload 2"
   ]
  },
  {
   "cell_type": "code",
   "execution_count": 2,
   "metadata": {},
   "outputs": [],
   "source": [
    "import os\n",
    "import glob\n",
    "\n",
    "import pylab as plt\n",
    "import matplotlib\n",
    "from IPython.display import display, HTML\n",
    "\n",
    "import numpy as np\n",
    "from scipy.sparse import lil_matrix\n",
    "import pandas as pd\n",
    "from pandas import HDFStore\n",
    "\n",
    "import seaborn as sns\n",
    "from IPython.display import display\n",
    "    \n",
    "from collections import defaultdict\n",
    "\n",
    "from ipywidgets import FloatProgress\n",
    "\n",
    "%matplotlib inline"
   ]
  },
  {
   "cell_type": "code",
   "execution_count": 3,
   "metadata": {},
   "outputs": [],
   "source": [
    "import sys\n",
    "sys.path.append('../linker')\n",
    "\n",
    "from reactome import ensembl_to_uniprot, uniprot_to_reaction, compound_to_reaction, \\\n",
    "    reaction_to_metabolite_pathway, get_reaction_ids, get_reaction_df, get_reaction_entities, \\\n",
    "    produce_kegg_dict, get_all_pathways_formulae\n"
   ]
  },
  {
   "cell_type": "markdown",
   "metadata": {},
   "source": [
    "## Load data"
   ]
  },
  {
   "cell_type": "code",
   "execution_count": 4,
   "metadata": {},
   "outputs": [],
   "source": [
    "basedir = '/Users/joewandy/Dropbox/Analysis/omics_integration'"
   ]
  },
  {
   "cell_type": "code",
   "execution_count": 5,
   "metadata": {},
   "outputs": [],
   "source": [
    "time = 7\n",
    "parasite = 'INFEC'\n",
    "treatment = 'Unsorted'\n",
    "\n",
    "filename = os.path.join(basedir, 'data/data_%d_%s_%s.h5' % (time, parasite, treatment))\n",
    "hdf = HDFStore(filename, complevel=9, complib='bzip2')\n",
    "\n",
    "pvt = hdf['peak_vs_transcript'].replace([np.inf, -np.inf], np.nan).fillna(0)\n",
    "# pvp = hdf['peak_vs_peak']\n",
    "# tvt = hdf['transcript_vs_transcript']\n",
    "\n",
    "hdf.close()"
   ]
  },
  {
   "cell_type": "code",
   "execution_count": 6,
   "metadata": {},
   "outputs": [
    {
     "data": {
      "text/plain": [
       "Index(['ENSMUSG00000000001', 'ENSMUSG00000000028', 'ENSMUSG00000000031',\n",
       "       'ENSMUSG00000000049', 'ENSMUSG00000000056', 'ENSMUSG00000000058',\n",
       "       'ENSMUSG00000000078', 'ENSMUSG00000000085', 'ENSMUSG00000000088',\n",
       "       'ENSMUSG00000000093',\n",
       "       ...\n",
       "       'ENSMUSG00000110391', 'ENSMUSG00000110393', 'ENSMUSG00000110397',\n",
       "       'ENSMUSG00000110399', 'ENSMUSG00000110404', 'ENSMUSG00000110405',\n",
       "       'ENSMUSG00000110410', 'ENSMUSG00000110414', 'ENSMUSG00000110419',\n",
       "       'ENSMUSG00000110424'],\n",
       "      dtype='object', length=21794)"
      ]
     },
     "execution_count": 6,
     "metadata": {},
     "output_type": "execute_result"
    }
   ],
   "source": [
    "pvt.columns"
   ]
  },
  {
   "cell_type": "code",
   "execution_count": 7,
   "metadata": {},
   "outputs": [],
   "source": [
    "species = 'Mus musculus'"
   ]
  },
  {
   "cell_type": "markdown",
   "metadata": {},
   "source": [
    "## Maps ENSEMBL IDs to UniProt IDs"
   ]
  },
  {
   "cell_type": "code",
   "execution_count": 8,
   "metadata": {},
   "outputs": [
    {
     "name": "stdout",
     "output_type": "stream",
     "text": [
      "ENSMUSG00000000001\n"
     ]
    }
   ],
   "source": [
    "ens_id = pvt.columns[0]\n",
    "print(ens_id)"
   ]
  },
  {
   "cell_type": "code",
   "execution_count": 9,
   "metadata": {},
   "outputs": [
    {
     "name": "stdout",
     "output_type": "stream",
     "text": [
      "21794\n"
     ]
    }
   ],
   "source": [
    "print(len(pvt.columns))\n",
    "ens_ids = pvt.columns.values.tolist()"
   ]
  },
  {
   "cell_type": "code",
   "execution_count": 10,
   "metadata": {
    "scrolled": true
   },
   "outputs": [
    {
     "data": {
      "application/vnd.jupyter.widget-view+json": {
       "model_id": "d4f2c96837c84378ad8924b0bae04711",
       "version_major": 2,
       "version_minor": 0
      },
      "text/html": [
       "<p>Failed to display Jupyter Widget of type <code>FloatProgress</code>.</p>\n",
       "<p>\n",
       "  If you're reading this message in the Jupyter Notebook or JupyterLab Notebook, it may mean\n",
       "  that the widgets JavaScript is still loading. If this message persists, it\n",
       "  likely means that the widgets JavaScript library is either not installed or\n",
       "  not enabled. See the <a href=\"https://ipywidgets.readthedocs.io/en/stable/user_install.html\">Jupyter\n",
       "  Widgets Documentation</a> for setup instructions.\n",
       "</p>\n",
       "<p>\n",
       "  If you're reading this message in another frontend (for example, a static\n",
       "  rendering on GitHub or <a href=\"https://nbviewer.jupyter.org/\">NBViewer</a>),\n",
       "  it may mean that your frontend doesn't currently support widgets.\n",
       "</p>\n"
      ],
      "text/plain": [
       "FloatProgress(value=0.0, max=21794.0)"
      ]
     },
     "metadata": {},
     "output_type": "display_data"
    }
   ],
   "source": [
    "transcript_mapping = ensembl_to_uniprot(ens_ids, species, show_progress_bar=True)"
   ]
  },
  {
   "cell_type": "code",
   "execution_count": 11,
   "metadata": {},
   "outputs": [],
   "source": [
    "ensembl_ids = list(transcript_mapping.keys())[0:10]\n",
    "for ensembl_id in ensembl_ids:\n",
    "    print(ensembl_id, transcript_mapping[ensembl_id])"
   ]
  },
  {
   "cell_type": "code",
   "execution_count": 12,
   "metadata": {},
   "outputs": [],
   "source": [
    "total_mapped = len(transcript_mapping)\n",
    "total_genes = len(ens_ids)\n",
    "certain = []\n",
    "for ensembl_id in transcript_mapping:\n",
    "    if len(transcript_mapping[ensembl_id]) == 1:\n",
    "        certain.append(transcript_mapping[ensembl_id][0])\n",
    "\n",
    "uncertain = total_mapped - len(certain)\n",
    "print(len(certain), uncertain, total_mapped, total_genes)"
   ]
  },
  {
   "cell_type": "markdown",
   "metadata": {},
   "source": [
    "Get human-friendly names from online"
   ]
  },
  {
   "cell_type": "code",
   "execution_count": 37,
   "metadata": {},
   "outputs": [],
   "source": [
    "def batch(iterable, n=1):\n",
    "    l = len(iterable)\n",
    "    for ndx in range(0, l, n):\n",
    "        yield iterable[ndx:min(ndx + n, l)]"
   ]
  },
  {
   "cell_type": "code",
   "execution_count": 40,
   "metadata": {},
   "outputs": [
    {
     "name": "stdout",
     "output_type": "stream",
     "text": [
      "1000\n",
      "1000\n",
      "1000\n",
      "1000\n",
      "1000\n",
      "1000\n",
      "600\n"
     ]
    },
    {
     "data": {
      "text/plain": [
       "{'assembly_name': 'GRCm38',\n",
       " 'biotype': 'protein_coding',\n",
       " 'db_type': 'core',\n",
       " 'description': 'myosin binding protein C, cardiac [Source:MGI Symbol;Acc:MGI:102844]',\n",
       " 'display_name': 'Mybpc3',\n",
       " 'end': 91136516,\n",
       " 'id': 'ENSMUSG00000002100',\n",
       " 'logic_name': 'ensembl_havana_gene',\n",
       " 'object_type': 'Gene',\n",
       " 'seq_region_name': '2',\n",
       " 'source': 'ensembl_havana',\n",
       " 'species': 'mus_musculus',\n",
       " 'start': 91118144,\n",
       " 'strand': 1,\n",
       " 'version': 15}"
      ]
     },
     "execution_count": 40,
     "metadata": {},
     "output_type": "execute_result"
    }
   ],
   "source": [
    "from bioservices import Ensembl\n",
    "\n",
    "ensembl_ids = list(transcript_mapping.keys())\n",
    "ens = Ensembl()\n",
    "\n",
    "ensembl_lookup = {}\n",
    "for x in batch(ensembl_ids, 1000):\n",
    "    batch_ids = [i for i in x]\n",
    "    print(len(batch_ids))\n",
    "    lookup = ens.post_lookup_by_id(identifiers=batch_ids)\n",
    "    ensembl_lookup.update(lookup)\n",
    "    \n",
    "    \n",
    "ensembl_lookup['ENSMUSG00000002100']"
   ]
  },
  {
   "cell_type": "markdown",
   "metadata": {},
   "source": [
    "## Map UniProt IDs to Reactions"
   ]
  },
  {
   "cell_type": "code",
   "execution_count": 17,
   "metadata": {},
   "outputs": [
    {
     "data": {
      "application/vnd.jupyter.widget-view+json": {
       "model_id": "02a09f6055f749efac7af00da872760f",
       "version_major": 2,
       "version_minor": 0
      },
      "text/html": [
       "<p>Failed to display Jupyter Widget of type <code>FloatProgress</code>.</p>\n",
       "<p>\n",
       "  If you're reading this message in the Jupyter Notebook or JupyterLab Notebook, it may mean\n",
       "  that the widgets JavaScript is still loading. If this message persists, it\n",
       "  likely means that the widgets JavaScript library is either not installed or\n",
       "  not enabled. See the <a href=\"https://ipywidgets.readthedocs.io/en/stable/user_install.html\">Jupyter\n",
       "  Widgets Documentation</a> for setup instructions.\n",
       "</p>\n",
       "<p>\n",
       "  If you're reading this message in another frontend (for example, a static\n",
       "  rendering on GitHub or <a href=\"https://nbviewer.jupyter.org/\">NBViewer</a>),\n",
       "  it may mean that your frontend doesn't currently support widgets.\n",
       "</p>\n"
      ],
      "text/plain": [
       "FloatProgress(value=0.0, max=5987.0)"
      ]
     },
     "metadata": {},
     "output_type": "display_data"
    }
   ],
   "source": [
    "protein_mapping = uniprot_to_reaction(certain, species, show_progress_bar=True)"
   ]
  },
  {
   "cell_type": "code",
   "execution_count": 18,
   "metadata": {},
   "outputs": [
    {
     "name": "stdout",
     "output_type": "stream",
     "text": [
      "P14753 [{'reaction_id': 'R-MMU-209310', 'reaction_name': 'Murine JAK2 binds to the Erythropoietin receptor, EpoR'}]\n",
      "Q60754 [{'reaction_id': 'R-MMU-2247510', 'reaction_name': 'MARCO:ligand is endocytosed'}, {'reaction_id': 'R-MMU-2173783', 'reaction_name': 'Marco binds ligands'}]\n",
      "P30204 [{'reaction_id': 'R-MMU-2507854', 'reaction_name': 'MSR1:ligand (SCARA1:ligand, SR-A:ligand) is endocytosed'}, {'reaction_id': 'R-MMU-2173779', 'reaction_name': 'Msr1 (Scara1) Binds Ligands'}]\n"
     ]
    }
   ],
   "source": [
    "for uniprot_id in certain[0:3]:\n",
    "    print(uniprot_id, protein_mapping[uniprot_id])\n",
    "    print"
   ]
  },
  {
   "cell_type": "markdown",
   "metadata": {},
   "source": [
    "Get human-friendly names from online"
   ]
  },
  {
   "cell_type": "code",
   "execution_count": 20,
   "metadata": {},
   "outputs": [],
   "source": [
    "from bioservices import UniProt\n",
    "\n",
    "uniprot = UniProt()\n",
    "uniprot_ids = certain\n",
    "res = uniprot.retrieve(uniprot_ids)\n",
    "print(len(res))"
   ]
  },
  {
   "cell_type": "code",
   "execution_count": 21,
   "metadata": {},
   "outputs": [],
   "source": [
    "protein_metadata = {}\n",
    "for r in res:\n",
    "    for key in r['accession']:\n",
    "        protein_id = key.contents[0]    \n",
    "        for x in r['recommendedname']:\n",
    "            tag = x.find('shortname')\n",
    "            if tag is None:\n",
    "                tag = x.find('fullname')\n",
    "            label = tag.contents[0]\n",
    "            protein_metadata[protein_id] = {'display_name': label}"
   ]
  },
  {
   "cell_type": "code",
   "execution_count": null,
   "metadata": {},
   "outputs": [],
   "source": [
    "for protein_id in protein_metadata:\n",
    "    print(protein_id, protein_metadata[protein_id])\n",
    "    break"
   ]
  },
  {
   "cell_type": "markdown",
   "metadata": {},
   "source": [
    "## Map KEGG Compound IDs to Reactions"
   ]
  },
  {
   "cell_type": "markdown",
   "metadata": {},
   "source": [
    "Load a dataframe containing the KEGG IDs of identified compounds only"
   ]
  },
  {
   "cell_type": "code",
   "execution_count": 23,
   "metadata": {},
   "outputs": [],
   "source": [
    "peak_df = pd.read_csv(os.path.join(basedir, 'data/my_analysis_peaks.csv'), index_col=0)"
   ]
  },
  {
   "cell_type": "code",
   "execution_count": 24,
   "metadata": {},
   "outputs": [
    {
     "data": {
      "text/plain": [
       "(109, 11)"
      ]
     },
     "execution_count": 24,
     "metadata": {},
     "output_type": "execute_result"
    }
   ],
   "source": [
    "peak_df.shape"
   ]
  },
  {
   "cell_type": "code",
   "execution_count": 25,
   "metadata": {},
   "outputs": [
    {
     "data": {
      "text/html": [
       "<div>\n",
       "<style scoped>\n",
       "    .dataframe tbody tr th:only-of-type {\n",
       "        vertical-align: middle;\n",
       "    }\n",
       "\n",
       "    .dataframe tbody tr th {\n",
       "        vertical-align: top;\n",
       "    }\n",
       "\n",
       "    .dataframe thead th {\n",
       "        text-align: right;\n",
       "    }\n",
       "</style>\n",
       "<table border=\"1\" class=\"dataframe\">\n",
       "  <thead>\n",
       "    <tr style=\"text-align: right;\">\n",
       "      <th></th>\n",
       "      <th>sec_id</th>\n",
       "      <th>mass</th>\n",
       "      <th>rt</th>\n",
       "      <th>polarity</th>\n",
       "      <th>c_id</th>\n",
       "      <th>formula</th>\n",
       "      <th>adduct</th>\n",
       "      <th>rc_id</th>\n",
       "      <th>compound</th>\n",
       "      <th>db</th>\n",
       "      <th>identifier</th>\n",
       "    </tr>\n",
       "    <tr>\n",
       "      <th>pid</th>\n",
       "      <th></th>\n",
       "      <th></th>\n",
       "      <th></th>\n",
       "      <th></th>\n",
       "      <th></th>\n",
       "      <th></th>\n",
       "      <th></th>\n",
       "      <th></th>\n",
       "      <th></th>\n",
       "      <th></th>\n",
       "      <th></th>\n",
       "    </tr>\n",
       "  </thead>\n",
       "  <tbody>\n",
       "    <tr>\n",
       "      <th>741583</th>\n",
       "      <td>1</td>\n",
       "      <td>147.076381</td>\n",
       "      <td>905.000626</td>\n",
       "      <td>positive</td>\n",
       "      <td>2825862</td>\n",
       "      <td>C5H10N2O3</td>\n",
       "      <td>M+H</td>\n",
       "      <td>3453657</td>\n",
       "      <td>L-Glutamine</td>\n",
       "      <td>kegg</td>\n",
       "      <td>C00064</td>\n",
       "    </tr>\n",
       "    <tr>\n",
       "      <th>741598</th>\n",
       "      <td>16</td>\n",
       "      <td>162.076139</td>\n",
       "      <td>891.966177</td>\n",
       "      <td>positive</td>\n",
       "      <td>2826034</td>\n",
       "      <td>C6H11NO4</td>\n",
       "      <td>M+H</td>\n",
       "      <td>3453882</td>\n",
       "      <td>L-2-Aminoadipate</td>\n",
       "      <td>kegg</td>\n",
       "      <td>C00956</td>\n",
       "    </tr>\n",
       "    <tr>\n",
       "      <th>741599</th>\n",
       "      <td>17</td>\n",
       "      <td>116.070596</td>\n",
       "      <td>771.412376</td>\n",
       "      <td>positive</td>\n",
       "      <td>2826041</td>\n",
       "      <td>C5H9NO2</td>\n",
       "      <td>M+H</td>\n",
       "      <td>3453891</td>\n",
       "      <td>L-Proline</td>\n",
       "      <td>kegg</td>\n",
       "      <td>C00148</td>\n",
       "    </tr>\n",
       "    <tr>\n",
       "      <th>741611</th>\n",
       "      <td>29</td>\n",
       "      <td>132.101919</td>\n",
       "      <td>677.261473</td>\n",
       "      <td>positive</td>\n",
       "      <td>2826103</td>\n",
       "      <td>C6H13NO2</td>\n",
       "      <td>M+H</td>\n",
       "      <td>3453976</td>\n",
       "      <td>L-Leucine</td>\n",
       "      <td>kegg</td>\n",
       "      <td>C00123</td>\n",
       "    </tr>\n",
       "    <tr>\n",
       "      <th>741680</th>\n",
       "      <td>98</td>\n",
       "      <td>132.101919</td>\n",
       "      <td>646.385592</td>\n",
       "      <td>positive</td>\n",
       "      <td>2826221</td>\n",
       "      <td>C6H13NO2</td>\n",
       "      <td>M+H</td>\n",
       "      <td>3454135</td>\n",
       "      <td>L-Leucine</td>\n",
       "      <td>kegg</td>\n",
       "      <td>C00123</td>\n",
       "    </tr>\n",
       "  </tbody>\n",
       "</table>\n",
       "</div>"
      ],
      "text/plain": [
       "        sec_id        mass          rt  polarity     c_id    formula adduct  \\\n",
       "pid                                                                           \n",
       "741583       1  147.076381  905.000626  positive  2825862  C5H10N2O3    M+H   \n",
       "741598      16  162.076139  891.966177  positive  2826034   C6H11NO4    M+H   \n",
       "741599      17  116.070596  771.412376  positive  2826041    C5H9NO2    M+H   \n",
       "741611      29  132.101919  677.261473  positive  2826103   C6H13NO2    M+H   \n",
       "741680      98  132.101919  646.385592  positive  2826221   C6H13NO2    M+H   \n",
       "\n",
       "          rc_id          compound    db identifier  \n",
       "pid                                                 \n",
       "741583  3453657       L-Glutamine  kegg     C00064  \n",
       "741598  3453882  L-2-Aminoadipate  kegg     C00956  \n",
       "741599  3453891         L-Proline  kegg     C00148  \n",
       "741611  3453976         L-Leucine  kegg     C00123  \n",
       "741680  3454135         L-Leucine  kegg     C00123  "
      ]
     },
     "execution_count": 25,
     "metadata": {},
     "output_type": "execute_result"
    }
   ],
   "source": [
    "peak_df.head()"
   ]
  },
  {
   "cell_type": "code",
   "execution_count": 26,
   "metadata": {},
   "outputs": [],
   "source": [
    "compound_ids = sorted(list(set(peak_df['identifier'].values.tolist())))"
   ]
  },
  {
   "cell_type": "code",
   "execution_count": 27,
   "metadata": {},
   "outputs": [
    {
     "data": {
      "application/vnd.jupyter.widget-view+json": {
       "model_id": "6f1baff7c69d4394855c58cfab1d5254",
       "version_major": 2,
       "version_minor": 0
      },
      "text/html": [
       "<p>Failed to display Jupyter Widget of type <code>FloatProgress</code>.</p>\n",
       "<p>\n",
       "  If you're reading this message in the Jupyter Notebook or JupyterLab Notebook, it may mean\n",
       "  that the widgets JavaScript is still loading. If this message persists, it\n",
       "  likely means that the widgets JavaScript library is either not installed or\n",
       "  not enabled. See the <a href=\"https://ipywidgets.readthedocs.io/en/stable/user_install.html\">Jupyter\n",
       "  Widgets Documentation</a> for setup instructions.\n",
       "</p>\n",
       "<p>\n",
       "  If you're reading this message in another frontend (for example, a static\n",
       "  rendering on GitHub or <a href=\"https://nbviewer.jupyter.org/\">NBViewer</a>),\n",
       "  it may mean that your frontend doesn't currently support widgets.\n",
       "</p>\n"
      ],
      "text/plain": [
       "FloatProgress(value=0.0, max=70.0)"
      ]
     },
     "metadata": {},
     "output_type": "display_data"
    }
   ],
   "source": [
    "compound_mapping = compound_to_reaction(compound_ids, species, show_progress_bar=True)"
   ]
  },
  {
   "cell_type": "code",
   "execution_count": 28,
   "metadata": {},
   "outputs": [
    {
     "name": "stdout",
     "output_type": "stream",
     "text": [
      "['C00013', 'C00009', 'C00153', 'C00020', 'C00095', 'C00149', 'C00025', 'C00183', 'C00123', 'C00026']\n"
     ]
    }
   ],
   "source": [
    "print(list(compound_mapping.keys())[0:10])"
   ]
  },
  {
   "cell_type": "code",
   "execution_count": 29,
   "metadata": {},
   "outputs": [
    {
     "name": "stdout",
     "output_type": "stream",
     "text": [
      "{'C00013': [{'reaction_id': 'R-MMU-2990833', 'reaction_name': 'Conjugation of SUMO1 to UBA2:SAE1'}, {'reaction_id': 'R-MMU-8875039', 'reaction_name': 'Acsm3 ligates CoA to BUT'}, {'reaction_id': 'R-MMU-73815', 'reaction_name': '5-phospho-alpha-D-ribose 1-diphosphate (PRPP) + H2O + L-glutamine <=> 5-phosphoribosylamine + L-glutamate +pyrophosphate'}, {'reaction_id': 'R-MMU-1483190', 'reaction_name': 'PETA and CTP are condensed to CDP-ETA by PCY2'}, {'reaction_id': 'R-MMU-1483121', 'reaction_name': 'PA is converted to CDP-DAG by CDS1'}, {'reaction_id': 'R-MMU-1483081', 'reaction_name': 'PCho and CTP are condensed to CDP-Cho by PCYT1 dimer'}, {'reaction_id': 'R-MMU-1483165', 'reaction_name': 'PA is converted to CDP-DAG by CDS2'}, {'reaction_id': 'R-MMU-174124', 'reaction_name': 'Dephosphorylation of phospho-Cdh1'}, {'reaction_id': 'R-MMU-74213', 'reaction_name': 'Adenine + PRPP => AMP + PPi'}, {'reaction_id': 'R-MMU-73792', 'reaction_name': 'XMP + L-Glutamine + ATP + H2O => GMP + L-Glutamate + AMP + pyrophosphate'}, {'reaction_id': 'R-MMU-74215', 'reaction_name': 'guanine or hypoxanthine + PRPP => GMP or IMP + PPi (HPRT1)'}, {'reaction_id': 'R-MMU-74885', 'reaction_name': 'GUCYs converts GTP to cGMP'}, {'reaction_id': 'R-MMU-4084982', 'reaction_name': 'CMAS transfers CMP from CTP to Neu5Ac, forming CMP-Neu5Ac'}, {'reaction_id': 'R-MMU-446204', 'reaction_name': 'GlcNAc1P is dephosphorylated to UDP-N-acetyl-glucosamine'}, {'reaction_id': 'R-MMU-6787533', 'reaction_name': 'FPGT transfers guanylyl group from GTP to Fuc1P to form GDP-Fuc'}, {'reaction_id': 'R-MMU-70286', 'reaction_name': 'UTP + D-glucose 1-phosphate <=> pyrophosphate + UDP-glucose'}, {'reaction_id': 'R-MMU-174392', 'reaction_name': 'PAPSS1,2 transfer SO4(2-) group to ATP to form APS'}, {'reaction_id': 'R-MMU-75864', 'reaction_name': 'Newly Formed Phosphodiester Bond Stabilized and PPi Released'}, {'reaction_id': 'R-MMU-75850', 'reaction_name': 'Addition of the third nucleotide on the nascent transcript'}, {'reaction_id': 'R-MMU-75869', 'reaction_name': 'Addition of the fourth nucleotide on the Nascent Transcript: Second Transition'}, {'reaction_id': 'R-MMU-75873', 'reaction_name': 'Addition of Nucleotides 5 through 9 on the growing Transcript'}, {'reaction_id': 'R-MMU-76576', 'reaction_name': 'Addition of nucleotides 10 and 11 on the growing transcript: Third Transition'}, {'reaction_id': 'R-MMU-111264', 'reaction_name': 'Addition of nucleotides between position +11 and +30'}, {'reaction_id': 'R-MMU-9008822', 'reaction_name': 'PPM1D dephosphorylates RUNX2'}, {'reaction_id': 'R-MMU-5358475', 'reaction_name': 'DPH6 ligates ammonium to diphthine-EEF2'}, {'reaction_id': 'R-MMU-2530501', 'reaction_name': 'FNTA:FNTB transfers FARN to GNGT1'}, {'reaction_id': 'R-MMU-2993802', 'reaction_name': 'HLCS biotinylates PC:Mn2+'}, {'reaction_id': 'R-MMU-2993799', 'reaction_name': 'HLCS biotinylates MCCC1:MCCC2'}, {'reaction_id': 'R-MMU-2993447', 'reaction_name': 'HLCS biotinylates PCCA:PCCB'}, {'reaction_id': 'R-MMU-2993814', 'reaction_name': 'HLCS biotinylates ACACA'}, {'reaction_id': 'R-MMU-947535', 'reaction_name': 'Cyclisation of GTP to precursor Z'}, {'reaction_id': 'R-MMU-947538', 'reaction_name': 'Transfer of sulfur from MOCS3-S-S onto MOCS2A'}, {'reaction_id': 'R-MMU-947531', 'reaction_name': 'Molybdenum ion transfer onto molybdopterin'}, {'reaction_id': 'R-MMU-197268', 'reaction_name': 'QPRT transfers PRIB to QUIN to form NAMN'}, {'reaction_id': 'R-MMU-197250', 'reaction_name': 'NAMPT transfers PRIB to NAM to form NAMN'}, {'reaction_id': 'R-MMU-197271', 'reaction_name': 'NADSYN1 hexamer amidates NAAD to NAD+'}, {'reaction_id': 'R-MMU-197186', 'reaction_name': 'NAPRT1 dimer transfers PRIB to NCA to form NAMN'}, {'reaction_id': 'R-MMU-174391', 'reaction_name': 'MAT1A multimers transfer Ado from ATP to L-Met'}, {'reaction_id': 'R-MMU-196753', 'reaction_name': '2xPPCS ligates PPanK with Cys'}, {'reaction_id': 'R-MMU-196754', 'reaction_name': 'COASY transfers an adenylyl group from ATP to PPANT'}, {'reaction_id': 'R-MMU-196929', 'reaction_name': 'FLAD1 phosphorylates FMN'}, {'reaction_id': 'R-MMU-4167511', 'reaction_name': 'HLCS biotinylates ACACB'}, {'reaction_id': 'R-MMU-449911', 'reaction_name': 'acetate + CoA + ATP => acetyl-CoA + AMP + pyrophosphate [mitochondrial]'}, {'reaction_id': 'R-MMU-71735', 'reaction_name': 'acetate + CoA + ATP => acetyl-CoA + AMP + pyrophosphate [cytosolic]'}, {'reaction_id': 'R-MMU-191322', 'reaction_name': 'Addition of isopentenyl pyrophosphate to DMAPP'}, {'reaction_id': 'R-MMU-191303', 'reaction_name': 'Another isopentenyl pyrophosphate is added to geranyl pyrophosphate'}, {'reaction_id': 'R-MMU-191405', 'reaction_name': 'Two FPP molecules dimerize to form presqualene diphosphate'}, {'reaction_id': 'R-MMU-191402', 'reaction_name': 'Reduction of presqualene diphosphate to form squalene'}, {'reaction_id': 'R-MMU-177157', 'reaction_name': 'phenylacetate + Coenzyme A + ATP => phenylacetyl-CoA + AMP + pyrophosphate'}, {'reaction_id': 'R-MMU-159567', 'reaction_name': 'salicylic acid + Coenzyme A + ATP => salicylate-CoA + AMP + pyrophosphate'}, {'reaction_id': 'R-MMU-159443', 'reaction_name': 'benzoate + Coenzyme A + ATP => benzoyl-CoA + AMP + pyrophosphate'}, {'reaction_id': 'R-MMU-159425', 'reaction_name': 'Cytosolic cholate and chenodeoxycholate are conjugated with Coenzyme A (SLC27A5 BACS)'}, {'reaction_id': 'R-MMU-193424', 'reaction_name': 'DHCA is conjugated with Coenzyme A (SLC27A2 VLCS)'}, {'reaction_id': 'R-MMU-193407', 'reaction_name': 'DHCA is conjugated with Coenzyme A (SLC27A5 BACS)'}, {'reaction_id': 'R-MMU-193743', 'reaction_name': '3,7,24THCA is conjugated with Coenzyme A (SLC27A2 VLCS)'}, {'reaction_id': 'R-MMU-193711', 'reaction_name': '3,7,24THCA is conjugated with Coenzyme A (SLC27A5 BACS)'}, {'reaction_id': 'R-MMU-192137', 'reaction_name': 'THCA is conjugated with Coenzyme A (SLC27A5 BACS)'}, {'reaction_id': 'R-MMU-193401', 'reaction_name': 'THCA is conjugated with Coenzyme A (SLC27A2 VLCS)'}, {'reaction_id': 'R-MMU-193766', 'reaction_name': 'TetraHCA is conjugated with Coenzyme A (SLC27A5 BACS)'}, {'reaction_id': 'R-MMU-193727', 'reaction_name': 'TetraHCA is conjugated with Coenzyme A (SLC27A2 VLCS)'}, {'reaction_id': 'R-MMU-70599', 'reaction_name': 'aspartate + glutamine + ATP <=> asparagine + glutamate + AMP + pyrophosphate [ASNS]'}, {'reaction_id': 'R-MMU-70577', 'reaction_name': 'ASS1 tetramer:NMRAL1 dimer:NADPH transforms L-Asp and L-Cit to ARSUA'}, {'reaction_id': 'R-MMU-2408551', 'reaction_name': 'SeMet is converted to AdoSeMet by MAT'}, {'reaction_id': 'R-MMU-164377', 'reaction_name': 'Activated Adenylate cyclase catalyses cAMP synthesis'}, {'reaction_id': 'R-MMU-111930', 'reaction_name': 'Adenylate cyclase produces cAMP'}, {'reaction_id': 'R-MMU-5358592', 'reaction_name': 'DNA ligase I ligates single stranded nick in double stranded DNA'}, {'reaction_id': 'R-MMU-381607', 'reaction_name': 'Activated Adenylyl cyclase synthesizes cyclic AMP'}, {'reaction_id': 'R-MMU-442715', 'reaction_name': 'Activation of Adenylate Cyclase'}, {'reaction_id': 'R-MMU-5655892', 'reaction_name': 'POLK incorporates dNMP opposite to damaged DNA base'}, {'reaction_id': 'R-MMU-5655965', 'reaction_name': 'POLK and POLZ cooperate in elongation of mispaired primer termini'}, {'reaction_id': 'R-MMU-110317', 'reaction_name': 'Insertion of correct bases opposite the lesion by POLH'}, {'reaction_id': 'R-MMU-110319', 'reaction_name': 'Elongation by POLH'}, {'reaction_id': 'R-MMU-110311', 'reaction_name': 'POLZ extends translesion synthesis'}, {'reaction_id': 'R-MMU-5656148', 'reaction_name': 'POLI incorporates dNMP opposite to damaged DNA base'}, {'reaction_id': 'R-MMU-5656158', 'reaction_name': 'POLZ elongates POLI-incorporated dNMP'}, {'reaction_id': 'R-MMU-6781824', 'reaction_name': 'Active RNA Pol II complex transcribes lesion-containing DNA template'}, {'reaction_id': 'R-MMU-6782208', 'reaction_name': 'Repair DNA synthesis of ~27-30 bases long patch by POLD, POLE or POLK in TC-NER'}, {'reaction_id': 'R-MMU-5691001', 'reaction_name': 'Repair DNA synthesis of ~27-30 bases long patch by POLD, POLE or POLK in GG-NER'}, {'reaction_id': 'R-MMU-6786166', 'reaction_name': 'Translesion synthesis across unhooked ICL by POLN'}, {'reaction_id': 'R-MMU-5687640', 'reaction_name': \"POLQ extends annealed 3'-ssDNA overhangs in MMEJ\"}, {'reaction_id': 'R-MMU-5693593', 'reaction_name': 'D-loop extension by DNA polymerases'}, {'reaction_id': 'R-MMU-5687360', 'reaction_name': 'POLL or POLM extends aligned DNA DSB ends to fill gaps'}, {'reaction_id': 'R-MMU-5649723', 'reaction_name': 'POLB incorporates a single nucleotide in place of excised AP residue in NEIL1,NEIL2-mediated AP site resolution'}, {'reaction_id': 'R-MMU-111253', 'reaction_name': \"POLB incorporates the first 3' dNMP and displaces 5'ddRP at SSB site\"}, {'reaction_id': 'R-MMU-5649883', 'reaction_name': 'POLB-mediated DNA strand displacement synthesis'}, {'reaction_id': 'R-MMU-110368', 'reaction_name': 'POLD,POLE-mediated DNA strand displacement synthesis'}, {'reaction_id': 'R-MMU-73932', 'reaction_name': 'Resynthesis of excised residue by POLB'}, {'reaction_id': 'R-MMU-481009', 'reaction_name': 'Exocytosis of platelet dense granule content'}, {'reaction_id': 'R-MMU-1169397', 'reaction_name': 'Activation of ISG15 by UBA7 E1 ligase'}, {'reaction_id': 'R-MMU-1169394', 'reaction_name': 'ISGylation of IRF3'}, {'reaction_id': 'R-MMU-1169398', 'reaction_name': 'ISGylation of host protein filamin B'}, {'reaction_id': 'R-MMU-1169402', 'reaction_name': 'ISGylation of E2 conjugating enzymes'}, {'reaction_id': 'R-MMU-1169405', 'reaction_name': 'ISGylation of protein phosphatase 1 beta (PP2CB)'}, {'reaction_id': 'R-MMU-1169406', 'reaction_name': 'ISGylation of host proteins'}, {'reaction_id': 'R-MMU-392513', 'reaction_name': 'Rap1 signal termination by Rap1GAPs'}, {'reaction_id': 'R-MMU-389758', 'reaction_name': 'Dephosphorylation of CD3-zeta by PD-1 bound phosphatases'}, {'reaction_id': 'R-MMU-983153', 'reaction_name': 'E1 mediated ubiquitin activation'}, {'reaction_id': 'R-MMU-983140', 'reaction_name': 'Transfer of Ub from E2 to substrate and release of E2'}, {'reaction_id': 'R-MMU-983156', 'reaction_name': 'Polyubiquitination of substrate'}, {'reaction_id': 'R-MMU-2995330', 'reaction_name': 'COX10 transforms heme to heme O'}, {'reaction_id': 'R-MMU-8875071', 'reaction_name': 'ACSS3 ligates CoA to CH3COO-'}, {'reaction_id': 'R-MMU-5694494', 'reaction_name': 'AACS ligates CoA-SH to ACA, forming ACA-CoA'}, {'reaction_id': 'R-MMU-5696007', 'reaction_name': 'ACSF3 ligates CoA-SH to VLCFA'}, {'reaction_id': 'R-MMU-8875095', 'reaction_name': 'Slc27a3 ligates CoA to VLCFA'}, {'reaction_id': 'R-MMU-5695957', 'reaction_name': 'ACSBG1,2 ligates CoA-SH to VLCFA, forming VLCFA-CoA'}, {'reaction_id': 'R-MMU-548843', 'reaction_name': 'ACSL3,4 ligate CoA to AA to form AA-CoA'}, {'reaction_id': 'R-MMU-201035', 'reaction_name': 'ACSL1,3,5,6 ligate CoA to PALM to form PALM-CoA'}, {'reaction_id': 'R-MMU-2046085', 'reaction_name': 'Activation of alpha-linolenic acid to alpha-linolenoyl-CoA'}, {'reaction_id': 'R-MMU-2046098', 'reaction_name': 'Activation of linoleic acid to linoleoyl-CoA'}, {'reaction_id': 'R-MMU-5696004', 'reaction_name': 'ACSF2 ligates CoA-SH to MCFA'}, {'reaction_id': 'R-MMU-6806674', 'reaction_name': 'UBIA1D prenylates menadione to form MK4 (vitamin K hydroquinone)'}, {'reaction_id': 'R-MMU-2162253', 'reaction_name': 'FPP and IPPP are combined into all-E-10PrP2 by PDSS1/2 tetramer'}, {'reaction_id': 'R-MMU-2162192', 'reaction_name': 'PHB and all-E-10PrP2 are combined into DHB by COQ2'}, {'reaction_id': 'R-MMU-73567', 'reaction_name': \"orotate + 5-phospho-alpha-D-ribose 1-diphosphate (PRPP) <=> orotidine 5'-monophosphate (OMP) + pyrophosphate\"}, {'reaction_id': 'R-MMU-71732', 'reaction_name': 'pyrophosphate + H2O => 2 orthophosphate [cytosolic]'}, {'reaction_id': 'R-MMU-449937', 'reaction_name': 'pyrophosphate + H2O => 2 orthophosphate [mitochondrial]'}, {'reaction_id': 'R-MMU-73666', 'reaction_name': 'dUTP + H2O => dUMP + pyrophosphate'}, {'reaction_id': 'R-MMU-6786295', 'reaction_name': 'Dctpp1 hydrolyses 5idCTP'}, {'reaction_id': 'R-MMU-2509831', 'reaction_name': 'ITPA hydrolyses XTP to XMP'}, {'reaction_id': 'R-MMU-2509827', 'reaction_name': 'ITPA hydrolyses ITP to IMP'}, {'reaction_id': 'R-MMU-2509838', 'reaction_name': 'ITPA hydrolyses dITP to dIMP'}, {'reaction_id': 'R-MMU-2395872', 'reaction_name': 'NUDT1 hydrolyses 2-OH-ATP to 2-OH-AMP'}, {'reaction_id': 'R-MMU-2395849', 'reaction_name': 'NUDT1 hydrolyses 8-oxo-dGTP to 8-oxo-dGMP'}, {'reaction_id': 'R-MMU-2395818', 'reaction_name': 'NUDT1 hydrolyses 2-OH-dATP to 2-OH-dAMP'}, {'reaction_id': 'R-MMU-2395869', 'reaction_name': 'NUDT15 hydrolyses 8-oxo-dGTP to 8-oxo-dGMP'}, {'reaction_id': 'R-MMU-6788912', 'reaction_name': 'LHPP:Mg2+ dimer hydrolyses PPi'}, {'reaction_id': 'R-MMU-8852134', 'reaction_name': 'UBA1 adenylates ubiquitin in the cytosol'}, {'reaction_id': 'R-MMU-8852132', 'reaction_name': 'Ub-Cys632-UBA1 adenylates ubiquitin in the cytosol'}, {'reaction_id': 'R-MMU-8852128', 'reaction_name': 'UBA1 adenylates ubiquitin in the nucleoplasm'}, {'reaction_id': 'R-MMU-8852131', 'reaction_name': 'Ub-Cys632-UBA1 adenylates ubiquitin in the nucleus'}, {'reaction_id': 'R-MMU-8951648', 'reaction_name': 'NEDD8 covalently binds catalytic cysteine of UBA3:NAE1'}, {'reaction_id': 'R-MMU-8951656', 'reaction_name': 'NEDD8-UBA3:NAE1 binds a second NEDD8'}, {'reaction_id': 'R-MMU-5250579', 'reaction_name': 'ASNA1 transports TA proteins from cytosol to ER membrane'}, {'reaction_id': 'R-MMU-170676', 'reaction_name': 'Adenylate cyclase converts ATP into cyclic AMP'}, {'reaction_id': 'R-MMU-5610727', 'reaction_name': 'GPR161 promotes cAMP production in a G alpha(s)-dependent manner'}, {'reaction_id': 'R-MMU-5226964', 'reaction_name': 'ANKH transports PPi from cytosol to extracellular region'}], 'C00009': [{'reaction_id': 'R-MMU-5683967', 'reaction_name': 'EYA1-4 dephosphorylates tyrosine Y142 of H2AFX'}, {'reaction_id': 'R-MMU-5687758', 'reaction_name': 'PPP4C:PPP4R2 dephosphorylates RPA2'}, {'reaction_id': 'R-MMU-8849435', 'reaction_name': 'PTPN1 dephosphorylates PTK6'}, {'reaction_id': 'R-MMU-8849082', 'reaction_name': 'ARHGAP35 stimulates RHOA GTPase activity'}, {'reaction_id': 'R-MMU-69199', 'reaction_name': 'Dephosphorylation of Cyclin E:Cdk2 complexes by Cdc25A'}, {'reaction_id': 'R-MMU-202214', 'reaction_name': 'Dephosphorylation of Lck-pY505 by CD45'}, {'reaction_id': 'R-MMU-199456', 'reaction_name': 'PTEN dephosphorylates PIP3'}, {'reaction_id': 'R-MMU-1676203', 'reaction_name': 'PI(3,5)P2 is dephosphorylated to PI5P by SYNJ/MTMs at the plasma membrane'}, {'reaction_id': 'R-MMU-1676164', 'reaction_name': 'PI(3,4)P2 is dephosphorylated to PI3P by INPP4A/B at the plasma membrane'}, {'reaction_id': 'R-MMU-1676149', 'reaction_name': 'PI(3,4)P2 is dephosphorylated to PI4P by PTEN at the plasma membrane'}, {'reaction_id': 'R-MMU-1675949', 'reaction_name': 'PI(3,4,5)P3 is dephosphorylated to PI(3,4)P2 by INPP5[2] at the plasma membrane'}, {'reaction_id': 'R-MMU-1676177', 'reaction_name': 'PI(4,5)P2 is dephosphorylated to PI4P by SYNJ/INPP5[1] at the plasma membrane'}, {'reaction_id': 'R-MMU-1675994', 'reaction_name': 'PI3P is dephosphorylated to PI by SYNJ/MTMs at the plasma membrane'}, {'reaction_id': 'R-MMU-1675836', 'reaction_name': 'PI(3,5)P2 is dephosphorylated to PI3P by SYNJ at the plasma membrane'}, {'reaction_id': 'R-MMU-1675988', 'reaction_name': 'PI4P is dephosphorylated to PI by SYNJ at the plasma membrane'}, {'reaction_id': 'R-MMU-1676005', 'reaction_name': 'PI(3,5)P2 is dephosphorylated to PI3P by FIG4 at the Golgi membrane'}, {'reaction_id': 'R-MMU-1676174', 'reaction_name': 'PI(3,5)P2 is dephosphorylated to PI3P by FIG4 at the early endosome membrane'}, {'reaction_id': 'R-MMU-1676141', 'reaction_name': 'PI3P is dephosphorylated to PI by MTM proteins at the early endosome membrane'}, {'reaction_id': 'R-MMU-1676162', 'reaction_name': 'PI(3,4)P2 is dephosphorylated to PI3P by INPP4A/B at the early endosome membrane'}, {'reaction_id': 'R-MMU-1676020', 'reaction_name': 'PI(3,5)P2 is dephosphorylated to PI3P by FIG4 at the late endosome membrane'}, {'reaction_id': 'R-MMU-1675795', 'reaction_name': 'PI3P is dephosphorylated to PI by MTM proteins at the late endosome membrane'}, {'reaction_id': 'R-MMU-1675824', 'reaction_name': 'PI(4,5)P2 is dephosphorylated to PI4P by OCRL/INPP5E at the Golgi membrane'}, {'reaction_id': 'R-MMU-70449', 'reaction_name': 'D-glyceraldehyde 3-phosphate + orthophosphate + NAD+ <=> 1,3-bisphospho-D-glycerate + NADH + H+'}, {'reaction_id': 'R-MMU-204169', 'reaction_name': 'PDP dephosphorylates p-lipo-PDH'}, {'reaction_id': 'R-MMU-71031', 'reaction_name': 'propionyl-CoA + CO2 + ATP <=> D-methylmalonyl-CoA + ADP + orthophosphate'}, {'reaction_id': 'R-MMU-71775', 'reaction_name': 'GDP + Orthophosphate + Succinyl-CoA <=> GTP + Succinate + CoA'}, {'reaction_id': 'R-MMU-70997', 'reaction_name': 'ADP + Orthophosphate + Succinyl-CoA <=> ATP + Succinate + CoA'}, {'reaction_id': 'R-MMU-70501', 'reaction_name': 'Pyruvate + CO2 + ATP => ADP + Orthophosphate + Oxaloacetate'}, {'reaction_id': 'R-MMU-111215', 'reaction_name': \"D-ribose 5-phosphate + 2'-deoxyadenosine 5'-triphosphate (dATP) => 5-Phospho-alpha-D-ribose 1-diphosphate (PRPP) + 2'-deoxyadenosine 5'-monophosphate\"}, {'reaction_id': 'R-MMU-5628905', 'reaction_name': 'TIGAR converts D-fructose-2,6-bisphosphate to D-fructose 6-phosphate'}, {'reaction_id': 'R-MMU-70479', 'reaction_name': 'D-fructose 1,6-bisphosphate + H2O => D-fructose 6-phosphate + orthophosphate'}, {'reaction_id': 'R-MMU-70482', 'reaction_name': '1,3-bisphospho-D-glycerate + NADH + H+ <=> D-glyceraldehyde 3-phosphate + Orthophosphate + NAD+'}, {'reaction_id': 'R-MMU-372843', 'reaction_name': 'malate [mitochondrial matrix] + orthophosphate [cytosol] <=> malate [cytosol] + orthophosphate [mitochondrial matrix]'}, {'reaction_id': 'R-MMU-73814', 'reaction_name': '5-Phosphoribosylamine + Glycine + ATP => GAR + ADP + Pi'}, {'reaction_id': 'R-MMU-73812', 'reaction_name': 'FGAR + L-Glutamine + ATP + H2O => FGAM + L-Glutamate + ADP + Pi'}, {'reaction_id': 'R-MMU-73810', 'reaction_name': 'FGAM + ATP => AIR + ADP + Pi'}, {'reaction_id': 'R-MMU-73805', 'reaction_name': 'CAIR + Aspartate + ATP => SAICAR + ADP + Pi'}, {'reaction_id': 'R-MMU-111524', 'reaction_name': 'IMP + L-Aspartate + GTP => Adenylosuccinate + GDP + Pi [ADSS]'}, {'reaction_id': 'R-MMU-164832', 'reaction_name': 'ATPase synthesizes ATP'}, {'reaction_id': 'R-MMU-164840', 'reaction_name': 'ADP and Pi bind to ATPase'}, {'reaction_id': 'R-MMU-1483096', 'reaction_name': 'PETA is dephosphorylated to ETA by PHOSPHO1'}, {'reaction_id': 'R-MMU-1676124', 'reaction_name': 'PI4P is dephosphorylated to PI by SACM1L at the ER membrane'}, {'reaction_id': 'R-MMU-1483159', 'reaction_name': 'PCho is dephosphorylated to Cho by PHOSPHO1'}, {'reaction_id': 'R-MMU-1483203', 'reaction_name': 'PA is dephosphorylated to DAG by LPIN'}, {'reaction_id': 'R-MMU-3446785', 'reaction_name': 'Ptpmt1 dephosphorylates PGP to PG'}, {'reaction_id': 'R-MMU-1676133', 'reaction_name': 'PI4P is dephosphorylated to PI by SACM1L at the Golgi membrane'}, {'reaction_id': 'R-MMU-1676114', 'reaction_name': 'PI3P is dephosphorylated to PI by SACM1L at the Golgi membrane'}, {'reaction_id': 'R-MMU-1676204', 'reaction_name': 'PI(3,4)P2 is dephosphorylated to PI4P by TPTE2 at the Golgi membrane'}, {'reaction_id': 'R-MMU-199959', 'reaction_name': 'ERKs are inactivated by protein phosphatase 2A'}, {'reaction_id': 'R-MMU-5672957', 'reaction_name': 'PP2A dephosphorylates KSR1'}, {'reaction_id': 'R-MMU-6807027', 'reaction_name': 'PTPN1 and PTPN2 dephosphorylate MET'}, {'reaction_id': 'R-MMU-6807008', 'reaction_name': 'PTPRJ dephosphorylates MET'}, {'reaction_id': 'R-MMU-8864125', 'reaction_name': 'PTPN18 dephosphorylates ERBB2 at Y1196, Y1112 and Y1248'}, {'reaction_id': 'R-MMU-8863804', 'reaction_name': 'PTPN12 dephosphorylates ERBB2 on tyrosine Y1248'}, {'reaction_id': 'R-MMU-203797', 'reaction_name': 'ERKs are inactivated by dual-specific phosphatases (DUSPs)'}, {'reaction_id': 'R-MMU-5675376', 'reaction_name': 'Cytosolic DUSPs dephosphorylate MAPKs'}, {'reaction_id': 'R-MMU-5675373', 'reaction_name': 'Nuclear DUSPs dephosphorylate MAPKs'}, {'reaction_id': 'R-MMU-6792863', 'reaction_name': 'PP2A-PP2R5C dephosphorylates MDM2'}, {'reaction_id': 'R-MMU-6810410', 'reaction_name': 'PI(4,5)P2 is dephosphorylated to PI5P by TMEM55B in the nucleus'}, {'reaction_id': 'R-MMU-174110', 'reaction_name': 'Cdc25A mediated dephosphorylation of Cyclin A:phospho-Cdk2'}, {'reaction_id': 'R-MMU-68954', 'reaction_name': 'Mcm2-7 is phosphorylated by DDK'}, {'reaction_id': 'R-MMU-4419948', 'reaction_name': 'CTDNEP1:CNEP1R1 dephosphorylates LPIN'}, {'reaction_id': 'R-MMU-5221130', 'reaction_name': 'LPIN catalyzes conversion of phosphatidic acid to diacylglycerol'}, {'reaction_id': 'R-MMU-170161', 'reaction_name': 'Dephosphorylation of cytoplasmic Cyclin B1/B2:phospho-Cdc2 (Thr 14, Tyr 15) complexes by CDC25B'}, {'reaction_id': 'R-MMU-170153', 'reaction_name': 'Dephosphorylation of nuclear Cyclin B1:phospho-Cdc2 (Thr 14, Tyr15) complexes by Cdc25 phosphatases'}, {'reaction_id': 'R-MMU-2995388', 'reaction_name': 'PP2A dephosphorylates BANF1'}, {'reaction_id': 'R-MMU-1638821', 'reaction_name': 'PP2A-B56 dephosphorylates centromeric cohesin'}, {'reaction_id': 'R-MMU-2529015', 'reaction_name': 'Dephosphorylation of CK2-modified condensin I'}, {'reaction_id': 'R-MMU-3002811', 'reaction_name': 'Myosin phosphatase dephosphorylates PLK1'}, {'reaction_id': 'R-MMU-170158', 'reaction_name': 'Dephosphorylation of nuclear Cyclin A:phospho-Cdc2 complexes'}, {'reaction_id': 'R-MMU-4088141', 'reaction_name': 'PP2A-PPP2R2A dephosphorylates FOXM1'}, {'reaction_id': 'R-MMU-3697899', 'reaction_name': 'Atp7a transfers Cu from Atox1 to Sod3'}, {'reaction_id': 'R-MMU-112033', 'reaction_name': 'hypoxanthine + (deoxy)ribose 1-phosphate <=> (deoxy)inosine + orthophosphate (NP)'}, {'reaction_id': 'R-MMU-74242', 'reaction_name': '(deoxy)inosine + orthophosphate <=> hypoxanthine + (deoxy)ribose 1-phosphate (NP)'}, {'reaction_id': 'R-MMU-112034', 'reaction_name': 'guanine + (deoxy)ribose 1-phosphate <=> (deoxy)guanosine + orthophosphate (NP)'}, {'reaction_id': 'R-MMU-74248', 'reaction_name': \"(d)GMP or (d)IMP + H2O => (2'-deoxy)guanosine or (2'-deoxy)inosine + orthophosphate (NT5C2)\"}, {'reaction_id': 'R-MMU-74249', 'reaction_name': '(deoxy)guanosine + orthophosphate <=> guanine + (deoxy)ribose 1-phosphate (NP)'}, {'reaction_id': 'R-MMU-3371422', 'reaction_name': 'ATP hydrolysis by HSP70'}, {'reaction_id': 'R-MMU-5618093', 'reaction_name': 'ATP hydrolysis by HSP90'}, {'reaction_id': 'R-MMU-5683925', 'reaction_name': 'ULK1 is dephosphorylated'}, {'reaction_id': 'R-MMU-380979', 'reaction_name': 'RHEB in mTORC1:RHEB:GTP hydrolyses GTP'}, {'reaction_id': 'R-MMU-8985594', 'reaction_name': 'MYO9B inactivates RHOA'}, {'reaction_id': 'R-MMU-555065', 'reaction_name': 'Formation of clathrin coated vesicle'}, {'reaction_id': 'R-MMU-4093339', 'reaction_name': 'p120-RasGAP activates GTP hydrolysis on RAS, inactivating it'}, {'reaction_id': 'R-MMU-1855213', 'reaction_name': 'I(1,3,4,5)P4 is dephosphorylated to I(1,3,4)P3 by INPP5B at the plasma membrane'}, {'reaction_id': 'R-MMU-1855218', 'reaction_name': 'I(1,3,4,5)P4 is dephosphorylated to I(1,3,4)P3 by INPP5[3]/ITPK1 in the cytosol'}, {'reaction_id': 'R-MMU-1855171', 'reaction_name': 'I(1,3,4,6)P4 is dephosphorylated to I(1,3,4)P3 by ITPK1 in the cytosol'}, {'reaction_id': 'R-MMU-1855159', 'reaction_name': 'I(1,3,4,6)P4 is dephosphorylated to I(3,4,6)P3 by ITPK1 in the cytosol'}, {'reaction_id': 'R-MMU-1855200', 'reaction_name': 'I(1,3,4,5)P4 is dephosphorylated to I(1,4,5)P3 by MINPP1 in the ER lumen'}, {'reaction_id': 'R-MMU-1855205', 'reaction_name': 'I(1,3,4,5)P4 is dephosphorylated to I(1,4,5)P3 by PTEN in the cytosol'}, {'reaction_id': 'R-MMU-2029468', 'reaction_name': 'Conversion of PA into DAG by PAP-1'}, {'reaction_id': 'R-MMU-1861595', 'reaction_name': 'Extension of pseudopodia by myosin-X in a PI3K dependent manner'}, {'reaction_id': 'R-MMU-2029476', 'reaction_name': 'Role of myosins in phagosome formation'}, {'reaction_id': 'R-MMU-421142', 'reaction_name': 'Inactivation of R-Ras by Sema3A-Plexin-A1 GAP activity'}, {'reaction_id': 'R-MMU-416546', 'reaction_name': 'Inactivation of R-Ras by Sema4D-Plexin-B1 GAP activity'}, {'reaction_id': 'R-MMU-416559', 'reaction_name': 'Inactivation of Rho-GTP by p190RhoGAP'}, {'reaction_id': 'R-MMU-8878787', 'reaction_name': 'ALPI dimer hydrolyses phosphate monoesters'}, {'reaction_id': 'R-MMU-191414', 'reaction_name': 'MVD decarboxylates MVA5PP to IPPP'}, {'reaction_id': 'R-MMU-4084976', 'reaction_name': 'NANS converts ManNAc-6-P to Neu5Ac-9-P'}, {'reaction_id': 'R-MMU-4084989', 'reaction_name': 'NANP dephosphorylates Neu5Ac-9-P to Neu5Ac'}, {'reaction_id': 'R-MMU-446200', 'reaction_name': 'DOLPP1 dephosphorylates DOLDP to DOLP'}, {'reaction_id': 'R-MMU-6809015', 'reaction_name': 'NSF ATPase activity dissociates cis-SNARE at cis-Golgi'}, {'reaction_id': 'R-MMU-5694527', 'reaction_name': 'Loss of SAR1B GTPase'}, {'reaction_id': 'R-MMU-203973', 'reaction_name': 'Vesicle budding'}, {'reaction_id': 'R-MMU-5694421', 'reaction_name': 'PP6 dephosphorylates SEC24'}, {'reaction_id': 'R-MMU-5694425', 'reaction_name': 'NSF ATPase activity dissociates cis-SNARE'}, {'reaction_id': 'R-MMU-3781018', 'reaction_name': 'EPM2A dimer dephosphorylates phosphoglycogen-GYG1'}, {'reaction_id': 'R-MMU-3781011', 'reaction_name': 'EPM2A dimer dephosphorylates phosphoglycogen-GYG2'}, {'reaction_id': 'R-MMU-75949', 'reaction_name': 'RNA Polymerase II Promoter Opening: First Transition'}, {'reaction_id': 'R-MMU-77078', 'reaction_name': \"Hydrolysis of the 5'-end of the nascent transcript by the capping enzyme\"}, {'reaction_id': 'R-MMU-209055', 'reaction_name': 'PPM1A dephosphorylates nuclear SMAD2/3'}, {'reaction_id': 'R-MMU-70606', 'reaction_name': 'glutamate + NH4+ + ATP => glutamine + ADP + orthophosphate [GLUL]'}, {'reaction_id': 'R-MMU-8937767', 'reaction_name': 'PTPN11 dephosphorylates RUNX1'}, {'reaction_id': 'R-MMU-1295632', 'reaction_name': 'PPA2A dephosphorylates SPRY2'}, {'reaction_id': 'R-MMU-209096', 'reaction_name': 'Murine Axin1 is dephosphorylated by PP2A leading to reduced binding affinity with beta-catenin'}, {'reaction_id': 'R-MMU-177926', 'reaction_name': 'Dephosphorylation of PAG by SHP2'}, {'reaction_id': 'R-MMU-177923', 'reaction_name': 'Sustained activation of SRC kinase by SHP2'}, {'reaction_id': 'R-MMU-177924', 'reaction_name': 'Dephosphorylation of Gab1 by SHP2'}, {'reaction_id': 'R-MMU-177935', 'reaction_name': 'SHP2 dephosphorylates Tyr 992 on EGFR'}, {'reaction_id': 'R-MMU-8867047', 'reaction_name': 'PTPN3 dephosphorylates EPS15'}, {'reaction_id': 'R-MMU-8864029', 'reaction_name': 'PTPN12 dephosphorylates EGFR at Y1148 (Y1172)'}, {'reaction_id': 'R-MMU-6811504', 'reaction_name': 'AKT1 dephosphorylation by PP2A-B56-beta,gamma'}, {'reaction_id': 'R-MMU-199425', 'reaction_name': 'PHLPP dephosphorylates S473 in AKT'}, {'reaction_id': 'R-MMU-5675433', 'reaction_name': 'PP5 dephosphorylates RAF1 S338'}, {'reaction_id': 'R-MMU-5675431', 'reaction_name': 'PP2A dephosphorylates RAF1'}, {'reaction_id': 'R-MMU-5672961', 'reaction_name': 'PP2A dephosphorylates inactive RAFs'}, {'reaction_id': 'R-MMU-2187401', 'reaction_name': 'MTMR4 dephosphorylates SMAD2/3'}, {'reaction_id': 'R-MMU-1467466', 'reaction_name': 'ABCA4 mediates atRAL transport'}, {'reaction_id': 'R-MMU-74948', 'reaction_name': 'PP2A dephosphorylates p-RHO to RHO'}, {'reaction_id': 'R-MMU-2584246', 'reaction_name': 'GNAT1-GTP hydrolyses its bound GTP to GDP'}, {'reaction_id': 'R-MMU-965067', 'reaction_name': 'THTPA:Mg2+ hydrolyzes ThTP to TDP'}, {'reaction_id': 'R-MMU-8940070', 'reaction_name': 'NT5E:Zn2+ hydrolyses NAD+'}, {'reaction_id': 'R-MMU-8940074', 'reaction_name': 'NT5E:Zn2+ hydrolyses NMN'}, {'reaction_id': 'R-MMU-6806967', 'reaction_name': 'CARKD dehydrates S-NAD(P)HX to NADPH'}, {'reaction_id': 'R-MMU-3095901', 'reaction_name': 'ABCC1 transports cytosolic Cbl to extracellular region'}, {'reaction_id': 'R-MMU-197958', 'reaction_name': 'Conversion of cytosolic THF to THF-polyglutamate'}, {'reaction_id': 'R-MMU-200711', 'reaction_name': 'THF polyglutamate + formate + ATP => 10-formylTHF polyglutamate + ADP + orthophosphate'}, {'reaction_id': 'R-MMU-200681', 'reaction_name': 'Conversion of cytosolic 5-methyltetrahydrofolate (5-methylTHF) to 5-methylTHF-polyglutamate'}, {'reaction_id': 'R-MMU-174391', 'reaction_name': 'MAT1A multimers transfer Ado from ATP to L-Met'}, {'reaction_id': 'R-MMU-5223313', 'reaction_name': 'ABCD4 may transport Cbl from lysosomal lumen to cytosol'}, {'reaction_id': 'R-MMU-5696839', 'reaction_name': 'MTHFD1L ligates HCOOH to THF to form 10-formyl-THF'}, {'reaction_id': 'R-MMU-6801456', 'reaction_name': 'MTHFD1L transforms 10-formyl-THF to HCOOH and THF'}, {'reaction_id': 'R-MMU-6801342', 'reaction_name': 'MTHFS transforms 5-formyl-THFPG to 5,10-methenyl-THFPG'}, {'reaction_id': 'R-MMU-200682', 'reaction_name': 'Conversion of mitochondrial THF to THF-polyglutamate'}, {'reaction_id': 'R-MMU-196950', 'reaction_name': '2xTRAP hydrolyzes FMN to RIB'}, {'reaction_id': 'R-MMU-6797630', 'reaction_name': 'LRPP4(LRPP1-3,5) hydrolyse LPA'}, {'reaction_id': 'R-MMU-176606', 'reaction_name': \"Adenosine 3',5'-bisphosphate (PAP) + H2O => AMP + orthophosphate\"}, {'reaction_id': 'R-MMU-174367', 'reaction_name': 'GCL ligates L-Glu to L-Cys'}, {'reaction_id': 'R-MMU-174394', 'reaction_name': 'GSS:Mg2+ dimer synthesizes GSH'}, {'reaction_id': 'R-MMU-1247935', 'reaction_name': 'OPLAH hydrolyses OPRO to L-Glu'}, {'reaction_id': 'R-MMU-194153', 'reaction_name': 'Transport (efflux) of bile salts by ABCC3 (MRP3)'}, {'reaction_id': 'R-MMU-193362', 'reaction_name': 'ABCB11 transports bile salts from cytosol to extracellular region'}, {'reaction_id': 'R-MMU-1237160', 'reaction_name': 'MTA is cleaved and phosphorylated'}, {'reaction_id': 'R-MMU-1237129', 'reaction_name': 'Acireductone is created'}, {'reaction_id': 'R-MMU-70555', 'reaction_name': '2 ATP + NH4+ + HCO3- => 2 ADP + orthophosphate + carbamoyl phosphate [mitochondrial]'}, {'reaction_id': 'R-MMU-70560', 'reaction_name': 'carbamoyl phosphate + ornithine => citrulline + orthophosphate'}, {'reaction_id': 'R-MMU-508040', 'reaction_name': 'glutamate + ATP + NADPH + H+ => L-glutamate gamma-semialdehyde + NADP+ + ADP + orthophosphate [P5CS]'}, {'reaction_id': 'R-MMU-977324', 'reaction_name': 'phosphoserine is dephosphorylated'}, {'reaction_id': 'R-MMU-6786245', 'reaction_name': 'CARNS1 transforms ATP, L-His, b-Ala to CARN'}, {'reaction_id': 'R-MMU-5696408', 'reaction_name': 'PHYKPL tetramer hydrolyses 5PHL'}, {'reaction_id': 'R-MMU-508308', 'reaction_name': 'beta-methylglutaconyl-CoA + ADP + orthophosphate + H2O <=> beta-methylcrotonyl-CoA + ATP + CO2 [MCCA]'}, {'reaction_id': 'R-MMU-70773', 'reaction_name': 'beta-methylcrotonyl-CoA + ATP + CO2 <=> beta-methylglutaconyl-CoA + ADP + orthophosphate + H2O [MCCA]'}, {'reaction_id': 'R-MMU-5693153', 'reaction_name': 'PPM1K dephosphorylates p-BCKDH'}, {'reaction_id': 'R-MMU-2408551', 'reaction_name': 'SeMet is converted to AdoSeMet by MAT'}, {'reaction_id': 'R-MMU-8959510', 'reaction_name': 'SEPHS2 phosphorylates H2Se to form SELP'}, {'reaction_id': 'R-MMU-71825', 'reaction_name': 'G6PC hydrolyzes glucose 6-phosphate to form glucose and orthophosphate (liver)'}, {'reaction_id': 'R-MMU-3262512', 'reaction_name': 'G6PC3 hydrolyzes glucose 6-phosphate to form glucose and orthophosphate (ubiquitous)'}, {'reaction_id': 'R-MMU-3257122', 'reaction_name': 'SLC37A1, SLC37A2 exchange G6P for Pi across the endoplasmic reticulum membrane'}, {'reaction_id': 'R-MMU-3266566', 'reaction_name': 'G6PC2 hydrolyzes glucose 6-phosphate to form glucose and orthophosphate (islet)'}, {'reaction_id': 'R-MMU-70262', 'reaction_name': 'Fructose 2,6-bisphosphate is hydrolyzed to form fructose-6-phosphate and orthophosphate'}, {'reaction_id': 'R-MMU-5683714', 'reaction_name': 'ABCA3 transports PC, PG from ER membrane to lamellar body'}, {'reaction_id': 'R-MMU-5682285', 'reaction_name': 'ABCA12 transports lipids from cytosol to extracellular region'}, {'reaction_id': 'R-MMU-5678706', 'reaction_name': 'ABCB4 transports PC from plasma membrane to extracellular region'}, {'reaction_id': 'R-MMU-8866542', 'reaction_name': 'VCP-catalyzed ATP hydrolysis promotes the translocation of misfolded CFTR into the cytosol'}, {'reaction_id': 'R-MMU-8848053', 'reaction_name': 'ABCA5 transports CHOL from lysosomal lumen to cytosol'}, {'reaction_id': 'R-MMU-265783', 'reaction_name': 'ABCG5:ABCG8 transports sterols from cytosol to extracellular region'}, {'reaction_id': 'R-MMU-266082', 'reaction_name': 'ABCG1-mediated transport of intracellular cholesterol to the cell surface'}, {'reaction_id': 'R-MMU-1454928', 'reaction_name': 'ABCG4 may mediate cholesterol efflux'}, {'reaction_id': 'R-MMU-382575', 'reaction_name': 'ABCD1-3 dimers transfer LCFAs from cytosol to peroxisomal matrix'}, {'reaction_id': 'R-MMU-382553', 'reaction_name': 'ABCA7:Apo1A-mediated phospholipid efflux'}, {'reaction_id': 'R-MMU-1454916', 'reaction_name': 'The ABCC family mediates organic anion transport'}, {'reaction_id': 'R-MMU-383190', 'reaction_name': 'HCO3- transport through ion channel'}, {'reaction_id': 'R-MMU-5679041', 'reaction_name': 'ABCC2 transports BMG,BDG from cytosol to extracellular region'}, {'reaction_id': 'R-MMU-1467457', 'reaction_name': 'ABCA8,B1,B5 transport xenobiotics from cytosol to extracellular region'}, {'reaction_id': 'R-MMU-5678863', 'reaction_name': 'CFTR transports Cl- from cytosol to extracellular region'}, {'reaction_id': 'R-MMU-5223317', 'reaction_name': 'ABCB9 transports peptides from cytosol to lysosomal lumen'}, {'reaction_id': 'R-MMU-382560', 'reaction_name': 'ABC7, mABC1 and mABC2 mediate heme transport'}, {'reaction_id': 'R-MMU-1369065', 'reaction_name': 'ABCB6 transports porphyrin from cytosol to mitchondrial matrix'}, {'reaction_id': 'R-MMU-216723', 'reaction_name': '4xPALM-C-p-2S-ABCA1 tetramer transports CHOL from transport vesicle membrane to plasma membrane'}, {'reaction_id': 'R-MMU-216757', 'reaction_name': '4xPALM-C-p-2S-ABCA1 tetramer transports PL from transport vesicle membrane to plasma membrane'}, {'reaction_id': 'R-MMU-427645', 'reaction_name': 'SLC34A3 cotransports Pi, 2Na+'}, {'reaction_id': 'R-MMU-427605', 'reaction_name': 'SLC20A1,2 cotransport Pi, Na+ from extracellular region to cytosol'}, {'reaction_id': 'R-MMU-428609', 'reaction_name': 'Type I Na+-coupled phosphate co-transport'}, {'reaction_id': 'R-MMU-917979', 'reaction_name': 'ABCG2 dimer transports heme from cytosol to extracellular region'}, {'reaction_id': 'R-MMU-917841', 'reaction_name': 'Acidification of Tf:TfR1 containing endosome'}, {'reaction_id': 'R-MMU-170666', 'reaction_name': 'Adenylate cyclase increases the GTPase activity of G alpha-olf'}, {'reaction_id': 'R-MMU-170686', 'reaction_name': 'Adenylate cyclase increases the GTPase activity of Gi alpha'}, {'reaction_id': 'R-MMU-416320', 'reaction_name': 'Trafficking of GluR1-containing  AMPA receptors'}, {'reaction_id': 'R-MMU-416985', 'reaction_name': 'Trafficking of GluR2-containing AMPA receptors to synapse'}, {'reaction_id': 'R-MMU-416639', 'reaction_name': 'Trafficking of GluR2-containing AMPA receptors to extrasynaptic sites'}, {'reaction_id': 'R-MMU-421007', 'reaction_name': 'Endocytosis of Ca impermeable AMPA receptors'}, {'reaction_id': 'R-MMU-6782131', 'reaction_name': 'RNA Pol II backtracking in TC-NER'}, {'reaction_id': 'R-MMU-5690996', 'reaction_name': 'ERCC2 and ERCC3 DNA helicases form an open bubble structure in damaged DNA'}, {'reaction_id': 'R-MMU-5683405', 'reaction_name': 'PPP5C dephosphorylates TP53BP1'}, {'reaction_id': 'R-MMU-5693589', 'reaction_name': 'D-loop dissociation and strand annealing'}, {'reaction_id': 'R-MMU-5649705', 'reaction_name': \"PNKP hydrolyzes the terminal 3'Pi at the NEIL1,NEIL2-generated single strand break (SSB)\"}, {'reaction_id': 'R-MMU-481009', 'reaction_name': 'Exocytosis of platelet dense granule content'}, {'reaction_id': 'R-MMU-377643', 'reaction_name': 'Dephosphorylation of inactive SRC by PTPB1'}, {'reaction_id': 'R-MMU-997311', 'reaction_name': 'Dephosphorylation of TYK2 by PTP1B'}, {'reaction_id': 'R-MMU-997309', 'reaction_name': 'Dephosphorylation of STAT1 by SHP2'}, {'reaction_id': 'R-MMU-997314', 'reaction_name': 'Dephosphorylation of JAK1 by SHP1'}, {'reaction_id': 'R-MMU-877301', 'reaction_name': 'Dephosphorylation of Jaks by Ptps'}, {'reaction_id': 'R-MMU-997326', 'reaction_name': 'Dephosphorylation of p-STAT1 dimer by nuclear isoform of TCPTP'}, {'reaction_id': 'R-MMU-1169229', 'reaction_name': 'Ptp1b dephosphorylates Jak2'}, {'reaction_id': 'R-MMU-1169240', 'reaction_name': 'Shp1 (Ptpn6) dephosphorylates Jak2'}, {'reaction_id': 'R-MMU-1169192', 'reaction_name': 'PTP1B dephosphorylates GHR'}, {'reaction_id': 'R-MMU-202237', 'reaction_name': 'Hydrolysis of PIP3 to PI(3,4)P2'}, {'reaction_id': 'R-MMU-8852200', 'reaction_name': 'Inactivation of LCK by PTPN22'}, {'reaction_id': 'R-MMU-8855381', 'reaction_name': 'PTPN22 dephosphorylates ZAP70'}, {'reaction_id': 'R-MMU-2130725', 'reaction_name': 'Internalization of MHC II:Ii clathrin coated vesicle'}, {'reaction_id': 'R-MMU-2130641', 'reaction_name': 'Translocation of TGN-lysosome vesicle to lysosome'}, {'reaction_id': 'R-MMU-8951498', 'reaction_name': 'Dissociation of Arf1:GDP, AP-1 Clathrin coated nonameric complex'}, {'reaction_id': 'R-MMU-390329', 'reaction_name': 'Dephosphorylation of AKT by PP2A'}, {'reaction_id': 'R-MMU-983144', 'reaction_name': 'Transport of Antigen peptide in to ER'}, {'reaction_id': 'R-MMU-6803545', 'reaction_name': 'ATP7A transports cytosolic Cu2+ to phagosomal lumen'}, {'reaction_id': 'R-MMU-1855219', 'reaction_name': 'I(1,3,4,5,6)P5 is dephosphorylated to I(3,4,5,6)P4 by ITPK1 in the cytosol'}, {'reaction_id': 'R-MMU-1855166', 'reaction_name': 'PP-IP4 is dephosphorylated to I(1,3,4,5,6)P5 by NUDT4 in the cytosol'}, {'reaction_id': 'R-MMU-1855225', 'reaction_name': 'IP6 is dephosphorylated to I(1,2,4,5,6)P5 by MINPP1 in the ER lumen'}, {'reaction_id': 'R-MMU-1855165', 'reaction_name': '(PP)2-IP4 is dephosphorylated to 5-PP-IP5 by NUDT(1) in the cytosol'}, {'reaction_id': 'R-MMU-1855198', 'reaction_name': '5-PP-IP5 is dephosphorylated to IP6 by NUDT(1) in the cytosol'}, {'reaction_id': 'R-MMU-2023971', 'reaction_name': '1/3 PP-IP5 is dephosphorylated to IP6 by NUDT(1) in the cytosol'}, {'reaction_id': 'R-MMU-2023973', 'reaction_name': '(PP)2-IP4 is dephosphorylated to 1/3-PP-IP5 by NUDT(1) in the cytosol'}, {'reaction_id': 'R-MMU-1855163', 'reaction_name': 'I(1,3,4,5,6)P5 is dephosphorylated to I(1,4,5,6)P4 by MINPP1 in the ER lumen'}, {'reaction_id': 'R-MMU-1855232', 'reaction_name': 'I(1,3,4)P3 is dephosphorylated to I(3,4)P2 by INPP1 in the cytosol'}, {'reaction_id': 'R-MMU-1855202', 'reaction_name': 'I(3,4)P2 is dephosphorylated to I3P by INPP4A/B in the cytosol'}, {'reaction_id': 'R-MMU-1855210', 'reaction_name': 'I3P is dephosphorylated to Ins by IMPA1/2 in the cytosol'}, {'reaction_id': 'R-MMU-1855222', 'reaction_name': 'I(1,4,5)P3 is dephosphorylated to I(1,4)P2 by INPP5A/B at the plasma membrane'}, {'reaction_id': 'R-MMU-1855154', 'reaction_name': 'I1P is dephosphorylated to Ins by IMPA1/2 in the cytosol'}, {'reaction_id': 'R-MMU-1855180', 'reaction_name': 'I(1,3,4)P3 is dephosphorylated to I(1,3)P2 by INPP4A/B in the cytosol'}, {'reaction_id': 'R-MMU-1855174', 'reaction_name': 'I(1,4,5)P3 is dephosphorylated to I(1,4)P2 by INPP5(4) in the cytosol'}, {'reaction_id': 'R-MMU-1855208', 'reaction_name': 'I(1,4)P2 is dephosphorylated to I4P by INPP1 in the cytosol'}, {'reaction_id': 'R-MMU-1855211', 'reaction_name': 'I4P is dephosphorylated to Ins by IMPA1/2 in the cytosol'}, {'reaction_id': 'R-MMU-6809627', 'reaction_name': 'I(1,3)P2 is dephosphorylated into I1P by Mtmr7:Mtmr9'}, {'reaction_id': 'R-MMU-6809624', 'reaction_name': 'I(1,3)P2 is dephosphorylated into I1P by Mtmr7'}, {'reaction_id': 'R-MMU-75899', 'reaction_name': '1,2-diacyl-glycerol 3-phosphate + H2O => 1,2-diacyl-glycerol + orthophosphate'}, {'reaction_id': 'R-MMU-8952137', 'reaction_name': 'Phospholipid phosphatase 6 hydrolyses Presqualene diphosphate to presqualene monophosphate'}, {'reaction_id': 'R-MMU-428690', 'reaction_name': 'sphingosine 1-phosphate + H2O => sphingosine + orthophosphate [extracellular]'}, {'reaction_id': 'R-MMU-428701', 'reaction_name': 'sphingosine 1-phosphate + H2O => sphingosine + orthophosphate [cytosolic - SGPP]'}, {'reaction_id': 'R-MMU-428696', 'reaction_name': 'sphingosine 1-phosphate + H2O => sphingosine + orthophosphate [cytosolic - PPAP]'}, {'reaction_id': 'R-MMU-429730', 'reaction_name': 'multiphospho-CERT:PPM1L:VAPA/B + 3 H2O => CERT:PPM1L:VAPA/B + 3 orthophosphate'}, {'reaction_id': 'R-MMU-428664', 'reaction_name': 'sphinganine 1-phosphate + H2O => sphinganine + orthophosphate'}, {'reaction_id': 'R-MMU-75848', 'reaction_name': 'ACLY tetramer transforms CIT to Ac-CoA'}, {'reaction_id': 'R-MMU-200555', 'reaction_name': 'acetyl-CoA + bicarbonate + ATP => malonyl-CoA + H2O + ADP + orthophosphate'}, {'reaction_id': 'R-MMU-2046093', 'reaction_name': 'Translocation of tetracosapentaenoyl-CoA to peroxisomes'}, {'reaction_id': 'R-MMU-75851', 'reaction_name': 'Btn-ACACA:2Mn2+ polymer carboxylates Ac-CoA to form Mal-CoA'}, {'reaction_id': 'R-MMU-8876889', 'reaction_name': 'Btn-ACACB:2Mn2+ polymer carboxylates Ac-CoA to form Mal-CoA'}, {'reaction_id': 'R-MMU-8878654', 'reaction_name': 'ACP6 hydrolyses MYS-LPA'}, {'reaction_id': 'R-MMU-5696415', 'reaction_name': 'ETNPPL tetramer hydrolyses PETA'}, {'reaction_id': 'R-MMU-6809778', 'reaction_name': 'PI(3,5)P2 is dephosphorylated to PI5P by MTMR2:SBF1'}, {'reaction_id': 'R-MMU-6809777', 'reaction_name': 'PI3P is dephosphorylated to PI by MTMR2:SBF1'}, {'reaction_id': 'R-MMU-6809325', 'reaction_name': 'PI3P is dephosphorylated to PI by MTMR9-bound MTMR8 or MTMR6 at the plasma membrane'}, {'reaction_id': 'R-MMU-6809320', 'reaction_name': 'PI(3,5)P2 is dephosphorylated to PI5P by MTMR9-bound MTMR6 or MTMR8 at the plasma membrane'}, {'reaction_id': 'R-MMU-6809977', 'reaction_name': 'PI3P is dephosphorylated to PI by the Mtmr2:Sbf2 tetramer at the plasma membrane'}, {'reaction_id': 'R-MMU-6809945', 'reaction_name': 'PI(3,5)P2 is dephosphorylated to PI5P by the Mtmr2:Sbf2 tetramer at the plasma membrane'}, {'reaction_id': 'R-MMU-1676065', 'reaction_name': 'PI(3,5)P2 is dephosphorylated to PI5P by MTM proteins at the late endosome membrane'}, {'reaction_id': 'R-MMU-1676105', 'reaction_name': 'PI(3,5)P2 is dephosphorylated to PI5P by MTM proteins at the early endosome membrane'}, {'reaction_id': 'R-MMU-8849969', 'reaction_name': 'PI(4,5)P2, PI(3,4)P2 and PI(3,4,5)P3 are dephosphorylated to PI5P, PI3P and PI(3,4)P by INPP5F at the endosome membrane'}, {'reaction_id': 'R-MMU-6809720', 'reaction_name': 'PI3P is dephosphorylated to PI by MTM1:MTMR12'}, {'reaction_id': 'R-MMU-2161533', 'reaction_name': 'abacavir [cytosol] + ATP + H2O => abacavir[extracellular] + ADP + phosphate'}, {'reaction_id': 'R-MMU-2161526', 'reaction_name': 'abacavir [cytosol] + ATP + H2O => abacavir[extracellular] + ADP + phosphate'}, {'reaction_id': 'R-MMU-73577', 'reaction_name': 'L-glutamine + 2 ATP + HCO3- + H2O => carbamoyl phosphate + L-glutamate + 2 ADP + orthophosphate'}, {'reaction_id': 'R-MMU-73573', 'reaction_name': 'carbamoyl phosphate + L-aspartate <=> N-carbamoyl L-aspartate + orthophosphate'}, {'reaction_id': 'R-MMU-71732', 'reaction_name': 'pyrophosphate + H2O => 2 orthophosphate [cytosolic]'}, {'reaction_id': 'R-MMU-449937', 'reaction_name': 'pyrophosphate + H2O => 2 orthophosphate [mitochondrial]'}, {'reaction_id': 'R-MMU-73647', 'reaction_name': 'UTP + glutamine + ATP + H2O => CTP + glutamate + ADP + orthophosphate [CTPS]'}, {'reaction_id': 'R-MMU-504054', 'reaction_name': 'UTP + glutamine + ATP + H2O => CTP + glutamate + ADP + orthophosphate [CTPS2]'}, {'reaction_id': 'R-MMU-109415', 'reaction_name': 'AMP + H2O => adenosine + orthophosphate [NT5C1B]'}, {'reaction_id': 'R-MMU-109387', 'reaction_name': '(d)AMP, (d)GMP, or (d)IMP + H2O => (deoxy)adenosine, (deoxy)guanosine, or (deoxy)inosine + orthophosphate (NT5C1A)'}, {'reaction_id': 'R-MMU-2395876', 'reaction_name': 'NUDT15 hydrolyses 8-oxo-dGDP to 8-oxo-dGMP'}, {'reaction_id': 'R-MMU-2395879', 'reaction_name': 'NUDT18 hydrolyses 8-oxo-dGDP to 8-oxo-dGMP'}, {'reaction_id': 'R-MMU-2395873', 'reaction_name': 'NUDT18 hydrolyses 8-oxo-GDP to 8-oxo-GMP'}, {'reaction_id': 'R-MMU-2509793', 'reaction_name': 'NUDT16 hydrolyses dIDP to dIMP'}, {'reaction_id': 'R-MMU-2395965', 'reaction_name': 'NUDT18 hydrolyses 8-OH-dADP to 8-OH-dAMP'}, {'reaction_id': 'R-MMU-2509816', 'reaction_name': 'NUDT16 hydrolyses IDP to IMP'}, {'reaction_id': 'R-MMU-109278', 'reaction_name': 'NT5E:Zn2+ hydrolyses AMP,dAMP,GMP, IMP'}, {'reaction_id': 'R-MMU-109470', 'reaction_name': '(d)GMP or (d)IMP + H2O => (d)G or (d)I + orthophosphate (NT5C)'}, {'reaction_id': 'R-MMU-109380', 'reaction_name': '(d)CMP, TMP, or (d)UMP + H2O => (deoxy)cytidine, thymidine, or (deoxy)uridine + orthophosphate (NT5C1A)'}, {'reaction_id': 'R-MMU-109449', 'reaction_name': '(d)CMP, TMP, or (d)UMP + H2O => (deoxy)cytidine, thymidine, or (deoxy)uridine + orthophosphate (NT5C3)'}, {'reaction_id': 'R-MMU-112266', 'reaction_name': 'thymine or uracil + 2-deoxy-D-ribose 1-phosphate <=> thymidine or deoxyuridine + orthophosphate [TYMP]'}, {'reaction_id': 'R-MMU-112265', 'reaction_name': 'thymidine or deoxyuridine + orthophosphate <=> thymine or uracil + 2-deoxy-D-ribose 1-phosphate [TYMP]'}, {'reaction_id': 'R-MMU-109480', 'reaction_name': \"TMP, uridine 2', 3', or 5' monophosphates, or deoxyuridine 3' or 5' monophosphates + H2O => thymidine or (deoxy)uridine + orthophosphate [NT5C]\"}, {'reaction_id': 'R-MMU-74372', 'reaction_name': 'uracil + (deoxy)ribose 1-phosphate <=> (deoxy)uridine + orthophosphate [UPP]'}, {'reaction_id': 'R-MMU-74376', 'reaction_name': '(deoxy)uridine + orthophosphate <=> uracil + (deoxy)ribose 1-phosphate (UPP)'}, {'reaction_id': 'R-MMU-109291', 'reaction_name': 'CMP or TMP or UMP + H2O => cytidine, thymidine, or uridine + orthophosphate [NT5E]'}, {'reaction_id': 'R-MMU-109514', 'reaction_name': \"TMP, (d)UMP, uridine 2' monophosphate, or uridine 3'-monophosphate + H2O => thymidine, deoxyuridine, or uridine + orthophosphate [NT5M]\"}, {'reaction_id': 'R-MMU-8850846', 'reaction_name': 'NTPDase1 hydrolyzes nucleoside triphosphates'}, {'reaction_id': 'R-MMU-8850854', 'reaction_name': 'NTPDase1 hydrolyzes nucleoside diphosphates'}, {'reaction_id': 'R-MMU-8851110', 'reaction_name': 'NTPDase3 hydrolyzes nucleoside triphosphates'}, {'reaction_id': 'R-MMU-8851396', 'reaction_name': 'NTPDase6 hydrolyzes nucleoside diphosphates'}, {'reaction_id': 'R-MMU-8851538', 'reaction_name': 'NTPDase8 hydrolyzes nucleoside triphosphates'}, {'reaction_id': 'R-MMU-8851089', 'reaction_name': 'NTPDase2 hydrolyzes nucleoside triphosphates'}, {'reaction_id': 'R-MMU-8851550', 'reaction_name': 'NTPDase8 hydrolyzes nucleoside diphosphates'}, {'reaction_id': 'R-MMU-8851356', 'reaction_name': 'NTPDase5 hydrolyzes nucleoside diphosphates'}, {'reaction_id': 'R-MMU-8851129', 'reaction_name': 'NTPDase3 hydrolyzes nucleoside diphosphates'}, {'reaction_id': 'R-MMU-6788912', 'reaction_name': 'LHPP:Mg2+ dimer hydrolyses PPi'}, {'reaction_id': 'R-MMU-6788295', 'reaction_name': 'HDHD1:Mg2+ dephosphorylates PURIDP'}, {'reaction_id': 'R-MMU-8865774', 'reaction_name': 'TTLLs polyglutamylate tubulin'}, {'reaction_id': 'R-MMU-8867370', 'reaction_name': 'TTLL3, TTLL8, TTLL10 polyglycylate tubulin'}, {'reaction_id': 'R-NUL-391408', 'reaction_name': 'Hydrolysis of ATP and release of tubulin folding intermediate from CCT/TriC'}, {'reaction_id': 'R-MMU-6814120', 'reaction_name': 'ATP hydrolysis promotes folding of G-protein beta by TRiC/CCT'}, {'reaction_id': 'R-MMU-159101', 'reaction_name': 'NXF1:NXT1 (TAP:p15) binds capped mRNA:CBC:EJC:TREX (minus DDX39B)'}, {'reaction_id': 'R-MMU-72647', 'reaction_name': 'Cap-bound mRNA is activated by helicases '}, {'reaction_id': 'R-MMU-72621', 'reaction_name': 'Ribosomal scanning '}, {'reaction_id': 'R-MMU-72619', 'reaction_name': 'eIF2:GTP is hydrolyzed, eIFs are released '}, {'reaction_id': 'R-MMU-72671', 'reaction_name': 'eIF5B:GTP is hydrolyzed and released'}, {'reaction_id': 'R-MMU-5419271', 'reaction_name': '55S ribosome hydrolyzes peptidyl-tRNA bond and MTRF1L hydrolyzes GTP'}, {'reaction_id': 'R-MMU-5419273', 'reaction_name': 'Hydrolysis of GTP and dissociation of 28S and 39S subunits'}, {'reaction_id': 'R-MMU-5694126', 'reaction_name': 'NT5C3B hydrolyses 7MGP to 7MG'}, {'reaction_id': 'R-MMU-445699', 'reaction_name': 'ATP Hydrolysis By Myosin'}, {'reaction_id': 'R-MMU-936897', 'reaction_name': 'ATP1A:ATP1B:FXYD exchanges Na+ for K+'}, {'reaction_id': 'R-MMU-390593', 'reaction_name': 'ATP Hydrolysis By Myosin'}, {'reaction_id': 'R-MMU-5623513', 'reaction_name': 'ASAP1 stimulates GTPase activity of ARF4'}, {'reaction_id': 'R-MMU-139906', 'reaction_name': 'Activation of BAD by calcineurin'}, {'reaction_id': 'R-MMU-380949', 'reaction_name': 'AMPK is dephosphorylated'}, {'reaction_id': 'R-MMU-5692754', 'reaction_name': 'CDC14A,B dephosphorylate p-3S,T MAPK6'}, {'reaction_id': 'R-MMU-194922', 'reaction_name': 'GAPs inactivate Rho GTPase:GTP by hydrolysis'}, {'reaction_id': 'R-MMU-164381', 'reaction_name': 'G alpha (s) auto-inactivates by hydrolysing GTP to GDP'}, {'reaction_id': 'R-MMU-170685', 'reaction_name': 'Adenylaye cyclase increases the GTPase activity of G alpha-olf'}, {'reaction_id': 'R-MMU-112037', 'reaction_name': 'Inactivation of PLC beta'}, {'reaction_id': 'R-MMU-201790', 'reaction_name': 'DARPP-32 is dephosphorylated on Thr75 by PP2A'}, {'reaction_id': 'R-MMU-8864036', 'reaction_name': 'PTPN12 dephosphorylates PDGFRB at Y1021'}, {'reaction_id': 'R-MMU-2682349', 'reaction_name': 'RAF1:SGK:TSC22D3:WPP ubiquitinates SCNN channels'}, {'reaction_id': 'R-MMU-2872498', 'reaction_name': 'SLC17A3-1 cotransports extracellular Na+ and Pi to cytosol'}, {'reaction_id': 'R-MMU-5251989', 'reaction_name': 'ATP13A4,5 transport divalent ions from extracellular region to cytosol'}, {'reaction_id': 'R-MMU-939763', 'reaction_name': 'P-type ATPases type IV transport external-facing APLs to internal side of the plasma membrane'}, {'reaction_id': 'R-MMU-947591', 'reaction_name': 'P-type ATPases type IV transport internal-facing APLs to external side of the plasma membrane'}, {'reaction_id': 'R-MMU-936802', 'reaction_name': 'ATP7A transports cytosolic Cu2+ to extracellular region'}, {'reaction_id': 'R-MMU-936895', 'reaction_name': 'ATP7B transports cytosolic Cu2+ to Golgi lumen'}, {'reaction_id': 'R-MMU-937311', 'reaction_name': 'ATP4A/12A:ATP4B exchanges K+ for H+'}, {'reaction_id': 'R-MMU-5692480', 'reaction_name': 'ATP13A2 transports cations from cytosol to lysosomal lumen'}, {'reaction_id': 'R-MMU-5692462', 'reaction_name': 'ATP13A1 transports Mn2+ from cytosol to ER lumen'}, {'reaction_id': 'R-MMU-936883', 'reaction_name': 'ATP2C1/2:Mg2+ transport cytosolic Ca2+ to Golgi lumen'}, {'reaction_id': 'R-MMU-8854255', 'reaction_name': 'TBC1D2A accelerates GTP hydrolysis by RAB7'}, {'reaction_id': 'R-MMU-8854604', 'reaction_name': 'TBC1D16 accelerates GTP hydrolysis by RAB4A'}, {'reaction_id': 'R-MMU-8854612', 'reaction_name': 'TBC1D25 accelerates GTP hydrolysis by RAB33B'}, {'reaction_id': 'R-MMU-8854173', 'reaction_name': 'TBC RabGAPs accelerate GTP hydrolysis by RAB35'}, {'reaction_id': 'R-MMU-8854329', 'reaction_name': 'TBC1D15 accelerates GTP hydrolysis by RAB7'}, {'reaction_id': 'R-MMU-6811422', 'reaction_name': 'NSF ATPase activity dissociates cis-SNARE at the ER'}, {'reaction_id': 'R-MMU-1458501', 'reaction_name': 'RalA Hydrolyzes GTP'}, {'reaction_id': 'R-MMU-432706', 'reaction_name': 'trans-Golgi Network Lysosome Vesicle Destined Membrane Coat Assembly'}, {'reaction_id': 'R-MMU-432707', 'reaction_name': 'trans-Golgi Network Lysosomal Vesicle Scission'}, {'reaction_id': 'R-MMU-421836', 'reaction_name': 'trans-Golgi Network Derived Vesicle Uncoating'}, {'reaction_id': 'R-MMU-421835', 'reaction_name': 'trans-Golgi Network Vesicle Scission'}, {'reaction_id': 'R-MMU-421831', 'reaction_name': 'trans-Golgi Network Coat Assembly'}, {'reaction_id': 'R-MMU-8868648', 'reaction_name': 'SYNJ hydrolyze PI(4,5)P2 to PI(4)P'}, {'reaction_id': 'R-MMU-8868661', 'reaction_name': 'Dynamin-mediated GTP hydrolysis promotes vesicle scission'}, {'reaction_id': 'R-MMU-8868658', 'reaction_name': 'HSPA8-mediated ATP hydrolysis promotes vesicle uncoating'}, {'reaction_id': 'R-MMU-917693', 'reaction_name': 'ESCRT Disassembly'}, {'reaction_id': 'R-MMU-111519', 'reaction_name': \"inosine 5'-monophosphate + L-aspartate + GTP => adenylosuccinate + guanosine  5'-diphosphate + orthophosphate\"}, {'reaction_id': 'R-MMU-210644', 'reaction_name': 'Phosphorylated STAT5A dimer is dephosphorylated by PTP1B'}, {'reaction_id': 'R-MMU-210637', 'reaction_name': 'Phosphorylated STAT5A dimer is dephosphorylated by TC-PTP'}], 'C00153': [{'reaction_id': 'R-MMU-5685953', 'reaction_name': 'SIRT6 deacetylates RBBP8'}, {'reaction_id': 'R-MMU-3371467', 'reaction_name': 'SIRT1 deacetylates HSF1'}, {'reaction_id': 'R-MMU-5688276', 'reaction_name': 'SIRT4 transfers ADPRib to GLUD'}, {'reaction_id': 'R-MMU-5688294', 'reaction_name': 'SIRT5 deacetylates Cytochrome C'}, {'reaction_id': 'R-MMU-5688289', 'reaction_name': 'SIRT3 deacetylates ACCS2, GLUD, IDH2, SOD2'}, {'reaction_id': 'R-MMU-2187325', 'reaction_name': 'PARP1 ADP-ribosylates SMAD3 and SMAD4'}, {'reaction_id': 'R-MMU-3640858', 'reaction_name': 'Tankyrase ADP-ribosylates AXIN'}, {'reaction_id': 'R-MMU-8948800', 'reaction_name': 'TNKS and TNKS2 PARylate PTEN'}, {'reaction_id': 'R-MMU-8940074', 'reaction_name': 'NT5E:Zn2+ hydrolyses NMN'}, {'reaction_id': 'R-MMU-197250', 'reaction_name': 'NAMPT transfers PRIB to NAM to form NAMN'}, {'reaction_id': 'R-MMU-8870346', 'reaction_name': 'BST1 hydrolyzes NAD+ to yield NAM and ADP-ribose'}, {'reaction_id': 'R-MMU-8938073', 'reaction_name': 'PARPs transfer ADP-D-ribose to proteins (poly(ADP-ribosyl)ation)'}, {'reaction_id': 'R-MMU-5359451', 'reaction_name': 'NNMT transfers CH3 from SAM to NAM to form MNA'}, {'reaction_id': 'R-MMU-8938076', 'reaction_name': 'CD38 hydrolyses NAD+ to NAM and ADP-ribose'}, {'reaction_id': 'R-MMU-5696655', 'reaction_name': 'PARP1 or PARP2 PARylates DDB2 and autoPARylates'}, {'reaction_id': 'R-MMU-5687653', 'reaction_name': 'PARP1,PARP2 dimers bound to MMEJ sites autoPARylate'}, {'reaction_id': 'R-MMU-5651723', 'reaction_name': 'PARP1,PARP2 dimers bound to FEN1 and POLB autoPARylate'}, {'reaction_id': 'R-MMU-427514', 'reaction_name': 'eNoSC deacetylates histone H3'}, {'reaction_id': 'R-MMU-5211233', 'reaction_name': 'Sirt1 deacetylates Taf1b in SL1 complex'}], 'C00020': [{'reaction_id': 'R-MMU-70467', 'reaction_name': 'D-fructose 6-phosphate + ATP => D-fructose 1,6-bisphosphate + ADP'}, {'reaction_id': 'R-MMU-8875039', 'reaction_name': 'Acsm3 ligates CoA to BUT'}, {'reaction_id': 'R-MMU-169260', 'reaction_name': 'Reducing equivalents from beta-oxidation of fatty acids transfer to ETF'}, {'reaction_id': 'R-MMU-169270', 'reaction_name': 'ETFDH oxidises ETF (reduced) to ETF, reduces CoQ to QH2'}, {'reaction_id': 'R-MMU-110141', 'reaction_name': '(d)ADP + ADP <=> (d)AMP + ATP (AK1)'}, {'reaction_id': 'R-MMU-453338', 'reaction_name': 'PGYM b dimer:AMP complex <=> PGYM dimer, b form + 2 AMP'}, {'reaction_id': 'R-MMU-453342', 'reaction_name': 'PGYM dimer, b form + 2 AMP <=> PGYM b dimer:AMP complex'}, {'reaction_id': 'R-MMU-70479', 'reaction_name': 'D-fructose 1,6-bisphosphate + H2O => D-fructose 6-phosphate + orthophosphate'}, {'reaction_id': 'R-MMU-73580', 'reaction_name': \"D-ribose 5-phosphate + ATP => 5-phospho-alpha-D-ribose 1-diphosphate (PRPP) + adenosine 5'-monophosphate\"}, {'reaction_id': 'R-MMU-73828', 'reaction_name': \"adenylosuccinate => adenosine 5'-monophosphate + fumarate\"}, {'reaction_id': 'R-MMU-109624', 'reaction_name': \"(2'-deoxy)adenosine + ATP => (d)AMP + ADP (ADK)\"}, {'reaction_id': 'R-MMU-74220', 'reaction_name': '(d)AMP + ATP <=> (d)ADP + ADP (AK1)'}, {'reaction_id': 'R-MMU-74213', 'reaction_name': 'Adenine + PRPP => AMP + PPi'}, {'reaction_id': 'R-MMU-76590', 'reaction_name': 'AMP + H2O => IMP + NH4+ (AMPD)'}, {'reaction_id': 'R-MMU-73792', 'reaction_name': 'XMP + L-Glutamine + ATP + H2O => GMP + L-Glutamate + AMP + pyrophosphate'}, {'reaction_id': 'R-MMU-1632857', 'reaction_name': 'ULK1 phosphorylates AMBRA1:Beclin-1 complex'}, {'reaction_id': 'R-MMU-200421', 'reaction_name': 'Activation of cytosolic AMPK by phosphorylation'}, {'reaction_id': 'R-MMU-380930', 'reaction_name': 'Phosphorylated AMPK binds AMP'}, {'reaction_id': 'R-MMU-380927', 'reaction_name': 'p-AMPK phosphorylates TSC1:TSC2'}, {'reaction_id': 'R-MMU-5672011', 'reaction_name': 'p-AMPK:AMP binds the ULK complex'}, {'reaction_id': 'R-MMU-5665868', 'reaction_name': 'AMPK (complex) phosphorylates ULK1 (complex)'}, {'reaction_id': 'R-MMU-5672008', 'reaction_name': 'Thr-180 of ULK1 is phosphorylated'}, {'reaction_id': 'R-MMU-5675868', 'reaction_name': 'ULK1 phosphorylates ATG13 and RB1CC1'}, {'reaction_id': 'R-MMU-5679239', 'reaction_name': 'ULK complex translocates to the ER'}, {'reaction_id': 'R-MMU-5679205', 'reaction_name': 'ULK1 phosphorylates Beclin-1'}, {'reaction_id': 'R-MMU-5673768', 'reaction_name': 'p-AMPK:AMP phosphorylates Raptor in the mTORC1 complex'}, {'reaction_id': 'R-MMU-5631941', 'reaction_name': 'SESN1,2,3 bind AMPK'}, {'reaction_id': 'R-MMU-5358475', 'reaction_name': 'DPH6 ligates ammonium to diphthine-EEF2'}, {'reaction_id': 'R-MMU-2993802', 'reaction_name': 'HLCS biotinylates PC:Mn2+'}, {'reaction_id': 'R-MMU-2993799', 'reaction_name': 'HLCS biotinylates MCCC1:MCCC2'}, {'reaction_id': 'R-MMU-2993447', 'reaction_name': 'HLCS biotinylates PCCA:PCCB'}, {'reaction_id': 'R-MMU-2993814', 'reaction_name': 'HLCS biotinylates ACACA'}, {'reaction_id': 'R-MMU-196761', 'reaction_name': '2xTPK1:Mg2+ phosphorylates THMN'}, {'reaction_id': 'R-MMU-947538', 'reaction_name': 'Transfer of sulfur from MOCS3-S-S onto MOCS2A'}, {'reaction_id': 'R-MMU-947531', 'reaction_name': 'Molybdenum ion transfer onto molybdopterin'}, {'reaction_id': 'R-MMU-197271', 'reaction_name': 'NADSYN1 hexamer amidates NAAD to NAD+'}, {'reaction_id': 'R-MMU-196753', 'reaction_name': '2xPPCS ligates PPanK with Cys'}, {'reaction_id': 'R-MMU-196955', 'reaction_name': '2xENPP1 hydrolyzes FAD to FMN'}, {'reaction_id': 'R-MMU-4167511', 'reaction_name': 'HLCS biotinylates ACACB'}, {'reaction_id': 'R-MMU-449911', 'reaction_name': 'acetate + CoA + ATP => acetyl-CoA + AMP + pyrophosphate [mitochondrial]'}, {'reaction_id': 'R-MMU-71735', 'reaction_name': 'acetate + CoA + ATP => acetyl-CoA + AMP + pyrophosphate [cytosolic]'}, {'reaction_id': 'R-MMU-177157', 'reaction_name': 'phenylacetate + Coenzyme A + ATP => phenylacetyl-CoA + AMP + pyrophosphate'}, {'reaction_id': 'R-MMU-159567', 'reaction_name': 'salicylic acid + Coenzyme A + ATP => salicylate-CoA + AMP + pyrophosphate'}, {'reaction_id': 'R-MMU-159443', 'reaction_name': 'benzoate + Coenzyme A + ATP => benzoyl-CoA + AMP + pyrophosphate'}, {'reaction_id': 'R-MMU-8953499', 'reaction_name': 'IMPAD1 hydrolyses PAP to AMP'}, {'reaction_id': 'R-MMU-176606', 'reaction_name': \"Adenosine 3',5'-bisphosphate (PAP) + H2O => AMP + orthophosphate\"}, {'reaction_id': 'R-MMU-159425', 'reaction_name': 'Cytosolic cholate and chenodeoxycholate are conjugated with Coenzyme A (SLC27A5 BACS)'}, {'reaction_id': 'R-MMU-193424', 'reaction_name': 'DHCA is conjugated with Coenzyme A (SLC27A2 VLCS)'}, {'reaction_id': 'R-MMU-193407', 'reaction_name': 'DHCA is conjugated with Coenzyme A (SLC27A5 BACS)'}, {'reaction_id': 'R-MMU-193743', 'reaction_name': '3,7,24THCA is conjugated with Coenzyme A (SLC27A2 VLCS)'}, {'reaction_id': 'R-MMU-193711', 'reaction_name': '3,7,24THCA is conjugated with Coenzyme A (SLC27A5 BACS)'}, {'reaction_id': 'R-MMU-192137', 'reaction_name': 'THCA is conjugated with Coenzyme A (SLC27A5 BACS)'}, {'reaction_id': 'R-MMU-193401', 'reaction_name': 'THCA is conjugated with Coenzyme A (SLC27A2 VLCS)'}, {'reaction_id': 'R-MMU-193766', 'reaction_name': 'TetraHCA is conjugated with Coenzyme A (SLC27A5 BACS)'}, {'reaction_id': 'R-MMU-193727', 'reaction_name': 'TetraHCA is conjugated with Coenzyme A (SLC27A2 VLCS)'}, {'reaction_id': 'R-MMU-70599', 'reaction_name': 'aspartate + glutamine + ATP <=> asparagine + glutamate + AMP + pyrophosphate [ASNS]'}, {'reaction_id': 'R-MMU-70577', 'reaction_name': 'ASS1 tetramer:NMRAL1 dimer:NADPH transforms L-Asp and L-Cit to ARSUA'}, {'reaction_id': 'R-MMU-8959510', 'reaction_name': 'SEPHS2 phosphorylates H2Se to form SELP'}, {'reaction_id': 'R-MMU-5696021', 'reaction_name': 'ADPGK:Mg2+ phosphorylates Glc to G6P'}, {'reaction_id': 'R-MMU-1008248', 'reaction_name': 'Adenylate Kinase 3 is a GTP-AMP phosphotransferase'}, {'reaction_id': 'R-MMU-1169397', 'reaction_name': 'Activation of ISG15 by UBA7 E1 ligase'}, {'reaction_id': 'R-MMU-1169394', 'reaction_name': 'ISGylation of IRF3'}, {'reaction_id': 'R-MMU-1169398', 'reaction_name': 'ISGylation of host protein filamin B'}, {'reaction_id': 'R-MMU-1169402', 'reaction_name': 'ISGylation of E2 conjugating enzymes'}, {'reaction_id': 'R-MMU-1169405', 'reaction_name': 'ISGylation of protein phosphatase 1 beta (PP2CB)'}, {'reaction_id': 'R-MMU-1169406', 'reaction_name': 'ISGylation of host proteins'}, {'reaction_id': 'R-MMU-983153', 'reaction_name': 'E1 mediated ubiquitin activation'}, {'reaction_id': 'R-MMU-983140', 'reaction_name': 'Transfer of Ub from E2 to substrate and release of E2'}, {'reaction_id': 'R-MMU-983156', 'reaction_name': 'Polyubiquitination of substrate'}, {'reaction_id': 'R-MMU-8875071', 'reaction_name': 'ACSS3 ligates CoA to CH3COO-'}, {'reaction_id': 'R-MMU-5694494', 'reaction_name': 'AACS ligates CoA-SH to ACA, forming ACA-CoA'}, {'reaction_id': 'R-MMU-5696007', 'reaction_name': 'ACSF3 ligates CoA-SH to VLCFA'}, {'reaction_id': 'R-MMU-8875095', 'reaction_name': 'Slc27a3 ligates CoA to VLCFA'}, {'reaction_id': 'R-MMU-5695957', 'reaction_name': 'ACSBG1,2 ligates CoA-SH to VLCFA, forming VLCFA-CoA'}, {'reaction_id': 'R-MMU-548843', 'reaction_name': 'ACSL3,4 ligate CoA to AA to form AA-CoA'}, {'reaction_id': 'R-MMU-201035', 'reaction_name': 'ACSL1,3,5,6 ligate CoA to PALM to form PALM-CoA'}, {'reaction_id': 'R-MMU-389652', 'reaction_name': 'PMP34-mediated exchange of cytosolic ATP for peroxisomal AMP'}, {'reaction_id': 'R-MMU-5696004', 'reaction_name': 'ACSF2 ligates CoA-SH to MCFA'}, {'reaction_id': 'R-MMU-110144', 'reaction_name': 'ADP + ADP <=> AMP + ATP [AK2]'}, {'reaction_id': 'R-MMU-110145', 'reaction_name': 'AMP + ATP <=> ADP + ADP [AK2]'}, {'reaction_id': 'R-MMU-6788798', 'reaction_name': 'AK4 phosphorylates (d)NMPs to (d)NDPs'}, {'reaction_id': 'R-MMU-110138', 'reaction_name': 'AK5,7,8,9 phosphorylates (d)NMPs to (d)NDPs'}, {'reaction_id': 'R-MMU-110137', 'reaction_name': '(d)ADP or (d)CDP + ADP <=> (d)AMP or (d)CMP + ATP'}, {'reaction_id': 'R-MMU-109415', 'reaction_name': 'AMP + H2O => adenosine + orthophosphate [NT5C1B]'}, {'reaction_id': 'R-MMU-109387', 'reaction_name': '(d)AMP, (d)GMP, or (d)IMP + H2O => (deoxy)adenosine, (deoxy)guanosine, or (deoxy)inosine + orthophosphate (NT5C1A)'}, {'reaction_id': 'R-MMU-2393954', 'reaction_name': 'Mitochondrial NUDT9 hydrolyses ADP-ribose to R5P and AMP'}, {'reaction_id': 'R-MMU-5696049', 'reaction_name': 'ADPRM hydrolyses ADP-ribose to R5P and AMP'}, {'reaction_id': 'R-MMU-2393939', 'reaction_name': 'Cytosolic NUDT5 hydrolyses ADP-ribose to R5P and AMP'}, {'reaction_id': 'R-MMU-109278', 'reaction_name': 'NT5E:Zn2+ hydrolyses AMP,dAMP,GMP, IMP'}, {'reaction_id': 'R-MMU-8851356', 'reaction_name': 'NTPDase5 hydrolyzes nucleoside diphosphates'}, {'reaction_id': 'R-MMU-111285', 'reaction_name': 'Formation of phosphoribosyl pyrophosphate amidotransferase tetramer'}, {'reaction_id': 'R-MMU-8852133', 'reaction_name': 'UBA1 conjugates ubiquitin to UBA1 in the cytosol'}, {'reaction_id': 'R-MMU-8951648', 'reaction_name': 'NEDD8 covalently binds catalytic cysteine of UBA3:NAE1'}, {'reaction_id': 'R-MMU-8951656', 'reaction_name': 'NEDD8-UBA3:NAE1 binds a second NEDD8'}, {'reaction_id': 'R-MMU-430021', 'reaction_name': 'PAN2-PAN3 complex partially deadenylates mRNA'}, {'reaction_id': 'R-MMU-429992', 'reaction_name': 'PARN deadenylates mRNA'}, {'reaction_id': 'R-MMU-429955', 'reaction_name': 'CCR4-NOT complex deadenylates mRNA'}, {'reaction_id': 'R-MMU-430028', 'reaction_name': \"Exosome Complex hydrolyzes mRNA by 3' to 5' exoribonuclease digestion\"}, {'reaction_id': 'R-MMU-111955', 'reaction_name': 'cAMP hydrolysis by Cam-PDE 1'}, {'reaction_id': 'R-MMU-447074', 'reaction_name': 'AMPK phosphorylates Raptor in the mTORC1 complex'}, {'reaction_id': 'R-MMU-418553', 'reaction_name': 'cAMP degradation by Phosphodiesterases'}, {'reaction_id': 'R-MMU-111962', 'reaction_name': 'cAMP hydrolysis by PDE 4'}, {'reaction_id': 'R-MMU-162425', 'reaction_name': 'p-S295-PDE3B hydrolyses cAMP to AMP'}, {'reaction_id': 'R-MMU-1454711', 'reaction_name': 'Ampk-alpha2 Phosphorylates Tbc1d1'}, {'reaction_id': 'R-MMU-111519', 'reaction_name': \"inosine 5'-monophosphate + L-aspartate + GTP => adenylosuccinate + guanosine  5'-diphosphate + orthophosphate\"}], 'C00095': [{'reaction_id': 'R-MMU-70333', 'reaction_name': 'KHK dimer phosphorylates Fru to Fru 1-P'}, {'reaction_id': 'R-MMU-189069', 'reaction_name': 'sucrose + H2O => glucose + fructose'}, {'reaction_id': 'R-MMU-189222', 'reaction_name': 'SLC2A5 transports fructose from extracellular region to cytosol'}, {'reaction_id': 'R-MMU-189242', 'reaction_name': 'SLC2A2 tetramer transports Fru, Gal, Glc from cytosol to extracellular region'}, {'reaction_id': 'R-MMU-5652195', 'reaction_name': 'SORD oxidizes D-sorbitol to Fru'}, {'reaction_id': 'R-MMU-429036', 'reaction_name': 'SLC2A9 transports Fru, Glc, urate'}, {'reaction_id': 'R-MMU-428779', 'reaction_name': 'GLUT7 and GLUT11 transport glucose and fructose'}, {'reaction_id': 'R-MMU-8876283', 'reaction_name': 'SLC5A10 cotransports Na+ with Man, Fru from extracellular region to cytosol'}], 'C00149': [{'reaction_id': 'R-MMU-451033', 'reaction_name': '(S)-Malate <=> Fumarate + H2O'}, {'reaction_id': 'R-MMU-70979', 'reaction_name': '(S)-Malate + NAD+ <=> Oxaloacetate + NADH + H+'}, {'reaction_id': 'R-MMU-70982', 'reaction_name': 'Fumarate + H2O <=> (S)-Malate'}, {'reaction_id': 'R-MMU-376851', 'reaction_name': 'Exchange of alpha-ketoglutarate (2-oxoglutarate) and malate across the inner mitochondrial membrane'}, {'reaction_id': 'R-MMU-198440', 'reaction_name': 'malate [mitochondrial matrix] + alpha-ketoglutarate [cytosol] <=> malate [cytosol] + alpha-ketoglutarate [mitochondrial matrix]'}, {'reaction_id': 'R-MMU-71783', 'reaction_name': 'Oxaloacetate + NADH + H+ <=> (S)-Malate + NAD+'}, {'reaction_id': 'R-MMU-198508', 'reaction_name': 'malate + NAD+ <=> oxaloacetate + NADH + H+'}, {'reaction_id': 'R-MMU-372843', 'reaction_name': 'malate [mitochondrial matrix] + orthophosphate [cytosol] <=> malate [cytosol] + orthophosphate [mitochondrial matrix]'}, {'reaction_id': 'R-MMU-1614546', 'reaction_name': 'Sulfate is exported to the cytosol in exchange for dicarboxylate'}, {'reaction_id': 'R-MMU-75849', 'reaction_name': 'Transport of Citrate from Mitochondrial Matrix to cytosol'}], 'C00025': [{'reaction_id': 'R-MMU-508179', 'reaction_name': 'a-ketoisocaproate, a-keto-b-methylvalerate, or a-ketoisovalerate + glutamate <=> leu, ile, or val + alpha-ketoglutarate [BCAT2]'}, {'reaction_id': 'R-MMU-70724', 'reaction_name': 'leu, ile, or val + alpha-ketoglutarate <=> a-ketoisocaproate, a-keto-b-methylvalerate, or a-ketoisovalerate + glutamate [BCAT2]'}, {'reaction_id': 'R-MMU-70524', 'reaction_name': 'pyruvate + glutamate <=> alanine + alpha-ketoglutarate [GPT]'}, {'reaction_id': 'R-MMU-70523', 'reaction_name': 'alanine + alpha-ketoglutarate <=> pyruvate + glutamate [GPT]'}, {'reaction_id': 'R-MMU-70581', 'reaction_name': 'oxaloacetate + glutamate <=> aspartate + alpha-ketoglutarate [GOT1]'}, {'reaction_id': 'R-MMU-70592', 'reaction_name': 'aspartate + alpha-ketoglutarate <=> oxaloacetate + glutamate [GOT1]'}, {'reaction_id': 'R-MMU-73815', 'reaction_name': '5-phospho-alpha-D-ribose 1-diphosphate (PRPP) + H2O + L-glutamine <=> 5-phosphoribosylamine + L-glutamate +pyrophosphate'}, {'reaction_id': 'R-MMU-73812', 'reaction_name': 'FGAR + L-Glutamine + ATP + H2O => FGAM + L-Glutamate + ADP + Pi'}, {'reaction_id': 'R-MMU-749456', 'reaction_name': 'Liganded Gi-activating GPCRs bind inactive heterotrimeric G-protein Gi'}, {'reaction_id': 'R-MMU-380073', 'reaction_name': 'Liganded Gi-activating GPCR acts as a GEF for Gi'}, {'reaction_id': 'R-MMU-749454', 'reaction_name': 'The Ligand:GPCR:Gi complex dissociates'}, {'reaction_id': 'R-MMU-373075', 'reaction_name': 'Metabotropic glutamate receptors bind glutamate'}, {'reaction_id': 'R-MMU-749448', 'reaction_name': 'Liganded Gq-activating GPCRs bind inactive heterotrimeric Gq'}, {'reaction_id': 'R-MMU-379048', 'reaction_name': 'Liganded Gq/11-activating GPCRs act as GEFs for Gq/11'}, {'reaction_id': 'R-MMU-749452', 'reaction_name': 'The Ligand:GPCR:Gq complex dissociates'}, {'reaction_id': 'R-MMU-5672965', 'reaction_name': 'RAS GEFs promote RAS nucleotide exchange'}, {'reaction_id': 'R-MMU-73792', 'reaction_name': 'XMP + L-Glutamine + ATP + H2O => GMP + L-Glutamate + AMP + pyrophosphate'}, {'reaction_id': 'R-MMU-3928645', 'reaction_name': 'EPHB:NMDAR binds TIAM1'}, {'reaction_id': 'R-MMU-3928627', 'reaction_name': 'EPHB phosphorylates TIAM1'}, {'reaction_id': 'R-MMU-4093336', 'reaction_name': 'p-TIAM1 exchanges GTP for GDP on RAC1, activating it'}, {'reaction_id': 'R-MMU-449715', 'reaction_name': 'GFPT1,2 transfer an amino group from L-Gln to F6P to form GlcN6P'}, {'reaction_id': 'R-MMU-210439', 'reaction_name': 'glutamate uptake by astrocytes'}, {'reaction_id': 'R-MMU-70606', 'reaction_name': 'glutamate + NH4+ + ATP => glutamine + ADP + orthophosphate [GLUL]'}, {'reaction_id': 'R-MMU-70609', 'reaction_name': 'glutamine + H2O => glutamate + NH4+ [GLS]'}, {'reaction_id': 'R-MMU-197271', 'reaction_name': 'NADSYN1 hexamer amidates NAAD to NAD+'}, {'reaction_id': 'R-MMU-197958', 'reaction_name': 'Conversion of cytosolic THF to THF-polyglutamate'}, {'reaction_id': 'R-MMU-200681', 'reaction_name': 'Conversion of cytosolic 5-methyltetrahydrofolate (5-methylTHF) to 5-methylTHF-polyglutamate'}, {'reaction_id': 'R-MMU-200682', 'reaction_name': 'Conversion of mitochondrial THF to THF-polyglutamate'}, {'reaction_id': 'R-MMU-444705', 'reaction_name': 'T1R1/T1R3 dimer is the umami taste receptor'}, {'reaction_id': 'R-MMU-8943279', 'reaction_name': 'GGT dimers hydrolyse GSH'}, {'reaction_id': 'R-MMU-174367', 'reaction_name': 'GCL ligates L-Glu to L-Cys'}, {'reaction_id': 'R-MMU-1247935', 'reaction_name': 'OPLAH hydrolyses OPRO to L-Glu'}, {'reaction_id': 'R-MMU-5433072', 'reaction_name': 'GGTs hydrolyse glutamate from AFXBO-SG, AFNBO-SG'}, {'reaction_id': 'R-MMU-5693783', 'reaction_name': 'NAALADases hydrolyse NAAG'}, {'reaction_id': 'R-MMU-70599', 'reaction_name': 'aspartate + glutamine + ATP <=> asparagine + glutamate + AMP + pyrophosphate [ASNS]'}, {'reaction_id': 'R-MMU-70666', 'reaction_name': 'glutamate + L-glutamate gamma-semialdehyde <=> ornithine + alpha-ketoglutarate [OAT]'}, {'reaction_id': 'R-MMU-70542', 'reaction_name': 'glutamate + acetyl CoA => N-acetyl glutamate + CoA'}, {'reaction_id': 'R-MMU-70654', 'reaction_name': 'ornithine + alpha-ketoglutarate <=> glutamate + L-glutamate gamma-semialdehyde [OAT]'}, {'reaction_id': 'R-MMU-508040', 'reaction_name': 'glutamate + ATP + NADPH + H+ => L-glutamate gamma-semialdehyde + NADP+ + ADP + orthophosphate [P5CS]'}, {'reaction_id': 'R-MMU-70589', 'reaction_name': 'alpha-ketoglutarate + NH4+ + NAD(P)H + H+ <=> glutamate + NAD(P)+ [GLUD1]'}, {'reaction_id': 'R-MMU-70600', 'reaction_name': 'glutamate + NAD(P)+ => alpha-ketoglutarate + NH4+ + NAD(P)H + H+ [GLUD1]'}, {'reaction_id': 'R-MMU-977333', 'reaction_name': '3-phosphonooxypyruvic acid + L-glutamate = O-phospho-L-serine + 2-oxoglutarate'}, {'reaction_id': 'R-MMU-507775', 'reaction_name': 'alanine + alpha-ketoglutarate <=> pyruvate + glutamate [GPT2]'}, {'reaction_id': 'R-MMU-507749', 'reaction_name': 'pyruvate + glutamate <=> alanine + alpha-ketoglutarate [GPT2]'}, {'reaction_id': 'R-MMU-8942575', 'reaction_name': 'N-acetylaspartylglutamate synthase A ligates NAA, L-Glu forming NAAG'}, {'reaction_id': 'R-MMU-70679', 'reaction_name': 'ALDH4A1 oxidises L-GluSS to Glu'}, {'reaction_id': 'R-MMU-70920', 'reaction_name': 'N-formiminoglutamate + tetrahydrofolate => glutamate + 5-formiminotetrahydrofolate'}, {'reaction_id': 'R-MMU-508561', 'reaction_name': 'alpha-ketoadipate + glutamate <=> alpha-aminoadipate + alpha-ketoglutarate'}, {'reaction_id': 'R-MMU-70940', 'reaction_name': 'saccharopine + NAD+ + H2O => alpha-aminoadipic semialdehyde + glutamate + NADH + H+'}, {'reaction_id': 'R-MMU-70952', 'reaction_name': 'alpha-aminoadipate + alpha-ketoglutarate <=> alpha-ketoadipate + glutamate'}, {'reaction_id': 'R-MMU-893583', 'reaction_name': 'kynurenine + 2-oxoglutarate => 4-(2-aminophenyl)-2,4-dioxobutanoic acid + glutamate'}, {'reaction_id': 'R-MMU-517444', 'reaction_name': 'p-hydroxyphenylpyruvate + glutamate <=> tyrosine + alpha-ketoglutarate'}, {'reaction_id': 'R-MMU-71155', 'reaction_name': 'tyrosine + alpha-ketoglutarate <=> p-hydroxyphenylpyruvate + glutamate'}, {'reaction_id': 'R-MMU-508189', 'reaction_name': 'a-ketoisocaproate, a-keto-b-methylvalerate, or a-ketoisovalerate + glutamate <=> leu, ile, or val + alpha-ketoglutarate [BCAT1]'}, {'reaction_id': 'R-MMU-70723', 'reaction_name': 'leu, ile, or val + alpha-ketoglutarate <=> a-ketoisocaproate, a-keto-b-methylvalerate, or a-ketoisovalerate + glutamate [BCAT1]'}, {'reaction_id': 'R-MMU-372448', 'reaction_name': 'SLC25A12,13 exchange cytosolic L-Glu for mitochondrial matrix L-Asp'}, {'reaction_id': 'R-MMU-378513', 'reaction_name': 'SLC7A11-mediated exchange of extracellular cysteine and cytosolic glutamate'}, {'reaction_id': 'R-MMU-8875623', 'reaction_name': 'SLC25A18,A22 cotransport Glu, H+ from cytosol to mitochondrial matrix'}, {'reaction_id': 'R-MMU-428052', 'reaction_name': 'SLC17A6,7,8 exchange cytosolic L-Glu for synaptic vesicle H+'}, {'reaction_id': 'R-MMU-428015', 'reaction_name': 'SLC1A1,2,3,6,7 cotransport L-Glu,L-Asp,D-Asp,H+,3Na+ from extracellular region to cytosol'}, {'reaction_id': 'R-MMU-210404', 'reaction_name': 'SLC1A1-3,6,7 exchange L-Glu, H+ and 3Na+ for K+'}, {'reaction_id': 'R-MMU-210444', 'reaction_name': 'L-Glutamate loading of synaptic vesicle'}, {'reaction_id': 'R-MMU-210426', 'reaction_name': 'Glutamate synaptic vesicle docking and priming'}, {'reaction_id': 'R-MMU-210430', 'reaction_name': 'release of L-Glutamate at the synapse'}, {'reaction_id': 'R-MMU-916855', 'reaction_name': 'Conversion of GABA to Succinate Semialdehyde'}, {'reaction_id': 'R-MMU-888572', 'reaction_name': 'Synthesis of GABA by GAD1'}, {'reaction_id': 'R-MMU-888577', 'reaction_name': 'Synthesis of GABA by GAD2'}, {'reaction_id': 'R-MMU-442732', 'reaction_name': 'Ras activation'}, {'reaction_id': 'R-MMU-445367', 'reaction_name': 'CaMKII enters cytoplasm'}, {'reaction_id': 'R-MMU-432172', 'reaction_name': 'Activation of NMDA receptor'}, {'reaction_id': 'R-MMU-432164', 'reaction_name': 'Ca2+ influx into the post-synaptic cell'}, {'reaction_id': 'R-MMU-500708', 'reaction_name': 'GRIK3 homomer binds glutamate'}, {'reaction_id': 'R-MMU-500717', 'reaction_name': 'Activation of GRIK3 homomer'}, {'reaction_id': 'R-MMU-451283', 'reaction_name': 'kainate receptor binds glutamate'}, {'reaction_id': 'R-MMU-451311', 'reaction_name': 'Activation of Ca-permeable Kainate receptors'}, {'reaction_id': 'R-MMU-451309', 'reaction_name': 'Edited Kainate Receptor binds glutamate'}, {'reaction_id': 'R-MMU-451310', 'reaction_name': 'Activation of Edited Kainate receptors'}, {'reaction_id': 'R-MMU-420980', 'reaction_name': 'Activation of Ca permeable AMPA receptors'}, {'reaction_id': 'R-MMU-420977', 'reaction_name': 'Ca permeable AMPA receptor ligand binding'}, {'reaction_id': 'R-MMU-399712', 'reaction_name': 'Activation of Ca permeable AMPA receptors'}, {'reaction_id': 'R-MMU-420975', 'reaction_name': 'Ca impermeable AMPA receptor ligand binding'}, {'reaction_id': 'R-MMU-399711', 'reaction_name': 'Activation of Ca impermeable AMPA receptors'}, {'reaction_id': 'R-MMU-266046', 'reaction_name': 'GGT1, 5 dimers hydrolyse LTC4 to LTD4'}, {'reaction_id': 'R-MMU-73577', 'reaction_name': 'L-glutamine + 2 ATP + HCO3- + H2O => carbamoyl phosphate + L-glutamate + 2 ADP + orthophosphate'}, {'reaction_id': 'R-MMU-73647', 'reaction_name': 'UTP + glutamine + ATP + H2O => CTP + glutamate + ADP + orthophosphate [CTPS]'}, {'reaction_id': 'R-MMU-504054', 'reaction_name': 'UTP + glutamine + ATP + H2O => CTP + glutamate + ADP + orthophosphate [CTPS2]'}, {'reaction_id': 'R-MMU-8865774', 'reaction_name': 'TTLLs polyglutamylate tubulin'}, {'reaction_id': 'R-MMU-8849878', 'reaction_name': 'PSD-95 binds NMDA receptor'}, {'reaction_id': 'R-MMU-8849906', 'reaction_name': 'SALM1 binds NMDA receptor'}, {'reaction_id': 'R-MMU-8849881', 'reaction_name': 'SALM2 associate with AMPA and NMDA receptors'}], 'C00183': [{'reaction_id': 'R-MMU-508179', 'reaction_name': 'a-ketoisocaproate, a-keto-b-methylvalerate, or a-ketoisovalerate + glutamate <=> leu, ile, or val + alpha-ketoglutarate [BCAT2]'}, {'reaction_id': 'R-MMU-70724', 'reaction_name': 'leu, ile, or val + alpha-ketoglutarate <=> a-ketoisocaproate, a-keto-b-methylvalerate, or a-ketoisovalerate + glutamate [BCAT2]'}, {'reaction_id': 'R-MMU-352232', 'reaction_name': 'SLC7A5:SLC3A2 transports neutral amino acids from extracellular region to cytosol'}, {'reaction_id': 'R-MMU-6784959', 'reaction_name': 'BPHL hydrolyses VACV to ACV'}, {'reaction_id': 'R-MMU-508189', 'reaction_name': 'a-ketoisocaproate, a-keto-b-methylvalerate, or a-ketoisovalerate + glutamate <=> leu, ile, or val + alpha-ketoglutarate [BCAT1]'}, {'reaction_id': 'R-MMU-70723', 'reaction_name': 'leu, ile, or val + alpha-ketoglutarate <=> a-ketoisocaproate, a-keto-b-methylvalerate, or a-ketoisovalerate + glutamate [BCAT1]'}, {'reaction_id': 'R-MMU-375473', 'reaction_name': 'SLC6A19 cotransports neutral amino acids, Na+ from extracellular region to cytosol'}, {'reaction_id': 'R-MMU-352103', 'reaction_name': 'SLC43A1 (LAT3)-mediated uptake of large neutral amino acids'}, {'reaction_id': 'R-MMU-352107', 'reaction_name': 'SLC43A2 (LAT4)-mediated uptake of large neutral amino acids'}, {'reaction_id': 'R-MMU-352191', 'reaction_name': 'SLC7A8-mediated uptake of neutral amino acids'}, {'reaction_id': 'R-MMU-375487', 'reaction_name': 'SLC6A14 cotransports SLC6A14 ligands, Cl-, 2Na+ from extracellular region to cytosol'}, {'reaction_id': 'R-MMU-352059', 'reaction_name': 'SLC6A15-mediated amino acid uptake'}], 'C00123': [{'reaction_id': 'R-MMU-508179', 'reaction_name': 'a-ketoisocaproate, a-keto-b-methylvalerate, or a-ketoisovalerate + glutamate <=> leu, ile, or val + alpha-ketoglutarate [BCAT2]'}, {'reaction_id': 'R-MMU-70724', 'reaction_name': 'leu, ile, or val + alpha-ketoglutarate <=> a-ketoisocaproate, a-keto-b-methylvalerate, or a-ketoisovalerate + glutamate [BCAT2]'}, {'reaction_id': 'R-MMU-352232', 'reaction_name': 'SLC7A5:SLC3A2 transports neutral amino acids from extracellular region to cytosol'}, {'reaction_id': 'R-MMU-508189', 'reaction_name': 'a-ketoisocaproate, a-keto-b-methylvalerate, or a-ketoisovalerate + glutamate <=> leu, ile, or val + alpha-ketoglutarate [BCAT1]'}, {'reaction_id': 'R-MMU-70723', 'reaction_name': 'leu, ile, or val + alpha-ketoglutarate <=> a-ketoisocaproate, a-keto-b-methylvalerate, or a-ketoisovalerate + glutamate [BCAT1]'}, {'reaction_id': 'R-MMU-375473', 'reaction_name': 'SLC6A19 cotransports neutral amino acids, Na+ from extracellular region to cytosol'}, {'reaction_id': 'R-MMU-379415', 'reaction_name': 'SLC7A7:SLC3A2 exchanges L-Arg for L-Leu, Na+ across the plasma membrane'}, {'reaction_id': 'R-MMU-352103', 'reaction_name': 'SLC43A1 (LAT3)-mediated uptake of large neutral amino acids'}, {'reaction_id': 'R-MMU-379426', 'reaction_name': 'SLC7A6 (y+LAT2)-mediated exchange of extracellular leucine for cytosolic arginine'}, {'reaction_id': 'R-MMU-352108', 'reaction_name': 'SLC38A2 (ATA2)-mediated uptake of neutral amino acids'}, {'reaction_id': 'R-MMU-379432', 'reaction_name': 'SLC7A9:SLC3A1 exchanges L-Arg, CySS-, L-Lys for L-Leu'}, {'reaction_id': 'R-MMU-352107', 'reaction_name': 'SLC43A2 (LAT4)-mediated uptake of large neutral amino acids'}, {'reaction_id': 'R-MMU-352191', 'reaction_name': 'SLC7A8-mediated uptake of neutral amino acids'}, {'reaction_id': 'R-MMU-375487', 'reaction_name': 'SLC6A14 cotransports SLC6A14 ligands, Cl-, 2Na+ from extracellular region to cytosol'}, {'reaction_id': 'R-MMU-352059', 'reaction_name': 'SLC6A15-mediated amino acid uptake'}], 'C00026': [{'reaction_id': 'R-MMU-508179', 'reaction_name': 'a-ketoisocaproate, a-keto-b-methylvalerate, or a-ketoisovalerate + glutamate <=> leu, ile, or val + alpha-ketoglutarate [BCAT2]'}, {'reaction_id': 'R-MMU-70724', 'reaction_name': 'leu, ile, or val + alpha-ketoglutarate <=> a-ketoisocaproate, a-keto-b-methylvalerate, or a-ketoisovalerate + glutamate [BCAT2]'}, {'reaction_id': 'R-MMU-71401', 'reaction_name': 'alpha-ketoglutarate + CoASH + NAD+ => succinyl-CoA + CO2 + NADH + H+'}, {'reaction_id': 'R-MMU-70967', 'reaction_name': 'isocitrate + NAD+ => alpha-ketoglutarate + CO2 + NADH + H+ [IDH3]'}, {'reaction_id': 'R-MMU-450984', 'reaction_name': 'isocitrate + NADP+ => alpha-ketoglutarate + CO2 + NADPH + H+ [IDH2]'}, {'reaction_id': 'R-MMU-372480', 'reaction_name': '2-oxoglutarate [mitochondrial matrix] + 2-oxoadipate [cytosol] <=> 2-oxoglutarate [cytosol] + 2-oxoadipate [mitochondrial matrix]'}, {'reaction_id': 'R-MMU-70524', 'reaction_name': 'pyruvate + glutamate <=> alanine + alpha-ketoglutarate [GPT]'}, {'reaction_id': 'R-MMU-70523', 'reaction_name': 'alanine + alpha-ketoglutarate <=> pyruvate + glutamate [GPT]'}, {'reaction_id': 'R-MMU-70581', 'reaction_name': 'oxaloacetate + glutamate <=> aspartate + alpha-ketoglutarate [GOT1]'}, {'reaction_id': 'R-MMU-70592', 'reaction_name': 'aspartate + alpha-ketoglutarate <=> oxaloacetate + glutamate [GOT1]'}, {'reaction_id': 'R-MMU-376851', 'reaction_name': 'Exchange of alpha-ketoglutarate (2-oxoglutarate) and malate across the inner mitochondrial membrane'}, {'reaction_id': 'R-MMU-198440', 'reaction_name': 'malate [mitochondrial matrix] + alpha-ketoglutarate [cytosol] <=> malate [cytosol] + alpha-ketoglutarate [mitochondrial matrix]'}, {'reaction_id': 'R-MMU-880007', 'reaction_name': '(R)-2-hydroxyglutarate + FAD => 2-oxoglutarate + FADH2'}, {'reaction_id': 'R-MMU-880002', 'reaction_name': '(R)-2-hydroxyglutarate + succinate semialdehyde <=> 2-oxoglutarate + 4-hydroxybutyrate'}, {'reaction_id': 'R-MMU-880033', 'reaction_name': '2-oxoglutarate + 4-hydroxybutyrate <=> (R)-2-hydroxyglutarate + succinate semialdehyde'}, {'reaction_id': 'R-MMU-880050', 'reaction_name': '(S)-2-hydroxyglutarate + FAD => 2-oxoglutarate + FADH2'}, {'reaction_id': 'R-MMU-964773', 'reaction_name': 'OXGR1 binds 2OG'}, {'reaction_id': 'R-MMU-749456', 'reaction_name': 'Liganded Gi-activating GPCRs bind inactive heterotrimeric G-protein Gi'}, {'reaction_id': 'R-MMU-380073', 'reaction_name': 'Liganded Gi-activating GPCR acts as a GEF for Gi'}, {'reaction_id': 'R-MMU-749454', 'reaction_name': 'The Ligand:GPCR:Gi complex dissociates'}, {'reaction_id': 'R-MMU-3222593', 'reaction_name': 'KDM6B demethylates H3K27me3 on p16-INK4A promoter'}, {'reaction_id': 'R-MMU-2172678', 'reaction_name': 'PHF8 demethylates histone H4K20me1'}, {'reaction_id': 'R-MMU-1234164', 'reaction_name': 'Cytosolic hydroxylation of asparagine residue in HIF alpha'}, {'reaction_id': 'R-MMU-1234177', 'reaction_name': 'Cytosolic PHD2,3 hydroxylates proline residues on HIF1A'}, {'reaction_id': 'R-MMU-1234173', 'reaction_name': 'Cytosolic PHD2,3 hydroxylates proline residues on HIF3A'}, {'reaction_id': 'R-MMU-1234181', 'reaction_name': 'Nuclear PHD1,3 hydroxylates proline residues on HIF1A'}, {'reaction_id': 'R-MMU-1234165', 'reaction_name': 'Nuclear PHD1,3 hydroxylates proline residues on HIF3A'}, {'reaction_id': 'R-MMU-4754187', 'reaction_name': 'KDM6A, KDM6B, KDM7A demethylate Me2K28-histone H3'}, {'reaction_id': 'R-MMU-4754176', 'reaction_name': 'JMJD6 demethylates MeR3-histone H3'}, {'reaction_id': 'R-MMU-5661116', 'reaction_name': 'KDM5A-D demethylate Me3K5-histone H3'}, {'reaction_id': 'R-MMU-5661114', 'reaction_name': 'KDM2A, KDM2B, KDM4A, KDM8 demethylate Me2K37-histone H3'}, {'reaction_id': 'R-MMU-5661115', 'reaction_name': 'KDM3A, KDM3B, KDM7A, PHF2:ARID5B, PHF8 demethylate Me2K10-histone H3'}, {'reaction_id': 'R-MMU-4754181', 'reaction_name': 'KDM5A-D demethylate Me2K5-histone H3'}, {'reaction_id': 'R-MMU-5661124', 'reaction_name': 'JMJD6 demethylates MeR4-HIST1H4'}, {'reaction_id': 'R-MMU-5661125', 'reaction_name': 'JMJD6 demethylates Me2sR4-HIST1H4'}, {'reaction_id': 'R-MMU-4724284', 'reaction_name': 'KDM3A, KDM3B, KDM7A, PHF2:ARID5B, PHF8 demethylate MeK10-histone H3'}, {'reaction_id': 'R-MMU-5661122', 'reaction_name': 'JMJD6 demethylates Me2R3-histone H3'}, {'reaction_id': 'R-MMU-5661120', 'reaction_name': 'KDM4A, KDM4B, KDM4C, KDM4D, MINA demethylate Me3K10-histone H3'}, {'reaction_id': 'R-MMU-5661121', 'reaction_name': 'KDM6A, KDM6B, KDM7A demethylate Me3K28-histone H3'}, {'reaction_id': 'R-MMU-4722133', 'reaction_name': 'KDM2A, KDM2B, KDM4A demethylate MeK37-histone H3'}, {'reaction_id': 'R-MMU-4724279', 'reaction_name': 'KDM4A, KDM4B, KDM4C, KDM4D demethylate Me2K10-histone H3'}, {'reaction_id': 'R-MMU-5423117', 'reaction_name': 'PHF8 demethylates MeK21-histone H4'}, {'reaction_id': 'R-MMU-70666', 'reaction_name': 'glutamate + L-glutamate gamma-semialdehyde <=> ornithine + alpha-ketoglutarate [OAT]'}, {'reaction_id': 'R-MMU-70654', 'reaction_name': 'ornithine + alpha-ketoglutarate <=> glutamate + L-glutamate gamma-semialdehyde [OAT]'}, {'reaction_id': 'R-MMU-70589', 'reaction_name': 'alpha-ketoglutarate + NH4+ + NAD(P)H + H+ <=> glutamate + NAD(P)+ [GLUD1]'}, {'reaction_id': 'R-MMU-70600', 'reaction_name': 'glutamate + NAD(P)+ => alpha-ketoglutarate + NH4+ + NAD(P)H + H+ [GLUD1]'}, {'reaction_id': 'R-MMU-977333', 'reaction_name': '3-phosphonooxypyruvic acid + L-glutamate = O-phospho-L-serine + 2-oxoglutarate'}, {'reaction_id': 'R-MMU-507775', 'reaction_name': 'alanine + alpha-ketoglutarate <=> pyruvate + glutamate [GPT2]'}, {'reaction_id': 'R-MMU-507749', 'reaction_name': 'pyruvate + glutamate <=> alanine + alpha-ketoglutarate [GPT2]'}, {'reaction_id': 'R-MMU-508561', 'reaction_name': 'alpha-ketoadipate + glutamate <=> alpha-aminoadipate + alpha-ketoglutarate'}, {'reaction_id': 'R-MMU-70938', 'reaction_name': 'lysine + alpha-ketoglutarate +NADPH + H+ => saccharopine + NADP+ + H2O'}, {'reaction_id': 'R-MMU-70952', 'reaction_name': 'alpha-aminoadipate + alpha-ketoglutarate <=> alpha-ketoadipate + glutamate'}, {'reaction_id': 'R-MMU-893583', 'reaction_name': 'kynurenine + 2-oxoglutarate => 4-(2-aminophenyl)-2,4-dioxobutanoic acid + glutamate'}, {'reaction_id': 'R-MMU-517444', 'reaction_name': 'p-hydroxyphenylpyruvate + glutamate <=> tyrosine + alpha-ketoglutarate'}, {'reaction_id': 'R-MMU-71155', 'reaction_name': 'tyrosine + alpha-ketoglutarate <=> p-hydroxyphenylpyruvate + glutamate'}, {'reaction_id': 'R-MMU-508189', 'reaction_name': 'a-ketoisocaproate, a-keto-b-methylvalerate, or a-ketoisovalerate + glutamate <=> leu, ile, or val + alpha-ketoglutarate [BCAT1]'}, {'reaction_id': 'R-MMU-70723', 'reaction_name': 'leu, ile, or val + alpha-ketoglutarate <=> a-ketoisocaproate, a-keto-b-methylvalerate, or a-ketoisovalerate + glutamate [BCAT1]'}, {'reaction_id': 'R-MMU-71241', 'reaction_name': 'TMLHE dimer dioxygenates TMLYS and 2OG to form HTMLYS and SUCCA'}, {'reaction_id': 'R-MMU-71261', 'reaction_name': 'BBOX1:Fe2+ dimer dioxygenates TEABT and 2OG to form CAR and SUCCA'}, {'reaction_id': 'R-MMU-561041', 'reaction_name': 'OAT1-3 transport organic anions with antiport of dicarboxylic acids'}, {'reaction_id': 'R-MMU-561059', 'reaction_name': 'OAT2 and OAT4 mediate transport of sulphate conjugates'}, {'reaction_id': 'R-MMU-916855', 'reaction_name': 'Conversion of GABA to Succinate Semialdehyde'}, {'reaction_id': 'R-MMU-8857692', 'reaction_name': 'RNA demethylases demethylate N6-methyladenosine RNA'}, {'reaction_id': 'R-MMU-1981104', 'reaction_name': 'Procollagen lysyl hydroxylases convert collagen lysines to 5-hydroxylysines'}, {'reaction_id': 'R-MMU-1650808', 'reaction_name': 'Prolyl 4-hydroxylase converts collagen prolines to 4-hydroxyprolines'}, {'reaction_id': 'R-MMU-1980233', 'reaction_name': 'Collagen prolyl 3-hydroxylase converts 4-Hyp collagen to 3,4-Hyp collagen'}, {'reaction_id': 'R-MMU-5220931', 'reaction_name': 'Tet1,2,3 oxidizes 5-hydroxymethylcytosine to 5-formylcytosine'}, {'reaction_id': 'R-MMU-5220944', 'reaction_name': 'Tet1,2,3 oxidizes 5-methylcytosine to 5-hydroxymethylcytosine'}, {'reaction_id': 'R-MMU-5220936', 'reaction_name': 'Tet1,2,3 oxidizes 5-formylcytosine to 5-carboxylcytosine'}, {'reaction_id': 'R-MMU-389550', 'reaction_name': 'isocitrate + NADP+ => 2-oxoglutarate + CO2 + NADPH + H+'}, {'reaction_id': 'R-MMU-389639', 'reaction_name': 'phytanoyl-CoA + 2-oxoglutarate + O2 => 2-hydroxyphytanoyl-CoA + succinate + CO2'}, {'reaction_id': 'R-MMU-389540', 'reaction_name': 'isocitrate + NADP+ => 2-oxoglutarate + CO2 + NADPH + H+'}, {'reaction_id': 'R-MMU-5625797', 'reaction_name': 'KDM4C demethylates Me3K-10-H3 associated with KLK2 and KLK3 promoters'}, {'reaction_id': 'R-MMU-5625848', 'reaction_name': 'KDM1A demethylates dimethylated H3K9 (Me2K-10-H3) at KLK2 and KLK3 promoters'}, {'reaction_id': 'R-MMU-5625870', 'reaction_name': 'KDM1A demethylates monomethylated H3K9 (MeK-10-H3) at KLK2 and KLK3 promoters'}], 'C00041': [{'reaction_id': 'R-MMU-70524', 'reaction_name': 'pyruvate + glutamate <=> alanine + alpha-ketoglutarate [GPT]'}, {'reaction_id': 'R-MMU-70523', 'reaction_name': 'alanine + alpha-ketoglutarate <=> pyruvate + glutamate [GPT]'}, {'reaction_id': 'R-MMU-947514', 'reaction_name': 'NFS1 transfers sulfur from cysteine onto MOCS3'}, {'reaction_id': 'R-MMU-947499', 'reaction_name': 'Exchange of oxygen with sulfur in MoCo'}, {'reaction_id': 'R-MMU-71217', 'reaction_name': '3-hydroxykynurenine + H2O => 3-hydroxyanthranilate + alanine'}, {'reaction_id': 'R-MMU-209840', 'reaction_name': 'Two DITs combine to form thyroxine'}, {'reaction_id': 'R-MMU-209925', 'reaction_name': 'DIT and MIT combine to form triiodothyronine'}, {'reaction_id': 'R-MMU-507775', 'reaction_name': 'alanine + alpha-ketoglutarate <=> pyruvate + glutamate [GPT2]'}, {'reaction_id': 'R-MMU-507749', 'reaction_name': 'pyruvate + glutamate <=> alanine + alpha-ketoglutarate [GPT2]'}, {'reaction_id': 'R-MMU-893616', 'reaction_name': 'glutamine + pyruvate => 2-oxoglutaramate + alanine'}, {'reaction_id': 'R-MMU-893596', 'reaction_name': 'PXLP-KYAT1 dimer transaminates L-KYN to AP-DOBu'}, {'reaction_id': 'R-MMU-893593', 'reaction_name': 'phenylalanine + pyruvate => 3-(indol-3-yl)pyruvate + alanine'}, {'reaction_id': 'R-MMU-904864', 'reaction_name': 'Mitochondrial AGXT2 tetramer transaminates glyoxylate and alanine to glycine and pyruvate'}, {'reaction_id': 'R-MMU-2408524', 'reaction_name': 'Sec is reduced to H2Se by SCLY'}, {'reaction_id': 'R-MMU-375473', 'reaction_name': 'SLC6A19 cotransports neutral amino acids, Na+ from extracellular region to cytosol'}, {'reaction_id': 'R-MMU-352379', 'reaction_name': 'SLC1A5-mediated exchange of alanine and glutamine across the plasma membrane'}, {'reaction_id': 'R-MMU-352385', 'reaction_name': 'SLC1A5-mediated exchange of glutamine and alanine across the plasma membrane'}, {'reaction_id': 'R-MMU-376200', 'reaction_name': 'SLC7A10-mediated uptake of small neutral amino acids'}, {'reaction_id': 'R-MMU-352347', 'reaction_name': 'SLC1A4-mediated exchange of extracellular serine for cytosolic alanine, threonine, or cysteine'}, {'reaction_id': 'R-MMU-352354', 'reaction_name': 'SLC1A4-mediated exchange of extracellular cysteine for cytosolic alanine, serine, or threonine'}, {'reaction_id': 'R-MMU-352108', 'reaction_name': 'SLC38A2 (ATA2)-mediated uptake of neutral amino acids'}, {'reaction_id': 'R-MMU-352364', 'reaction_name': 'SLC1A4-mediated exchange of extracellular alanine for cytosolic serine, threonine, or cysteine'}, {'reaction_id': 'R-MMU-352174', 'reaction_name': 'SLC38A3-mediated uptake of glutamine, histidine, asparagine, and alanine'}, {'reaction_id': 'R-MMU-352119', 'reaction_name': 'SLC38A1 (ATA1)-mediated uptake of neutral amino acids'}, {'reaction_id': 'R-MMU-352182', 'reaction_name': 'SLC38A5-mediated uptake of glutamine, histidine, asparagine, and serine'}, {'reaction_id': 'R-MMU-352371', 'reaction_name': 'SLC1A4-mediated exchange of extracellular threonine for cytosolic alanine, serine, or cysteine'}, {'reaction_id': 'R-MMU-352191', 'reaction_name': 'SLC7A8-mediated uptake of neutral amino acids'}, {'reaction_id': 'R-MMU-375487', 'reaction_name': 'SLC6A14 cotransports SLC6A14 ligands, Cl-, 2Na+ from extracellular region to cytosol'}, {'reaction_id': 'R-MMU-375417', 'reaction_name': 'SLC36A1-mediated uptake of glycine, proline, and alanine'}, {'reaction_id': 'R-MMU-352059', 'reaction_name': 'SLC6A15-mediated amino acid uptake'}, {'reaction_id': 'R-MMU-1362408', 'reaction_name': 'FXN:NFS1:ISD11:ISCU assembles 2Fe-2S iron-sulfur cluster'}], 'C00049': [{'reaction_id': 'R-MMU-70581', 'reaction_name': 'oxaloacetate + glutamate <=> aspartate + alpha-ketoglutarate [GOT1]'}, {'reaction_id': 'R-MMU-70592', 'reaction_name': 'aspartate + alpha-ketoglutarate <=> oxaloacetate + glutamate [GOT1]'}, {'reaction_id': 'R-MMU-73805', 'reaction_name': 'CAIR + Aspartate + ATP => SAICAR + ADP + Pi'}, {'reaction_id': 'R-MMU-111524', 'reaction_name': 'IMP + L-Aspartate + GTP => Adenylosuccinate + GDP + Pi [ADSS]'}, {'reaction_id': 'R-MMU-1678854', 'reaction_name': 'Beta-glucuronidase (GUSB) hydrolyses glucuronate from the linker chain'}, {'reaction_id': 'R-MMU-70599', 'reaction_name': 'aspartate + glutamine + ATP <=> asparagine + glutamate + AMP + pyrophosphate [ASNS]'}, {'reaction_id': 'R-MMU-70577', 'reaction_name': 'ASS1 tetramer:NMRAL1 dimer:NADPH transforms L-Asp and L-Cit to ARSUA'}, {'reaction_id': 'R-MMU-6787757', 'reaction_name': 'GADL1 decarboxylates acidic AAs'}, {'reaction_id': 'R-MMU-8954468', 'reaction_name': 'NAT8L transfers acetyl group from Ac-CoA to L-Asp, forming NAA'}, {'reaction_id': 'R-MMU-6797627', 'reaction_name': 'ASPG hydrolyses L-Asn to L-Asp'}, {'reaction_id': 'R-MMU-5691507', 'reaction_name': 'ASPA deacetylates NAA to acetate and L-aspartate'}, {'reaction_id': 'R-MMU-5696365', 'reaction_name': 'ASRGL1 hydrolyses aspartame to L-Asp, L-Phe'}, {'reaction_id': 'R-MMU-372448', 'reaction_name': 'SLC25A12,13 exchange cytosolic L-Glu for mitochondrial matrix L-Asp'}, {'reaction_id': 'R-MMU-428015', 'reaction_name': 'SLC1A1,2,3,6,7 cotransport L-Glu,L-Asp,D-Asp,H+,3Na+ from extracellular region to cytosol'}, {'reaction_id': 'R-MMU-73573', 'reaction_name': 'carbamoyl phosphate + L-aspartate <=> N-carbamoyl L-aspartate + orthophosphate'}, {'reaction_id': 'R-MMU-111519', 'reaction_name': \"inosine 5'-monophosphate + L-aspartate + GTP => adenylosuccinate + guanosine  5'-diphosphate + orthophosphate\"}], 'C00064': [{'reaction_id': 'R-MMU-73815', 'reaction_name': '5-phospho-alpha-D-ribose 1-diphosphate (PRPP) + H2O + L-glutamine <=> 5-phosphoribosylamine + L-glutamate +pyrophosphate'}, {'reaction_id': 'R-MMU-73812', 'reaction_name': 'FGAR + L-Glutamine + ATP + H2O => FGAM + L-Glutamate + ADP + Pi'}, {'reaction_id': 'R-MMU-73792', 'reaction_name': 'XMP + L-Glutamine + ATP + H2O => GMP + L-Glutamate + AMP + pyrophosphate'}, {'reaction_id': 'R-MMU-449715', 'reaction_name': 'GFPT1,2 transfer an amino group from L-Gln to F6P to form GlcN6P'}, {'reaction_id': 'R-MMU-70606', 'reaction_name': 'glutamate + NH4+ + ATP => glutamine + ADP + orthophosphate [GLUL]'}, {'reaction_id': 'R-MMU-212614', 'reaction_name': 'Glutamine transport from astrocytes'}, {'reaction_id': 'R-MMU-70609', 'reaction_name': 'glutamine + H2O => glutamate + NH4+ [GLS]'}, {'reaction_id': 'R-MMU-212642', 'reaction_name': 'L-Glutamine transport into neurons'}, {'reaction_id': 'R-MMU-197271', 'reaction_name': 'NADSYN1 hexamer amidates NAAD to NAD+'}, {'reaction_id': 'R-MMU-70599', 'reaction_name': 'aspartate + glutamine + ATP <=> asparagine + glutamate + AMP + pyrophosphate [ASNS]'}, {'reaction_id': 'R-MMU-893616', 'reaction_name': 'glutamine + pyruvate => 2-oxoglutaramate + alanine'}, {'reaction_id': 'R-MMU-375473', 'reaction_name': 'SLC6A19 cotransports neutral amino acids, Na+ from extracellular region to cytosol'}, {'reaction_id': 'R-MMU-352379', 'reaction_name': 'SLC1A5-mediated exchange of alanine and glutamine across the plasma membrane'}, {'reaction_id': 'R-MMU-352385', 'reaction_name': 'SLC1A5-mediated exchange of glutamine and alanine across the plasma membrane'}, {'reaction_id': 'R-MMU-352108', 'reaction_name': 'SLC38A2 (ATA2)-mediated uptake of neutral amino acids'}, {'reaction_id': 'R-MMU-352174', 'reaction_name': 'SLC38A3-mediated uptake of glutamine, histidine, asparagine, and alanine'}, {'reaction_id': 'R-MMU-352119', 'reaction_name': 'SLC38A1 (ATA1)-mediated uptake of neutral amino acids'}, {'reaction_id': 'R-MMU-352182', 'reaction_name': 'SLC38A5-mediated uptake of glutamine, histidine, asparagine, and serine'}, {'reaction_id': 'R-MMU-352191', 'reaction_name': 'SLC7A8-mediated uptake of neutral amino acids'}, {'reaction_id': 'R-MMU-352059', 'reaction_name': 'SLC6A15-mediated amino acid uptake'}, {'reaction_id': 'R-MMU-73577', 'reaction_name': 'L-glutamine + 2 ATP + HCO3- + H2O => carbamoyl phosphate + L-glutamate + 2 ADP + orthophosphate'}, {'reaction_id': 'R-MMU-73647', 'reaction_name': 'UTP + glutamine + ATP + H2O => CTP + glutamate + ADP + orthophosphate [CTPS]'}, {'reaction_id': 'R-MMU-504054', 'reaction_name': 'UTP + glutamine + ATP + H2O => CTP + glutamate + ADP + orthophosphate [CTPS2]'}], 'C00037': [{'reaction_id': 'R-MMU-73814', 'reaction_name': '5-Phosphoribosylamine + Glycine + ATP => GAR + ADP + Pi'}, {'reaction_id': 'R-MMU-5672965', 'reaction_name': 'RAS GEFs promote RAS nucleotide exchange'}, {'reaction_id': 'R-MMU-389684', 'reaction_name': 'glyoxylate + alanine => glycine + pyruvate [peroxisome]'}, {'reaction_id': 'R-MMU-389821', 'reaction_name': 'glycine + O2 => glyoxylate + H2O2 + NH4+'}, {'reaction_id': 'R-MMU-3928645', 'reaction_name': 'EPHB:NMDAR binds TIAM1'}, {'reaction_id': 'R-MMU-3928627', 'reaction_name': 'EPHB phosphorylates TIAM1'}, {'reaction_id': 'R-MMU-4093336', 'reaction_name': 'p-TIAM1 exchanges GTP for GDP on RAC1, activating it'}, {'reaction_id': 'R-MMU-200651', 'reaction_name': '5,10-methyleneTHF polyglutamate + glycine <=> tetrahydrofolate polyglutamate (THF polyglutamate) + serine'}, {'reaction_id': 'R-MMU-200735', 'reaction_name': 'Tetrahydrofolate polyglutamate (THF polyglutamate) + serine <=> 5,10-methyleneTHF polyglutamate + glycine'}, {'reaction_id': 'R-MMU-6797913', 'reaction_name': 'SARDH:FAD oxidatively demethylates SARC to Gly'}, {'reaction_id': 'R-MMU-5694137', 'reaction_name': 'SHMT2 tetramer transfers CH2OH group from 5,10MTHF to glycine'}, {'reaction_id': 'R-MMU-159574', 'reaction_name': 'salicylate-CoA + glycine => salicyluric acid + Coenzyme A'}, {'reaction_id': 'R-MMU-159566', 'reaction_name': 'benzoyl-CoA + glycine => benzoyl glycine (hippuric acid) + Coenzyme A'}, {'reaction_id': 'R-MMU-1247910', 'reaction_name': 'CNDP2:2Mn2+ dimer hydrolyses CysGly'}, {'reaction_id': 'R-MMU-174394', 'reaction_name': 'GSS:Mg2+ dimer synthesizes GSH'}, {'reaction_id': 'R-MMU-159431', 'reaction_name': 'Cytosolic chenodeoxycholoyl-CoA or choloyl-CoA are conjugated with glycine or taurine'}, {'reaction_id': 'R-MMU-193491', 'reaction_name': 'Chenodeoxycholoyl CoA reacts with glycine or taurine to form glycochenodeoxycholate or taurochenodeoxycholate'}, {'reaction_id': 'R-MMU-192312', 'reaction_name': 'Choloyl CoA reacts with glycine or taurine to form glycocholate or taurocholate'}, {'reaction_id': 'R-MMU-5433067', 'reaction_name': 'DPEPs hydrolyse glycine from AFXBO-CG, AFNBO-CG'}, {'reaction_id': 'R-MMU-71275', 'reaction_name': 'arginine + glycine => ornithine + guanidoacetate'}, {'reaction_id': 'R-MMU-6798317', 'reaction_name': 'GNMT tetramer transfers methyl group from AdoMet to Gly to form AdoHyc and SARC'}, {'reaction_id': 'R-MMU-904864', 'reaction_name': 'Mitochondrial AGXT2 tetramer transaminates glyoxylate and alanine to glycine and pyruvate'}, {'reaction_id': 'R-MMU-5693967', 'reaction_name': 'GLDC dimer:2xPXLP decarboxylates Gly'}, {'reaction_id': 'R-MMU-71249', 'reaction_name': 'SHMT1 tetramer cleaves HTMLYS to yield TEABL and Gly'}, {'reaction_id': 'R-MMU-375473', 'reaction_name': 'SLC6A19 cotransports neutral amino acids, Na+ from extracellular region to cytosol'}, {'reaction_id': 'R-MMU-376200', 'reaction_name': 'SLC7A10-mediated uptake of small neutral amino acids'}, {'reaction_id': 'R-MMU-351963', 'reaction_name': 'SLC6A18 transports Gly from extracellular region to cytosol'}, {'reaction_id': 'R-MMU-375405', 'reaction_name': 'SLC36A2 cotransports Gly, L-Pro with H+ from extracellular region to cytosol'}, {'reaction_id': 'R-MMU-352108', 'reaction_name': 'SLC38A2 (ATA2)-mediated uptake of neutral amino acids'}, {'reaction_id': 'R-MMU-352182', 'reaction_name': 'SLC38A5-mediated uptake of glutamine, histidine, asparagine, and serine'}, {'reaction_id': 'R-MMU-352191', 'reaction_name': 'SLC7A8-mediated uptake of neutral amino acids'}, {'reaction_id': 'R-MMU-375487', 'reaction_name': 'SLC6A14 cotransports SLC6A14 ligands, Cl-, 2Na+ from extracellular region to cytosol'}, {'reaction_id': 'R-MMU-375417', 'reaction_name': 'SLC36A1-mediated uptake of glycine, proline, and alanine'}, {'reaction_id': 'R-MMU-428625', 'reaction_name': 'Vesicular inhibitory amino acid transport'}, {'reaction_id': 'R-MMU-444120', 'reaction_name': 'SLC6A5,9 cotransport Gly, Cl-, Na+ from extracellular region to cytosol'}, {'reaction_id': 'R-MMU-442732', 'reaction_name': 'Ras activation'}, {'reaction_id': 'R-MMU-445367', 'reaction_name': 'CaMKII enters cytoplasm'}, {'reaction_id': 'R-MMU-432172', 'reaction_name': 'Activation of NMDA receptor'}, {'reaction_id': 'R-MMU-432164', 'reaction_name': 'Ca2+ influx into the post-synaptic cell'}, {'reaction_id': 'R-MMU-975389', 'reaction_name': 'GLRA:GLRB:Gly transports extracellular Cl- to cytosol'}, {'reaction_id': 'R-MMU-189442', 'reaction_name': 'ALAS condenses SUCC-CoA and Gly to form dALA'}, {'reaction_id': 'R-MMU-266012', 'reaction_name': 'LTD4 is converted to LTE4 by DPEP1/2'}, {'reaction_id': 'R-MMU-8867370', 'reaction_name': 'TTLL3, TTLL8, TTLL10 polyglycylate tubulin'}, {'reaction_id': 'R-MMU-8849878', 'reaction_name': 'PSD-95 binds NMDA receptor'}, {'reaction_id': 'R-MMU-8849906', 'reaction_name': 'SALM1 binds NMDA receptor'}, {'reaction_id': 'R-MMU-8849881', 'reaction_name': 'SALM2 associate with AMPA and NMDA receptors'}], 'C00051': [{'reaction_id': 'R-MMU-5694071', 'reaction_name': 'GLO1 dimer:2xZn2+ transforms MGXL and GSH to (R)-S-LGSH'}, {'reaction_id': 'R-MMU-6783221', 'reaction_name': 'HAGH hydrolyses (R)-S-LGSH to GSH and LACT'}, {'reaction_id': 'R-MMU-111746', 'reaction_name': 'glutaredoxin (oxidized) + glutathione (reduced) => glutaredoxin (reduced) + glutathione (oxidized)'}, {'reaction_id': 'R-MMU-198813', 'reaction_name': '2xGSTOs reduce DHvitC to VitC'}, {'reaction_id': 'R-MMU-71682', 'reaction_name': 'glutathione (oxidized) + NADPH + H+ => 2 glutathione (reduced) + NADP+'}, {'reaction_id': 'R-MMU-3341397', 'reaction_name': 'GPX3 catalyzes 2 glutathione, reduced + H2O2 => glutathione, oxidized + 2 H2O'}, {'reaction_id': 'R-MMU-3343700', 'reaction_name': 'PRDX6:GSTP1 catalyzes 2 glutathione, reduced + H2O2 => glutathione, oxidized + 2 H2O'}, {'reaction_id': 'R-MMU-6799695', 'reaction_name': 'GPX5,6 reduce H2O2 to H2O'}, {'reaction_id': 'R-MMU-3341277', 'reaction_name': 'GPX2 catalyzes 2 glutathione, reduced + H2O2 => glutathione, oxidized + 2 H2O'}, {'reaction_id': 'R-MMU-3323013', 'reaction_name': 'GPX1 catalyzes 2 glutathione, reduced + H2O2 => glutathione, oxidized + 2 H2O'}, {'reaction_id': 'R-MMU-3323079', 'reaction_name': 'GSR catalyzes glutathione (oxidized) + NADPH + H+ => 2 glutathione (reduced) + NADP+'}, {'reaction_id': 'R-MMU-71676', 'reaction_name': '2 glutathione, reduced + H2O2 => glutathione, oxidized + 2 H2O'}, {'reaction_id': 'R-MMU-5696230', 'reaction_name': 'GSTO1 dimer reduces methylarsonate to methylarsonite'}, {'reaction_id': 'R-MMU-8943279', 'reaction_name': 'GGT dimers hydrolyse GSH'}, {'reaction_id': 'R-MMU-6785928', 'reaction_name': 'CHAC1,2 cleaves GSH to OPRO and CysGly'}, {'reaction_id': 'R-MMU-174394', 'reaction_name': 'GSS:Mg2+ dimer synthesizes GSH'}, {'reaction_id': 'R-MMU-176054', 'reaction_name': 'GST dimers conjugate GSH with cytosolic substrates'}, {'reaction_id': 'R-MMU-3301943', 'reaction_name': 'GSTK1 dimer transfers GS from GSH to CDNB'}, {'reaction_id': 'R-MMU-176059', 'reaction_name': 'GST trimers transfer GS from GSH to luminal substrates'}, {'reaction_id': 'R-MMU-5693724', 'reaction_name': 'ESD dimer hydrolyses S-FGSH to GSH'}, {'reaction_id': 'R-MMU-5423653', 'reaction_name': 'MGST trimers transfer GS from GSH to AFXBO and AFNBO'}, {'reaction_id': 'R-MMU-1655879', 'reaction_name': 'Thiosulfate can transfer its sulfur atom to glutathione'}, {'reaction_id': 'R-MMU-71173', 'reaction_name': 'maleylacetoacetate => fumarylacetoacetate'}, {'reaction_id': 'R-MMU-266050', 'reaction_name': 'LTA4 is converted to LTC4 by LTC4S'}, {'reaction_id': 'R-MMU-2161768', 'reaction_name': 'EXA4 is converted to EXC4 by LTC4S'}, {'reaction_id': 'R-MMU-2161701', 'reaction_name': 'PGH2 is isomerised to PGD2 by HPGDS'}, {'reaction_id': 'R-MMU-2161660', 'reaction_name': 'PGH2 is isomerised to PGE2 by PTGES'}, {'reaction_id': 'R-MMU-2161791', 'reaction_name': '15S-HpETE is reduced to 15S-HETE by GPX1/2/4'}, {'reaction_id': 'R-MMU-2161959', 'reaction_name': '12R-HpETE is reduced to 12R-HETE by GPX1/2/4'}, {'reaction_id': 'R-MMU-2161999', 'reaction_name': '12S-HpETE is reduced to 12S-HETE by GPX1/2/4'}], 'C00093': [{'reaction_id': 'R-MMU-75887', 'reaction_name': 'Conversion of Glycerol to Glycerol-3-phosphate'}, {'reaction_id': 'R-MMU-75889', 'reaction_name': 'DHAP is converted to G3P by GPD1/GPD1L'}, {'reaction_id': 'R-MMU-549112', 'reaction_name': 'G3P is acylated to 1-acyl LPA by AGPAT6'}, {'reaction_id': 'R-MMU-1483231', 'reaction_name': 'GPETA is hydrolyzed to ETA and G3P by Gpcpd1'}, {'reaction_id': 'R-MMU-75886', 'reaction_name': 'glycerol 3-phosphate + acyl-CoA => 1-acylglycerol 3-phosphate + CoASH [mitochondrial membrane-associated]'}, {'reaction_id': 'R-MMU-1483112', 'reaction_name': 'GPCho is hydrolyzed to Cho and G3P by Gpcpd1'}, {'reaction_id': 'R-MMU-1482695', 'reaction_name': 'G3P is acylated to 1-acyl LPA by GPAM/GPAT2 (OM)'}, {'reaction_id': 'R-MMU-188467', 'reaction_name': 'Gly-3-P+FAD->DHAP+FADH2 (catalyzed by mitochondrial Gly-Phos dehydrogenase)'}, {'reaction_id': 'R-MMU-6814137', 'reaction_name': 'Gdpd5 hydrolyzes GPCho'}, {'reaction_id': 'R-MMU-6813740', 'reaction_name': 'GDE1 hydrolyzes GroPIns'}], 'C00077': [{'reaction_id': 'R-MMU-749448', 'reaction_name': 'Liganded Gq-activating GPCRs bind inactive heterotrimeric Gq'}, {'reaction_id': 'R-MMU-379048', 'reaction_name': 'Liganded Gq/11-activating GPCRs act as GEFs for Gq/11'}, {'reaction_id': 'R-MMU-749452', 'reaction_name': 'The Ligand:GPCR:Gq complex dissociates'}, {'reaction_id': 'R-MMU-420739', 'reaction_name': 'GPRC6A can bind L-alpha amino acids and calcium'}, {'reaction_id': 'R-MMU-70692', 'reaction_name': 'ornithine => putrescine + CO2'}, {'reaction_id': 'R-MMU-70666', 'reaction_name': 'glutamate + L-glutamate gamma-semialdehyde <=> ornithine + alpha-ketoglutarate [OAT]'}, {'reaction_id': 'R-MMU-70634', 'reaction_name': 'ornithine (cytosolic) + citrulline (mitochondrial) => ornithine (mitochondrial) + citrulline (cytosolic)'}, {'reaction_id': 'R-MMU-70569', 'reaction_name': 'arginine + H2O => ornithine + urea [ARG1]'}, {'reaction_id': 'R-MMU-70560', 'reaction_name': 'carbamoyl phosphate + ornithine => citrulline + orthophosphate'}, {'reaction_id': 'R-MMU-70654', 'reaction_name': 'ornithine + alpha-ketoglutarate <=> glutamate + L-glutamate gamma-semialdehyde [OAT]'}, {'reaction_id': 'R-MMU-71275', 'reaction_name': 'arginine + glycine => ornithine + guanidoacetate'}, {'reaction_id': 'R-MMU-452036', 'reaction_name': 'arginine + H2O => ornithine + urea [ARG2]'}, {'reaction_id': 'R-MMU-375790', 'reaction_name': 'SLC7A2, isoform B (CAT-2B)-mediated uptake of cationic amino acids'}, {'reaction_id': 'R-MMU-375770', 'reaction_name': 'SLC7A3 (CAT-3)-mediated uptake of cationic amino acids'}, {'reaction_id': 'R-MMU-375776', 'reaction_name': 'SLC7A1 (CAT-1)-mediated uptake of cationic amino acids'}, {'reaction_id': 'R-MMU-8959781', 'reaction_name': 'SLC25A29 transports basic amino acids from cytosol to mitochondrial matrix'}], 'C00327': [{'reaction_id': 'R-MMU-418436', 'reaction_name': 'Nitric Oxide Synthase (NOS) produces Nitric Oxide (NO)'}, {'reaction_id': 'R-MMU-70577', 'reaction_name': 'ASS1 tetramer:NMRAL1 dimer:NADPH transforms L-Asp and L-Cit to ARSUA'}, {'reaction_id': 'R-MMU-70634', 'reaction_name': 'ornithine (cytosolic) + citrulline (mitochondrial) => ornithine (mitochondrial) + citrulline (cytosolic)'}, {'reaction_id': 'R-MMU-70560', 'reaction_name': 'carbamoyl phosphate + ornithine => citrulline + orthophosphate'}, {'reaction_id': 'R-MMU-5693373', 'reaction_name': 'DDAH1,2 hydrolyses ADMA to DMA and L-Cit'}, {'reaction_id': 'R-MMU-202127', 'reaction_name': 'eNOS synthesizes NO'}], 'C00262': [{'reaction_id': 'R-MMU-112033', 'reaction_name': 'hypoxanthine + (deoxy)ribose 1-phosphate <=> (deoxy)inosine + orthophosphate (NP)'}, {'reaction_id': 'R-MMU-74242', 'reaction_name': '(deoxy)inosine + orthophosphate <=> hypoxanthine + (deoxy)ribose 1-phosphate (NP)'}, {'reaction_id': 'R-MMU-74247', 'reaction_name': 'Hypoxanthine + H2O + O2 => Xanthine + H2O2'}, {'reaction_id': 'R-MMU-74215', 'reaction_name': 'guanine or hypoxanthine + PRPP => GMP or IMP + PPi (HPRT1)'}, {'reaction_id': 'R-MMU-109529', 'reaction_name': 'Equilibrative transport (export) of nucleosides and free bases by solute carrier family 29 (nucleoside transporters), member 2'}, {'reaction_id': 'R-MMU-109527', 'reaction_name': 'Equilibrative transport (import) of nucleosides and free bases by solute carrier family 29 (nucleoside transporters), member 2'}, {'reaction_id': 'R-MMU-110251', 'reaction_name': 'Cleavage of hypoxanthine by MPG glycosylase'}], 'C00385': [{'reaction_id': 'R-MMU-74247', 'reaction_name': 'Hypoxanthine + H2O + O2 => Xanthine + H2O2'}, {'reaction_id': 'R-MMU-74255', 'reaction_name': 'Guanine + H2O => Xanthine + NH4+'}, {'reaction_id': 'R-MMU-74258', 'reaction_name': 'Xanthine + H2O + O2 => Urate + H2O2'}], 'C00242': [{'reaction_id': 'R-MMU-112034', 'reaction_name': 'guanine + (deoxy)ribose 1-phosphate <=> (deoxy)guanosine + orthophosphate (NP)'}, {'reaction_id': 'R-MMU-74215', 'reaction_name': 'guanine or hypoxanthine + PRPP => GMP or IMP + PPi (HPRT1)'}, {'reaction_id': 'R-MMU-74249', 'reaction_name': '(deoxy)guanosine + orthophosphate <=> guanine + (deoxy)ribose 1-phosphate (NP)'}, {'reaction_id': 'R-MMU-8953339', 'reaction_name': 'DNPH1 hydrolyses dGMP'}, {'reaction_id': 'R-MMU-74255', 'reaction_name': 'Guanine + H2O => Xanthine + NH4+'}, {'reaction_id': 'R-MMU-109529', 'reaction_name': 'Equilibrative transport (export) of nucleosides and free bases by solute carrier family 29 (nucleoside transporters), member 2'}, {'reaction_id': 'R-MMU-109527', 'reaction_name': 'Equilibrative transport (import) of nucleosides and free bases by solute carrier family 29 (nucleoside transporters), member 2'}], 'C00147': [{'reaction_id': 'R-MMU-74213', 'reaction_name': 'Adenine + PRPP => AMP + PPi'}, {'reaction_id': 'R-MMU-1237160', 'reaction_name': 'MTA is cleaved and phosphorylated'}, {'reaction_id': 'R-MMU-109529', 'reaction_name': 'Equilibrative transport (export) of nucleosides and free bases by solute carrier family 29 (nucleoside transporters), member 2'}, {'reaction_id': 'R-MMU-109527', 'reaction_name': 'Equilibrative transport (import) of nucleosides and free bases by solute carrier family 29 (nucleoside transporters), member 2'}, {'reaction_id': 'R-MMU-727767', 'reaction_name': 'SLC29A3 transports nucleosides from cytosol to lysosomal lumen'}, {'reaction_id': 'R-MMU-727749', 'reaction_name': 'SLC29A3 transports nucleosides from lysosomal lumen to cytosol'}, {'reaction_id': 'R-MMU-110246', 'reaction_name': 'Cleavage of adenine mispaired with 8-oxoguanine by MUTYH'}], 'C00328': [{'reaction_id': 'R-MMU-71200', 'reaction_name': 'kynurenine + O2 + NADPH + H+ => 3-hydroxykynurenine + NADP+ + H2O'}, {'reaction_id': 'R-MMU-71196', 'reaction_name': 'N-formylkynurenine + H2O => kynurenine + formate [mouse]'}, {'reaction_id': 'R-MMU-893583', 'reaction_name': 'kynurenine + 2-oxoglutarate => 4-(2-aminophenyl)-2,4-dioxobutanoic acid + glutamate'}, {'reaction_id': 'R-MMU-893596', 'reaction_name': 'PXLP-KYAT1 dimer transaminates L-KYN to AP-DOBu'}], 'C00078': [{'reaction_id': 'R-MMU-352232', 'reaction_name': 'SLC7A5:SLC3A2 transports neutral amino acids from extracellular region to cytosol'}, {'reaction_id': 'R-MMU-8870352', 'reaction_name': 'SLC36A4 transports L-Trp from extracellular region to cytosol'}, {'reaction_id': 'R-MMU-198563', 'reaction_name': 'IDO1 dioxygenates L-Trp to NFK'}, {'reaction_id': 'R-MMU-71188', 'reaction_name': 'TDO tetramer dioxygenates L-Trp to NFK'}, {'reaction_id': 'R-MMU-209828', 'reaction_name': 'Tryptophan is hydroxylated'}, {'reaction_id': 'R-MMU-888614', 'reaction_name': 'IDO2 dioxygenates L-Trp to NFK'}, {'reaction_id': 'R-MMU-375473', 'reaction_name': 'SLC6A19 cotransports neutral amino acids, Na+ from extracellular region to cytosol'}, {'reaction_id': 'R-MMU-352158', 'reaction_name': 'SLC16A10-mediated uptake of aromatic amino acids'}, {'reaction_id': 'R-MMU-352191', 'reaction_name': 'SLC7A8-mediated uptake of neutral amino acids'}, {'reaction_id': 'R-MMU-375487', 'reaction_name': 'SLC6A14 cotransports SLC6A14 ligands, Cl-, 2Na+ from extracellular region to cytosol'}], 'C00079': [{'reaction_id': 'R-MMU-352232', 'reaction_name': 'SLC7A5:SLC3A2 transports neutral amino acids from extracellular region to cytosol'}, {'reaction_id': 'R-MMU-71118', 'reaction_name': 'PAH tetramer hydroxylates L-Phe to L-Tyr'}, {'reaction_id': 'R-MMU-893596', 'reaction_name': 'PXLP-KYAT1 dimer transaminates L-KYN to AP-DOBu'}, {'reaction_id': 'R-MMU-893593', 'reaction_name': 'phenylalanine + pyruvate => 3-(indol-3-yl)pyruvate + alanine'}, {'reaction_id': 'R-MMU-5696365', 'reaction_name': 'ASRGL1 hydrolyses aspartame to L-Asp, L-Phe'}, {'reaction_id': 'R-MMU-2160492', 'reaction_name': 'IL4I1:FAD oxidises L-Phe to kPPV'}, {'reaction_id': 'R-MMU-375473', 'reaction_name': 'SLC6A19 cotransports neutral amino acids, Na+ from extracellular region to cytosol'}, {'reaction_id': 'R-MMU-352158', 'reaction_name': 'SLC16A10-mediated uptake of aromatic amino acids'}, {'reaction_id': 'R-MMU-352103', 'reaction_name': 'SLC43A1 (LAT3)-mediated uptake of large neutral amino acids'}, {'reaction_id': 'R-MMU-352107', 'reaction_name': 'SLC43A2 (LAT4)-mediated uptake of large neutral amino acids'}, {'reaction_id': 'R-MMU-352191', 'reaction_name': 'SLC7A8-mediated uptake of neutral amino acids'}, {'reaction_id': 'R-MMU-1474146', 'reaction_name': 'GCH1 reduces GTP to dihydroneopterin triphosphate'}], 'C00864': [{'reaction_id': 'R-MMU-199206', 'reaction_name': 'SLC5A6 cotransports extracellular PanK and 2Na+ to cytosol'}, {'reaction_id': 'R-MMU-199203', 'reaction_name': 'PANK1/3/4 phosphorylate PanK'}, {'reaction_id': 'R-MMU-196857', 'reaction_name': 'PANK2 phosphorylates PanK'}, {'reaction_id': 'R-MMU-8938300', 'reaction_name': 'Vanin hydrolyses pantetheine to PanK, 2AET'}, {'reaction_id': 'R-MMU-429581', 'reaction_name': 'SLC5A6 transports vitamins from extracellular region to cytosol'}], 'C00568': [{'reaction_id': 'R-MMU-174963', 'reaction_name': 'NAT1 acetylation'}], 'C00180': [{'reaction_id': 'R-MMU-159443', 'reaction_name': 'benzoate + Coenzyme A + ATP => benzoyl-CoA + AMP + pyrophosphate'}], 'C00245': [{'reaction_id': 'R-MMU-159431', 'reaction_name': 'Cytosolic chenodeoxycholoyl-CoA or choloyl-CoA are conjugated with glycine or taurine'}, {'reaction_id': 'R-MMU-193491', 'reaction_name': 'Chenodeoxycholoyl CoA reacts with glycine or taurine to form glycochenodeoxycholate or taurochenodeoxycholate'}, {'reaction_id': 'R-MMU-192312', 'reaction_name': 'Choloyl CoA reacts with glycine or taurine to form glycocholate or taurocholate'}, {'reaction_id': 'R-MMU-6787757', 'reaction_name': 'GADL1 decarboxylates acidic AAs'}, {'reaction_id': 'R-MMU-351987', 'reaction_name': 'SLC6A6-mediated uptake of taurine and beta-alanine'}], 'C00152': [{'reaction_id': 'R-MMU-70599', 'reaction_name': 'aspartate + glutamine + ATP <=> asparagine + glutamate + AMP + pyrophosphate [ASNS]'}, {'reaction_id': 'R-MMU-6797627', 'reaction_name': 'ASPG hydrolyses L-Asn to L-Asp'}, {'reaction_id': 'R-MMU-352108', 'reaction_name': 'SLC38A2 (ATA2)-mediated uptake of neutral amino acids'}, {'reaction_id': 'R-MMU-352174', 'reaction_name': 'SLC38A3-mediated uptake of glutamine, histidine, asparagine, and alanine'}, {'reaction_id': 'R-MMU-352119', 'reaction_name': 'SLC38A1 (ATA1)-mediated uptake of neutral amino acids'}, {'reaction_id': 'R-MMU-352182', 'reaction_name': 'SLC38A5-mediated uptake of glutamine, histidine, asparagine, and serine'}, {'reaction_id': 'R-MMU-352191', 'reaction_name': 'SLC7A8-mediated uptake of neutral amino acids'}, {'reaction_id': 'R-MMU-352059', 'reaction_name': 'SLC6A15-mediated amino acid uptake'}], 'C00148': [{'reaction_id': 'R-MMU-70664', 'reaction_name': 'PYCR1 decamer reduces (S)-1-pyrroline-5-carboxylate to L-Pro'}, {'reaction_id': 'R-MMU-70670', 'reaction_name': 'PRODH oxidises L-Pro to 1PYR-5COOH'}, {'reaction_id': 'R-MMU-6783939', 'reaction_name': 'PYCR2 decamer reduces (S)-1-pyrroline-5-carboxylate to L-Pro'}, {'reaction_id': 'R-MMU-6783955', 'reaction_name': 'PYCRL decamer reduces (S)-1-pyrroline-5-carboxylate to L-Pro'}, {'reaction_id': 'R-MMU-8870354', 'reaction_name': 'SLC36A4 transports extracellular L-Pro to the cytosol'}, {'reaction_id': 'R-MMU-375405', 'reaction_name': 'SLC36A2 cotransports Gly, L-Pro with H+ from extracellular region to cytosol'}, {'reaction_id': 'R-MMU-352108', 'reaction_name': 'SLC38A2 (ATA2)-mediated uptake of neutral amino acids'}, {'reaction_id': 'R-MMU-352052', 'reaction_name': 'SLC6A20 cotransports L-Pro, Na+ from the extracellular region to cytosol'}, {'reaction_id': 'R-MMU-375417', 'reaction_name': 'SLC36A1-mediated uptake of glycine, proline, and alanine'}, {'reaction_id': 'R-MMU-352059', 'reaction_name': 'SLC6A15-mediated amino acid uptake'}, {'reaction_id': 'R-MMU-444100', 'reaction_name': 'PROT mediates L-proline uptake'}], 'C00099': [{'reaction_id': 'R-MMU-73591', 'reaction_name': 'beta-ureidopropionate + H2O => beta-alanine + NH4+ + CO2'}, {'reaction_id': 'R-MMU-6787757', 'reaction_name': 'GADL1 decarboxylates acidic AAs'}, {'reaction_id': 'R-MMU-6786245', 'reaction_name': 'CARNS1 transforms ATP, L-His, b-Ala to CARN'}, {'reaction_id': 'R-MMU-352029', 'reaction_name': 'SLC6A12 (BGT-1)-mediated uptake of GABA and betaine'}, {'reaction_id': 'R-MMU-351987', 'reaction_name': 'SLC6A6-mediated uptake of taurine and beta-alanine'}, {'reaction_id': 'R-MMU-375487', 'reaction_name': 'SLC6A14 cotransports SLC6A14 ligands, Cl-, 2Na+ from extracellular region to cytosol'}], 'C00956': [{'reaction_id': 'R-MMU-508561', 'reaction_name': 'alpha-ketoadipate + glutamate <=> alpha-aminoadipate + alpha-ketoglutarate'}, {'reaction_id': 'R-MMU-70941', 'reaction_name': 'alpha-aminoadipoate semialdehyde + NAD+ => alpha-aminoadipate + NADH + H+'}, {'reaction_id': 'R-MMU-70952', 'reaction_name': 'alpha-aminoadipate + alpha-ketoglutarate <=> alpha-ketoadipate + glutamate'}], 'C00299': [{'reaction_id': 'R-MMU-109534', 'reaction_name': 'Equilibrative transport (export) of nucleosides and free bases by solute carrier family 29 (nucleoside transporters), member 1'}, {'reaction_id': 'R-MMU-109536', 'reaction_name': 'Equilibrative transport (import) of nucleosides and free bases by solute carrier family 29 (nucleoside transporters), member 1'}, {'reaction_id': 'R-MMU-109539', 'reaction_name': 'Concentrative transport (import) of nucleosides plus sodium ions by solute carrier family 28 (sodium-coupled nucleoside transporter), member 2'}, {'reaction_id': 'R-MMU-109538', 'reaction_name': 'Concentrative transport (import) of a nucleoside and two sodium ions by solute carrier family 28 (sodium-coupled nucleoside transporter), member 3'}, {'reaction_id': 'R-MMU-109529', 'reaction_name': 'Equilibrative transport (export) of nucleosides and free bases by solute carrier family 29 (nucleoside transporters), member 2'}, {'reaction_id': 'R-MMU-109527', 'reaction_name': 'Equilibrative transport (import) of nucleosides and free bases by solute carrier family 29 (nucleoside transporters), member 2'}, {'reaction_id': 'R-MMU-109530', 'reaction_name': 'Concentrative transport (import) of a nucleoside and a sodium ions by solute carrier family 28 (sodium-coupled nucleoside transporter), member 1'}, {'reaction_id': 'R-MMU-727767', 'reaction_name': 'SLC29A3 transports nucleosides from cytosol to lysosomal lumen'}, {'reaction_id': 'R-MMU-727749', 'reaction_name': 'SLC29A3 transports nucleosides from lysosomal lumen to cytosol'}, {'reaction_id': 'R-MMU-73599', 'reaction_name': 'cytidine or uridine + ATP => CMP or UMP + ADP [UCK1]'}, {'reaction_id': 'R-MMU-109380', 'reaction_name': '(d)CMP, TMP, or (d)UMP + H2O => (deoxy)cytidine, thymidine, or (deoxy)uridine + orthophosphate (NT5C1A)'}, {'reaction_id': 'R-MMU-109449', 'reaction_name': '(d)CMP, TMP, or (d)UMP + H2O => (deoxy)cytidine, thymidine, or (deoxy)uridine + orthophosphate (NT5C3)'}, {'reaction_id': 'R-MMU-109480', 'reaction_name': \"TMP, uridine 2', 3', or 5' monophosphates, or deoxyuridine 3' or 5' monophosphates + H2O => thymidine or (deoxy)uridine + orthophosphate [NT5C]\"}, {'reaction_id': 'R-MMU-74372', 'reaction_name': 'uracil + (deoxy)ribose 1-phosphate <=> (deoxy)uridine + orthophosphate [UPP]'}, {'reaction_id': 'R-MMU-73608', 'reaction_name': '(deoxy)cytidine + H2O => (deoxy)uridine + NH4+ (CDA)'}, {'reaction_id': 'R-MMU-74376', 'reaction_name': '(deoxy)uridine + orthophosphate <=> uracil + (deoxy)ribose 1-phosphate (UPP)'}, {'reaction_id': 'R-MMU-109291', 'reaction_name': 'CMP or TMP or UMP + H2O => cytidine, thymidine, or uridine + orthophosphate [NT5E]'}, {'reaction_id': 'R-MMU-109514', 'reaction_name': \"TMP, (d)UMP, uridine 2' monophosphate, or uridine 3'-monophosphate + H2O => thymidine, deoxyuridine, or uridine + orthophosphate [NT5M]\"}, {'reaction_id': 'R-MMU-109903', 'reaction_name': 'cytidine or uridine + ATP => CMP or UMP + ADP [UCK2]'}, {'reaction_id': 'R-MMU-8954327', 'reaction_name': 'UCKL1 phosphorylates urindine, cytidine'}], 'C00475': [{'reaction_id': 'R-MMU-109534', 'reaction_name': 'Equilibrative transport (export) of nucleosides and free bases by solute carrier family 29 (nucleoside transporters), member 1'}, {'reaction_id': 'R-MMU-109536', 'reaction_name': 'Equilibrative transport (import) of nucleosides and free bases by solute carrier family 29 (nucleoside transporters), member 1'}, {'reaction_id': 'R-MMU-109538', 'reaction_name': 'Concentrative transport (import) of a nucleoside and two sodium ions by solute carrier family 28 (sodium-coupled nucleoside transporter), member 3'}, {'reaction_id': 'R-MMU-109529', 'reaction_name': 'Equilibrative transport (export) of nucleosides and free bases by solute carrier family 29 (nucleoside transporters), member 2'}, {'reaction_id': 'R-MMU-109527', 'reaction_name': 'Equilibrative transport (import) of nucleosides and free bases by solute carrier family 29 (nucleoside transporters), member 2'}, {'reaction_id': 'R-MMU-109530', 'reaction_name': 'Concentrative transport (import) of a nucleoside and a sodium ions by solute carrier family 28 (sodium-coupled nucleoside transporter), member 1'}, {'reaction_id': 'R-MMU-727767', 'reaction_name': 'SLC29A3 transports nucleosides from cytosol to lysosomal lumen'}, {'reaction_id': 'R-MMU-727749', 'reaction_name': 'SLC29A3 transports nucleosides from lysosomal lumen to cytosol'}, {'reaction_id': 'R-MMU-73599', 'reaction_name': 'cytidine or uridine + ATP => CMP or UMP + ADP [UCK1]'}, {'reaction_id': 'R-MMU-73598', 'reaction_name': \"(2'-deoxy)cytidine + ATP => (d)CMP + ADP (DCK)\"}, {'reaction_id': 'R-MMU-109380', 'reaction_name': '(d)CMP, TMP, or (d)UMP + H2O => (deoxy)cytidine, thymidine, or (deoxy)uridine + orthophosphate (NT5C1A)'}, {'reaction_id': 'R-MMU-109449', 'reaction_name': '(d)CMP, TMP, or (d)UMP + H2O => (deoxy)cytidine, thymidine, or (deoxy)uridine + orthophosphate (NT5C3)'}, {'reaction_id': 'R-MMU-73608', 'reaction_name': '(deoxy)cytidine + H2O => (deoxy)uridine + NH4+ (CDA)'}, {'reaction_id': 'R-MMU-109291', 'reaction_name': 'CMP or TMP or UMP + H2O => cytidine, thymidine, or uridine + orthophosphate [NT5E]'}, {'reaction_id': 'R-MMU-109903', 'reaction_name': 'cytidine or uridine + ATP => CMP or UMP + ADP [UCK2]'}, {'reaction_id': 'R-MMU-8954327', 'reaction_name': 'UCKL1 phosphorylates urindine, cytidine'}], 'C00178': [{'reaction_id': 'R-MMU-109529', 'reaction_name': 'Equilibrative transport (export) of nucleosides and free bases by solute carrier family 29 (nucleoside transporters), member 2'}, {'reaction_id': 'R-MMU-109527', 'reaction_name': 'Equilibrative transport (import) of nucleosides and free bases by solute carrier family 29 (nucleoside transporters), member 2'}, {'reaction_id': 'R-MMU-110219', 'reaction_name': 'Cleavage of thymine by TDG glycosylase'}, {'reaction_id': 'R-MMU-110232', 'reaction_name': 'Cleavage of thymine by MBD4 glycosylase'}, {'reaction_id': 'R-MMU-112266', 'reaction_name': 'thymine or uracil + 2-deoxy-D-ribose 1-phosphate <=> thymidine or deoxyuridine + orthophosphate [TYMP]'}, {'reaction_id': 'R-MMU-112265', 'reaction_name': 'thymidine or deoxyuridine + orthophosphate <=> thymine or uracil + 2-deoxy-D-ribose 1-phosphate [TYMP]'}, {'reaction_id': 'R-MMU-73616', 'reaction_name': 'thymine + NADPH + H+ => 5,6-dihydrothymine + NADP+'}], 'C00791': [{'reaction_id': 'R-MMU-549279', 'reaction_name': 'OCT2 mediates tubular uptake of organic cations in the kidney'}, {'reaction_id': 'R-MMU-561054', 'reaction_name': 'OCT2 mediates tubular secretion of organic cations in the kidney'}, {'reaction_id': 'R-MMU-434650', 'reaction_name': 'MATEs mediate extrusion of xenobiotics'}], 'C01089': [{'reaction_id': 'R-MMU-73920', 'reaction_name': 'D-beta hydroxybutyrate+NAD+ <=> acetoacetate+NADH+H+'}, {'reaction_id': 'R-MMU-73912', 'reaction_name': 'acetoacetic acid + NADH + H+ <=> beta-hydroxybutyrate + NAD+'}], 'C00295': [{'reaction_id': 'R-MMU-73569', 'reaction_name': '(S)-dihydroorotate + ubiquinone => orotate + ubiquinol'}, {'reaction_id': 'R-MMU-73567', 'reaction_name': \"orotate + 5-phospho-alpha-D-ribose 1-diphosphate (PRPP) <=> orotidine 5'-monophosphate (OMP) + pyrophosphate\"}]}"
     ]
    },
    {
     "name": "stdout",
     "output_type": "stream",
     "text": [
      "\n"
     ]
    }
   ],
   "source": [
    "print(compound_mapping)"
   ]
  },
  {
   "cell_type": "markdown",
   "metadata": {},
   "source": [
    "## Map Reactions to Pathways"
   ]
  },
  {
   "cell_type": "code",
   "execution_count": 30,
   "metadata": {},
   "outputs": [
    {
     "name": "stdout",
     "output_type": "stream",
     "text": [
      "7096\n",
      "870\n",
      "7227\n"
     ]
    }
   ],
   "source": [
    "protein_reactions = list(set(get_reaction_ids(protein_mapping)))\n",
    "compound_reactions = list(set(get_reaction_ids(compound_mapping)))\n",
    "combined_reactions = list(set(protein_reactions + compound_reactions))\n",
    "\n",
    "print(len(protein_reactions))\n",
    "print(len(compound_reactions))\n",
    "print(len(combined_reactions))"
   ]
  },
  {
   "cell_type": "code",
   "execution_count": 31,
   "metadata": {},
   "outputs": [
    {
     "name": "stdout",
     "output_type": "stream",
     "text": [
      "['R-MMU-2468287', 'R-MMU-1433428', 'R-MMU-964962', 'R-MMU-2066299', 'R-MMU-6809309', 'R-MMU-5625959', 'R-MMU-1295765', 'R-MMU-525831', 'R-MMU-8982637', 'R-MMU-204824']\n"
     ]
    }
   ],
   "source": [
    "print(combined_reactions[0:10])"
   ]
  },
  {
   "cell_type": "markdown",
   "metadata": {},
   "source": [
    "This is a map of reactions to pathways that are under the top-level biochemical ('Metabolism') pathways"
   ]
  },
  {
   "cell_type": "code",
   "execution_count": 32,
   "metadata": {},
   "outputs": [
    {
     "data": {
      "application/vnd.jupyter.widget-view+json": {
       "model_id": "b1c4bf245f8c41858302ab25b58ffe39",
       "version_major": 2,
       "version_minor": 0
      },
      "text/html": [
       "<p>Failed to display Jupyter Widget of type <code>FloatProgress</code>.</p>\n",
       "<p>\n",
       "  If you're reading this message in the Jupyter Notebook or JupyterLab Notebook, it may mean\n",
       "  that the widgets JavaScript is still loading. If this message persists, it\n",
       "  likely means that the widgets JavaScript library is either not installed or\n",
       "  not enabled. See the <a href=\"https://ipywidgets.readthedocs.io/en/stable/user_install.html\">Jupyter\n",
       "  Widgets Documentation</a> for setup instructions.\n",
       "</p>\n",
       "<p>\n",
       "  If you're reading this message in another frontend (for example, a static\n",
       "  rendering on GitHub or <a href=\"https://nbviewer.jupyter.org/\">NBViewer</a>),\n",
       "  it may mean that your frontend doesn't currently support widgets.\n",
       "</p>\n"
      ],
      "text/plain": [
       "FloatProgress(value=0.0, max=7227.0)"
      ]
     },
     "metadata": {},
     "output_type": "display_data"
    },
    {
     "name": "stdout",
     "output_type": "stream",
     "text": [
      "1386\n",
      "[{'pathway_id': 'R-MMU-975634', 'pathway_name': 'Retinoid metabolism and transport'}]\n"
     ]
    }
   ],
   "source": [
    "pathway_mapping = reaction_to_metabolite_pathway(combined_reactions, species, show_progress_bar=True, leaf=True)\n",
    "print(len(pathway_mapping))\n",
    "print(pathway_mapping['R-MMU-2395768'])"
   ]
  },
  {
   "cell_type": "code",
   "execution_count": null,
   "metadata": {},
   "outputs": [],
   "source": [
    "kegg_location = os.path.join(basedir, 'data/kegg/kegg.xml')\n",
    "kegg_dict = produce_kegg_dict(kegg_location, 'id')"
   ]
  },
  {
   "cell_type": "code",
   "execution_count": null,
   "metadata": {
    "scrolled": true
   },
   "outputs": [],
   "source": [
    "reaction_df = get_reaction_df(transcript_mapping, protein_mapping, compound_mapping, pathway_mapping, species)\n",
    "reaction_df.sort_values(by=['compound_coverage', 'protein_coverage'], inplace=True, ascending=False)\n",
    "print(reaction_df.shape)"
   ]
  },
  {
   "cell_type": "code",
   "execution_count": null,
   "metadata": {
    "scrolled": false
   },
   "outputs": [],
   "source": [
    "reaction_df"
   ]
  },
  {
   "cell_type": "code",
   "execution_count": null,
   "metadata": {},
   "outputs": [],
   "source": [
    "reaction_df.to_csv('reaction_df.tsv', sep='\\t', index=False)"
   ]
  },
  {
   "cell_type": "markdown",
   "metadata": {},
   "source": [
    "### How many unique pathways are linked to reactions?"
   ]
  },
  {
   "cell_type": "code",
   "execution_count": null,
   "metadata": {},
   "outputs": [],
   "source": [
    "reaction_df['pathway_names'].values"
   ]
  },
  {
   "cell_type": "code",
   "execution_count": null,
   "metadata": {},
   "outputs": [],
   "source": [
    "reaction_df['pathway_ids'].values"
   ]
  },
  {
   "cell_type": "code",
   "execution_count": null,
   "metadata": {},
   "outputs": [],
   "source": [
    "pathway_ids_to_names = {}\n",
    "for ids, names in zip(reaction_df['pathway_ids'].values, reaction_df['pathway_names'].values):\n",
    "    pathway_ids = ids.split(':')\n",
    "    pathway_names = names.split(':')\n",
    "    for pid, pn in zip(pathway_ids, pathway_names):\n",
    "        pathway_ids_to_names[pid] = pn"
   ]
  },
  {
   "cell_type": "code",
   "execution_count": null,
   "metadata": {},
   "outputs": [],
   "source": [
    "data = []\n",
    "for pid, name in pathway_ids_to_names.items():\n",
    "    row = (pid, name.lower(), )\n",
    "    data.append(row)\n",
    "    \n",
    "pathway_df = pd.DataFrame(data, columns=['pathway_id', 'pathway_name'])\n",
    "pathway_df = pathway_df.sort_values(by='pathway_name').reset_index(drop=True)\n",
    "display(pathway_df)"
   ]
  },
  {
   "cell_type": "markdown",
   "metadata": {},
   "source": [
    "### Hypergeometric test"
   ]
  },
  {
   "cell_type": "code",
   "execution_count": null,
   "metadata": {},
   "outputs": [],
   "source": [
    "pw_f, pathway_id_to_name = get_all_pathways_formulae(species)"
   ]
  },
  {
   "cell_type": "code",
   "execution_count": null,
   "metadata": {},
   "outputs": [],
   "source": [
    "detected = set(peak_df[['formula']].values.flatten())\n",
    "print(detected, len(detected))"
   ]
  },
  {
   "cell_type": "code",
   "execution_count": null,
   "metadata": {
    "scrolled": true
   },
   "outputs": [],
   "source": [
    "data = []\n",
    "for pathway_id in pw_f:\n",
    "    \n",
    "    pathway_name = pathway_id_to_name[pathway_id]\n",
    "    \n",
    "    formulae = pw_f[pathway_id]\n",
    "    formulae_count = len(formulae)\n",
    "    formulae_str = ','.join(sorted(formulae))\n",
    "    \n",
    "    detected_f = set([x for x in formulae if x in detected])\n",
    "    detected_count = len(detected_f)\n",
    "    detected_str = ','.join(sorted(detected_f))\n",
    "    \n",
    "    row = [pathway_id, pathway_name, formulae_str, formulae_count, detected_str, detected_count]\n",
    "    data.append(row)\n",
    "    \n",
    "all_pathway_df = pd.DataFrame(data, columns=[\n",
    "    'pathway_id', 'pathway_name', \n",
    "    'formula', 'formula_count',\n",
    "    'detected', 'detected_count'])\n",
    "all_pathway_df.set_index('pathway_id', drop=True, inplace=True)"
   ]
  },
  {
   "cell_type": "markdown",
   "metadata": {},
   "source": [
    "Compute hypergeometric p-values"
   ]
  },
  {
   "cell_type": "code",
   "execution_count": null,
   "metadata": {},
   "outputs": [],
   "source": [
    "from scipy.stats import hypergeom"
   ]
  },
  {
   "cell_type": "code",
   "execution_count": null,
   "metadata": {},
   "outputs": [],
   "source": [
    "# M = the number of unique formula in all pathways in Reactome\n",
    "M = len(set(','.join(all_pathway_df['formula'].values).split(',')))\n",
    "\n",
    "# N = the number of unique formula in all pathways in the dataset\n",
    "N = len(set(','.join(all_pathway_df['detected'].values).split(',')))\n",
    "\n",
    "SMOOTHING = 1\n",
    "\n",
    "data = []\n",
    "for idx, row in all_pathway_df.iterrows():\n",
    "        \n",
    "    # k = the number of unique formula in the pathway of interest in the dataset\n",
    "    k = row['detected_count']\n",
    "    \n",
    "    # n = the number of unique formula in the pathway of interest\n",
    "    n = row['formula_count'] + SMOOTHING\n",
    "        \n",
    "    p_value = hypergeom.sf(k, M, n, N)\n",
    "    assert p_value > 0\n",
    "    new_row = [idx, p_value]\n",
    "    data.append(new_row)\n",
    "\n",
    "p_value_df = pd.DataFrame(data, columns=[\n",
    "    'pathway_id', 'p_value'])\n",
    "p_value_df.set_index('pathway_id', drop=True, inplace=True)"
   ]
  },
  {
   "cell_type": "code",
   "execution_count": null,
   "metadata": {
    "scrolled": false
   },
   "outputs": [],
   "source": [
    "combined = pd.concat([all_pathway_df, p_value_df], axis=1)\n",
    "combined = combined.sort_values(by='p_value', ascending=True).reset_index(drop=True)\n",
    "display(combined)\n",
    "combined.to_csv('pathway_df.csv', index=False, encoding='utf-8')"
   ]
  },
  {
   "cell_type": "code",
   "execution_count": null,
   "metadata": {},
   "outputs": [],
   "source": []
  }
 ],
 "metadata": {
  "kernelspec": {
   "display_name": "Python 3",
   "language": "python",
   "name": "python3"
  },
  "language_info": {
   "codemirror_mode": {
    "name": "ipython",
    "version": 3
   },
   "file_extension": ".py",
   "mimetype": "text/x-python",
   "name": "python",
   "nbconvert_exporter": "python",
   "pygments_lexer": "ipython3",
   "version": "3.6.4"
  }
 },
 "nbformat": 4,
 "nbformat_minor": 2
}
