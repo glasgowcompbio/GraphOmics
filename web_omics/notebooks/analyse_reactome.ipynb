{
 "cells": [
  {
   "cell_type": "markdown",
   "metadata": {},
   "source": [
    "# Maps Kevin's data onto reactome pathways"
   ]
  },
  {
   "cell_type": "code",
   "execution_count": 1,
   "metadata": {},
   "outputs": [],
   "source": [
    "%load_ext autoreload\n",
    "%autoreload 2"
   ]
  },
  {
   "cell_type": "code",
   "execution_count": 2,
   "metadata": {},
   "outputs": [],
   "source": [
    "import os\n",
    "import glob\n",
    "\n",
    "import pylab as plt\n",
    "import matplotlib\n",
    "from IPython.display import display, HTML\n",
    "\n",
    "import numpy as np\n",
    "from scipy.sparse import lil_matrix\n",
    "import pandas as pd\n",
    "from pandas import HDFStore\n",
    "\n",
    "import seaborn as sns\n",
    "from IPython.display import display\n",
    "    \n",
    "from collections import defaultdict\n",
    "\n",
    "from ipywidgets import FloatProgress\n",
    "\n",
    "%matplotlib inline"
   ]
  },
  {
   "cell_type": "code",
   "execution_count": 3,
   "metadata": {},
   "outputs": [],
   "source": [
    "import sys\n",
    "sys.path.append('../linker')\n",
    "\n",
    "from reactome import ensembl_to_uniprot, uniprot_to_reaction, compound_to_reaction, \\\n",
    "    reaction_to_metabolite_pathway, get_reaction_ids, get_reaction_df, get_reaction_entities, \\\n",
    "    produce_kegg_dict, get_all_pathways_formulae\n"
   ]
  },
  {
   "cell_type": "markdown",
   "metadata": {},
   "source": [
    "## Load data"
   ]
  },
  {
   "cell_type": "code",
   "execution_count": 4,
   "metadata": {},
   "outputs": [],
   "source": [
    "basedir = '/Users/joewandy/Dropbox/Analysis/omics_integration'"
   ]
  },
  {
   "cell_type": "code",
   "execution_count": 5,
   "metadata": {},
   "outputs": [],
   "source": [
    "time = 7\n",
    "parasite = 'INFEC'\n",
    "treatment = 'Unsorted'\n",
    "\n",
    "filename = os.path.join(basedir, 'data/data_%d_%s_%s.h5' % (time, parasite, treatment))\n",
    "hdf = HDFStore(filename, complevel=9, complib='bzip2')\n",
    "\n",
    "pvt = hdf['peak_vs_transcript'].replace([np.inf, -np.inf], np.nan).fillna(0)\n",
    "# pvp = hdf['peak_vs_peak']\n",
    "# tvt = hdf['transcript_vs_transcript']\n",
    "\n",
    "hdf.close()"
   ]
  },
  {
   "cell_type": "code",
   "execution_count": 6,
   "metadata": {},
   "outputs": [
    {
     "data": {
      "text/plain": [
       "Index(['ENSMUSG00000000001', 'ENSMUSG00000000028', 'ENSMUSG00000000031',\n",
       "       'ENSMUSG00000000049', 'ENSMUSG00000000056', 'ENSMUSG00000000058',\n",
       "       'ENSMUSG00000000078', 'ENSMUSG00000000085', 'ENSMUSG00000000088',\n",
       "       'ENSMUSG00000000093',\n",
       "       ...\n",
       "       'ENSMUSG00000110391', 'ENSMUSG00000110393', 'ENSMUSG00000110397',\n",
       "       'ENSMUSG00000110399', 'ENSMUSG00000110404', 'ENSMUSG00000110405',\n",
       "       'ENSMUSG00000110410', 'ENSMUSG00000110414', 'ENSMUSG00000110419',\n",
       "       'ENSMUSG00000110424'],\n",
       "      dtype='object', length=21794)"
      ]
     },
     "execution_count": 6,
     "metadata": {},
     "output_type": "execute_result"
    }
   ],
   "source": [
    "pvt.columns"
   ]
  },
  {
   "cell_type": "code",
   "execution_count": 7,
   "metadata": {},
   "outputs": [],
   "source": [
    "species = 'Mus musculus'"
   ]
  },
  {
   "cell_type": "markdown",
   "metadata": {},
   "source": [
    "## Maps ENSEMBL IDs to UniProt IDs"
   ]
  },
  {
   "cell_type": "code",
   "execution_count": 8,
   "metadata": {},
   "outputs": [
    {
     "name": "stdout",
     "output_type": "stream",
     "text": [
      "ENSMUSG00000000001\n"
     ]
    }
   ],
   "source": [
    "ens_id = pvt.columns[0]\n",
    "print(ens_id)"
   ]
  },
  {
   "cell_type": "code",
   "execution_count": 9,
   "metadata": {},
   "outputs": [
    {
     "name": "stdout",
     "output_type": "stream",
     "text": [
      "21794\n"
     ]
    }
   ],
   "source": [
    "print(len(pvt.columns))\n",
    "ens_ids = pvt.columns.values.tolist()"
   ]
  },
  {
   "cell_type": "code",
   "execution_count": 10,
   "metadata": {
    "scrolled": true
   },
   "outputs": [],
   "source": [
    "transcript_mapping, id_to_names = ensembl_to_uniprot(ens_ids, species)"
   ]
  },
  {
   "cell_type": "code",
   "execution_count": 11,
   "metadata": {},
   "outputs": [
    {
     "name": "stdout",
     "output_type": "stream",
     "text": [
      "ENSMUSG00000006235 ['P14753']\n",
      "ENSMUSG00000026390 ['Q60754']\n",
      "ENSMUSG00000025044 ['P30204']\n",
      "ENSMUSG00000042286 ['G3X973', 'F7CT68', 'F7BK35']\n",
      "ENSMUSG00000035279 ['Q8BV57']\n",
      "ENSMUSG00000032115 ['Q9JKR6']\n",
      "ENSMUSG00000029657 ['Q61699']\n",
      "ENSMUSG00000038188 ['Q5ND28']\n",
      "ENSMUSG00000008845 ['Q2VLH6']\n",
      "ENSMUSG00000030895 ['Q91X72']\n"
     ]
    }
   ],
   "source": [
    "ensembl_ids = list(transcript_mapping.keys())[0:10]\n",
    "for ensembl_id in ensembl_ids:\n",
    "    print(ensembl_id, transcript_mapping[ensembl_id])"
   ]
  },
  {
   "cell_type": "code",
   "execution_count": 12,
   "metadata": {},
   "outputs": [
    {
     "name": "stdout",
     "output_type": "stream",
     "text": [
      "5987 613 6600 21794\n"
     ]
    }
   ],
   "source": [
    "total_mapped = len(transcript_mapping)\n",
    "total_genes = len(ens_ids)\n",
    "certain = []\n",
    "for ensembl_id in transcript_mapping:\n",
    "    if len(transcript_mapping[ensembl_id]) == 1:\n",
    "        certain.append(transcript_mapping[ensembl_id][0])\n",
    "\n",
    "uncertain = total_mapped - len(certain)\n",
    "print(len(certain), uncertain, total_mapped, total_genes)"
   ]
  },
  {
   "cell_type": "markdown",
   "metadata": {},
   "source": [
    "Get human-friendly names from online"
   ]
  },
  {
   "cell_type": "code",
   "execution_count": 13,
   "metadata": {},
   "outputs": [],
   "source": [
    "def batch(iterable, n=1):\n",
    "    l = len(iterable)\n",
    "    for ndx in range(0, l, n):\n",
    "        yield iterable[ndx:min(ndx + n, l)]"
   ]
  },
  {
   "cell_type": "code",
   "execution_count": 14,
   "metadata": {},
   "outputs": [
    {
     "name": "stdout",
     "output_type": "stream",
     "text": [
      "1000\n",
      "1000\n",
      "1000\n",
      "1000\n",
      "1000\n",
      "1000\n",
      "600\n"
     ]
    },
    {
     "data": {
      "text/plain": [
       "{'assembly_name': 'GRCm38',\n",
       " 'biotype': 'protein_coding',\n",
       " 'db_type': 'core',\n",
       " 'description': 'myosin binding protein C, cardiac [Source:MGI Symbol;Acc:MGI:102844]',\n",
       " 'display_name': 'Mybpc3',\n",
       " 'end': 91136516,\n",
       " 'id': 'ENSMUSG00000002100',\n",
       " 'logic_name': 'ensembl_havana_gene',\n",
       " 'object_type': 'Gene',\n",
       " 'seq_region_name': '2',\n",
       " 'source': 'ensembl_havana',\n",
       " 'species': 'mus_musculus',\n",
       " 'start': 91118144,\n",
       " 'strand': 1,\n",
       " 'version': 15}"
      ]
     },
     "execution_count": 14,
     "metadata": {},
     "output_type": "execute_result"
    }
   ],
   "source": [
    "from bioservices import Ensembl\n",
    "\n",
    "ensembl_ids = list(transcript_mapping.keys())\n",
    "ens = Ensembl()\n",
    "\n",
    "ensembl_lookup = {}\n",
    "for x in batch(ensembl_ids, 1000):\n",
    "    batch_ids = [i for i in x]\n",
    "    print(len(batch_ids))\n",
    "    lookup = ens.post_lookup_by_id(identifiers=batch_ids)\n",
    "    ensembl_lookup.update(lookup)\n",
    "    \n",
    "    \n",
    "ensembl_lookup['ENSMUSG00000002100']"
   ]
  },
  {
   "cell_type": "markdown",
   "metadata": {},
   "source": [
    "## Map UniProt IDs to Reactions"
   ]
  },
  {
   "cell_type": "code",
   "execution_count": 15,
   "metadata": {},
   "outputs": [],
   "source": [
    "protein_mapping, id_to_names = uniprot_to_reaction(certain, species)"
   ]
  },
  {
   "cell_type": "code",
   "execution_count": 16,
   "metadata": {},
   "outputs": [
    {
     "name": "stdout",
     "output_type": "stream",
     "text": [
      "P14753 [{'reaction_id': 'R-MMU-209310', 'reaction_name': 'Murine JAK2 binds to the Erythropoietin receptor, EpoR'}]\n",
      "Q60754 [{'reaction_id': 'R-MMU-2247510', 'reaction_name': 'MARCO:ligand is endocytosed'}, {'reaction_id': 'R-MMU-2173783', 'reaction_name': 'Marco binds ligands'}]\n",
      "P30204 [{'reaction_id': 'R-MMU-2507854', 'reaction_name': 'MSR1:ligand (SCARA1:ligand, SR-A:ligand) is endocytosed'}, {'reaction_id': 'R-MMU-2173779', 'reaction_name': 'Msr1 (Scara1) Binds Ligands'}]\n"
     ]
    }
   ],
   "source": [
    "for uniprot_id in certain[0:3]:\n",
    "    print(uniprot_id, protein_mapping[uniprot_id])\n",
    "    print"
   ]
  },
  {
   "cell_type": "markdown",
   "metadata": {},
   "source": [
    "Get human-friendly names from online"
   ]
  },
  {
   "cell_type": "code",
   "execution_count": 17,
   "metadata": {},
   "outputs": [
    {
     "name": "stdout",
     "output_type": "stream",
     "text": [
      "5987\n"
     ]
    }
   ],
   "source": [
    "from bioservices import UniProt\n",
    "\n",
    "uniprot = UniProt()\n",
    "uniprot_ids = certain\n",
    "res = uniprot.retrieve(uniprot_ids)\n",
    "print(len(res))"
   ]
  },
  {
   "cell_type": "code",
   "execution_count": 18,
   "metadata": {},
   "outputs": [],
   "source": [
    "protein_metadata = {}\n",
    "for r in res:\n",
    "    for key in r['accession']:\n",
    "        protein_id = key.contents[0]    \n",
    "        for x in r['recommendedname']:\n",
    "            tag = x.find('shortname')\n",
    "            if tag is None:\n",
    "                tag = x.find('fullname')\n",
    "            label = tag.contents[0]\n",
    "            protein_metadata[protein_id] = {'display_name': label}"
   ]
  },
  {
   "cell_type": "code",
   "execution_count": 19,
   "metadata": {},
   "outputs": [
    {
     "name": "stdout",
     "output_type": "stream",
     "text": [
      "P14753 {'display_name': 'EPO-R'}\n"
     ]
    }
   ],
   "source": [
    "for protein_id in protein_metadata:\n",
    "    print(protein_id, protein_metadata[protein_id])\n",
    "    break"
   ]
  },
  {
   "cell_type": "markdown",
   "metadata": {},
   "source": [
    "## Map KEGG Compound IDs to Reactions"
   ]
  },
  {
   "cell_type": "markdown",
   "metadata": {},
   "source": [
    "Load a dataframe containing the KEGG IDs of identified compounds only"
   ]
  },
  {
   "cell_type": "code",
   "execution_count": 20,
   "metadata": {},
   "outputs": [],
   "source": [
    "peak_df = pd.read_csv(os.path.join(basedir, 'data/my_analysis_peaks.csv'), index_col=0)"
   ]
  },
  {
   "cell_type": "code",
   "execution_count": 21,
   "metadata": {},
   "outputs": [
    {
     "data": {
      "text/plain": [
       "(109, 11)"
      ]
     },
     "execution_count": 21,
     "metadata": {},
     "output_type": "execute_result"
    }
   ],
   "source": [
    "peak_df.shape"
   ]
  },
  {
   "cell_type": "code",
   "execution_count": 22,
   "metadata": {},
   "outputs": [
    {
     "data": {
      "text/html": [
       "<div>\n",
       "<style scoped>\n",
       "    .dataframe tbody tr th:only-of-type {\n",
       "        vertical-align: middle;\n",
       "    }\n",
       "\n",
       "    .dataframe tbody tr th {\n",
       "        vertical-align: top;\n",
       "    }\n",
       "\n",
       "    .dataframe thead th {\n",
       "        text-align: right;\n",
       "    }\n",
       "</style>\n",
       "<table border=\"1\" class=\"dataframe\">\n",
       "  <thead>\n",
       "    <tr style=\"text-align: right;\">\n",
       "      <th></th>\n",
       "      <th>sec_id</th>\n",
       "      <th>mass</th>\n",
       "      <th>rt</th>\n",
       "      <th>polarity</th>\n",
       "      <th>c_id</th>\n",
       "      <th>formula</th>\n",
       "      <th>adduct</th>\n",
       "      <th>rc_id</th>\n",
       "      <th>compound</th>\n",
       "      <th>db</th>\n",
       "      <th>identifier</th>\n",
       "    </tr>\n",
       "    <tr>\n",
       "      <th>pid</th>\n",
       "      <th></th>\n",
       "      <th></th>\n",
       "      <th></th>\n",
       "      <th></th>\n",
       "      <th></th>\n",
       "      <th></th>\n",
       "      <th></th>\n",
       "      <th></th>\n",
       "      <th></th>\n",
       "      <th></th>\n",
       "      <th></th>\n",
       "    </tr>\n",
       "  </thead>\n",
       "  <tbody>\n",
       "    <tr>\n",
       "      <th>741583</th>\n",
       "      <td>1</td>\n",
       "      <td>147.076381</td>\n",
       "      <td>905.000626</td>\n",
       "      <td>positive</td>\n",
       "      <td>2825862</td>\n",
       "      <td>C5H10N2O3</td>\n",
       "      <td>M+H</td>\n",
       "      <td>3453657</td>\n",
       "      <td>L-Glutamine</td>\n",
       "      <td>kegg</td>\n",
       "      <td>C00064</td>\n",
       "    </tr>\n",
       "    <tr>\n",
       "      <th>741598</th>\n",
       "      <td>16</td>\n",
       "      <td>162.076139</td>\n",
       "      <td>891.966177</td>\n",
       "      <td>positive</td>\n",
       "      <td>2826034</td>\n",
       "      <td>C6H11NO4</td>\n",
       "      <td>M+H</td>\n",
       "      <td>3453882</td>\n",
       "      <td>L-2-Aminoadipate</td>\n",
       "      <td>kegg</td>\n",
       "      <td>C00956</td>\n",
       "    </tr>\n",
       "    <tr>\n",
       "      <th>741599</th>\n",
       "      <td>17</td>\n",
       "      <td>116.070596</td>\n",
       "      <td>771.412376</td>\n",
       "      <td>positive</td>\n",
       "      <td>2826041</td>\n",
       "      <td>C5H9NO2</td>\n",
       "      <td>M+H</td>\n",
       "      <td>3453891</td>\n",
       "      <td>L-Proline</td>\n",
       "      <td>kegg</td>\n",
       "      <td>C00148</td>\n",
       "    </tr>\n",
       "    <tr>\n",
       "      <th>741611</th>\n",
       "      <td>29</td>\n",
       "      <td>132.101919</td>\n",
       "      <td>677.261473</td>\n",
       "      <td>positive</td>\n",
       "      <td>2826103</td>\n",
       "      <td>C6H13NO2</td>\n",
       "      <td>M+H</td>\n",
       "      <td>3453976</td>\n",
       "      <td>L-Leucine</td>\n",
       "      <td>kegg</td>\n",
       "      <td>C00123</td>\n",
       "    </tr>\n",
       "    <tr>\n",
       "      <th>741680</th>\n",
       "      <td>98</td>\n",
       "      <td>132.101919</td>\n",
       "      <td>646.385592</td>\n",
       "      <td>positive</td>\n",
       "      <td>2826221</td>\n",
       "      <td>C6H13NO2</td>\n",
       "      <td>M+H</td>\n",
       "      <td>3454135</td>\n",
       "      <td>L-Leucine</td>\n",
       "      <td>kegg</td>\n",
       "      <td>C00123</td>\n",
       "    </tr>\n",
       "  </tbody>\n",
       "</table>\n",
       "</div>"
      ],
      "text/plain": [
       "        sec_id        mass          rt  polarity     c_id    formula adduct  \\\n",
       "pid                                                                           \n",
       "741583       1  147.076381  905.000626  positive  2825862  C5H10N2O3    M+H   \n",
       "741598      16  162.076139  891.966177  positive  2826034   C6H11NO4    M+H   \n",
       "741599      17  116.070596  771.412376  positive  2826041    C5H9NO2    M+H   \n",
       "741611      29  132.101919  677.261473  positive  2826103   C6H13NO2    M+H   \n",
       "741680      98  132.101919  646.385592  positive  2826221   C6H13NO2    M+H   \n",
       "\n",
       "          rc_id          compound    db identifier  \n",
       "pid                                                 \n",
       "741583  3453657       L-Glutamine  kegg     C00064  \n",
       "741598  3453882  L-2-Aminoadipate  kegg     C00956  \n",
       "741599  3453891         L-Proline  kegg     C00148  \n",
       "741611  3453976         L-Leucine  kegg     C00123  \n",
       "741680  3454135         L-Leucine  kegg     C00123  "
      ]
     },
     "execution_count": 22,
     "metadata": {},
     "output_type": "execute_result"
    }
   ],
   "source": [
    "peak_df.head()"
   ]
  },
  {
   "cell_type": "code",
   "execution_count": 23,
   "metadata": {},
   "outputs": [],
   "source": [
    "compound_ids = sorted(list(set(peak_df['identifier'].values.tolist())))"
   ]
  },
  {
   "cell_type": "code",
   "execution_count": 24,
   "metadata": {},
   "outputs": [
    {
     "ename": "UnboundLocalError",
     "evalue": "local variable 'session' referenced before assignment",
     "output_type": "error",
     "traceback": [
      "\u001b[0;31m---------------------------------------------------------------------------\u001b[0m",
      "\u001b[0;31mRecursionError\u001b[0m                            Traceback (most recent call last)",
      "\u001b[0;32m~/git/omics_integration/web_omics/linker/reactome.py\u001b[0m in \u001b[0;36mcompound_to_reaction\u001b[0;34m(compound_ids, species)\u001b[0m\n\u001b[1;32m    126\u001b[0m         driver = GraphDatabase.driver(\"bolt://localhost:7687\",\n\u001b[0;32m--> 127\u001b[0;31m                                       auth=basic_auth(\"neo4j\", \"neo4j\"))\n\u001b[0m\u001b[1;32m    128\u001b[0m         \u001b[0msession\u001b[0m \u001b[0;34m=\u001b[0m \u001b[0mdriver\u001b[0m\u001b[0;34m.\u001b[0m\u001b[0msession\u001b[0m\u001b[0;34m(\u001b[0m\u001b[0;34m)\u001b[0m\u001b[0;34m\u001b[0m\u001b[0m\n",
      "\u001b[0;32m~/.local/share/virtualenvs/web_omics-daZLgdjC/lib/python3.6/site-packages/neo4j/v1/api.py\u001b[0m in \u001b[0;36mdriver\u001b[0;34m(cls, uri, **config)\u001b[0m\n\u001b[1;32m    127\u001b[0m         \u001b[0;32melse\u001b[0m\u001b[0;34m:\u001b[0m\u001b[0;34m\u001b[0m\u001b[0m\n\u001b[0;32m--> 128\u001b[0;31m             \u001b[0;32mreturn\u001b[0m \u001b[0mdriver_class\u001b[0m\u001b[0;34m(\u001b[0m\u001b[0muri\u001b[0m\u001b[0;34m,\u001b[0m \u001b[0;34m**\u001b[0m\u001b[0mconfig\u001b[0m\u001b[0;34m)\u001b[0m\u001b[0;34m\u001b[0m\u001b[0m\n\u001b[0m\u001b[1;32m    129\u001b[0m \u001b[0;34m\u001b[0m\u001b[0m\n",
      "\u001b[0;32m~/.local/share/virtualenvs/web_omics-daZLgdjC/lib/python3.6/site-packages/neo4j/v1/direct.py\u001b[0m in \u001b[0;36m__init__\u001b[0;34m(self, uri, **config)\u001b[0m\n\u001b[1;32m     69\u001b[0m         \u001b[0mself\u001b[0m\u001b[0;34m.\u001b[0m\u001b[0maddress\u001b[0m \u001b[0;34m=\u001b[0m \u001b[0mSocketAddress\u001b[0m\u001b[0;34m.\u001b[0m\u001b[0mfrom_uri\u001b[0m\u001b[0;34m(\u001b[0m\u001b[0muri\u001b[0m\u001b[0;34m,\u001b[0m \u001b[0mDEFAULT_PORT\u001b[0m\u001b[0;34m)\u001b[0m\u001b[0;34m\u001b[0m\u001b[0m\n\u001b[0;32m---> 70\u001b[0;31m         \u001b[0mself\u001b[0m\u001b[0;34m.\u001b[0m\u001b[0msecurity_plan\u001b[0m \u001b[0;34m=\u001b[0m \u001b[0msecurity_plan\u001b[0m \u001b[0;34m=\u001b[0m \u001b[0mSecurityPlan\u001b[0m\u001b[0;34m.\u001b[0m\u001b[0mbuild\u001b[0m\u001b[0;34m(\u001b[0m\u001b[0;34m**\u001b[0m\u001b[0mconfig\u001b[0m\u001b[0;34m)\u001b[0m\u001b[0;34m\u001b[0m\u001b[0m\n\u001b[0m\u001b[1;32m     71\u001b[0m         \u001b[0mself\u001b[0m\u001b[0;34m.\u001b[0m\u001b[0mencrypted\u001b[0m \u001b[0;34m=\u001b[0m \u001b[0msecurity_plan\u001b[0m\u001b[0;34m.\u001b[0m\u001b[0mencrypted\u001b[0m\u001b[0;34m\u001b[0m\u001b[0m\n",
      "\u001b[0;32m~/.local/share/virtualenvs/web_omics-daZLgdjC/lib/python3.6/site-packages/neo4j/v1/security.py\u001b[0m in \u001b[0;36mbuild\u001b[0;34m(cls, **config)\u001b[0m\n\u001b[1;32m     60\u001b[0m             \u001b[0mssl_context\u001b[0m \u001b[0;34m=\u001b[0m \u001b[0mSSLContext\u001b[0m\u001b[0;34m(\u001b[0m\u001b[0mPROTOCOL_SSLv23\u001b[0m\u001b[0;34m)\u001b[0m\u001b[0;34m\u001b[0m\u001b[0m\n\u001b[0;32m---> 61\u001b[0;31m             \u001b[0mssl_context\u001b[0m\u001b[0;34m.\u001b[0m\u001b[0moptions\u001b[0m \u001b[0;34m|=\u001b[0m \u001b[0mOP_NO_SSLv2\u001b[0m\u001b[0;34m\u001b[0m\u001b[0m\n\u001b[0m\u001b[1;32m     62\u001b[0m             \u001b[0;32mif\u001b[0m \u001b[0mtrust\u001b[0m \u001b[0;34m==\u001b[0m \u001b[0mTRUST_ON_FIRST_USE\u001b[0m\u001b[0;34m:\u001b[0m\u001b[0;34m\u001b[0m\u001b[0m\n",
      "\u001b[0;32m/usr/local/Cellar/python3/3.6.4_2/Frameworks/Python.framework/Versions/3.6/lib/python3.6/ssl.py\u001b[0m in \u001b[0;36moptions\u001b[0;34m(self, value)\u001b[0m\n\u001b[1;32m    464\u001b[0m     \u001b[0;32mdef\u001b[0m \u001b[0moptions\u001b[0m\u001b[0;34m(\u001b[0m\u001b[0mself\u001b[0m\u001b[0;34m,\u001b[0m \u001b[0mvalue\u001b[0m\u001b[0;34m)\u001b[0m\u001b[0;34m:\u001b[0m\u001b[0;34m\u001b[0m\u001b[0m\n\u001b[0;32m--> 465\u001b[0;31m         \u001b[0msuper\u001b[0m\u001b[0;34m(\u001b[0m\u001b[0mSSLContext\u001b[0m\u001b[0;34m,\u001b[0m \u001b[0mSSLContext\u001b[0m\u001b[0;34m)\u001b[0m\u001b[0;34m.\u001b[0m\u001b[0moptions\u001b[0m\u001b[0;34m.\u001b[0m\u001b[0m__set__\u001b[0m\u001b[0;34m(\u001b[0m\u001b[0mself\u001b[0m\u001b[0;34m,\u001b[0m \u001b[0mvalue\u001b[0m\u001b[0;34m)\u001b[0m\u001b[0;34m\u001b[0m\u001b[0m\n\u001b[0m\u001b[1;32m    466\u001b[0m \u001b[0;34m\u001b[0m\u001b[0m\n",
      "... last 1 frames repeated, from the frame below ...\n",
      "\u001b[0;32m/usr/local/Cellar/python3/3.6.4_2/Frameworks/Python.framework/Versions/3.6/lib/python3.6/ssl.py\u001b[0m in \u001b[0;36moptions\u001b[0;34m(self, value)\u001b[0m\n\u001b[1;32m    464\u001b[0m     \u001b[0;32mdef\u001b[0m \u001b[0moptions\u001b[0m\u001b[0;34m(\u001b[0m\u001b[0mself\u001b[0m\u001b[0;34m,\u001b[0m \u001b[0mvalue\u001b[0m\u001b[0;34m)\u001b[0m\u001b[0;34m:\u001b[0m\u001b[0;34m\u001b[0m\u001b[0m\n\u001b[0;32m--> 465\u001b[0;31m         \u001b[0msuper\u001b[0m\u001b[0;34m(\u001b[0m\u001b[0mSSLContext\u001b[0m\u001b[0;34m,\u001b[0m \u001b[0mSSLContext\u001b[0m\u001b[0;34m)\u001b[0m\u001b[0;34m.\u001b[0m\u001b[0moptions\u001b[0m\u001b[0;34m.\u001b[0m\u001b[0m__set__\u001b[0m\u001b[0;34m(\u001b[0m\u001b[0mself\u001b[0m\u001b[0;34m,\u001b[0m \u001b[0mvalue\u001b[0m\u001b[0;34m)\u001b[0m\u001b[0;34m\u001b[0m\u001b[0m\n\u001b[0m\u001b[1;32m    466\u001b[0m \u001b[0;34m\u001b[0m\u001b[0m\n",
      "\u001b[0;31mRecursionError\u001b[0m: maximum recursion depth exceeded while calling a Python object",
      "\nDuring handling of the above exception, another exception occurred:\n",
      "\u001b[0;31mUnboundLocalError\u001b[0m                         Traceback (most recent call last)",
      "\u001b[0;32m<ipython-input-24-6bd3c9a8e583>\u001b[0m in \u001b[0;36m<module>\u001b[0;34m()\u001b[0m\n\u001b[0;32m----> 1\u001b[0;31m \u001b[0mcompound_mapping\u001b[0m\u001b[0;34m,\u001b[0m \u001b[0mid_to_names\u001b[0m \u001b[0;34m=\u001b[0m \u001b[0mcompound_to_reaction\u001b[0m\u001b[0;34m(\u001b[0m\u001b[0mcompound_ids\u001b[0m\u001b[0;34m,\u001b[0m \u001b[0mspecies\u001b[0m\u001b[0;34m)\u001b[0m\u001b[0;34m\u001b[0m\u001b[0m\n\u001b[0m",
      "\u001b[0;32m~/git/omics_integration/web_omics/linker/reactome.py\u001b[0m in \u001b[0;36mcompound_to_reaction\u001b[0;34m(compound_ids, species)\u001b[0m\n\u001b[1;32m    159\u001b[0m \u001b[0;34m\u001b[0m\u001b[0m\n\u001b[1;32m    160\u001b[0m     \u001b[0;32mfinally\u001b[0m\u001b[0;34m:\u001b[0m\u001b[0;34m\u001b[0m\u001b[0m\n\u001b[0;32m--> 161\u001b[0;31m         \u001b[0msession\u001b[0m\u001b[0;34m.\u001b[0m\u001b[0mclose\u001b[0m\u001b[0;34m(\u001b[0m\u001b[0;34m)\u001b[0m\u001b[0;34m\u001b[0m\u001b[0m\n\u001b[0m\u001b[1;32m    162\u001b[0m \u001b[0;34m\u001b[0m\u001b[0m\n\u001b[1;32m    163\u001b[0m     \u001b[0;32mreturn\u001b[0m \u001b[0mdict\u001b[0m\u001b[0;34m(\u001b[0m\u001b[0mresults\u001b[0m\u001b[0;34m)\u001b[0m\u001b[0;34m,\u001b[0m \u001b[0mid_to_names\u001b[0m\u001b[0;34m\u001b[0m\u001b[0m\n",
      "\u001b[0;31mUnboundLocalError\u001b[0m: local variable 'session' referenced before assignment"
     ]
    }
   ],
   "source": [
    "compound_mapping, id_to_names = compound_to_reaction(compound_ids, species)"
   ]
  },
  {
   "cell_type": "code",
   "execution_count": null,
   "metadata": {},
   "outputs": [],
   "source": [
    "print(list(compound_mapping.keys())[0:10])"
   ]
  },
  {
   "cell_type": "code",
   "execution_count": null,
   "metadata": {},
   "outputs": [],
   "source": [
    "print(compound_mapping)"
   ]
  },
  {
   "cell_type": "markdown",
   "metadata": {},
   "source": [
    "## Map Reactions to Pathways"
   ]
  },
  {
   "cell_type": "code",
   "execution_count": null,
   "metadata": {},
   "outputs": [],
   "source": [
    "protein_reactions = list(set(get_reaction_ids(protein_mapping)))\n",
    "compound_reactions = list(set(get_reaction_ids(compound_mapping)))\n",
    "combined_reactions = list(set(protein_reactions + compound_reactions))\n",
    "\n",
    "print(len(protein_reactions))\n",
    "print(len(compound_reactions))\n",
    "print(len(combined_reactions))"
   ]
  },
  {
   "cell_type": "code",
   "execution_count": null,
   "metadata": {},
   "outputs": [],
   "source": [
    "print(combined_reactions[0:10])"
   ]
  },
  {
   "cell_type": "markdown",
   "metadata": {},
   "source": [
    "This is a map of reactions to pathways that are under the top-level biochemical ('Metabolism') pathways"
   ]
  },
  {
   "cell_type": "code",
   "execution_count": null,
   "metadata": {},
   "outputs": [],
   "source": [
    "pathway_mapping = reaction_to_metabolite_pathway(combined_reactions, species, show_progress_bar=True, leaf=True)\n",
    "print(len(pathway_mapping))\n",
    "print(pathway_mapping['R-MMU-2395768'])"
   ]
  },
  {
   "cell_type": "code",
   "execution_count": null,
   "metadata": {},
   "outputs": [],
   "source": [
    "kegg_location = os.path.join(basedir, 'data/kegg/kegg.xml')\n",
    "kegg_dict = produce_kegg_dict(kegg_location, 'id')"
   ]
  },
  {
   "cell_type": "code",
   "execution_count": null,
   "metadata": {
    "scrolled": true
   },
   "outputs": [],
   "source": [
    "reaction_df = get_reaction_df(transcript_mapping, protein_mapping, compound_mapping, pathway_mapping, species)\n",
    "reaction_df.sort_values(by=['compound_coverage', 'protein_coverage'], inplace=True, ascending=False)\n",
    "print(reaction_df.shape)"
   ]
  },
  {
   "cell_type": "code",
   "execution_count": null,
   "metadata": {
    "scrolled": false
   },
   "outputs": [],
   "source": [
    "reaction_df"
   ]
  },
  {
   "cell_type": "code",
   "execution_count": null,
   "metadata": {},
   "outputs": [],
   "source": [
    "reaction_df.to_csv('reaction_df.tsv', sep='\\t', index=False)"
   ]
  },
  {
   "cell_type": "markdown",
   "metadata": {},
   "source": [
    "### How many unique pathways are linked to reactions?"
   ]
  },
  {
   "cell_type": "code",
   "execution_count": null,
   "metadata": {},
   "outputs": [],
   "source": [
    "reaction_df['pathway_names'].values"
   ]
  },
  {
   "cell_type": "code",
   "execution_count": null,
   "metadata": {},
   "outputs": [],
   "source": [
    "reaction_df['pathway_ids'].values"
   ]
  },
  {
   "cell_type": "code",
   "execution_count": null,
   "metadata": {},
   "outputs": [],
   "source": [
    "pathway_ids_to_names = {}\n",
    "for ids, names in zip(reaction_df['pathway_ids'].values, reaction_df['pathway_names'].values):\n",
    "    pathway_ids = ids.split(':')\n",
    "    pathway_names = names.split(':')\n",
    "    for pid, pn in zip(pathway_ids, pathway_names):\n",
    "        pathway_ids_to_names[pid] = pn"
   ]
  },
  {
   "cell_type": "code",
   "execution_count": null,
   "metadata": {},
   "outputs": [],
   "source": [
    "data = []\n",
    "for pid, name in pathway_ids_to_names.items():\n",
    "    row = (pid, name.lower(), )\n",
    "    data.append(row)\n",
    "    \n",
    "pathway_df = pd.DataFrame(data, columns=['pathway_id', 'pathway_name'])\n",
    "pathway_df = pathway_df.sort_values(by='pathway_name').reset_index(drop=True)\n",
    "display(pathway_df)"
   ]
  },
  {
   "cell_type": "markdown",
   "metadata": {},
   "source": [
    "### Hypergeometric test"
   ]
  },
  {
   "cell_type": "code",
   "execution_count": null,
   "metadata": {},
   "outputs": [],
   "source": [
    "pw_f, pathway_id_to_name = get_all_pathways_formulae(species)"
   ]
  },
  {
   "cell_type": "code",
   "execution_count": null,
   "metadata": {},
   "outputs": [],
   "source": [
    "detected = set(peak_df[['formula']].values.flatten())\n",
    "print(detected, len(detected))"
   ]
  },
  {
   "cell_type": "code",
   "execution_count": null,
   "metadata": {
    "scrolled": true
   },
   "outputs": [],
   "source": [
    "data = []\n",
    "for pathway_id in pw_f:\n",
    "    \n",
    "    pathway_name = pathway_id_to_name[pathway_id]\n",
    "    \n",
    "    formulae = pw_f[pathway_id]\n",
    "    formulae_count = len(formulae)\n",
    "    formulae_str = ','.join(sorted(formulae))\n",
    "    \n",
    "    detected_f = set([x for x in formulae if x in detected])\n",
    "    detected_count = len(detected_f)\n",
    "    detected_str = ','.join(sorted(detected_f))\n",
    "    \n",
    "    row = [pathway_id, pathway_name, formulae_str, formulae_count, detected_str, detected_count]\n",
    "    data.append(row)\n",
    "    \n",
    "all_pathway_df = pd.DataFrame(data, columns=[\n",
    "    'pathway_id', 'pathway_name', \n",
    "    'formula', 'formula_count',\n",
    "    'detected', 'detected_count'])\n",
    "all_pathway_df.set_index('pathway_id', drop=True, inplace=True)"
   ]
  },
  {
   "cell_type": "markdown",
   "metadata": {},
   "source": [
    "Compute hypergeometric p-values"
   ]
  },
  {
   "cell_type": "code",
   "execution_count": null,
   "metadata": {},
   "outputs": [],
   "source": [
    "from scipy.stats import hypergeom"
   ]
  },
  {
   "cell_type": "code",
   "execution_count": null,
   "metadata": {},
   "outputs": [],
   "source": [
    "# M = the number of unique formula in all pathways in Reactome\n",
    "M = len(set(','.join(all_pathway_df['formula'].values).split(',')))\n",
    "\n",
    "# N = the number of unique formula in all pathways in the dataset\n",
    "N = len(set(','.join(all_pathway_df['detected'].values).split(',')))\n",
    "\n",
    "SMOOTHING = 1\n",
    "\n",
    "data = []\n",
    "for idx, row in all_pathway_df.iterrows():\n",
    "        \n",
    "    # k = the number of unique formula in the pathway of interest in the dataset\n",
    "    k = row['detected_count']\n",
    "    \n",
    "    # n = the number of unique formula in the pathway of interest\n",
    "    n = row['formula_count'] + SMOOTHING\n",
    "        \n",
    "    p_value = hypergeom.sf(k, M, n, N)\n",
    "    assert p_value > 0\n",
    "    new_row = [idx, p_value]\n",
    "    data.append(new_row)\n",
    "\n",
    "p_value_df = pd.DataFrame(data, columns=[\n",
    "    'pathway_id', 'p_value'])\n",
    "p_value_df.set_index('pathway_id', drop=True, inplace=True)"
   ]
  },
  {
   "cell_type": "code",
   "execution_count": null,
   "metadata": {
    "scrolled": false
   },
   "outputs": [],
   "source": [
    "combined = pd.concat([all_pathway_df, p_value_df], axis=1)\n",
    "combined = combined.sort_values(by='p_value', ascending=True).reset_index(drop=True)\n",
    "display(combined)\n",
    "combined.to_csv('pathway_df.csv', index=False, encoding='utf-8')"
   ]
  },
  {
   "cell_type": "code",
   "execution_count": null,
   "metadata": {},
   "outputs": [],
   "source": []
  }
 ],
 "metadata": {
  "kernelspec": {
   "display_name": "Python 3",
   "language": "python",
   "name": "python3"
  },
  "language_info": {
   "codemirror_mode": {
    "name": "ipython",
    "version": 3
   },
   "file_extension": ".py",
   "mimetype": "text/x-python",
   "name": "python",
   "nbconvert_exporter": "python",
   "pygments_lexer": "ipython3",
   "version": "3.6.4"
  }
 },
 "nbformat": 4,
 "nbformat_minor": 2
}
