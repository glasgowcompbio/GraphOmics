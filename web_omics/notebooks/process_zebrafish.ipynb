{
 "cells": [
  {
   "cell_type": "markdown",
   "metadata": {},
   "source": [
    "Notebook to process zebrafish data into the right format"
   ]
  },
  {
   "cell_type": "code",
   "execution_count": 1,
   "metadata": {},
   "outputs": [],
   "source": [
    "import numpy as np\n",
    "import pandas as pd"
   ]
  },
  {
   "cell_type": "code",
   "execution_count": 2,
   "metadata": {},
   "outputs": [],
   "source": [
    "base_dir = 'C:/Users/joewa/Work/omics_integration/Transcriptomic, proteomic, and metabolomic landscape'"
   ]
  },
  {
   "cell_type": "code",
   "execution_count": 3,
   "metadata": {},
   "outputs": [],
   "source": [
    "def load_data(base_dir, case, control):\n",
    "    label = '%s_vs_%s' % (case, control)\n",
    "    fname = base_dir + '/' + label + '.csv'\n",
    "    df = pd.read_csv(fname, index_col=0)\n",
    "    return df[['log2FoldChange', 'FDR']].rename(columns={\n",
    "        'log2FoldChange': 'FC_%s' % label, \n",
    "        'FDR': 'padj_%s' % label\n",
    "    })"
   ]
  },
  {
   "cell_type": "code",
   "execution_count": 4,
   "metadata": {},
   "outputs": [],
   "source": [
    "distal_vs_middle = load_data(base_dir, 'distal', 'middle') "
   ]
  },
  {
   "cell_type": "code",
   "execution_count": 5,
   "metadata": {},
   "outputs": [],
   "source": [
    "distal_vs_proximal = load_data(base_dir, 'distal', 'proximal')"
   ]
  },
  {
   "cell_type": "code",
   "execution_count": 6,
   "metadata": {},
   "outputs": [],
   "source": [
    "middle_vs_proximal = load_data(base_dir, 'middle', 'proximal')"
   ]
  },
  {
   "cell_type": "code",
   "execution_count": 7,
   "metadata": {},
   "outputs": [],
   "source": [
    "df = pd.concat([distal_vs_middle, distal_vs_proximal, middle_vs_proximal], axis=1, sort=True)"
   ]
  },
  {
   "cell_type": "code",
   "execution_count": 12,
   "metadata": {},
   "outputs": [],
   "source": [
    "df.to_csv(base_dir + '/' + 'data/gene_data.csv', index_label='Identifier')"
   ]
  },
  {
   "cell_type": "markdown",
   "metadata": {},
   "source": [
    "Add columns to say which p-values are significant"
   ]
  },
  {
   "cell_type": "code",
   "execution_count": 45,
   "metadata": {},
   "outputs": [],
   "source": [
    "T_TEST_THRESHOLD = 0.05\n",
    "PADJ_COL_PREFIX = 'padj_'"
   ]
  },
  {
   "cell_type": "code",
   "execution_count": 51,
   "metadata": {},
   "outputs": [],
   "source": [
    "data_df = df.copy()"
   ]
  },
  {
   "cell_type": "code",
   "execution_count": 49,
   "metadata": {},
   "outputs": [
    {
     "name": "stderr",
     "output_type": "stream",
     "text": [
      "c:\\users\\joewa\\.virtualenvs\\web_omics-makc_z5x\\lib\\site-packages\\ipykernel_launcher.py:12: RuntimeWarning: invalid value encountered in greater\n",
      "  if sys.path[0] == '':\n",
      "c:\\users\\joewa\\.virtualenvs\\web_omics-makc_z5x\\lib\\site-packages\\ipykernel_launcher.py:12: RuntimeWarning: invalid value encountered in less\n",
      "  if sys.path[0] == '':\n"
     ]
    }
   ],
   "source": [
    "if data_df is not None:\n",
    "    padj_cols = list(filter(lambda x: x.startswith(PADJ_COL_PREFIX), data_df.columns))\n",
    "    padj_col_count = len(padj_cols)\n",
    "    if padj_col_count > 0:\n",
    "        for index, row in data_df.iterrows():\n",
    "            padj_values = row[padj_cols].values\n",
    "            significant_all = False\n",
    "            significant_any = False\n",
    "            try:\n",
    "                check = (padj_values > 0) & (padj_values < T_TEST_THRESHOLD)\n",
    "                if len(check) > 0:\n",
    "                    significant_all = np.all(check)\n",
    "                    significant_any = np.any(check)\n",
    "            except RuntimeWarning:\n",
    "                print(row)\n",
    "            data_df.loc[index, 'significant_all'] = bool(significant_all)\n",
    "            data_df.loc[index, 'significant_any'] = bool(significant_any)"
   ]
  },
  {
   "cell_type": "code",
   "execution_count": 42,
   "metadata": {},
   "outputs": [
    {
     "data": {
      "text/plain": [
       "bool"
      ]
     },
     "execution_count": 42,
     "metadata": {},
     "output_type": "execute_result"
    }
   ],
   "source": [
    "type(data_df.head(10).to_dict()['significant_any']['ENSDARG00000000001'])"
   ]
  },
  {
   "cell_type": "code",
   "execution_count": null,
   "metadata": {},
   "outputs": [],
   "source": []
  }
 ],
 "metadata": {
  "kernelspec": {
   "display_name": "Python 3",
   "language": "python",
   "name": "python3"
  },
  "language_info": {
   "codemirror_mode": {
    "name": "ipython",
    "version": 3
   },
   "file_extension": ".py",
   "mimetype": "text/x-python",
   "name": "python",
   "nbconvert_exporter": "python",
   "pygments_lexer": "ipython3",
   "version": "3.6.5"
  }
 },
 "nbformat": 4,
 "nbformat_minor": 2
}
