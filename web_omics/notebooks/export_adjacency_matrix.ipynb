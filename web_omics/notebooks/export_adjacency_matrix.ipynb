{
 "cells": [
  {
   "cell_type": "markdown",
   "metadata": {},
   "source": [
    "# Export Adjacency Matrix for MRF"
   ]
  },
  {
   "cell_type": "code",
   "execution_count": 1,
   "metadata": {},
   "outputs": [],
   "source": [
    "import pandas as pd\n",
    "import json\n",
    "import numpy as np"
   ]
  },
  {
   "cell_type": "code",
   "execution_count": 2,
   "metadata": {},
   "outputs": [
    {
     "name": "stdout",
     "output_type": "stream",
     "text": [
      "\n",
      "        MATCH (n:Species) RETURN n.displayName AS name order by name        \n",
      "        \n",
      "\n",
      "            MATCH (tp:TopLevelPathway)-[:hasEvent*]->(p:Pathway)-[:hasEvent*]->(rle:ReactionLikeEvent)\n",
      "            WHERE\n",
      "                tp.displayName = 'Metabolism' AND\n",
      "                tp.speciesName IN {species_list} AND\n",
      "                (p)-[:hasEvent]->(rle)\n",
      "            RETURN DISTINCT\n",
      "                p.speciesName AS species_name,            \n",
      "                p.displayName AS pathway_name,\n",
      "                p.stId AS pathway_id                       \n",
      "            ORDER BY species_name, pathway_name\n",
      "        \n"
     ]
    }
   ],
   "source": [
    "from linker.models import Analysis\n",
    "from linker.views import get_last_data\n",
    "from linker.constants import *"
   ]
  },
  {
   "cell_type": "markdown",
   "metadata": {},
   "source": [
    "### Load the analysis from django"
   ]
  },
  {
   "cell_type": "code",
   "execution_count": 3,
   "metadata": {},
   "outputs": [],
   "source": [
    "analysis_id = 123\n",
    "analysis = Analysis.objects.get(pk=analysis_id)"
   ]
  },
  {
   "cell_type": "code",
   "execution_count": 4,
   "metadata": {},
   "outputs": [],
   "source": [
    "data = {}\n",
    "for k, v in DataRelationType:\n",
    "    try:\n",
    "        analysis_data = get_last_data(analysis, k)\n",
    "        data[k] = pd.DataFrame(analysis_data.json_data)\n",
    "    except IndexError:\n",
    "        continue\n",
    "    except KeyError:\n",
    "        continue"
   ]
  },
  {
   "cell_type": "code",
   "execution_count": 5,
   "metadata": {},
   "outputs": [],
   "source": [
    "gene_df = data[GENOMICS]\n",
    "protein_df = data[PROTEOMICS]\n",
    "compound_df = data[METABOLOMICS]\n",
    "gene_2_protein_df = data[GENES_TO_PROTEINS]\n",
    "protein_2_reaction_df = data[PROTEINS_TO_REACTIONS]\n",
    "compound_2_reaction_df = data[COMPOUNDS_TO_REACTIONS]\n",
    "reaction_2_pathway_df = data[REACTIONS_TO_PATHWAYS]"
   ]
  },
  {
   "cell_type": "markdown",
   "metadata": {},
   "source": [
    "### Some useful functions"
   ]
  },
  {
   "cell_type": "code",
   "execution_count": 6,
   "metadata": {},
   "outputs": [],
   "source": [
    "def df_to_dict(df, key_col, value_col):\n",
    "    return {k: set(g[value_col].tolist()) for k,g in df.groupby(key_col)}"
   ]
  },
  {
   "cell_type": "code",
   "execution_count": 7,
   "metadata": {},
   "outputs": [],
   "source": [
    "def pathway_to_gene(gene_df, gene_2_protein_df, protein_2_reaction_df, reaction_2_pathway_df):\n",
    "    df = pd.merge(gene_df, gene_2_protein_df, how='inner', on='gene_pk')\n",
    "    df = pd.merge(df, protein_2_reaction_df, how='inner', on='protein_pk')\n",
    "    df = pd.merge(df, reaction_2_pathway_df, how='inner', on='reaction_pk')\n",
    "    df = df[['gene_pk', 'pathway_pk']].replace('-', np.nan).dropna()\n",
    "    result = df_to_dict(df, 'pathway_pk', 'gene_pk')\n",
    "    return result"
   ]
  },
  {
   "cell_type": "code",
   "execution_count": 8,
   "metadata": {},
   "outputs": [],
   "source": [
    "def pathway_to_protein(protein_df, protein_2_reaction_df, reaction_2_pathway_df):\n",
    "    df = pd.merge(protein_df, protein_2_reaction_df, how='inner', on='protein_pk')\n",
    "    df = pd.merge(df, reaction_2_pathway_df, how='inner', on='reaction_pk')\n",
    "    df = df[['protein_pk', 'pathway_pk']].replace('-', np.nan).dropna()\n",
    "    result = df_to_dict(df, 'pathway_pk', 'protein_pk')\n",
    "    return result"
   ]
  },
  {
   "cell_type": "code",
   "execution_count": 9,
   "metadata": {},
   "outputs": [],
   "source": [
    "def pathway_to_compound(compound_df, compound_2_reaction_df, reaction_2_pathway_df):\n",
    "    df = pd.merge(compound_df, compound_2_reaction_df, how='inner', on='compound_pk')\n",
    "    df = pd.merge(df, reaction_2_pathway_df, how='inner', on='reaction_pk')\n",
    "    df = df[['compound_pk', 'pathway_pk']].replace('-', np.nan).dropna()\n",
    "    result = df_to_dict(df, 'pathway_pk', 'compound_pk')\n",
    "    return result"
   ]
  },
  {
   "cell_type": "code",
   "execution_count": 10,
   "metadata": {},
   "outputs": [],
   "source": [
    "def gene_to_reaction(gene_df, gene_2_protein_df, protein_2_reaction_df):\n",
    "    df = pd.merge(gene_df, gene_2_protein_df, how='inner', on='gene_pk')\n",
    "    df = pd.merge(df, protein_2_reaction_df, how='inner', on='protein_pk')\n",
    "    df = df[['gene_pk', 'reaction_pk']].replace('-', np.nan).dropna()\n",
    "    result = df_to_dict(df, 'gene_pk', 'reaction_pk')\n",
    "    return result"
   ]
  },
  {
   "cell_type": "code",
   "execution_count": 11,
   "metadata": {},
   "outputs": [],
   "source": [
    "def compound_to_reaction(compound_df, compound_2_reaction_df, reaction_2_pathway_df):\n",
    "    df = pd.merge(compound_df, compound_2_reaction_df, how='inner', on='compound_pk')\n",
    "    df = df[['compound_pk', 'reaction_pk']].replace('-', np.nan).dropna()\n",
    "    result = df_to_dict(df, 'compound_pk', 'reaction_pk')\n",
    "    return result"
   ]
  },
  {
   "cell_type": "code",
   "execution_count": 12,
   "metadata": {},
   "outputs": [],
   "source": [
    "pathway_to_gene_dict = pathway_to_gene(gene_df, gene_2_protein_df, protein_2_reaction_df, reaction_2_pathway_df)"
   ]
  },
  {
   "cell_type": "code",
   "execution_count": 13,
   "metadata": {},
   "outputs": [],
   "source": [
    "protein_2_pathway_dict = pathway_to_protein(protein_df, protein_2_reaction_df, reaction_2_pathway_df)"
   ]
  },
  {
   "cell_type": "code",
   "execution_count": 14,
   "metadata": {},
   "outputs": [],
   "source": [
    "compound_2_pathway_dict = pathway_to_compound(compound_df, compound_2_reaction_df, reaction_2_pathway_df)"
   ]
  },
  {
   "cell_type": "code",
   "execution_count": 15,
   "metadata": {},
   "outputs": [],
   "source": [
    "gene_to_reaction_dict = gene_to_reaction(gene_df, gene_2_protein_df, protein_2_reaction_df)"
   ]
  },
  {
   "cell_type": "code",
   "execution_count": 16,
   "metadata": {},
   "outputs": [],
   "source": [
    "compound_to_reaction_dict = compound_to_reaction(compound_df, compound_2_reaction_df, reaction_2_pathway_df)"
   ]
  },
  {
   "cell_type": "markdown",
   "metadata": {},
   "source": [
    "### Generate adjacency matrices for each pathway"
   ]
  },
  {
   "cell_type": "markdown",
   "metadata": {},
   "source": [
    "For each pathway $k$ we compute $D_k$, where $D_k$ is the number of entities in pathway $k$ found under the same reaction.\n",
    "\n",
    "Since we don't have protein data, we assume that the presence of one gene corresponds to the protein it produces."
   ]
  },
  {
   "cell_type": "code",
   "execution_count": 17,
   "metadata": {},
   "outputs": [],
   "source": [
    "all_pathways = set(pathway_to_gene_dict.keys()) | set(compound_2_pathway_dict.keys())"
   ]
  },
  {
   "cell_type": "code",
   "execution_count": 18,
   "metadata": {},
   "outputs": [],
   "source": [
    "gene_comparison_col = 'padj_INFEC_vs_UN'\n",
    "compound_comparison_col = 'padj_INFEC_vs_UN'\n",
    "pval_threshold = 0.15"
   ]
  },
  {
   "cell_type": "code",
   "execution_count": 19,
   "metadata": {},
   "outputs": [
    {
     "name": "stdout",
     "output_type": "stream",
     "text": [
      "2499\n",
      "6\n"
     ]
    }
   ],
   "source": [
    "significant_genes = set(gene_df[gene_df[gene_comparison_col] < pval_threshold]['gene_pk'].tolist())\n",
    "significant_compounds = set(compound_df[compound_df[compound_comparison_col] < pval_threshold]['compound_pk'].tolist())\n",
    "print(len(significant_genes))\n",
    "print(len(significant_compounds))"
   ]
  },
  {
   "cell_type": "code",
   "execution_count": null,
   "metadata": {},
   "outputs": [],
   "source": []
  }
 ],
 "metadata": {
  "kernelspec": {
   "display_name": "Django Shell-Plus",
   "language": "python",
   "name": "django_extensions"
  },
  "language_info": {
   "codemirror_mode": {
    "name": "ipython",
    "version": 3
   },
   "file_extension": ".py",
   "mimetype": "text/x-python",
   "name": "python",
   "nbconvert_exporter": "python",
   "pygments_lexer": "ipython3",
   "version": "3.6.5"
  }
 },
 "nbformat": 4,
 "nbformat_minor": 2
}
