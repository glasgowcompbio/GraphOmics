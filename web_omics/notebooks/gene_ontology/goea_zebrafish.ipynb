{
 "cells": [
  {
   "cell_type": "markdown",
   "metadata": {},
   "source": [
    "# Gene ontology analysis"
   ]
  },
  {
   "cell_type": "code",
   "execution_count": 1,
   "metadata": {},
   "outputs": [],
   "source": [
    "import pandas as pd"
   ]
  },
  {
   "cell_type": "markdown",
   "metadata": {},
   "source": [
    "## Download ontologies"
   ]
  },
  {
   "cell_type": "markdown",
   "metadata": {},
   "source": [
    "Download ontologies, a dictionary that maps GO IDs to GO terms. In most cases, we should use the basic OBO file."
   ]
  },
  {
   "cell_type": "code",
   "execution_count": 2,
   "metadata": {},
   "outputs": [
    {
     "name": "stdout",
     "output_type": "stream",
     "text": [
      "  EXISTS: go-basic.obo\n",
      "go-basic.obo: fmt(1.2) rel(2019-02-14) 47,395 GO Terms\n"
     ]
    }
   ],
   "source": [
    "from goatools.base import download_go_basic_obo\n",
    "from goatools.obo_parser import GODag\n",
    "\n",
    "obo_fname = download_go_basic_obo()\n",
    "ontologies = GODag(obo_fname)"
   ]
  },
  {
   "cell_type": "code",
   "execution_count": 16,
   "metadata": {},
   "outputs": [
    {
     "data": {
      "text/plain": [
       "('GO:0000001', GOTerm('GO:0000001'):\n",
       "   id:GO:0000001\n",
       "   item_id:GO:0000001\n",
       "   name:mitochondrion inheritance\n",
       "   namespace:biological_process\n",
       "   _parents: 2 items\n",
       "     GO:0048311\n",
       "     GO:0048308\n",
       "   parents: 2 items\n",
       "     GO:0048308\tlevel-04\tdepth-04\torganelle inheritance [biological_process]\n",
       "     GO:0048311\tlevel-05\tdepth-05\tmitochondrion distribution [biological_process]\n",
       "   children: 0 items\n",
       "   level:5\n",
       "   depth:6\n",
       "   is_obsolete:False\n",
       "   alt_ids: 0 items)"
      ]
     },
     "execution_count": 16,
     "metadata": {},
     "output_type": "execute_result"
    }
   ],
   "source": [
    "first = list(ontologies.keys())[0]\n",
    "first, ontologies[first]"
   ]
  },
  {
   "cell_type": "markdown",
   "metadata": {},
   "source": [
    "## Download associations"
   ]
  },
  {
   "cell_type": "markdown",
   "metadata": {},
   "source": [
    "Download associations, a dictionary that maps each gene ID to a set of GOs.\n",
    "We can use either the associations from NCBI or from GeneOntology."
   ]
  },
  {
   "cell_type": "code",
   "execution_count": 6,
   "metadata": {},
   "outputs": [
    {
     "name": "stdout",
     "output_type": "stream",
     "text": [
      "  EXISTS: gene2go\n",
      "HMS:0:00:02.476439 157,752 annotations READ: gene2go \n",
      "1 taxids stored: 7955\n",
      "BP 15,051 annotated genes\n",
      "MF 15,218 annotated genes\n",
      "CC 15,050 annotated genes\n"
     ]
    }
   ],
   "source": [
    "from goatools.base import download_ncbi_associations\n",
    "from goatools.anno.genetogo_reader import Gene2GoReader\n",
    "\n",
    "# Read NCBI's gene2go. Store annotations in a list of namedtuples\n",
    "file_gene2go = download_ncbi_associations()\n",
    "taxids = [7955] # zebrafish\n",
    "objanno = Gene2GoReader(file_gene2go, taxids=taxids)\n",
    "\n",
    "associations = objanno.get_ns2assc()\n",
    "for nspc, id2gos in associations.items():\n",
    "    print(\"{NS} {N:,} annotated genes\".format(NS=nspc, N=len(id2gos)))"
   ]
  },
  {
   "cell_type": "code",
   "execution_count": 12,
   "metadata": {},
   "outputs": [
    {
     "name": "stdout",
     "output_type": "stream",
     "text": [
      "HMS:0:00:03.118535 227,647 annotations READ: C:\\Users\\joewa\\Work\\git\\WebOmics\\web_omics\\notebooks\\gene_ontology\\zfin.gaf \n",
      "17785 IDs in association branch, BP\n",
      "17,785 annotated genes\n"
     ]
    }
   ],
   "source": [
    "from goatools.associations import read_gaf\n",
    "from goatools.base import dnld_gaf\n",
    "\n",
    "# see http://current.geneontology.org/products/pages/downloads.html\n",
    "species = 'zfin' # choices are 'goa_human', 'mgi' etc\n",
    "NS = 'BP' # choices are 'BP', 'CC' or 'MF'\n",
    "\n",
    "gaf_filename = dnld_gaf(species_list)\n",
    "associations = read_gaf(gaf_filename, namespace=NS, go2geneids=False)\n",
    "print(\"{N:,} annotated genes\".format(N=len(associations)))"
   ]
  },
  {
   "cell_type": "code",
   "execution_count": 15,
   "metadata": {},
   "outputs": [
    {
     "data": {
      "text/plain": [
       "('ZDB-MIRNAG-081210-6', {'GO:0030182', 'GO:0035195'})"
      ]
     },
     "execution_count": 15,
     "metadata": {},
     "output_type": "execute_result"
    }
   ],
   "source": [
    "first = list(associations.keys())[0]\n",
    "first, associations[first]"
   ]
  },
  {
   "cell_type": "markdown",
   "metadata": {},
   "source": [
    "## Load background genes"
   ]
  },
  {
   "cell_type": "code",
   "execution_count": 17,
   "metadata": {},
   "outputs": [],
   "source": [
    "def gaf_symbol_to_id(gaf_filename):\n",
    "    df = pd.read_csv('zfin.gaf', comment='!', sep='\\t', header=None)\n",
    "    \n",
    "    # temp has 2 columns. First is the gene id, next is the gene symbol\n",
    "    # example:\n",
    "    # 'ZDB-MIRNAG-081210-6', 'mir26b'\n",
    "    temp = df.iloc[:, 1:3].values \n",
    "    symbol_to_id = {symbol: my_id for my_id, symbol in temp}\n",
    "    return symbol_to_id"
   ]
  },
  {
   "cell_type": "code",
   "execution_count": 18,
   "metadata": {},
   "outputs": [],
   "source": [
    "def load_background_symbols(symbol_filename):\n",
    "    df = pd.read_csv(symbol_filename, header=None)\n",
    "    background_symbols = df.values.flatten()\n",
    "    return background_symbols"
   ]
  },
  {
   "cell_type": "code",
   "execution_count": 19,
   "metadata": {},
   "outputs": [],
   "source": [
    "def to_id(background_symbols):\n",
    "    background_ids = []\n",
    "    for x in background_symbols:\n",
    "        try:\n",
    "            background_id = symbol_to_id[x.lower()]\n",
    "            background_ids.append(background_id)\n",
    "        except KeyError as e:\n",
    "            # print(e)\n",
    "            pass\n",
    "    return background_ids"
   ]
  },
  {
   "cell_type": "code",
   "execution_count": 20,
   "metadata": {},
   "outputs": [
    {
     "name": "stderr",
     "output_type": "stream",
     "text": [
      "c:\\users\\joewa\\.virtualenvs\\web_omics-makc_z5x\\lib\\site-packages\\IPython\\core\\interactiveshell.py:3248: DtypeWarning: Columns (15,16) have mixed types. Specify dtype option on import or set low_memory=False.\n",
      "  if (await self.run_code(code, result,  async_=asy)):\n"
     ]
    }
   ],
   "source": [
    "# here we use all genes in the study as the background, see https://www.biostars.org/p/17628/\n",
    "symbol_to_id = gaf_symbol_to_id(gaf_filename)\n",
    "background_symbols = load_background_symbols('zebrafish.txt')\n",
    "background_ids = to_id(background_symbols)"
   ]
  },
  {
   "cell_type": "code",
   "execution_count": 21,
   "metadata": {},
   "outputs": [
    {
     "data": {
      "text/plain": [
       "8242"
      ]
     },
     "execution_count": 21,
     "metadata": {},
     "output_type": "execute_result"
    }
   ],
   "source": [
    "len(background_ids)"
   ]
  },
  {
   "cell_type": "markdown",
   "metadata": {},
   "source": [
    "#### Initialise GOEA object"
   ]
  },
  {
   "cell_type": "code",
   "execution_count": null,
   "metadata": {},
   "outputs": [],
   "source": [
    "from goatools.go_enrichment import GOEnrichmentStudy\n",
    "goeaobj = GOEnrichmentStudy(\n",
    "        background_ids,\n",
    "        associations,\n",
    "        ontologies, \n",
    "        propagate_counts = False,\n",
    "        alpha = 0.05, # default significance cut-off\n",
    "        methods = ['fdr_bh']) # defult multipletest correction method"
   ]
  },
  {
   "cell_type": "code",
   "execution_count": null,
   "metadata": {},
   "outputs": [],
   "source": [
    "geneids_study = background_ids[0:400]"
   ]
  },
  {
   "cell_type": "code",
   "execution_count": null,
   "metadata": {},
   "outputs": [],
   "source": [
    "# 'p_' means \"pvalue\". 'fdr_bh' is the multipletest method we are currently using.\n",
    "goea_results_all = goeaobj.run_study(geneids_study)\n",
    "goea_results_sig = [r for r in goea_results_all if r.p_fdr_bh < 0.05]"
   ]
  },
  {
   "cell_type": "code",
   "execution_count": null,
   "metadata": {},
   "outputs": [],
   "source": [
    "from goatools.godag_plot import plot_gos, plot_results, plot_goid2goobj\n",
    "plot_results(\"zebrafish_{NS}.png\", goea_results_sig)"
   ]
  }
 ],
 "metadata": {
  "kernelspec": {
   "display_name": "Python 3",
   "language": "python",
   "name": "python3"
  },
  "language_info": {
   "codemirror_mode": {
    "name": "ipython",
    "version": 3
   },
   "file_extension": ".py",
   "mimetype": "text/x-python",
   "name": "python",
   "nbconvert_exporter": "python",
   "pygments_lexer": "ipython3",
   "version": "3.7.3"
  }
 },
 "nbformat": 4,
 "nbformat_minor": 2
}
