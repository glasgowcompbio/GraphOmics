{
 "cells": [
  {
   "cell_type": "markdown",
   "metadata": {},
   "source": [
    "# Gene ontology analysis"
   ]
  },
  {
   "cell_type": "code",
   "execution_count": 1,
   "metadata": {},
   "outputs": [],
   "source": [
    "import pandas as pd"
   ]
  },
  {
   "cell_type": "markdown",
   "metadata": {},
   "source": [
    "## Download ontologies"
   ]
  },
  {
   "cell_type": "markdown",
   "metadata": {},
   "source": [
    "Download ontologies, a dictionary that maps GO IDs to GO terms. In most cases, we should use the basic OBO file."
   ]
  },
  {
   "cell_type": "code",
   "execution_count": 2,
   "metadata": {},
   "outputs": [
    {
     "name": "stdout",
     "output_type": "stream",
     "text": [
      "  EXISTS: go-basic.obo\n",
      "go-basic.obo: fmt(1.2) rel(2019-07-01) 47,413 GO Terms\n"
     ]
    }
   ],
   "source": [
    "from goatools.base import download_go_basic_obo\n",
    "from goatools.obo_parser import GODag\n",
    "\n",
    "obo_fname = download_go_basic_obo()\n",
    "ontologies = GODag(obo_fname)"
   ]
  },
  {
   "cell_type": "code",
   "execution_count": 3,
   "metadata": {},
   "outputs": [
    {
     "data": {
      "text/plain": [
       "('GO:0000001', GOTerm('GO:0000001'):\n",
       "   id:GO:0000001\n",
       "   item_id:GO:0000001\n",
       "   name:mitochondrion inheritance\n",
       "   namespace:biological_process\n",
       "   _parents: 2 items\n",
       "     GO:0048308\n",
       "     GO:0048311\n",
       "   parents: 2 items\n",
       "     GO:0048308\tlevel-04\tdepth-04\torganelle inheritance [biological_process]\n",
       "     GO:0048311\tlevel-05\tdepth-05\tmitochondrion distribution [biological_process]\n",
       "   children: 0 items\n",
       "   level:5\n",
       "   depth:6\n",
       "   is_obsolete:False\n",
       "   alt_ids: 0 items)"
      ]
     },
     "execution_count": 3,
     "metadata": {},
     "output_type": "execute_result"
    }
   ],
   "source": [
    "first = list(ontologies.keys())[0]\n",
    "first, ontologies[first]"
   ]
  },
  {
   "cell_type": "markdown",
   "metadata": {},
   "source": [
    "## Download associations"
   ]
  },
  {
   "cell_type": "markdown",
   "metadata": {},
   "source": [
    "Download associations, a dictionary that maps each gene ID to a set of GOs.\n",
    "We can use either the associations from NCBI or from GeneOntology."
   ]
  },
  {
   "cell_type": "code",
   "execution_count": null,
   "metadata": {},
   "outputs": [],
   "source": [
    "# from goatools.base import download_ncbi_associations\n",
    "# from goatools.anno.genetogo_reader import Gene2GoReader\n",
    "\n",
    "# # Read NCBI's gene2go. Store annotations in a list of namedtuples\n",
    "# file_gene2go = download_ncbi_associations()\n",
    "# taxids = [7955] # zebrafish\n",
    "# objanno = Gene2GoReader(file_gene2go, taxids=taxids)\n",
    "\n",
    "# associations = objanno.get_ns2assc()\n",
    "# for nspc, id2gos in associations.items():\n",
    "#     print(\"{NS} {N:,} annotated genes\".format(NS=nspc, N=len(id2gos)))"
   ]
  },
  {
   "cell_type": "code",
   "execution_count": 5,
   "metadata": {},
   "outputs": [
    {
     "name": "stdout",
     "output_type": "stream",
     "text": [
      "HMS:0:00:03.447289 227,647 annotations READ: C:\\Users\\joewa\\Work\\git\\WebOmics\\web_omics\\notebooks\\gene_ontology\\zfin.gaf \n",
      "17785 IDs in loaded association branch, BP\n",
      "17,785 annotated genes\n"
     ]
    }
   ],
   "source": [
    "from goatools.associations import read_gaf\n",
    "from goatools.base import dnld_gaf\n",
    "\n",
    "# see http://current.geneontology.org/products/pages/downloads.html\n",
    "species = 'zfin' # choices are 'goa_human', 'mgi' etc\n",
    "NS = 'BP' # choices are 'BP', 'CC' or 'MF'\n",
    "\n",
    "gaf_filename = dnld_gaf(species)\n",
    "associations = read_gaf(gaf_filename, namespace=NS, go2geneids=False)\n",
    "print(\"{N:,} annotated genes\".format(N=len(associations)))"
   ]
  },
  {
   "cell_type": "code",
   "execution_count": 6,
   "metadata": {},
   "outputs": [
    {
     "data": {
      "text/plain": [
       "('ZDB-MIRNAG-081210-6', {'GO:0030182', 'GO:0035195'})"
      ]
     },
     "execution_count": 6,
     "metadata": {},
     "output_type": "execute_result"
    }
   ],
   "source": [
    "first = list(associations.keys())[0]\n",
    "first, associations[first]"
   ]
  },
  {
   "cell_type": "markdown",
   "metadata": {},
   "source": [
    "## Load background genes"
   ]
  },
  {
   "cell_type": "code",
   "execution_count": 15,
   "metadata": {},
   "outputs": [],
   "source": [
    "def gaf_symbol_to_id(gaf_filename):\n",
    "    df = pd.read_csv(gaf_filename, comment='!', sep='\\t', header=None)\n",
    "    \n",
    "    # temp has 2 columns. First is the gene id, next is the gene symbol\n",
    "    # example:\n",
    "    # 'ZDB-MIRNAG-081210-6', 'mir26b'\n",
    "    temp = df.iloc[:, 1:3].values \n",
    "    symbol_to_id = {symbol: my_id for my_id, symbol in temp}\n",
    "    return symbol_to_id"
   ]
  },
  {
   "cell_type": "code",
   "execution_count": 16,
   "metadata": {},
   "outputs": [],
   "source": [
    "def load_background_symbols(symbol_filename):\n",
    "    df = pd.read_csv(symbol_filename, header=None)\n",
    "    background_symbols = df.values.flatten()\n",
    "    return background_symbols"
   ]
  },
  {
   "cell_type": "code",
   "execution_count": 17,
   "metadata": {},
   "outputs": [],
   "source": [
    "def to_id(symbols):\n",
    "    ids = []\n",
    "    for x in symbols:\n",
    "        try:\n",
    "            my_id = symbol_to_id[x.lower()]\n",
    "            ids.append(my_id)\n",
    "        except KeyError as e:\n",
    "            # print(e)\n",
    "            pass\n",
    "    return ids"
   ]
  },
  {
   "cell_type": "code",
   "execution_count": 18,
   "metadata": {},
   "outputs": [],
   "source": [
    "symbol_to_id = gaf_symbol_to_id('zfin.gaf')"
   ]
  },
  {
   "cell_type": "code",
   "execution_count": 24,
   "metadata": {},
   "outputs": [
    {
     "data": {
      "text/plain": [
       "8242"
      ]
     },
     "execution_count": 24,
     "metadata": {},
     "output_type": "execute_result"
    }
   ],
   "source": [
    "# here we use all genes in the study as the background, see https://www.biostars.org/p/17628/\n",
    "background_symbols = load_background_symbols('zebrafish.txt')\n",
    "background_ids = to_id(background_symbols)\n",
    "len(background_ids)"
   ]
  },
  {
   "cell_type": "markdown",
   "metadata": {},
   "source": [
    "#### Initialise GOEA object"
   ]
  },
  {
   "cell_type": "code",
   "execution_count": 28,
   "metadata": {},
   "outputs": [
    {
     "name": "stdout",
     "output_type": "stream",
     "text": [
      "\n",
      "Load GOEA Gene Ontology Analysis ...\n",
      "fisher module not installed.  Falling back on scipy.stats.fisher_exact\n",
      " 89%  7,295 of  8,242 population items found in association\n"
     ]
    }
   ],
   "source": [
    "from goatools.go_enrichment import GOEnrichmentStudy\n",
    "goeaobj = GOEnrichmentStudy(\n",
    "        background_ids,\n",
    "        associations,\n",
    "        ontologies, \n",
    "        propagate_counts = False,\n",
    "        alpha = 0.05, # default significance cut-off\n",
    "        methods = ['fdr_bh']) # defult multipletest correction method"
   ]
  },
  {
   "cell_type": "code",
   "execution_count": 29,
   "metadata": {},
   "outputs": [
    {
     "data": {
      "text/plain": [
       "['ZDB-GENE-060824-3',\n",
       " 'ZDB-GENE-030912-4',\n",
       " 'ZDB-GENE-040426-903',\n",
       " 'ZDB-GENE-130530-713',\n",
       " 'E7F5G8',\n",
       " 'ZDB-GENE-081105-101',\n",
       " 'ZDB-GENE-091118-25',\n",
       " 'ZDB-GENE-040329-1',\n",
       " 'ZDB-GENE-991019-6',\n",
       " 'ZDB-GENE-050913-36',\n",
       " 'ZDB-GENE-061220-8',\n",
       " 'ZDB-GENE-031006-4',\n",
       " 'ZDB-GENE-030131-9790',\n",
       " 'ZDB-GENE-031006-12',\n",
       " 'ZDB-GENE-050517-1',\n",
       " 'ZDB-GENE-050517-2',\n",
       " 'ZDB-GENE-050517-3',\n",
       " 'ZDB-GENE-050517-4',\n",
       " 'ZDB-GENE-050517-5',\n",
       " 'ZDB-GENE-040525-2',\n",
       " 'ZDB-GENE-050517-14',\n",
       " 'ZDB-GENE-080204-52',\n",
       " 'ZDB-GENE-050517-9',\n",
       " 'ZDB-GENE-070912-584',\n",
       " 'ZDB-GENE-050517-10',\n",
       " 'ZDB-GENE-050410-6',\n",
       " 'ZDB-GENE-050517-12',\n",
       " 'ZDB-GENE-050517-15',\n",
       " 'ZDB-GENE-050517-25',\n",
       " 'ZDB-GENE-040426-1523',\n",
       " 'ZDB-GENE-050517-16',\n",
       " 'ZDB-GENE-030616-511',\n",
       " 'ZDB-GENE-050517-17',\n",
       " 'ZDB-GENE-050517-22',\n",
       " 'E7F108',\n",
       " 'ZDB-GENE-050517-23',\n",
       " 'ZDB-GENE-050517-27',\n",
       " 'ZDB-GENE-050517-28',\n",
       " 'ZDB-GENE-040426-2868',\n",
       " 'ZDB-GENE-050517-29',\n",
       " 'ZDB-GENE-050517-30',\n",
       " 'ZDB-GENE-050517-31',\n",
       " 'ZDB-GENE-070424-84',\n",
       " 'ZDB-GENE-050517-35',\n",
       " 'ZDB-GENE-050517-38',\n",
       " 'ZDB-GENE-050517-39',\n",
       " 'ZDB-GENE-080215-10',\n",
       " 'ZDB-GENE-050517-40',\n",
       " 'ZDB-GENE-050517-41',\n",
       " 'ZDB-GENE-060526-144',\n",
       " 'ZDB-GENE-060929-268',\n",
       " 'ZDB-GENE-040426-1342',\n",
       " 'ZDB-GENE-040912-90',\n",
       " 'ZDB-GENE-050417-83',\n",
       " 'ZDB-GENE-070410-104',\n",
       " 'ZDB-GENE-040426-1701',\n",
       " 'ZDB-GENE-060929-1182',\n",
       " 'ZDB-GENE-060929-192',\n",
       " 'ZDB-GENE-060519-5',\n",
       " 'ZDB-GENE-100812-9',\n",
       " 'ZDB-GENE-020809-2',\n",
       " 'ZDB-GENE-070705-146',\n",
       " 'ZDB-GENE-040704-48',\n",
       " 'ZDB-GENE-040426-1996',\n",
       " 'ZDB-GENE-060526-74',\n",
       " 'ZDB-GENE-060526-132',\n",
       " 'ZDB-GENE-040426-814',\n",
       " 'ZDB-GENE-040426-828',\n",
       " 'ZDB-GENE-060616-196',\n",
       " 'ZDB-GENE-040426-771',\n",
       " 'ZDB-GENE-040426-1945',\n",
       " 'ZDB-GENE-040808-64',\n",
       " 'ZDB-GENE-070410-109',\n",
       " 'ZDB-GENE-030131-899',\n",
       " 'ZDB-GENE-040808-68',\n",
       " 'ZDB-GENE-990714-22',\n",
       " 'ZDB-GENE-040426-1930',\n",
       " 'ZDB-GENE-040426-2074',\n",
       " 'ZDB-GENE-050522-268',\n",
       " 'ZDB-GENE-030131-2810',\n",
       " 'ZDB-GENE-050913-108',\n",
       " 'ZDB-GENE-030131-1826',\n",
       " 'ZDB-GENE-041114-6',\n",
       " 'ZDB-GENE-050417-70',\n",
       " 'ZDB-GENE-121026-1',\n",
       " 'ZDB-GENE-091204-155',\n",
       " 'ZDB-GENE-010906-1',\n",
       " 'ZDB-GENE-030616-583',\n",
       " 'ZDB-GENE-030826-12',\n",
       " 'F1R6D3',\n",
       " 'ZDB-GENE-031116-61',\n",
       " 'ZDB-GENE-070301-6',\n",
       " 'ZDB-GENE-051107-10',\n",
       " 'ZDB-GENE-031113-1',\n",
       " 'ZDB-GENE-090909-2',\n",
       " 'ZDB-GENE-031118-76',\n",
       " 'ZDB-GENE-030131-1390',\n",
       " 'ZDB-GENE-050522-538',\n",
       " 'ZDB-GENE-051127-37',\n",
       " 'E7FCU2',\n",
       " 'ZDB-GENE-060503-437',\n",
       " 'ZDB-GENE-041001-182',\n",
       " 'ZDB-GENE-041001-181',\n",
       " 'ZDB-GENE-110407-17',\n",
       " 'ZDB-GENE-040912-42',\n",
       " 'ZDB-GENE-041010-174',\n",
       " 'ZDB-GENE-040724-139',\n",
       " 'ZDB-GENE-051113-136',\n",
       " 'ZDB-GENE-041010-219',\n",
       " 'ZDB-GENE-040426-2163',\n",
       " 'ZDB-GENE-081107-18',\n",
       " 'ZDB-GENE-040426-2864',\n",
       " 'ZDB-GENE-050208-290',\n",
       " 'ZDB-GENE-110914-219',\n",
       " 'ZDB-GENE-030131-7099',\n",
       " 'ZDB-GENE-060825-7',\n",
       " 'ZDB-GENE-050809-115',\n",
       " 'ZDB-GENE-040801-88',\n",
       " 'ZDB-GENE-050420-181',\n",
       " 'ZDB-GENE-030131-492',\n",
       " 'ZDB-GENE-040426-1565',\n",
       " 'ZDB-GENE-040912-169',\n",
       " 'ZDB-GENE-050320-139',\n",
       " 'ZDB-GENE-040718-388',\n",
       " 'ZDB-GENE-060503-816',\n",
       " 'ZDB-GENE-030131-1229',\n",
       " 'ZDB-GENE-000329-1',\n",
       " 'ZDB-GENE-000329-3',\n",
       " 'ZDB-GENE-040520-4',\n",
       " 'ZDB-GENE-040520-4',\n",
       " 'ZDB-GENE-000322-1',\n",
       " 'ZDB-GENE-040625-46',\n",
       " 'ZDB-GENE-020419-36',\n",
       " 'ZDB-GENE-050522-191',\n",
       " 'ZDB-GENE-081113-4',\n",
       " 'ZDB-GENE-051127-39',\n",
       " 'ZDB-GENE-000329-9',\n",
       " 'ZDB-GENE-030131-2040',\n",
       " 'ZDB-GENE-030131-940',\n",
       " 'ZDB-GENE-040426-2695',\n",
       " 'ZDB-GENE-040426-768',\n",
       " 'ZDB-GENE-040426-2894',\n",
       " 'ZDB-GENE-050410-4',\n",
       " 'ZDB-GENE-040428-2',\n",
       " 'ZDB-GENE-040426-2877',\n",
       " 'ZDB-GENE-030131-5065',\n",
       " 'ZDB-GENE-980526-527',\n",
       " 'ZDB-GENE-131120-9',\n",
       " 'ZDB-GENE-980526-227',\n",
       " 'ZDB-GENE-120215-23',\n",
       " 'ZDB-GENE-980526-549',\n",
       " 'ZDB-GENE-170621-5',\n",
       " 'ZDB-GENE-021003-1',\n",
       " 'ZDB-GENE-040426-755',\n",
       " 'ZDB-GENE-040718-345',\n",
       " 'ZDB-GENE-040718-37',\n",
       " 'ZDB-GENE-040718-393',\n",
       " 'ZDB-GENE-030902-4',\n",
       " 'ZDB-GENE-041210-77',\n",
       " 'ZDB-GENE-050913-145',\n",
       " 'ZDB-GENE-040917-2',\n",
       " 'ZDB-GENE-071115-1',\n",
       " 'ZDB-GENE-070808-3',\n",
       " 'ZDB-GENE-070809-1',\n",
       " 'ZDB-GENE-070809-4',\n",
       " 'ZDB-GENE-030131-2862',\n",
       " 'ZDB-GENE-041001-199',\n",
       " 'ZDB-GENE-070705-541',\n",
       " 'ZDB-GENE-070810-1',\n",
       " 'ZDB-GENE-070810-2',\n",
       " 'ZDB-GENE-030616-622',\n",
       " 'ZDB-GENE-070808-1',\n",
       " 'ZDB-GENE-070814-1',\n",
       " 'ZDB-GENE-081104-414',\n",
       " 'ZDB-GENE-070705-471',\n",
       " 'ZDB-GENE-070814-7',\n",
       " 'ZDB-GENE-130530-852',\n",
       " 'ZDB-GENE-060526-203',\n",
       " 'ZDB-GENE-070814-5',\n",
       " 'ZDB-GENE-070814-5',\n",
       " 'ZDB-GENE-130530-760',\n",
       " 'ZDB-GENE-121030-7',\n",
       " 'ZDB-GENE-070815-1',\n",
       " 'ZDB-GENE-070816-3',\n",
       " 'ZDB-GENE-110223-1',\n",
       " 'ZDB-GENE-091113-9',\n",
       " 'ZDB-GENE-060526-202',\n",
       " 'ZDB-GENE-070814-6',\n",
       " 'ZDB-GENE-070705-558',\n",
       " 'ZDB-GENE-121030-8',\n",
       " 'ZDB-GENE-070816-2',\n",
       " 'ZDB-GENE-000616-5',\n",
       " 'ZDB-GENE-000627-2',\n",
       " 'ZDB-GENE-030219-15',\n",
       " 'ZDB-GENE-070705-302',\n",
       " 'ZDB-GENE-100805-1',\n",
       " 'ZDB-GENE-061109-1',\n",
       " 'ZDB-GENE-060503-69',\n",
       " 'A0A0G2KXH5',\n",
       " 'ZDB-GENE-041014-276',\n",
       " 'ZDB-GENE-081104-470',\n",
       " 'ZDB-GENE-060221-1',\n",
       " 'ZDB-GENE-090127-2',\n",
       " 'ZDB-GENE-040713-1',\n",
       " 'ZDB-GENE-070912-197',\n",
       " 'ZDB-GENE-050208-455',\n",
       " 'ZDB-GENE-020809-4',\n",
       " 'ZDB-GENE-041010-89',\n",
       " 'ZDB-GENE-050315-1',\n",
       " 'ZDB-GENE-110127-1',\n",
       " 'ZDB-GENE-030909-2',\n",
       " 'ZDB-GENE-080718-4',\n",
       " 'ZDB-GENE-030131-2721',\n",
       " 'ZDB-GENE-090313-152',\n",
       " 'ZDB-GENE-131120-49',\n",
       " 'ZDB-GENE-121214-33',\n",
       " 'ZDB-GENE-121214-46',\n",
       " 'ZDB-GENE-090313-151',\n",
       " 'ZDB-GENE-121214-32',\n",
       " 'ZDB-GENE-121214-34',\n",
       " 'ZDB-GENE-121214-277',\n",
       " 'E7F287',\n",
       " 'ZDB-GENE-090313-150',\n",
       " 'ZDB-GENE-121214-45',\n",
       " 'ZDB-GENE-121214-35',\n",
       " 'ZDB-GENE-121214-61',\n",
       " 'E7FD86',\n",
       " 'ZDB-GENE-011003-1',\n",
       " 'ZDB-GENE-030529-3',\n",
       " 'ZDB-GENE-030529-2',\n",
       " 'ZDB-GENE-040426-2070',\n",
       " 'ZDB-GENE-030131-2799',\n",
       " 'ZDB-GENE-080423-2',\n",
       " 'ZDB-GENE-060825-220',\n",
       " 'ZDB-GENE-040718-169',\n",
       " 'ZDB-GENE-040426-2896',\n",
       " 'ZDB-GENE-041210-60',\n",
       " 'ZDB-GENE-030425-3',\n",
       " 'ZDB-GENE-030131-948',\n",
       " 'ZDB-GENE-041210-100',\n",
       " 'ZDB-GENE-081104-279',\n",
       " 'ZDB-GENE-120221-5',\n",
       " 'ZDB-GENE-040426-2267',\n",
       " 'ZDB-GENE-141216-102',\n",
       " 'ZDB-GENE-081105-156',\n",
       " 'ZDB-GENE-080723-28',\n",
       " 'ZDB-GENE-060511-1',\n",
       " 'ZDB-GENE-061103-421',\n",
       " 'ZDB-GENE-040912-85',\n",
       " 'ZDB-GENE-040426-1406',\n",
       " 'E7FG90',\n",
       " 'ZDB-GENE-060503-384',\n",
       " 'F1QLK8',\n",
       " 'ZDB-GENE-041114-51',\n",
       " 'ZDB-GENE-090312-203',\n",
       " 'ZDB-GENE-021010-1',\n",
       " 'ZDB-GENE-021010-2',\n",
       " 'ZDB-GENE-021010-3',\n",
       " 'ZDB-GENE-081022-145',\n",
       " 'ZDB-GENE-100414-3',\n",
       " 'ZDB-GENE-070410-32',\n",
       " 'ZDB-GENE-080917-21',\n",
       " 'ZDB-GENE-081022-154',\n",
       " 'ZDB-GENE-040426-905',\n",
       " 'ZDB-GENE-030131-6363',\n",
       " 'ZDB-GENE-050417-337',\n",
       " 'ZDB-GENE-040516-18',\n",
       " 'ZDB-GENE-040426-2885',\n",
       " 'ZDB-GENE-050419-52',\n",
       " 'ZDB-GENE-100910-5',\n",
       " 'ZDB-GENE-070912-46',\n",
       " 'ZDB-GENE-040426-2311',\n",
       " 'ZDB-GENE-030131-5808',\n",
       " 'ZDB-GENE-040426-1520',\n",
       " 'ZDB-GENE-030131-6202',\n",
       " 'ZDB-GENE-071004-6',\n",
       " 'ZDB-GENE-050309-54',\n",
       " 'ZDB-GENE-060929-696',\n",
       " 'ZDB-GENE-040426-2207',\n",
       " 'ZDB-GENE-110606-3',\n",
       " 'ZDB-GENE-110606-6',\n",
       " 'ZDB-GENE-051107-16',\n",
       " 'ZDB-GENE-060503-452',\n",
       " 'ZDB-GENE-030131-5357',\n",
       " 'ZDB-GENE-061103-541',\n",
       " 'ZDB-GENE-040426-2765',\n",
       " 'ZDB-GENE-040426-1924',\n",
       " 'ZDB-GENE-060929-914',\n",
       " 'ZDB-GENE-060531-19',\n",
       " 'ZDB-GENE-031118-14',\n",
       " 'ZDB-GENE-030131-1033',\n",
       " 'ZDB-GENE-030131-1205',\n",
       " 'ZDB-GENE-070912-546',\n",
       " 'ZDB-GENE-110411-117',\n",
       " 'ZDB-GENE-050306-56',\n",
       " 'ZDB-GENE-050913-100',\n",
       " 'ZDB-GENE-040718-16',\n",
       " 'ZDB-GENE-010302-3',\n",
       " 'ZDB-GENE-070521-2',\n",
       " 'ZDB-GENE-031219-6',\n",
       " 'ZDB-GENE-021206-7',\n",
       " 'ZDB-GENE-040115-5',\n",
       " 'ZDB-GENE-060803-1',\n",
       " 'ZDB-GENE-020531-2',\n",
       " 'ZDB-GENE-051018-2',\n",
       " 'ZDB-GENE-030131-1133',\n",
       " 'ZDB-GENE-030131-6735',\n",
       " 'ZDB-GENE-030131-9341',\n",
       " 'ZDB-GENE-040822-37',\n",
       " 'ZDB-GENE-030131-512',\n",
       " 'ZDB-GENE-040426-2142',\n",
       " 'ZDB-GENE-040426-2505',\n",
       " 'ZDB-GENE-030131-8256',\n",
       " 'ZDB-GENE-040724-122',\n",
       " 'ZDB-GENE-050309-170',\n",
       " 'ZDB-GENE-050522-275',\n",
       " 'ZDB-GENE-041014-337',\n",
       " 'ZDB-GENE-030131-2535',\n",
       " 'ZDB-GENE-030131-6253',\n",
       " 'ZDB-GENE-030131-6844',\n",
       " 'ZDB-GENE-030131-7276',\n",
       " 'ZDB-GENE-050417-118',\n",
       " 'ZDB-GENE-040718-62',\n",
       " 'ZDB-GENE-130730-1',\n",
       " 'ZDB-GENE-030131-482',\n",
       " 'ZDB-GENE-031007-5',\n",
       " 'ZDB-GENE-040121-5',\n",
       " 'ZDB-GENE-050419-180',\n",
       " 'ZDB-GENE-050417-123',\n",
       " 'ZDB-GENE-001229-2',\n",
       " 'ZDB-GENE-001229-1',\n",
       " 'ZDB-GENE-990415-30',\n",
       " 'ZDB-GENE-030131-5602',\n",
       " 'ZDB-GENE-011010-3',\n",
       " 'ZDB-GENE-061128-2',\n",
       " 'ZDB-GENE-100519-4',\n",
       " 'ZDB-GENE-100426-6',\n",
       " 'ZDB-GENE-040426-1262',\n",
       " 'ZDB-GENE-030326-5',\n",
       " 'ZDB-GENE-120823-1',\n",
       " 'ZDB-GENE-040718-74',\n",
       " 'ZDB-GENE-040912-103',\n",
       " 'ZDB-GENE-021120-3',\n",
       " 'ZDB-GENE-040426-1179',\n",
       " 'ZDB-GENE-070228-2',\n",
       " 'ZDB-GENE-030131-9192',\n",
       " 'ZDB-GENE-030131-6129',\n",
       " 'ZDB-GENE-040912-3',\n",
       " 'ZDB-GENE-030131-1257',\n",
       " 'ZDB-GENE-081104-507',\n",
       " 'ZDB-GENE-040120-5',\n",
       " 'ZDB-GENE-030131-8369',\n",
       " 'ZDB-GENE-040426-2299',\n",
       " 'ZDB-GENE-030131-383',\n",
       " 'ZDB-GENE-050706-128',\n",
       " 'ZDB-GENE-030131-6093',\n",
       " 'ZDB-GENE-041210-295',\n",
       " 'ZDB-GENE-060307-1',\n",
       " 'ZDB-GENE-041010-195',\n",
       " 'ZDB-GENE-060502-2',\n",
       " 'ZDB-GENE-050522-334',\n",
       " 'ZDB-GENE-030131-6586',\n",
       " 'ZDB-GENE-040808-45',\n",
       " 'ZDB-GENE-030131-5812',\n",
       " 'ZDB-GENE-040426-1270',\n",
       " 'ZDB-GENE-060526-327',\n",
       " 'ZDB-GENE-040801-254',\n",
       " 'ZDB-GENE-061013-602',\n",
       " 'ZDB-GENE-090311-47',\n",
       " 'ZDB-GENE-030131-9322',\n",
       " 'ZDB-GENE-131219-3',\n",
       " 'ZDB-GENE-060623-19',\n",
       " 'ZDB-GENE-050522-330',\n",
       " 'ZDB-GENE-120919-1',\n",
       " 'ZDB-GENE-050327-78',\n",
       " 'ZDB-GENE-050626-142',\n",
       " 'ZDB-GENE-040420-1',\n",
       " 'ZDB-GENE-050522-484',\n",
       " 'ZDB-GENE-040426-1608',\n",
       " 'E7FAG6',\n",
       " 'ZDB-GENE-050208-235',\n",
       " 'ZDB-GENE-040426-760',\n",
       " 'Q7SXK5',\n",
       " 'ZDB-GENE-040426-1871',\n",
       " 'ZDB-GENE-070719-2',\n",
       " 'ZDB-GENE-040426-2190',\n",
       " 'ZDB-GENE-050706-192',\n",
       " 'ZDB-GENE-060810-59',\n",
       " 'ZDB-GENE-030131-7487',\n",
       " 'E7FCE7',\n",
       " 'ZDB-GENE-030131-9770',\n",
       " 'ZDB-GENE-061103-307',\n",
       " 'ZDB-GENE-040426-1906',\n",
       " 'ZDB-GENE-091204-4',\n",
       " 'ZDB-GENE-070713-5',\n",
       " 'ZDB-GENE-110407-2',\n",
       " 'ZDB-GENE-030131-5929',\n",
       " 'ZDB-GENE-040426-1711',\n",
       " 'ZDB-GENE-041010-114',\n",
       " 'ZDB-GENE-040426-2393']"
      ]
     },
     "execution_count": 29,
     "metadata": {},
     "output_type": "execute_result"
    }
   ],
   "source": [
    "geneids_study = background_ids[0:400]\n",
    "geneids_study"
   ]
  },
  {
   "cell_type": "markdown",
   "metadata": {},
   "source": [
    "#### Load actual study genes from the Zebrafish paper"
   ]
  },
  {
   "cell_type": "code",
   "execution_count": 33,
   "metadata": {},
   "outputs": [
    {
     "data": {
      "text/html": [
       "<div>\n",
       "<style scoped>\n",
       "    .dataframe tbody tr th:only-of-type {\n",
       "        vertical-align: middle;\n",
       "    }\n",
       "\n",
       "    .dataframe tbody tr th {\n",
       "        vertical-align: top;\n",
       "    }\n",
       "\n",
       "    .dataframe thead th {\n",
       "        text-align: right;\n",
       "    }\n",
       "</style>\n",
       "<table border=\"1\" class=\"dataframe\">\n",
       "  <thead>\n",
       "    <tr style=\"text-align: right;\">\n",
       "      <th></th>\n",
       "      <th>obs</th>\n",
       "      <th>gene_pk</th>\n",
       "      <th>US_1584693</th>\n",
       "      <th>US_1584700</th>\n",
       "      <th>US_1584706</th>\n",
       "      <th>US_1584712</th>\n",
       "      <th>US_1584722</th>\n",
       "      <th>US_1584724</th>\n",
       "      <th>US_1584725</th>\n",
       "      <th>US_1584732</th>\n",
       "      <th>...</th>\n",
       "      <th>US_1584753</th>\n",
       "      <th>US_1584754</th>\n",
       "      <th>US_1584758</th>\n",
       "      <th>US_1584765</th>\n",
       "      <th>padj_Distal_vs_Middle</th>\n",
       "      <th>FC_Distal_vs_Middle</th>\n",
       "      <th>significant_all</th>\n",
       "      <th>significant_any</th>\n",
       "      <th>padj_Proximal_vs_Middle</th>\n",
       "      <th>FC_Proximal_vs_Middle</th>\n",
       "    </tr>\n",
       "    <tr>\n",
       "      <th>gene_id</th>\n",
       "      <th></th>\n",
       "      <th></th>\n",
       "      <th></th>\n",
       "      <th></th>\n",
       "      <th></th>\n",
       "      <th></th>\n",
       "      <th></th>\n",
       "      <th></th>\n",
       "      <th></th>\n",
       "      <th></th>\n",
       "      <th></th>\n",
       "      <th></th>\n",
       "      <th></th>\n",
       "      <th></th>\n",
       "      <th></th>\n",
       "      <th></th>\n",
       "      <th></th>\n",
       "      <th></th>\n",
       "      <th></th>\n",
       "      <th></th>\n",
       "      <th></th>\n",
       "    </tr>\n",
       "  </thead>\n",
       "  <tbody>\n",
       "    <tr>\n",
       "      <th>Myh10</th>\n",
       "      <td>True</td>\n",
       "      <td>ENSDARG00000000103</td>\n",
       "      <td>2214</td>\n",
       "      <td>1245</td>\n",
       "      <td>1307</td>\n",
       "      <td>849</td>\n",
       "      <td>674</td>\n",
       "      <td>2277</td>\n",
       "      <td>1345</td>\n",
       "      <td>2316</td>\n",
       "      <td>...</td>\n",
       "      <td>1313</td>\n",
       "      <td>738</td>\n",
       "      <td>2332</td>\n",
       "      <td>780</td>\n",
       "      <td>8.019571e-18</td>\n",
       "      <td>0.567173</td>\n",
       "      <td>True</td>\n",
       "      <td>True</td>\n",
       "      <td>2.561093e-35</td>\n",
       "      <td>-0.780711</td>\n",
       "    </tr>\n",
       "    <tr>\n",
       "      <th>Me3</th>\n",
       "      <td>True</td>\n",
       "      <td>ENSDARG00000002305</td>\n",
       "      <td>930</td>\n",
       "      <td>1020</td>\n",
       "      <td>1061</td>\n",
       "      <td>744</td>\n",
       "      <td>666</td>\n",
       "      <td>913</td>\n",
       "      <td>1468</td>\n",
       "      <td>978</td>\n",
       "      <td>...</td>\n",
       "      <td>1076</td>\n",
       "      <td>684</td>\n",
       "      <td>914</td>\n",
       "      <td>848</td>\n",
       "      <td>1.472293e-05</td>\n",
       "      <td>0.370251</td>\n",
       "      <td>True</td>\n",
       "      <td>True</td>\n",
       "      <td>1.263625e-02</td>\n",
       "      <td>0.246983</td>\n",
       "    </tr>\n",
       "    <tr>\n",
       "      <th>Ak4</th>\n",
       "      <td>True</td>\n",
       "      <td>ENSDARG00000006546</td>\n",
       "      <td>1409</td>\n",
       "      <td>842</td>\n",
       "      <td>990</td>\n",
       "      <td>578</td>\n",
       "      <td>616</td>\n",
       "      <td>1222</td>\n",
       "      <td>946</td>\n",
       "      <td>1177</td>\n",
       "      <td>...</td>\n",
       "      <td>823</td>\n",
       "      <td>688</td>\n",
       "      <td>1182</td>\n",
       "      <td>593</td>\n",
       "      <td>3.571892e-03</td>\n",
       "      <td>0.285288</td>\n",
       "      <td>True</td>\n",
       "      <td>True</td>\n",
       "      <td>1.167698e-06</td>\n",
       "      <td>-0.465605</td>\n",
       "    </tr>\n",
       "    <tr>\n",
       "      <th>Fgb</th>\n",
       "      <td>True</td>\n",
       "      <td>ENSDARG00000008969</td>\n",
       "      <td>0</td>\n",
       "      <td>0</td>\n",
       "      <td>0</td>\n",
       "      <td>1</td>\n",
       "      <td>0</td>\n",
       "      <td>0</td>\n",
       "      <td>0</td>\n",
       "      <td>0</td>\n",
       "      <td>...</td>\n",
       "      <td>0</td>\n",
       "      <td>0</td>\n",
       "      <td>2</td>\n",
       "      <td>0</td>\n",
       "      <td>NaN</td>\n",
       "      <td>-0.800992</td>\n",
       "      <td>False</td>\n",
       "      <td>False</td>\n",
       "      <td>NaN</td>\n",
       "      <td>-1.182585</td>\n",
       "    </tr>\n",
       "    <tr>\n",
       "      <th>Vim</th>\n",
       "      <td>True</td>\n",
       "      <td>ENSDARG00000010008</td>\n",
       "      <td>832</td>\n",
       "      <td>240</td>\n",
       "      <td>304</td>\n",
       "      <td>166</td>\n",
       "      <td>149</td>\n",
       "      <td>667</td>\n",
       "      <td>319</td>\n",
       "      <td>572</td>\n",
       "      <td>...</td>\n",
       "      <td>298</td>\n",
       "      <td>202</td>\n",
       "      <td>803</td>\n",
       "      <td>225</td>\n",
       "      <td>7.563848e-03</td>\n",
       "      <td>0.393427</td>\n",
       "      <td>True</td>\n",
       "      <td>True</td>\n",
       "      <td>1.705657e-24</td>\n",
       "      <td>-1.310299</td>\n",
       "    </tr>\n",
       "  </tbody>\n",
       "</table>\n",
       "<p>5 rows × 23 columns</p>\n",
       "</div>"
      ],
      "text/plain": [
       "          obs             gene_pk  US_1584693  US_1584700  US_1584706  \\\n",
       "gene_id                                                                 \n",
       "Myh10    True  ENSDARG00000000103        2214        1245        1307   \n",
       "Me3      True  ENSDARG00000002305         930        1020        1061   \n",
       "Ak4      True  ENSDARG00000006546        1409         842         990   \n",
       "Fgb      True  ENSDARG00000008969           0           0           0   \n",
       "Vim      True  ENSDARG00000010008         832         240         304   \n",
       "\n",
       "         US_1584712  US_1584722  US_1584724  US_1584725  US_1584732  ...  \\\n",
       "gene_id                                                              ...   \n",
       "Myh10           849         674        2277        1345        2316  ...   \n",
       "Me3             744         666         913        1468         978  ...   \n",
       "Ak4             578         616        1222         946        1177  ...   \n",
       "Fgb               1           0           0           0           0  ...   \n",
       "Vim             166         149         667         319         572  ...   \n",
       "\n",
       "         US_1584753  US_1584754  US_1584758  US_1584765  \\\n",
       "gene_id                                                   \n",
       "Myh10          1313         738        2332         780   \n",
       "Me3            1076         684         914         848   \n",
       "Ak4             823         688        1182         593   \n",
       "Fgb               0           0           2           0   \n",
       "Vim             298         202         803         225   \n",
       "\n",
       "         padj_Distal_vs_Middle  FC_Distal_vs_Middle  significant_all  \\\n",
       "gene_id                                                                \n",
       "Myh10             8.019571e-18             0.567173             True   \n",
       "Me3               1.472293e-05             0.370251             True   \n",
       "Ak4               3.571892e-03             0.285288             True   \n",
       "Fgb                        NaN            -0.800992            False   \n",
       "Vim               7.563848e-03             0.393427             True   \n",
       "\n",
       "         significant_any  padj_Proximal_vs_Middle  FC_Proximal_vs_Middle  \n",
       "gene_id                                                                   \n",
       "Myh10               True             2.561093e-35              -0.780711  \n",
       "Me3                 True             1.263625e-02               0.246983  \n",
       "Ak4                 True             1.167698e-06              -0.465605  \n",
       "Fgb                False                      NaN              -1.182585  \n",
       "Vim                 True             1.705657e-24              -1.310299  \n",
       "\n",
       "[5 rows x 23 columns]"
      ]
     },
     "execution_count": 33,
     "metadata": {},
     "output_type": "execute_result"
    }
   ],
   "source": [
    "df = pd.read_pickle('C:\\\\Users\\\\joewa\\\\Work\\\\git\\\\WebOmics\\\\web_omics\\\\notebooks\\\\gene_ontology\\\\selection_df.p')\n",
    "df.head()"
   ]
  },
  {
   "cell_type": "code",
   "execution_count": 34,
   "metadata": {},
   "outputs": [
    {
     "data": {
      "text/plain": [
       "48"
      ]
     },
     "execution_count": 34,
     "metadata": {},
     "output_type": "execute_result"
    }
   ],
   "source": [
    "genesymbols_study = df.index.values\n",
    "geneids_study = to_id(genesymbols_study)\n",
    "len(geneids_study)"
   ]
  },
  {
   "cell_type": "markdown",
   "metadata": {},
   "source": [
    "#### Run GO Analysis"
   ]
  },
  {
   "cell_type": "code",
   "execution_count": 35,
   "metadata": {},
   "outputs": [
    {
     "name": "stdout",
     "output_type": "stream",
     "text": [
      "\n",
      "Run GOEA Gene Ontology Analysis: current study set of 48 IDs ...\n",
      " 88%     42 of     48 study items found in association\n",
      "100%     48 of     48 study items found in population(8242)\n",
      "Calculating 4,226 uncorrected p-values using fisher_scipy_stats\n",
      "   4,226 GO terms are associated with  7,230 of  8,242 population items\n",
      "     179 GO terms are associated with     42 of     48 study items\n",
      "  METHOD fdr_bh:\n",
      "      15 GO terms found significant (< 0.05=alpha) ( 15 enriched +   0 purified): statsmodels fdr_bh\n",
      "       8 study items associated with significant GO IDs (enriched)\n",
      "       0 study items associated with significant GO IDs (purified)\n"
     ]
    }
   ],
   "source": [
    "# 'p_' means \"pvalue\". 'fdr_bh' is the multipletest method we are currently using.\n",
    "goea_results_all = goeaobj.run_study(geneids_study)\n",
    "goea_results_sig = [r for r in goea_results_all if r.p_fdr_bh < 0.05]"
   ]
  },
  {
   "cell_type": "code",
   "execution_count": 36,
   "metadata": {},
   "outputs": [
    {
     "name": "stdout",
     "output_type": "stream",
     "text": [
      "   15 usr 132 GOs  WROTE: zebrafish_BP.png\n"
     ]
    }
   ],
   "source": [
    "from goatools.godag_plot import plot_gos, plot_results, plot_goid2goobj\n",
    "plot_results(\"zebrafish_{NS}.png\", goea_results_sig)"
   ]
  },
  {
   "cell_type": "code",
   "execution_count": 37,
   "metadata": {},
   "outputs": [
    {
     "data": {
      "text/plain": [
       "[GOEnrichmentRecord(GO:0006559),\n",
       " GOEnrichmentRecord(GO:0010873),\n",
       " GOEnrichmentRecord(GO:0046889),\n",
       " GOEnrichmentRecord(GO:0034380),\n",
       " GOEnrichmentRecord(GO:0032374),\n",
       " GOEnrichmentRecord(GO:0009072),\n",
       " GOEnrichmentRecord(GO:0043691),\n",
       " GOEnrichmentRecord(GO:0033700),\n",
       " GOEnrichmentRecord(GO:0042157),\n",
       " GOEnrichmentRecord(GO:0019433),\n",
       " GOEnrichmentRecord(GO:0034372),\n",
       " GOEnrichmentRecord(GO:0070328),\n",
       " GOEnrichmentRecord(GO:0033344),\n",
       " GOEnrichmentRecord(GO:0006695),\n",
       " GOEnrichmentRecord(GO:0006869)]"
      ]
     },
     "execution_count": 37,
     "metadata": {},
     "output_type": "execute_result"
    }
   ],
   "source": [
    "goea_results_sig"
   ]
  },
  {
   "cell_type": "code",
   "execution_count": 50,
   "metadata": {},
   "outputs": [
    {
     "data": {
      "text/plain": [
       "GOEnrichmentRecord(GO:0006559)"
      ]
     },
     "execution_count": 50,
     "metadata": {},
     "output_type": "execute_result"
    }
   ],
   "source": [
    "goea_results_sig[0]"
   ]
  },
  {
   "cell_type": "code",
   "execution_count": null,
   "metadata": {},
   "outputs": [],
   "source": [
    "prt_txt(prt, nts, prtfmt)"
   ]
  },
  {
   "cell_type": "markdown",
   "metadata": {},
   "source": [
    "#### Try using GOEnrichmentStudyNS"
   ]
  },
  {
   "cell_type": "code",
   "execution_count": 40,
   "metadata": {},
   "outputs": [],
   "source": [
    "from goatools.goea.go_enrichment_ns import GOEnrichmentStudyNS"
   ]
  },
  {
   "cell_type": "code",
   "execution_count": 41,
   "metadata": {},
   "outputs": [
    {
     "name": "stdout",
     "output_type": "stream",
     "text": [
      "\n",
      "Load A0A0A0MPF8 Gene Ontology Analysis ...\n",
      "fisher module not installed.  Falling back on scipy.stats.fisher_exact\n"
     ]
    },
    {
     "ename": "AttributeError",
     "evalue": "'set' object has no attribute 'items'",
     "output_type": "error",
     "traceback": [
      "\u001b[1;31m---------------------------------------------------------------------------\u001b[0m",
      "\u001b[1;31mAttributeError\u001b[0m                            Traceback (most recent call last)",
      "\u001b[1;32m<ipython-input-41-47c4f8663d10>\u001b[0m in \u001b[0;36m<module>\u001b[1;34m\u001b[0m\n\u001b[0;32m      5\u001b[0m         \u001b[0mpropagate_counts\u001b[0m \u001b[1;33m=\u001b[0m \u001b[1;32mFalse\u001b[0m\u001b[1;33m,\u001b[0m\u001b[1;33m\u001b[0m\u001b[1;33m\u001b[0m\u001b[0m\n\u001b[0;32m      6\u001b[0m         \u001b[0malpha\u001b[0m \u001b[1;33m=\u001b[0m \u001b[1;36m0.05\u001b[0m\u001b[1;33m,\u001b[0m \u001b[1;31m# default significance cut-off\u001b[0m\u001b[1;33m\u001b[0m\u001b[1;33m\u001b[0m\u001b[0m\n\u001b[1;32m----> 7\u001b[1;33m         methods = ['fdr_bh']) # defult multipletest correction method\n\u001b[0m",
      "\u001b[1;32mc:\\users\\joewa\\.virtualenvs\\web_omics-makc_z5x\\lib\\site-packages\\goatools\\goea\\go_enrichment_ns.py\u001b[0m in \u001b[0;36m__init__\u001b[1;34m(self, pop, ns2assoc, godag, propagate_counts, alpha, methods, **kws)\u001b[0m\n\u001b[0;32m     15\u001b[0m     \u001b[1;31m# pylint: disable=too-many-arguments\u001b[0m\u001b[1;33m\u001b[0m\u001b[1;33m\u001b[0m\u001b[1;33m\u001b[0m\u001b[0m\n\u001b[0;32m     16\u001b[0m     \u001b[1;32mdef\u001b[0m \u001b[0m__init__\u001b[0m\u001b[1;33m(\u001b[0m\u001b[0mself\u001b[0m\u001b[1;33m,\u001b[0m \u001b[0mpop\u001b[0m\u001b[1;33m,\u001b[0m \u001b[0mns2assoc\u001b[0m\u001b[1;33m,\u001b[0m \u001b[0mgodag\u001b[0m\u001b[1;33m,\u001b[0m \u001b[0mpropagate_counts\u001b[0m\u001b[1;33m=\u001b[0m\u001b[1;32mTrue\u001b[0m\u001b[1;33m,\u001b[0m \u001b[0malpha\u001b[0m\u001b[1;33m=\u001b[0m\u001b[1;36m.05\u001b[0m\u001b[1;33m,\u001b[0m \u001b[0mmethods\u001b[0m\u001b[1;33m=\u001b[0m\u001b[1;32mNone\u001b[0m\u001b[1;33m,\u001b[0m \u001b[1;33m**\u001b[0m\u001b[0mkws\u001b[0m\u001b[1;33m)\u001b[0m\u001b[1;33m:\u001b[0m\u001b[1;33m\u001b[0m\u001b[1;33m\u001b[0m\u001b[0m\n\u001b[1;32m---> 17\u001b[1;33m         \u001b[0mself\u001b[0m\u001b[1;33m.\u001b[0m\u001b[0mns2objgoea\u001b[0m \u001b[1;33m=\u001b[0m \u001b[0mself\u001b[0m\u001b[1;33m.\u001b[0m\u001b[0m_ns2o\u001b[0m\u001b[1;33m(\u001b[0m\u001b[0mpop\u001b[0m\u001b[1;33m,\u001b[0m \u001b[0mns2assoc\u001b[0m\u001b[1;33m,\u001b[0m \u001b[0mgodag\u001b[0m\u001b[1;33m,\u001b[0m \u001b[0mpropagate_counts\u001b[0m\u001b[1;33m,\u001b[0m \u001b[0malpha\u001b[0m\u001b[1;33m,\u001b[0m \u001b[0mmethods\u001b[0m\u001b[1;33m,\u001b[0m \u001b[1;33m**\u001b[0m\u001b[0mkws\u001b[0m\u001b[1;33m)\u001b[0m\u001b[1;33m\u001b[0m\u001b[1;33m\u001b[0m\u001b[0m\n\u001b[0m\u001b[0;32m     18\u001b[0m \u001b[1;33m\u001b[0m\u001b[0m\n\u001b[0;32m     19\u001b[0m     \u001b[1;32mdef\u001b[0m \u001b[0mrun_study\u001b[0m\u001b[1;33m(\u001b[0m\u001b[0mself\u001b[0m\u001b[1;33m,\u001b[0m \u001b[0mstudy_ids\u001b[0m\u001b[1;33m)\u001b[0m\u001b[1;33m:\u001b[0m\u001b[1;33m\u001b[0m\u001b[1;33m\u001b[0m\u001b[0m\n",
      "\u001b[1;32mc:\\users\\joewa\\.virtualenvs\\web_omics-makc_z5x\\lib\\site-packages\\goatools\\goea\\go_enrichment_ns.py\u001b[0m in \u001b[0;36m_ns2o\u001b[1;34m(pop, ns2assoc, godag, propagate_counts, alpha, methods, **kws)\u001b[0m\n\u001b[0;32m     38\u001b[0m         return {\n\u001b[0;32m     39\u001b[0m             \u001b[0mns\u001b[0m\u001b[1;33m:\u001b[0m\u001b[0mGOEnrichmentStudy\u001b[0m\u001b[1;33m(\u001b[0m\u001b[0mpop\u001b[0m\u001b[1;33m,\u001b[0m \u001b[0ma\u001b[0m\u001b[1;33m,\u001b[0m \u001b[0mgodag\u001b[0m\u001b[1;33m,\u001b[0m \u001b[0mpropagate_counts\u001b[0m\u001b[1;33m,\u001b[0m \u001b[0malpha\u001b[0m\u001b[1;33m,\u001b[0m \u001b[0mmethods\u001b[0m\u001b[1;33m,\u001b[0m \u001b[0mname\u001b[0m\u001b[1;33m=\u001b[0m\u001b[0mns\u001b[0m\u001b[1;33m,\u001b[0m \u001b[1;33m**\u001b[0m\u001b[0mkws\u001b[0m\u001b[1;33m)\u001b[0m\u001b[0;31m \u001b[0m\u001b[0;31m\\\u001b[0m\u001b[1;33m\u001b[0m\u001b[1;33m\u001b[0m\u001b[0m\n\u001b[1;32m---> 40\u001b[1;33m                 for ns, a in sorted(ns2assoc.items())}\n\u001b[0m\u001b[0;32m     41\u001b[0m \u001b[1;33m\u001b[0m\u001b[0m\n\u001b[0;32m     42\u001b[0m     \u001b[1;32mdef\u001b[0m \u001b[0mget_list_gosets\u001b[0m\u001b[1;33m(\u001b[0m\u001b[0mself\u001b[0m\u001b[1;33m)\u001b[0m\u001b[1;33m:\u001b[0m\u001b[1;33m\u001b[0m\u001b[1;33m\u001b[0m\u001b[0m\n",
      "\u001b[1;32mc:\\users\\joewa\\.virtualenvs\\web_omics-makc_z5x\\lib\\site-packages\\goatools\\goea\\go_enrichment_ns.py\u001b[0m in \u001b[0;36m<dictcomp>\u001b[1;34m(.0)\u001b[0m\n\u001b[0;32m     38\u001b[0m         return {\n\u001b[0;32m     39\u001b[0m             \u001b[0mns\u001b[0m\u001b[1;33m:\u001b[0m\u001b[0mGOEnrichmentStudy\u001b[0m\u001b[1;33m(\u001b[0m\u001b[0mpop\u001b[0m\u001b[1;33m,\u001b[0m \u001b[0ma\u001b[0m\u001b[1;33m,\u001b[0m \u001b[0mgodag\u001b[0m\u001b[1;33m,\u001b[0m \u001b[0mpropagate_counts\u001b[0m\u001b[1;33m,\u001b[0m \u001b[0malpha\u001b[0m\u001b[1;33m,\u001b[0m \u001b[0mmethods\u001b[0m\u001b[1;33m,\u001b[0m \u001b[0mname\u001b[0m\u001b[1;33m=\u001b[0m\u001b[0mns\u001b[0m\u001b[1;33m,\u001b[0m \u001b[1;33m**\u001b[0m\u001b[0mkws\u001b[0m\u001b[1;33m)\u001b[0m\u001b[0;31m \u001b[0m\u001b[0;31m\\\u001b[0m\u001b[1;33m\u001b[0m\u001b[1;33m\u001b[0m\u001b[0m\n\u001b[1;32m---> 40\u001b[1;33m                 for ns, a in sorted(ns2assoc.items())}\n\u001b[0m\u001b[0;32m     41\u001b[0m \u001b[1;33m\u001b[0m\u001b[0m\n\u001b[0;32m     42\u001b[0m     \u001b[1;32mdef\u001b[0m \u001b[0mget_list_gosets\u001b[0m\u001b[1;33m(\u001b[0m\u001b[0mself\u001b[0m\u001b[1;33m)\u001b[0m\u001b[1;33m:\u001b[0m\u001b[1;33m\u001b[0m\u001b[1;33m\u001b[0m\u001b[0m\n",
      "\u001b[1;32mc:\\users\\joewa\\.virtualenvs\\web_omics-makc_z5x\\lib\\site-packages\\goatools\\go_enrichment.py\u001b[0m in \u001b[0;36m__init__\u001b[1;34m(self, pop, assoc, obo_dag, propagate_counts, alpha, methods, **kws)\u001b[0m\n\u001b[0;32m    269\u001b[0m         \u001b[1;32mif\u001b[0m \u001b[0mpropagate_counts\u001b[0m\u001b[1;33m:\u001b[0m\u001b[1;33m\u001b[0m\u001b[1;33m\u001b[0m\u001b[0m\n\u001b[0;32m    270\u001b[0m             \u001b[0mupdate_association\u001b[0m\u001b[1;33m(\u001b[0m\u001b[0massoc\u001b[0m\u001b[1;33m,\u001b[0m \u001b[0mobo_dag\u001b[0m\u001b[1;33m,\u001b[0m \u001b[0mkws\u001b[0m\u001b[1;33m.\u001b[0m\u001b[0mget\u001b[0m\u001b[1;33m(\u001b[0m\u001b[1;34m'relationships'\u001b[0m\u001b[1;33m,\u001b[0m \u001b[1;32mNone\u001b[0m\u001b[1;33m)\u001b[0m\u001b[1;33m)\u001b[0m\u001b[1;33m\u001b[0m\u001b[1;33m\u001b[0m\u001b[0m\n\u001b[1;32m--> 271\u001b[1;33m         \u001b[0mself\u001b[0m\u001b[1;33m.\u001b[0m\u001b[0mgo2popitems\u001b[0m \u001b[1;33m=\u001b[0m \u001b[0mget_terms\u001b[0m\u001b[1;33m(\u001b[0m\u001b[1;34m\"population\"\u001b[0m\u001b[1;33m,\u001b[0m \u001b[0mpop\u001b[0m\u001b[1;33m,\u001b[0m \u001b[0massoc\u001b[0m\u001b[1;33m,\u001b[0m \u001b[0mobo_dag\u001b[0m\u001b[1;33m,\u001b[0m \u001b[0mself\u001b[0m\u001b[1;33m.\u001b[0m\u001b[0mlog\u001b[0m\u001b[1;33m)\u001b[0m\u001b[1;33m\u001b[0m\u001b[1;33m\u001b[0m\u001b[0m\n\u001b[0m\u001b[0;32m    272\u001b[0m \u001b[1;33m\u001b[0m\u001b[0m\n\u001b[0;32m    273\u001b[0m     \u001b[1;31m# def get_objresults(self, name, study, **kws):\u001b[0m\u001b[1;33m\u001b[0m\u001b[1;33m\u001b[0m\u001b[1;33m\u001b[0m\u001b[0m\n",
      "\u001b[1;32mc:\\users\\joewa\\.virtualenvs\\web_omics-makc_z5x\\lib\\site-packages\\goatools\\ratio.py\u001b[0m in \u001b[0;36mget_terms\u001b[1;34m(desc, geneset, assoc, obo_dag, log)\u001b[0m\n\u001b[0;32m     22\u001b[0m     \"\"\"Get the terms in the study group\n\u001b[0;32m     23\u001b[0m     \"\"\"\n\u001b[1;32m---> 24\u001b[1;33m     \u001b[0m_chk_gene2go\u001b[0m\u001b[1;33m(\u001b[0m\u001b[0massoc\u001b[0m\u001b[1;33m)\u001b[0m\u001b[1;33m\u001b[0m\u001b[1;33m\u001b[0m\u001b[0m\n\u001b[0m\u001b[0;32m     25\u001b[0m     \u001b[0mterm2itemids\u001b[0m \u001b[1;33m=\u001b[0m \u001b[0mdefaultdict\u001b[0m\u001b[1;33m(\u001b[0m\u001b[0mset\u001b[0m\u001b[1;33m)\u001b[0m\u001b[1;33m\u001b[0m\u001b[1;33m\u001b[0m\u001b[0m\n\u001b[0;32m     26\u001b[0m     \u001b[0mgenes\u001b[0m \u001b[1;33m=\u001b[0m \u001b[1;33m[\u001b[0m\u001b[0mg\u001b[0m \u001b[1;32mfor\u001b[0m \u001b[0mg\u001b[0m \u001b[1;32min\u001b[0m \u001b[0mgeneset\u001b[0m \u001b[1;32mif\u001b[0m \u001b[0mg\u001b[0m \u001b[1;32min\u001b[0m \u001b[0massoc\u001b[0m\u001b[1;33m]\u001b[0m\u001b[1;33m\u001b[0m\u001b[1;33m\u001b[0m\u001b[0m\n",
      "\u001b[1;32mc:\\users\\joewa\\.virtualenvs\\web_omics-makc_z5x\\lib\\site-packages\\goatools\\ratio.py\u001b[0m in \u001b[0;36m_chk_gene2go\u001b[1;34m(assoc)\u001b[0m\n\u001b[0;32m     61\u001b[0m         \u001b[1;32mif\u001b[0m \u001b[0misinstance\u001b[0m\u001b[1;33m(\u001b[0m\u001b[0mkey\u001b[0m\u001b[1;33m,\u001b[0m \u001b[0mstr\u001b[0m\u001b[1;33m)\u001b[0m \u001b[1;32mand\u001b[0m \u001b[0mkey\u001b[0m\u001b[1;33m[\u001b[0m\u001b[1;33m:\u001b[0m\u001b[1;36m3\u001b[0m\u001b[1;33m]\u001b[0m \u001b[1;33m==\u001b[0m \u001b[1;34m\"GO:\"\u001b[0m\u001b[1;33m:\u001b[0m\u001b[1;33m\u001b[0m\u001b[1;33m\u001b[0m\u001b[0m\n\u001b[0;32m     62\u001b[0m             raise Exception(\"ASSOCIATIONS EXPECTED TO BE gene2go, NOT go2gene: {EX}\".format(\n\u001b[1;32m---> 63\u001b[1;33m                 EX=assoc.items()[:2]))\n\u001b[0m\u001b[0;32m     64\u001b[0m         \u001b[1;32mreturn\u001b[0m\u001b[1;33m\u001b[0m\u001b[1;33m\u001b[0m\u001b[0m\n\u001b[0;32m     65\u001b[0m \u001b[1;33m\u001b[0m\u001b[0m\n",
      "\u001b[1;31mAttributeError\u001b[0m: 'set' object has no attribute 'items'"
     ]
    }
   ],
   "source": [
    "goeaobj = GOEnrichmentStudyNS(\n",
    "        background_ids,\n",
    "        associations,\n",
    "        ontologies, \n",
    "        propagate_counts = False,\n",
    "        alpha = 0.05, # default significance cut-off\n",
    "        methods = ['fdr_bh']) # defult multipletest correction method"
   ]
  },
  {
   "cell_type": "code",
   "execution_count": 45,
   "metadata": {},
   "outputs": [],
   "source": [
    "def get_goeaobj_nbt3102(method='fdr_bh'):\n",
    "    \"\"\"Return GOEA Object ready to run Nature data.\"\"\"\n",
    "    from goatools.obo_parser import GODag\n",
    "    from goatools.test_data.genes_NCBI_10090_ProteinCoding import GENEID2NT as GeneID2nt_mus\n",
    "    from goatools.base import download_go_basic_obo, download_ncbi_associations\n",
    "    from goatools.anno.genetogo_reader import Gene2GoReader\n",
    "    from goatools.goea.go_enrichment_ns import GOEnrichmentStudyNS\n",
    "    # Load Ontologies\n",
    "    obo_fname = download_go_basic_obo()\n",
    "    obodag = GODag(\"go-basic.obo\")\n",
    "    # Load Associations\n",
    "    download_ncbi_associations() # Get ftp://ftp.ncbi.nlm.nih.gov/gene/DATA/gene2go.gz\n",
    "    # Read NCBI's gene2go. Store annotations in a list of namedtuples\n",
    "    objanno = Gene2GoReader(\"gene2go\", taxids=[10090])\n",
    "    # Get associations for each branch of the GO DAG (BP, MF, CC)\n",
    "    ns2assoc = objanno.get_ns2assc()\n",
    "    # GOE Object holds Ontologies, Associations, and Background gene set\n",
    "    return GOEnrichmentStudyNS(\n",
    "        GeneID2nt_mus.keys(), # Background gene set: mouse protein-coding genes\n",
    "        ns2assoc, # geneid/GO Associations for BP, MF, anc CC GODAG branches\n",
    "        obodag, # Ontologies\n",
    "        propagate_counts = False,\n",
    "        alpha = 0.05, # default significance cut-off\n",
    "        methods = [method]) # defult multipletest correction method"
   ]
  },
  {
   "cell_type": "code",
   "execution_count": 46,
   "metadata": {},
   "outputs": [
    {
     "name": "stdout",
     "output_type": "stream",
     "text": [
      "  EXISTS: go-basic.obo\n",
      "go-basic.obo: fmt(1.2) rel(2019-07-01) 47,413 GO Terms\n",
      "FTP RETR ftp.ncbi.nlm.nih.gov gene/DATA gene2go.gz -> gene2go.gz\n"
     ]
    },
    {
     "name": "stderr",
     "output_type": "stream",
     "text": [
      "Traceback (most recent call last):\n",
      "  File \"c:\\users\\joewa\\.virtualenvs\\web_omics-makc_z5x\\lib\\site-packages\\goatools\\base.py\", line 220, in dnld_file\n",
      "    rsp = http_get(src_ftp, dst_wget) if src_ftp[:4] == 'http' else ftp_get(src_ftp, dst_wget)\n",
      "  File \"c:\\users\\joewa\\.virtualenvs\\web_omics-makc_z5x\\lib\\site-packages\\goatools\\base.py\", line 203, in ftp_get\n",
      "    ftp.retrbinary(cmd, open(fout, 'wb').write)  #           /usr/home/gene2go.gz\n",
      "  File \"C:\\Users\\joewa\\AppData\\Local\\Programs\\Python\\Python37\\Lib\\ftplib.py\", line 442, in retrbinary\n",
      "    with self.transfercmd(cmd, rest) as conn:\n",
      "  File \"C:\\Users\\joewa\\AppData\\Local\\Programs\\Python\\Python37\\Lib\\ftplib.py\", line 399, in transfercmd\n",
      "    return self.ntransfercmd(cmd, rest)[0]\n",
      "  File \"C:\\Users\\joewa\\AppData\\Local\\Programs\\Python\\Python37\\Lib\\ftplib.py\", line 361, in ntransfercmd\n",
      "    source_address=self.source_address)\n",
      "  File \"C:\\Users\\joewa\\AppData\\Local\\Programs\\Python\\Python37\\Lib\\socket.py\", line 727, in create_connection\n",
      "    raise err\n",
      "  File \"C:\\Users\\joewa\\AppData\\Local\\Programs\\Python\\Python37\\Lib\\socket.py\", line 716, in create_connection\n",
      "    sock.connect(sa)\n",
      "TimeoutError: [WinError 10060] A connection attempt failed because the connected party did not properly respond after a period of time, or established connection failed because connected host has failed to respond\n",
      "**FATAL cmd: wget(ftp://ftp.ncbi.nlm.nih.gov/gene/DATA/gene2go.gz out=gene2go.gz)\n",
      "**FATAL msg: [WinError 10060] A connection attempt failed because the connected party did not properly respond after a period of time, or established connection failed because connected host has failed to respond"
     ]
    },
    {
     "ename": "SystemExit",
     "evalue": "1",
     "output_type": "error",
     "traceback": [
      "An exception has occurred, use %tb to see the full traceback.\n",
      "\u001b[1;31mSystemExit\u001b[0m\u001b[1;31m:\u001b[0m 1\n"
     ]
    },
    {
     "name": "stderr",
     "output_type": "stream",
     "text": [
      "c:\\users\\joewa\\.virtualenvs\\web_omics-makc_z5x\\lib\\site-packages\\IPython\\core\\interactiveshell.py:3334: UserWarning: To exit: use 'exit', 'quit', or Ctrl-D.\n",
      "  warn(\"To exit: use 'exit', 'quit', or Ctrl-D.\", stacklevel=1)\n"
     ]
    }
   ],
   "source": [
    "goea = get_goeaobj_nbt3102()"
   ]
  },
  {
   "cell_type": "code",
   "execution_count": null,
   "metadata": {},
   "outputs": [],
   "source": []
  }
 ],
 "metadata": {
  "kernelspec": {
   "display_name": "Python 3",
   "language": "python",
   "name": "python3"
  },
  "language_info": {
   "codemirror_mode": {
    "name": "ipython",
    "version": 3
   },
   "file_extension": ".py",
   "mimetype": "text/x-python",
   "name": "python",
   "nbconvert_exporter": "python",
   "pygments_lexer": "ipython3",
   "version": "3.7.3"
  }
 },
 "nbformat": 4,
 "nbformat_minor": 2
}
