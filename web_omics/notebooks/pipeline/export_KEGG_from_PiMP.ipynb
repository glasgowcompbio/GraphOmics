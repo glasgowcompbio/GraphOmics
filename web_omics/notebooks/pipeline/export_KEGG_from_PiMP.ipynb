{
 "cells": [
  {
   "cell_type": "markdown",
   "metadata": {},
   "source": [
    "# Export Pathway Info from the KEGG Database in PiMP"
   ]
  },
  {
   "cell_type": "code",
   "execution_count": null,
   "metadata": {},
   "outputs": [],
   "source": [
    "%load_ext autoreload\n",
    "%autoreload 2"
   ]
  },
  {
   "cell_type": "code",
   "execution_count": null,
   "metadata": {},
   "outputs": [],
   "source": [
    "from collections import OrderedDict"
   ]
  },
  {
   "cell_type": "code",
   "execution_count": null,
   "metadata": {},
   "outputs": [],
   "source": [
    "import xmltodict\n",
    "import json\n",
    "\n",
    "from rpy2 import robjects\n",
    "from rpy2.robjects import pandas2ri\n",
    "from bioservices.kegg import KEGG\n",
    "\n",
    "pandas2ri.activate()"
   ]
  },
  {
   "cell_type": "markdown",
   "metadata": {},
   "source": [
    "Define some useful methods"
   ]
  },
  {
   "cell_type": "code",
   "execution_count": null,
   "metadata": {},
   "outputs": [],
   "source": [
    "def get_pw_cmpd_dict(path):\n",
    "    robjects.r['load'](path + '/PiMP/data/pathways2Compounds.RData')\n",
    "    a = robjects.r['pathways2Compounds']\n",
    "    pw_cmpd_dict = OrderedDict(zip(a.names, map(list, list(a))))\n",
    "\n",
    "    pathway_cmpd_dict = OrderedDict()\n",
    "    for pathway, cmpd_list in pw_cmpd_dict.items():\n",
    "        pw = pathway.replace(\"path:\", \"\")\n",
    "        pathway_cmpd_dict[pw] = cmpd_list\n",
    "\n",
    "    return pathway_cmpd_dict\n",
    "\n",
    "def _filter_pathway_name(p):\n",
    "    return [x.replace('path:', '') for x in p]\n",
    "\n",
    "def get_cmpid_pathway_dict(path):\n",
    "    robjects.r['load'](path + '/PiMP/data/compounds2Pathways.RData')\n",
    "    a = robjects.r['compounds2Pathways']\n",
    "    compound_names = a.names\n",
    "    compound_pathways = list(map(lambda x: _filter_pathway_name(x), list(a)))\n",
    "    cmpd_pw_dict = OrderedDict(zip(compound_names, compound_pathways))\n",
    "    return cmpd_pw_dict\n",
    "\n",
    "def _produce_kegg_dict(path, param):\n",
    "    kegg_location = path + '/PiMP/inst/dbs/kegg.xml'\n",
    "    with open(kegg_location) as kegg_cmpd_file:\n",
    "        cmpd_dict = xmltodict.parse(kegg_cmpd_file.read())\n",
    "\n",
    "    kegg_dict = {}\n",
    "    for compound in cmpd_dict['compounds']['compound']:\n",
    "        kegg_dict[compound[param]] = compound['formula']\n",
    "    return kegg_dict\n",
    "\n",
    "def get_cmpd_name_formula_dict(path):\n",
    "    return _produce_kegg_dict(path, 'name')\n",
    "\n",
    "def get_cmpd_id_formula_dict(path):\n",
    "    return _produce_kegg_dict(path, 'id')\n",
    "\n",
    "def get_kegg_info(compound_id):\n",
    "        s = KEGG()\n",
    "        res = s.get(compound_id)\n",
    "        return s.parse(res)\n",
    "    \n",
    "def get_all_kegg_compound_ids():\n",
    "    s = KEGG()\n",
    "    compound_ids = []\n",
    "    for compound_id in s.compoundIds:\n",
    "        compound_ids.append(compound_id.split(':')[1])\n",
    "    return compound_ids\n",
    "\n",
    "def get_all_kegg_compound_info():\n",
    "    compound_ids = get_all_kegg_compound_ids()\n",
    "    compound_info = {}\n",
    "    for i in range(len(compound_ids)):\n",
    "        cid = compound_ids[i]\n",
    "        cinfo = get_kegg_info(cid)\n",
    "        print('%d/%d %s' % (i+1, len(compound_ids), cinfo['ENTRY']))        \n",
    "        compound_info[cid] = cinfo\n",
    "    return compound_info"
   ]
  },
  {
   "cell_type": "code",
   "execution_count": null,
   "metadata": {},
   "outputs": [],
   "source": [
    "path = '/home/joewandy/git/pimp'"
   ]
  },
  {
   "cell_type": "code",
   "execution_count": null,
   "metadata": {},
   "outputs": [],
   "source": [
    "pathway_cmpd_dict = dict(get_pw_cmpd_dict(path))\n",
    "cmpd_formula_dict = get_cmpd_name_formula_dict(path)\n",
    "cmpd_id_formula_dict = get_cmpd_id_formula_dict(path)\n",
    "cmpd_id_pw_dict = dict(get_cmpid_pathway_dict(path))\n",
    "all_kegg_compound_info = get_all_kegg_compound_info()"
   ]
  },
  {
   "cell_type": "code",
   "execution_count": null,
   "metadata": {},
   "outputs": [],
   "source": [
    "pathway_cmpd_dict"
   ]
  },
  {
   "cell_type": "code",
   "execution_count": null,
   "metadata": {},
   "outputs": [],
   "source": [
    "cmpd_formula_dict"
   ]
  },
  {
   "cell_type": "code",
   "execution_count": null,
   "metadata": {},
   "outputs": [],
   "source": [
    "cmpd_id_formula_dict"
   ]
  },
  {
   "cell_type": "code",
   "execution_count": null,
   "metadata": {},
   "outputs": [],
   "source": [
    "cmpd_id_pw_dict"
   ]
  },
  {
   "cell_type": "code",
   "execution_count": null,
   "metadata": {},
   "outputs": [],
   "source": [
    "len(cmpd_id_formula_dict)"
   ]
  },
  {
   "cell_type": "code",
   "execution_count": null,
   "metadata": {},
   "outputs": [],
   "source": [
    "len(cmpd_id_pw_dict)"
   ]
  },
  {
   "cell_type": "code",
   "execution_count": null,
   "metadata": {},
   "outputs": [],
   "source": [
    "data = {\n",
    "    'pathway_cmpd_dict': pathway_cmpd_dict,\n",
    "    'cmpd_formula_dict': cmpd_formula_dict,\n",
    "    'cmpd_id_formula_dict': cmpd_id_formula_dict,\n",
    "    'cmpd_id_pw_dict': cmpd_id_pw_dict,\n",
    "    'cmpd_info': all_kegg_compound_info\n",
    "}"
   ]
  },
  {
   "cell_type": "code",
   "execution_count": null,
   "metadata": {},
   "outputs": [],
   "source": [
    "import json\n",
    "with open('/home/joewandy/git/PALS/data/kegg.json', 'w') as f:\n",
    "    json.dump(data, f)"
   ]
  }
 ],
 "metadata": {
  "kernelspec": {
   "display_name": "Django Shell-Plus",
   "language": "python",
   "name": "django_extensions"
  },
  "language_info": {
   "codemirror_mode": {
    "name": "ipython",
    "version": 3
   },
   "file_extension": ".py",
   "mimetype": "text/x-python",
   "name": "python",
   "nbconvert_exporter": "python",
   "pygments_lexer": "ipython3",
   "version": "3.7.3"
  }
 },
 "nbformat": 4,
 "nbformat_minor": 2
}
