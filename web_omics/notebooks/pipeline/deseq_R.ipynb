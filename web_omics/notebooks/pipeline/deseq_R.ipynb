{
 "cells": [
  {
   "cell_type": "code",
   "execution_count": 55,
   "metadata": {},
   "outputs": [],
   "source": [
    "library(DESeq2)"
   ]
  },
  {
   "cell_type": "code",
   "execution_count": 56,
   "metadata": {},
   "outputs": [
    {
     "data": {
      "text/html": [
       "<table>\n",
       "<thead><tr><th></th><th scope=col>HK1cnt</th><th scope=col>HK2cnt</th><th scope=col>HK3cnt</th><th scope=col>INF2cnt</th><th scope=col>INF3cnt</th><th scope=col>INF4cnt</th><th scope=col>M01cnt</th><th scope=col>M02cnt</th><th scope=col>M03cnt</th></tr></thead>\n",
       "<tbody>\n",
       "\t<tr><th scope=row>ENSMUSG00000000001</th><td>4390</td><td>4003</td><td>5739</td><td>3005</td><td>3674</td><td>2221</td><td>4255</td><td>4587</td><td>3927</td></tr>\n",
       "\t<tr><th scope=row>ENSMUSG00000000028</th><td>  44</td><td>  47</td><td>  57</td><td>  43</td><td>  46</td><td>  36</td><td>  60</td><td>  91</td><td>  57</td></tr>\n",
       "\t<tr><th scope=row>ENSMUSG00000000031</th><td>   0</td><td>   0</td><td>   0</td><td>   0</td><td>   1</td><td>   0</td><td>   0</td><td>   0</td><td>   0</td></tr>\n",
       "\t<tr><th scope=row>ENSMUSG00000000037</th><td>   2</td><td>   0</td><td>   3</td><td>   0</td><td>   0</td><td>   0</td><td>   4</td><td>   0</td><td>   0</td></tr>\n",
       "\t<tr><th scope=row>ENSMUSG00000000049</th><td>   0</td><td>   1</td><td>   1</td><td>   0</td><td>   0</td><td>   3</td><td>   0</td><td>   2</td><td>   3</td></tr>\n",
       "\t<tr><th scope=row>ENSMUSG00000000056</th><td> 312</td><td> 366</td><td> 418</td><td> 352</td><td> 370</td><td> 260</td><td> 495</td><td> 558</td><td> 467</td></tr>\n",
       "</tbody>\n",
       "</table>\n"
      ],
      "text/latex": [
       "\\begin{tabular}{r|lllllllll}\n",
       "  & HK1cnt & HK2cnt & HK3cnt & INF2cnt & INF3cnt & INF4cnt & M01cnt & M02cnt & M03cnt\\\\\n",
       "\\hline\n",
       "\tENSMUSG00000000001 & 4390 & 4003 & 5739 & 3005 & 3674 & 2221 & 4255 & 4587 & 3927\\\\\n",
       "\tENSMUSG00000000028 &   44 &   47 &   57 &   43 &   46 &   36 &   60 &   91 &   57\\\\\n",
       "\tENSMUSG00000000031 &    0 &    0 &    0 &    0 &    1 &    0 &    0 &    0 &    0\\\\\n",
       "\tENSMUSG00000000037 &    2 &    0 &    3 &    0 &    0 &    0 &    4 &    0 &    0\\\\\n",
       "\tENSMUSG00000000049 &    0 &    1 &    1 &    0 &    0 &    3 &    0 &    2 &    3\\\\\n",
       "\tENSMUSG00000000056 &  312 &  366 &  418 &  352 &  370 &  260 &  495 &  558 &  467\\\\\n",
       "\\end{tabular}\n"
      ],
      "text/markdown": [
       "\n",
       "| <!--/--> | HK1cnt | HK2cnt | HK3cnt | INF2cnt | INF3cnt | INF4cnt | M01cnt | M02cnt | M03cnt | \n",
       "|---|---|---|---|---|---|\n",
       "| ENSMUSG00000000001 | 4390 | 4003 | 5739 | 3005 | 3674 | 2221 | 4255 | 4587 | 3927 | \n",
       "| ENSMUSG00000000028 |   44 |   47 |   57 |   43 |   46 |   36 |   60 |   91 |   57 | \n",
       "| ENSMUSG00000000031 |    0 |    0 |    0 |    0 |    1 |    0 |    0 |    0 |    0 | \n",
       "| ENSMUSG00000000037 |    2 |    0 |    3 |    0 |    0 |    0 |    4 |    0 |    0 | \n",
       "| ENSMUSG00000000049 |    0 |    1 |    1 |    0 |    0 |    3 |    0 |    2 |    3 | \n",
       "| ENSMUSG00000000056 |  312 |  366 |  418 |  352 |  370 |  260 |  495 |  558 |  467 | \n",
       "\n",
       "\n"
      ],
      "text/plain": [
       "                   HK1cnt HK2cnt HK3cnt INF2cnt INF3cnt INF4cnt M01cnt M02cnt\n",
       "ENSMUSG00000000001 4390   4003   5739   3005    3674    2221    4255   4587  \n",
       "ENSMUSG00000000028   44     47     57     43      46      36      60     91  \n",
       "ENSMUSG00000000031    0      0      0      0       1       0       0      0  \n",
       "ENSMUSG00000000037    2      0      3      0       0       0       4      0  \n",
       "ENSMUSG00000000049    0      1      1      0       0       3       0      2  \n",
       "ENSMUSG00000000056  312    366    418    352     370     260     495    558  \n",
       "                   M03cnt\n",
       "ENSMUSG00000000001 3927  \n",
       "ENSMUSG00000000028   57  \n",
       "ENSMUSG00000000031    0  \n",
       "ENSMUSG00000000037    0  \n",
       "ENSMUSG00000000049    3  \n",
       "ENSMUSG00000000056  467  "
      ]
     },
     "metadata": {},
     "output_type": "display_data"
    }
   ],
   "source": [
    "cts = read.csv(file='../static/data/debugging/data_df.csv', header=TRUE, sep=',')\n",
    "rownames(cts) = cts$gene_pk\n",
    "cts$gene_pk = NULL\n",
    "cts$gene_id = NULL\n",
    "head(cts)"
   ]
  },
  {
   "cell_type": "code",
   "execution_count": 57,
   "metadata": {},
   "outputs": [
    {
     "data": {
      "text/html": [
       "<table>\n",
       "<thead><tr><th></th><th scope=col>group</th></tr></thead>\n",
       "<tbody>\n",
       "\t<tr><th scope=row>HK1cnt</th><td>HK   </td></tr>\n",
       "\t<tr><th scope=row>HK2cnt</th><td>HK   </td></tr>\n",
       "\t<tr><th scope=row>HK3cnt</th><td>HK   </td></tr>\n",
       "\t<tr><th scope=row>INF2cnt</th><td>INFEC</td></tr>\n",
       "\t<tr><th scope=row>INF3cnt</th><td>INFEC</td></tr>\n",
       "\t<tr><th scope=row>INF4cnt</th><td>INFEC</td></tr>\n",
       "\t<tr><th scope=row>M01cnt</th><td>UN   </td></tr>\n",
       "\t<tr><th scope=row>M02cnt</th><td>UN   </td></tr>\n",
       "\t<tr><th scope=row>M03cnt</th><td>UN   </td></tr>\n",
       "</tbody>\n",
       "</table>\n"
      ],
      "text/latex": [
       "\\begin{tabular}{r|l}\n",
       "  & group\\\\\n",
       "\\hline\n",
       "\tHK1cnt & HK   \\\\\n",
       "\tHK2cnt & HK   \\\\\n",
       "\tHK3cnt & HK   \\\\\n",
       "\tINF2cnt & INFEC\\\\\n",
       "\tINF3cnt & INFEC\\\\\n",
       "\tINF4cnt & INFEC\\\\\n",
       "\tM01cnt & UN   \\\\\n",
       "\tM02cnt & UN   \\\\\n",
       "\tM03cnt & UN   \\\\\n",
       "\\end{tabular}\n"
      ],
      "text/markdown": [
       "\n",
       "| <!--/--> | group | \n",
       "|---|---|---|---|---|---|---|---|---|\n",
       "| HK1cnt | HK    | \n",
       "| HK2cnt | HK    | \n",
       "| HK3cnt | HK    | \n",
       "| INF2cnt | INFEC | \n",
       "| INF3cnt | INFEC | \n",
       "| INF4cnt | INFEC | \n",
       "| M01cnt | UN    | \n",
       "| M02cnt | UN    | \n",
       "| M03cnt | UN    | \n",
       "\n",
       "\n"
      ],
      "text/plain": [
       "        group\n",
       "HK1cnt  HK   \n",
       "HK2cnt  HK   \n",
       "HK3cnt  HK   \n",
       "INF2cnt INFEC\n",
       "INF3cnt INFEC\n",
       "INF4cnt INFEC\n",
       "M01cnt  UN   \n",
       "M02cnt  UN   \n",
       "M03cnt  UN   "
      ]
     },
     "metadata": {},
     "output_type": "display_data"
    }
   ],
   "source": [
    "coldata = read.csv(file='../static/data/debugging/design_df.csv', header=TRUE, sep=',')\n",
    "rownames(coldata) = coldata$sample # set as index\n",
    "runs = coldata$sample\n",
    "coldata$sample = NULL # remove the sample column\n",
    "coldata"
   ]
  },
  {
   "cell_type": "code",
   "execution_count": 58,
   "metadata": {},
   "outputs": [
    {
     "data": {
      "text/html": [
       "<ol class=list-inline>\n",
       "\t<li>HK1cnt</li>\n",
       "\t<li>HK2cnt</li>\n",
       "\t<li>HK3cnt</li>\n",
       "\t<li>INF2cnt</li>\n",
       "\t<li>INF3cnt</li>\n",
       "\t<li>INF4cnt</li>\n",
       "\t<li>M01cnt</li>\n",
       "\t<li>M02cnt</li>\n",
       "\t<li>M03cnt</li>\n",
       "</ol>\n"
      ],
      "text/latex": [
       "\\begin{enumerate*}\n",
       "\\item HK1cnt\n",
       "\\item HK2cnt\n",
       "\\item HK3cnt\n",
       "\\item INF2cnt\n",
       "\\item INF3cnt\n",
       "\\item INF4cnt\n",
       "\\item M01cnt\n",
       "\\item M02cnt\n",
       "\\item M03cnt\n",
       "\\end{enumerate*}\n"
      ],
      "text/markdown": [
       "1. HK1cnt\n",
       "2. HK2cnt\n",
       "3. HK3cnt\n",
       "4. INF2cnt\n",
       "5. INF3cnt\n",
       "6. INF4cnt\n",
       "7. M01cnt\n",
       "8. M02cnt\n",
       "9. M03cnt\n",
       "\n",
       "\n"
      ],
      "text/plain": [
       "[1] HK1cnt  HK2cnt  HK3cnt  INF2cnt INF3cnt INF4cnt M01cnt  M02cnt  M03cnt \n",
       "9 Levels: HK1cnt HK2cnt HK3cnt INF2cnt INF3cnt INF4cnt M01cnt ... M03cnt"
      ]
     },
     "metadata": {},
     "output_type": "display_data"
    }
   ],
   "source": [
    "runs"
   ]
  },
  {
   "cell_type": "code",
   "execution_count": 59,
   "metadata": {},
   "outputs": [],
   "source": [
    "dds <- DESeqDataSetFromMatrix(countData = cts,\n",
    "                              colData = coldata,\n",
    "                              design = ~ group)"
   ]
  },
  {
   "cell_type": "code",
   "execution_count": 60,
   "metadata": {},
   "outputs": [
    {
     "data": {
      "text/plain": [
       "class: DESeqDataSet \n",
       "dim: 1579 9 \n",
       "metadata(1): version\n",
       "assays(1): counts\n",
       "rownames(1579): ENSMUSG00000000001 ENSMUSG00000000028 ...\n",
       "  ENSMUSG00000115338 -\n",
       "rowData names(0):\n",
       "colnames(9): HK1cnt HK2cnt ... M02cnt M03cnt\n",
       "colData names(1): group"
      ]
     },
     "metadata": {},
     "output_type": "display_data"
    }
   ],
   "source": [
    "dds"
   ]
  },
  {
   "cell_type": "code",
   "execution_count": 61,
   "metadata": {},
   "outputs": [],
   "source": [
    "dds$condition <- factor(c('HK', 'HK', 'HK', 'INFEC', 'INFEC', 'INFEC', 'UN', 'UN', 'UN'))\n",
    "dds$condition <- relevel(dds$condition, ref = \"UN\") # set control"
   ]
  },
  {
   "cell_type": "code",
   "execution_count": 62,
   "metadata": {},
   "outputs": [
    {
     "data": {
      "text/html": [
       "<ol class=list-inline>\n",
       "\t<li>HK1cnt</li>\n",
       "\t<li>HK2cnt</li>\n",
       "\t<li>HK3cnt</li>\n",
       "\t<li>INF2cnt</li>\n",
       "\t<li>INF3cnt</li>\n",
       "\t<li>INF4cnt</li>\n",
       "\t<li>M01cnt</li>\n",
       "\t<li>M02cnt</li>\n",
       "\t<li>M03cnt</li>\n",
       "</ol>\n"
      ],
      "text/latex": [
       "\\begin{enumerate*}\n",
       "\\item HK1cnt\n",
       "\\item HK2cnt\n",
       "\\item HK3cnt\n",
       "\\item INF2cnt\n",
       "\\item INF3cnt\n",
       "\\item INF4cnt\n",
       "\\item M01cnt\n",
       "\\item M02cnt\n",
       "\\item M03cnt\n",
       "\\end{enumerate*}\n"
      ],
      "text/markdown": [
       "1. HK1cnt\n",
       "2. HK2cnt\n",
       "3. HK3cnt\n",
       "4. INF2cnt\n",
       "5. INF3cnt\n",
       "6. INF4cnt\n",
       "7. M01cnt\n",
       "8. M02cnt\n",
       "9. M03cnt\n",
       "\n",
       "\n"
      ],
      "text/plain": [
       "[1] HK1cnt  HK2cnt  HK3cnt  INF2cnt INF3cnt INF4cnt M01cnt  M02cnt  M03cnt \n",
       "9 Levels: HK1cnt HK2cnt HK3cnt INF2cnt INF3cnt INF4cnt M01cnt ... M03cnt"
      ]
     },
     "metadata": {},
     "output_type": "display_data"
    }
   ],
   "source": [
    "runs"
   ]
  },
  {
   "cell_type": "code",
   "execution_count": 63,
   "metadata": {},
   "outputs": [],
   "source": [
    "dds$sample <- runs"
   ]
  },
  {
   "cell_type": "code",
   "execution_count": 64,
   "metadata": {},
   "outputs": [],
   "source": [
    "dds$run <- runs"
   ]
  },
  {
   "cell_type": "code",
   "execution_count": 65,
   "metadata": {},
   "outputs": [
    {
     "data": {
      "text/html": [
       "<table>\n",
       "<thead><tr><th></th><th scope=col>HK1cnt</th><th scope=col>HK2cnt</th><th scope=col>HK3cnt</th><th scope=col>INF2cnt</th><th scope=col>INF3cnt</th><th scope=col>INF4cnt</th><th scope=col>M01cnt</th><th scope=col>M02cnt</th><th scope=col>M03cnt</th></tr></thead>\n",
       "<tbody>\n",
       "\t<tr><th scope=row>ENSMUSG00000000001</th><td>4390</td><td>4003</td><td>5739</td><td>3005</td><td>3674</td><td>2221</td><td>4255</td><td>4587</td><td>3927</td></tr>\n",
       "\t<tr><th scope=row>ENSMUSG00000000028</th><td>  44</td><td>  47</td><td>  57</td><td>  43</td><td>  46</td><td>  36</td><td>  60</td><td>  91</td><td>  57</td></tr>\n",
       "\t<tr><th scope=row>ENSMUSG00000000031</th><td>   0</td><td>   0</td><td>   0</td><td>   0</td><td>   1</td><td>   0</td><td>   0</td><td>   0</td><td>   0</td></tr>\n",
       "\t<tr><th scope=row>ENSMUSG00000000037</th><td>   2</td><td>   0</td><td>   3</td><td>   0</td><td>   0</td><td>   0</td><td>   4</td><td>   0</td><td>   0</td></tr>\n",
       "\t<tr><th scope=row>ENSMUSG00000000049</th><td>   0</td><td>   1</td><td>   1</td><td>   0</td><td>   0</td><td>   3</td><td>   0</td><td>   2</td><td>   3</td></tr>\n",
       "\t<tr><th scope=row>ENSMUSG00000000056</th><td> 312</td><td> 366</td><td> 418</td><td> 352</td><td> 370</td><td> 260</td><td> 495</td><td> 558</td><td> 467</td></tr>\n",
       "</tbody>\n",
       "</table>\n"
      ],
      "text/latex": [
       "\\begin{tabular}{r|lllllllll}\n",
       "  & HK1cnt & HK2cnt & HK3cnt & INF2cnt & INF3cnt & INF4cnt & M01cnt & M02cnt & M03cnt\\\\\n",
       "\\hline\n",
       "\tENSMUSG00000000001 & 4390 & 4003 & 5739 & 3005 & 3674 & 2221 & 4255 & 4587 & 3927\\\\\n",
       "\tENSMUSG00000000028 &   44 &   47 &   57 &   43 &   46 &   36 &   60 &   91 &   57\\\\\n",
       "\tENSMUSG00000000031 &    0 &    0 &    0 &    0 &    1 &    0 &    0 &    0 &    0\\\\\n",
       "\tENSMUSG00000000037 &    2 &    0 &    3 &    0 &    0 &    0 &    4 &    0 &    0\\\\\n",
       "\tENSMUSG00000000049 &    0 &    1 &    1 &    0 &    0 &    3 &    0 &    2 &    3\\\\\n",
       "\tENSMUSG00000000056 &  312 &  366 &  418 &  352 &  370 &  260 &  495 &  558 &  467\\\\\n",
       "\\end{tabular}\n"
      ],
      "text/markdown": [
       "\n",
       "| <!--/--> | HK1cnt | HK2cnt | HK3cnt | INF2cnt | INF3cnt | INF4cnt | M01cnt | M02cnt | M03cnt | \n",
       "|---|---|---|---|---|---|\n",
       "| ENSMUSG00000000001 | 4390 | 4003 | 5739 | 3005 | 3674 | 2221 | 4255 | 4587 | 3927 | \n",
       "| ENSMUSG00000000028 |   44 |   47 |   57 |   43 |   46 |   36 |   60 |   91 |   57 | \n",
       "| ENSMUSG00000000031 |    0 |    0 |    0 |    0 |    1 |    0 |    0 |    0 |    0 | \n",
       "| ENSMUSG00000000037 |    2 |    0 |    3 |    0 |    0 |    0 |    4 |    0 |    0 | \n",
       "| ENSMUSG00000000049 |    0 |    1 |    1 |    0 |    0 |    3 |    0 |    2 |    3 | \n",
       "| ENSMUSG00000000056 |  312 |  366 |  418 |  352 |  370 |  260 |  495 |  558 |  467 | \n",
       "\n",
       "\n"
      ],
      "text/plain": [
       "                   HK1cnt HK2cnt HK3cnt INF2cnt INF3cnt INF4cnt M01cnt M02cnt\n",
       "ENSMUSG00000000001 4390   4003   5739   3005    3674    2221    4255   4587  \n",
       "ENSMUSG00000000028   44     47     57     43      46      36      60     91  \n",
       "ENSMUSG00000000031    0      0      0      0       1       0       0      0  \n",
       "ENSMUSG00000000037    2      0      3      0       0       0       4      0  \n",
       "ENSMUSG00000000049    0      1      1      0       0       3       0      2  \n",
       "ENSMUSG00000000056  312    366    418    352     370     260     495    558  \n",
       "                   M03cnt\n",
       "ENSMUSG00000000001 3927  \n",
       "ENSMUSG00000000028   57  \n",
       "ENSMUSG00000000031    0  \n",
       "ENSMUSG00000000037    0  \n",
       "ENSMUSG00000000049    3  \n",
       "ENSMUSG00000000056  467  "
      ]
     },
     "metadata": {},
     "output_type": "display_data"
    }
   ],
   "source": [
    "head(counts(dds))"
   ]
  },
  {
   "cell_type": "code",
   "execution_count": 66,
   "metadata": {},
   "outputs": [],
   "source": [
    "ddsColl <- collapseReplicates(dds, dds$sample, dds$run)"
   ]
  },
  {
   "cell_type": "code",
   "execution_count": 67,
   "metadata": {},
   "outputs": [
    {
     "data": {
      "text/html": [
       "<table>\n",
       "<thead><tr><th></th><th scope=col>HK1cnt</th><th scope=col>HK2cnt</th><th scope=col>HK3cnt</th><th scope=col>INF2cnt</th><th scope=col>INF3cnt</th><th scope=col>INF4cnt</th><th scope=col>M01cnt</th><th scope=col>M02cnt</th><th scope=col>M03cnt</th></tr></thead>\n",
       "<tbody>\n",
       "\t<tr><th scope=row>ENSMUSG00000000001</th><td>4390</td><td>4003</td><td>5739</td><td>3005</td><td>3674</td><td>2221</td><td>4255</td><td>4587</td><td>3927</td></tr>\n",
       "\t<tr><th scope=row>ENSMUSG00000000028</th><td>  44</td><td>  47</td><td>  57</td><td>  43</td><td>  46</td><td>  36</td><td>  60</td><td>  91</td><td>  57</td></tr>\n",
       "\t<tr><th scope=row>ENSMUSG00000000031</th><td>   0</td><td>   0</td><td>   0</td><td>   0</td><td>   1</td><td>   0</td><td>   0</td><td>   0</td><td>   0</td></tr>\n",
       "\t<tr><th scope=row>ENSMUSG00000000037</th><td>   2</td><td>   0</td><td>   3</td><td>   0</td><td>   0</td><td>   0</td><td>   4</td><td>   0</td><td>   0</td></tr>\n",
       "\t<tr><th scope=row>ENSMUSG00000000049</th><td>   0</td><td>   1</td><td>   1</td><td>   0</td><td>   0</td><td>   3</td><td>   0</td><td>   2</td><td>   3</td></tr>\n",
       "\t<tr><th scope=row>ENSMUSG00000000056</th><td> 312</td><td> 366</td><td> 418</td><td> 352</td><td> 370</td><td> 260</td><td> 495</td><td> 558</td><td> 467</td></tr>\n",
       "</tbody>\n",
       "</table>\n"
      ],
      "text/latex": [
       "\\begin{tabular}{r|lllllllll}\n",
       "  & HK1cnt & HK2cnt & HK3cnt & INF2cnt & INF3cnt & INF4cnt & M01cnt & M02cnt & M03cnt\\\\\n",
       "\\hline\n",
       "\tENSMUSG00000000001 & 4390 & 4003 & 5739 & 3005 & 3674 & 2221 & 4255 & 4587 & 3927\\\\\n",
       "\tENSMUSG00000000028 &   44 &   47 &   57 &   43 &   46 &   36 &   60 &   91 &   57\\\\\n",
       "\tENSMUSG00000000031 &    0 &    0 &    0 &    0 &    1 &    0 &    0 &    0 &    0\\\\\n",
       "\tENSMUSG00000000037 &    2 &    0 &    3 &    0 &    0 &    0 &    4 &    0 &    0\\\\\n",
       "\tENSMUSG00000000049 &    0 &    1 &    1 &    0 &    0 &    3 &    0 &    2 &    3\\\\\n",
       "\tENSMUSG00000000056 &  312 &  366 &  418 &  352 &  370 &  260 &  495 &  558 &  467\\\\\n",
       "\\end{tabular}\n"
      ],
      "text/markdown": [
       "\n",
       "| <!--/--> | HK1cnt | HK2cnt | HK3cnt | INF2cnt | INF3cnt | INF4cnt | M01cnt | M02cnt | M03cnt | \n",
       "|---|---|---|---|---|---|\n",
       "| ENSMUSG00000000001 | 4390 | 4003 | 5739 | 3005 | 3674 | 2221 | 4255 | 4587 | 3927 | \n",
       "| ENSMUSG00000000028 |   44 |   47 |   57 |   43 |   46 |   36 |   60 |   91 |   57 | \n",
       "| ENSMUSG00000000031 |    0 |    0 |    0 |    0 |    1 |    0 |    0 |    0 |    0 | \n",
       "| ENSMUSG00000000037 |    2 |    0 |    3 |    0 |    0 |    0 |    4 |    0 |    0 | \n",
       "| ENSMUSG00000000049 |    0 |    1 |    1 |    0 |    0 |    3 |    0 |    2 |    3 | \n",
       "| ENSMUSG00000000056 |  312 |  366 |  418 |  352 |  370 |  260 |  495 |  558 |  467 | \n",
       "\n",
       "\n"
      ],
      "text/plain": [
       "                   HK1cnt HK2cnt HK3cnt INF2cnt INF3cnt INF4cnt M01cnt M02cnt\n",
       "ENSMUSG00000000001 4390   4003   5739   3005    3674    2221    4255   4587  \n",
       "ENSMUSG00000000028   44     47     57     43      46      36      60     91  \n",
       "ENSMUSG00000000031    0      0      0      0       1       0       0      0  \n",
       "ENSMUSG00000000037    2      0      3      0       0       0       4      0  \n",
       "ENSMUSG00000000049    0      1      1      0       0       3       0      2  \n",
       "ENSMUSG00000000056  312    366    418    352     370     260     495    558  \n",
       "                   M03cnt\n",
       "ENSMUSG00000000001 3927  \n",
       "ENSMUSG00000000028   57  \n",
       "ENSMUSG00000000031    0  \n",
       "ENSMUSG00000000037    0  \n",
       "ENSMUSG00000000049    3  \n",
       "ENSMUSG00000000056  467  "
      ]
     },
     "metadata": {},
     "output_type": "display_data"
    }
   ],
   "source": [
    "head(counts(ddsColl))"
   ]
  },
  {
   "cell_type": "code",
   "execution_count": 68,
   "metadata": {},
   "outputs": [
    {
     "data": {
      "text/plain": [
       "DataFrame with 9 rows and 5 columns\n",
       "           group condition   sample      run runsCollapsed\n",
       "        <factor>  <factor> <factor> <factor>   <character>\n",
       "HK1cnt        HK        HK   HK1cnt   HK1cnt        HK1cnt\n",
       "HK2cnt        HK        HK   HK2cnt   HK2cnt        HK2cnt\n",
       "HK3cnt        HK        HK   HK3cnt   HK3cnt        HK3cnt\n",
       "INF2cnt    INFEC     INFEC  INF2cnt  INF2cnt       INF2cnt\n",
       "INF3cnt    INFEC     INFEC  INF3cnt  INF3cnt       INF3cnt\n",
       "INF4cnt    INFEC     INFEC  INF4cnt  INF4cnt       INF4cnt\n",
       "M01cnt        UN        UN   M01cnt   M01cnt        M01cnt\n",
       "M02cnt        UN        UN   M02cnt   M02cnt        M02cnt\n",
       "M03cnt        UN        UN   M03cnt   M03cnt        M03cnt"
      ]
     },
     "metadata": {},
     "output_type": "display_data"
    },
    {
     "data": {
      "text/html": [
       "<ol class=list-inline>\n",
       "\t<li>'HK1cnt'</li>\n",
       "\t<li>'HK2cnt'</li>\n",
       "\t<li>'HK3cnt'</li>\n",
       "\t<li>'INF2cnt'</li>\n",
       "\t<li>'INF3cnt'</li>\n",
       "\t<li>'INF4cnt'</li>\n",
       "\t<li>'M01cnt'</li>\n",
       "\t<li>'M02cnt'</li>\n",
       "\t<li>'M03cnt'</li>\n",
       "</ol>\n"
      ],
      "text/latex": [
       "\\begin{enumerate*}\n",
       "\\item 'HK1cnt'\n",
       "\\item 'HK2cnt'\n",
       "\\item 'HK3cnt'\n",
       "\\item 'INF2cnt'\n",
       "\\item 'INF3cnt'\n",
       "\\item 'INF4cnt'\n",
       "\\item 'M01cnt'\n",
       "\\item 'M02cnt'\n",
       "\\item 'M03cnt'\n",
       "\\end{enumerate*}\n"
      ],
      "text/markdown": [
       "1. 'HK1cnt'\n",
       "2. 'HK2cnt'\n",
       "3. 'HK3cnt'\n",
       "4. 'INF2cnt'\n",
       "5. 'INF3cnt'\n",
       "6. 'INF4cnt'\n",
       "7. 'M01cnt'\n",
       "8. 'M02cnt'\n",
       "9. 'M03cnt'\n",
       "\n",
       "\n"
      ],
      "text/plain": [
       "[1] \"HK1cnt\"  \"HK2cnt\"  \"HK3cnt\"  \"INF2cnt\" \"INF3cnt\" \"INF4cnt\" \"M01cnt\" \n",
       "[8] \"M02cnt\"  \"M03cnt\" "
      ]
     },
     "metadata": {},
     "output_type": "display_data"
    }
   ],
   "source": [
    "# examine the colData and column names of the collapsed data\n",
    "colData(ddsColl)\n",
    "colnames(ddsColl)"
   ]
  },
  {
   "cell_type": "code",
   "execution_count": 69,
   "metadata": {},
   "outputs": [],
   "source": [
    "# check that the sum of the counts for \"sample1\" is the same\n",
    "# as the counts in the \"sample1\" column in ddsColl\n",
    "matchFirstLevel <- dds$sample == levels(dds$sample)[1]\n",
    "stopifnot(all(rowSums(counts(dds[,matchFirstLevel])) == counts(ddsColl[,1])))"
   ]
  },
  {
   "cell_type": "code",
   "execution_count": 70,
   "metadata": {},
   "outputs": [
    {
     "data": {
      "text/html": [
       "<ol class=list-inline>\n",
       "\t<li>HK1cnt</li>\n",
       "\t<li>HK2cnt</li>\n",
       "\t<li>HK3cnt</li>\n",
       "\t<li>INF2cnt</li>\n",
       "\t<li>INF3cnt</li>\n",
       "\t<li>INF4cnt</li>\n",
       "\t<li>M01cnt</li>\n",
       "\t<li>M02cnt</li>\n",
       "\t<li>M03cnt</li>\n",
       "</ol>\n"
      ],
      "text/latex": [
       "\\begin{enumerate*}\n",
       "\\item HK1cnt\n",
       "\\item HK2cnt\n",
       "\\item HK3cnt\n",
       "\\item INF2cnt\n",
       "\\item INF3cnt\n",
       "\\item INF4cnt\n",
       "\\item M01cnt\n",
       "\\item M02cnt\n",
       "\\item M03cnt\n",
       "\\end{enumerate*}\n"
      ],
      "text/markdown": [
       "1. HK1cnt\n",
       "2. HK2cnt\n",
       "3. HK3cnt\n",
       "4. INF2cnt\n",
       "5. INF3cnt\n",
       "6. INF4cnt\n",
       "7. M01cnt\n",
       "8. M02cnt\n",
       "9. M03cnt\n",
       "\n",
       "\n"
      ],
      "text/plain": [
       "[1] HK1cnt  HK2cnt  HK3cnt  INF2cnt INF3cnt INF4cnt M01cnt  M02cnt  M03cnt \n",
       "9 Levels: HK1cnt HK2cnt HK3cnt INF2cnt INF3cnt INF4cnt M01cnt ... M03cnt"
      ]
     },
     "metadata": {},
     "output_type": "display_data"
    }
   ],
   "source": [
    "dds$sample"
   ]
  },
  {
   "cell_type": "code",
   "execution_count": 71,
   "metadata": {},
   "outputs": [
    {
     "data": {
      "text/html": [
       "<ol class=list-inline>\n",
       "\t<li>'HK1cnt'</li>\n",
       "\t<li>'HK2cnt'</li>\n",
       "\t<li>'HK3cnt'</li>\n",
       "\t<li>'INF2cnt'</li>\n",
       "\t<li>'INF3cnt'</li>\n",
       "\t<li>'INF4cnt'</li>\n",
       "\t<li>'M01cnt'</li>\n",
       "\t<li>'M02cnt'</li>\n",
       "\t<li>'M03cnt'</li>\n",
       "</ol>\n"
      ],
      "text/latex": [
       "\\begin{enumerate*}\n",
       "\\item 'HK1cnt'\n",
       "\\item 'HK2cnt'\n",
       "\\item 'HK3cnt'\n",
       "\\item 'INF2cnt'\n",
       "\\item 'INF3cnt'\n",
       "\\item 'INF4cnt'\n",
       "\\item 'M01cnt'\n",
       "\\item 'M02cnt'\n",
       "\\item 'M03cnt'\n",
       "\\end{enumerate*}\n"
      ],
      "text/markdown": [
       "1. 'HK1cnt'\n",
       "2. 'HK2cnt'\n",
       "3. 'HK3cnt'\n",
       "4. 'INF2cnt'\n",
       "5. 'INF3cnt'\n",
       "6. 'INF4cnt'\n",
       "7. 'M01cnt'\n",
       "8. 'M02cnt'\n",
       "9. 'M03cnt'\n",
       "\n",
       "\n"
      ],
      "text/plain": [
       "[1] \"HK1cnt\"  \"HK2cnt\"  \"HK3cnt\"  \"INF2cnt\" \"INF3cnt\" \"INF4cnt\" \"M01cnt\" \n",
       "[8] \"M02cnt\"  \"M03cnt\" "
      ]
     },
     "metadata": {},
     "output_type": "display_data"
    }
   ],
   "source": [
    "levels(dds$sample)"
   ]
  },
  {
   "cell_type": "markdown",
   "metadata": {},
   "source": [
    "Keep rows that have at least 10 reads total"
   ]
  },
  {
   "cell_type": "code",
   "execution_count": 72,
   "metadata": {},
   "outputs": [],
   "source": [
    "keep <- rowSums(counts(ddsColl)) >= 10\n",
    "ddsColl <- ddsColl[keep,]"
   ]
  },
  {
   "cell_type": "code",
   "execution_count": 73,
   "metadata": {},
   "outputs": [
    {
     "data": {
      "text/html": [
       "<table>\n",
       "<thead><tr><th></th><th scope=col>HK1cnt</th><th scope=col>HK2cnt</th><th scope=col>HK3cnt</th><th scope=col>INF2cnt</th><th scope=col>INF3cnt</th><th scope=col>INF4cnt</th><th scope=col>M01cnt</th><th scope=col>M02cnt</th><th scope=col>M03cnt</th></tr></thead>\n",
       "<tbody>\n",
       "\t<tr><th scope=row>ENSMUSG00000000001</th><td> 4390</td><td>4003 </td><td> 5739</td><td>3005 </td><td>3674 </td><td>2221 </td><td>4255 </td><td> 4587</td><td>3927 </td></tr>\n",
       "\t<tr><th scope=row>ENSMUSG00000000028</th><td>   44</td><td>  47 </td><td>   57</td><td>  43 </td><td>  46 </td><td>  36 </td><td>  60 </td><td>   91</td><td>  57 </td></tr>\n",
       "\t<tr><th scope=row>ENSMUSG00000000049</th><td>    0</td><td>   1 </td><td>    1</td><td>   0 </td><td>   0 </td><td>   3 </td><td>   0 </td><td>    2</td><td>   3 </td></tr>\n",
       "\t<tr><th scope=row>ENSMUSG00000000056</th><td>  312</td><td> 366 </td><td>  418</td><td> 352 </td><td> 370 </td><td> 260 </td><td> 495 </td><td>  558</td><td> 467 </td></tr>\n",
       "\t<tr><th scope=row>ENSMUSG00000000058</th><td> 1910</td><td>1901 </td><td> 2582</td><td> 928 </td><td>1868 </td><td> 912 </td><td>1875 </td><td> 2140</td><td>1830 </td></tr>\n",
       "\t<tr><th scope=row>ENSMUSG00000000078</th><td>10297</td><td>9329 </td><td>14173</td><td>9478 </td><td>9162 </td><td>8990 </td><td>9600 </td><td>10182</td><td>9252 </td></tr>\n",
       "</tbody>\n",
       "</table>\n"
      ],
      "text/latex": [
       "\\begin{tabular}{r|lllllllll}\n",
       "  & HK1cnt & HK2cnt & HK3cnt & INF2cnt & INF3cnt & INF4cnt & M01cnt & M02cnt & M03cnt\\\\\n",
       "\\hline\n",
       "\tENSMUSG00000000001 &  4390 & 4003  &  5739 & 3005  & 3674  & 2221  & 4255  &  4587 & 3927 \\\\\n",
       "\tENSMUSG00000000028 &    44 &   47  &    57 &   43  &   46  &   36  &   60  &    91 &   57 \\\\\n",
       "\tENSMUSG00000000049 &     0 &    1  &     1 &    0  &    0  &    3  &    0  &     2 &    3 \\\\\n",
       "\tENSMUSG00000000056 &   312 &  366  &   418 &  352  &  370  &  260  &  495  &   558 &  467 \\\\\n",
       "\tENSMUSG00000000058 &  1910 & 1901  &  2582 &  928  & 1868  &  912  & 1875  &  2140 & 1830 \\\\\n",
       "\tENSMUSG00000000078 & 10297 & 9329  & 14173 & 9478  & 9162  & 8990  & 9600  & 10182 & 9252 \\\\\n",
       "\\end{tabular}\n"
      ],
      "text/markdown": [
       "\n",
       "| <!--/--> | HK1cnt | HK2cnt | HK3cnt | INF2cnt | INF3cnt | INF4cnt | M01cnt | M02cnt | M03cnt | \n",
       "|---|---|---|---|---|---|\n",
       "| ENSMUSG00000000001 |  4390 | 4003  |  5739 | 3005  | 3674  | 2221  | 4255  |  4587 | 3927  | \n",
       "| ENSMUSG00000000028 |    44 |   47  |    57 |   43  |   46  |   36  |   60  |    91 |   57  | \n",
       "| ENSMUSG00000000049 |     0 |    1  |     1 |    0  |    0  |    3  |    0  |     2 |    3  | \n",
       "| ENSMUSG00000000056 |   312 |  366  |   418 |  352  |  370  |  260  |  495  |   558 |  467  | \n",
       "| ENSMUSG00000000058 |  1910 | 1901  |  2582 |  928  | 1868  |  912  | 1875  |  2140 | 1830  | \n",
       "| ENSMUSG00000000078 | 10297 | 9329  | 14173 | 9478  | 9162  | 8990  | 9600  | 10182 | 9252  | \n",
       "\n",
       "\n"
      ],
      "text/plain": [
       "                   HK1cnt HK2cnt HK3cnt INF2cnt INF3cnt INF4cnt M01cnt M02cnt\n",
       "ENSMUSG00000000001  4390  4003    5739  3005    3674    2221    4255    4587 \n",
       "ENSMUSG00000000028    44    47      57    43      46      36      60      91 \n",
       "ENSMUSG00000000049     0     1       1     0       0       3       0       2 \n",
       "ENSMUSG00000000056   312   366     418   352     370     260     495     558 \n",
       "ENSMUSG00000000058  1910  1901    2582   928    1868     912    1875    2140 \n",
       "ENSMUSG00000000078 10297  9329   14173  9478    9162    8990    9600   10182 \n",
       "                   M03cnt\n",
       "ENSMUSG00000000001 3927  \n",
       "ENSMUSG00000000028   57  \n",
       "ENSMUSG00000000049    3  \n",
       "ENSMUSG00000000056  467  \n",
       "ENSMUSG00000000058 1830  \n",
       "ENSMUSG00000000078 9252  "
      ]
     },
     "metadata": {},
     "output_type": "display_data"
    }
   ],
   "source": [
    "head(counts(ddsColl))"
   ]
  },
  {
   "cell_type": "markdown",
   "metadata": {},
   "source": [
    "Differential expression analysis"
   ]
  },
  {
   "cell_type": "code",
   "execution_count": 76,
   "metadata": {},
   "outputs": [
    {
     "name": "stderr",
     "output_type": "stream",
     "text": [
      "estimating size factors\n",
      "estimating dispersions\n",
      "gene-wise dispersion estimates\n",
      "mean-dispersion relationship\n",
      "final dispersion estimates\n",
      "fitting model and testing\n"
     ]
    },
    {
     "data": {
      "text/plain": [
       "log2 fold change (MLE): group UN vs HK \n",
       "Wald test p-value: group UN vs HK \n",
       "DataFrame with 913 rows and 6 columns\n",
       "                       baseMean log2FoldChange      lfcSE       stat\n",
       "                      <numeric>      <numeric>  <numeric>  <numeric>\n",
       "ENSMUSG00000000001  3886.043395     -0.1530949  0.1326051 -1.1545176\n",
       "ENSMUSG00000000028    52.223775      0.4641236  0.2748700  1.6885207\n",
       "ENSMUSG00000000049     1.106957      1.3302161  2.1761636  0.6112666\n",
       "ENSMUSG00000000056   393.565293      0.4506751  0.1470335  3.0651174\n",
       "ENSMUSG00000000058  1725.719548     -0.1395405  0.2724764 -0.5121193\n",
       "...                         ...            ...        ...        ...\n",
       "ENSMUSG00000007891 1.617490e+05      0.1726527 0.07041873  2.4518011\n",
       "ENSMUSG00000007892 3.820636e+03     -0.1952052 0.11340158 -1.7213621\n",
       "ENSMUSG00000007944 1.810537e+00     -1.0247523 1.63789470 -0.6256521\n",
       "ENSMUSG00000007946 2.794836e+01     -0.2734634 0.39792433 -0.6872245\n",
       "ENSMUSG00000007950 2.917499e+02      0.2539178 0.13857153  1.8323952\n",
       "                        pvalue       padj\n",
       "                     <numeric>  <numeric>\n",
       "ENSMUSG00000000001 0.248288018 0.44712237\n",
       "ENSMUSG00000000028 0.091311309 0.21598575\n",
       "ENSMUSG00000000049 0.541023095         NA\n",
       "ENSMUSG00000000056 0.002175846 0.01285478\n",
       "ENSMUSG00000000058 0.608567497 0.77391546\n",
       "...                        ...        ...\n",
       "ENSMUSG00000007891  0.01421432 0.05880169\n",
       "ENSMUSG00000007892  0.08518514 0.20730753\n",
       "ENSMUSG00000007944  0.53154315         NA\n",
       "ENSMUSG00000007946  0.49194125 0.67306158\n",
       "ENSMUSG00000007950  0.06689256 0.17524813"
      ]
     },
     "metadata": {},
     "output_type": "display_data"
    }
   ],
   "source": [
    "dds <- DESeq(ddsColl)\n",
    "res <- results(dds, contrast=c(\"group\", 'UN', 'HK'))\n",
    "res"
   ]
  },
  {
   "cell_type": "code",
   "execution_count": 86,
   "metadata": {},
   "outputs": [
    {
     "data": {
      "image/png": "[encoded data removed]",
      "text/plain": [
       "Plot with title \"\""
      ]
     },
     "metadata": {},
     "output_type": "display_data"
    }
   ],
   "source": [
    "plotMA(res, ylim=c(-2,2))"
   ]
  },
  {
   "cell_type": "code",
   "execution_count": 78,
   "metadata": {},
   "outputs": [
    {
     "data": {
      "image/png": "[encoded data removed]",
      "text/plain": [
       "Plot with title \"ENSMUSG00000005413\""
      ]
     },
     "metadata": {},
     "output_type": "display_data"
    }
   ],
   "source": [
    "plotCounts(dds, gene=which.min(res$padj), intgroup=\"condition\")"
   ]
  },
  {
   "cell_type": "code",
   "execution_count": 79,
   "metadata": {},
   "outputs": [
    {
     "data": {},
     "metadata": {},
     "output_type": "display_data"
    },
    {
     "data": {
      "image/png": "[encoded data removed]",
      "text/plain": [
       "plot without title"
      ]
     },
     "metadata": {},
     "output_type": "display_data"
    }
   ],
   "source": [
    "# vsd <- vst(dds, blind=FALSE)\n",
    "rld <- rlog(dds, blind=FALSE)\n",
    "plotPCA(rld, intgroup=c(\"condition\"))"
   ]
  },
  {
   "cell_type": "code",
   "execution_count": 80,
   "metadata": {},
   "outputs": [],
   "source": [
    "sampleDists <- dist(t(assay(rld)))"
   ]
  },
  {
   "cell_type": "code",
   "execution_count": 81,
   "metadata": {},
   "outputs": [],
   "source": [
    "library(\"RColorBrewer\")\n",
    "library(\"pheatmap\")"
   ]
  },
  {
   "cell_type": "code",
   "execution_count": 82,
   "metadata": {},
   "outputs": [
    {
     "data": {
      "text/plain": [
       "          HK1cnt   HK2cnt   HK3cnt  INF2cnt  INF3cnt  INF4cnt   M01cnt   M02cnt\n",
       "HK2cnt  3.432143                                                               \n",
       "HK3cnt  4.651858 3.344999                                                      \n",
       "INF2cnt 4.663559 5.320533 5.609214                                             \n",
       "INF3cnt 4.028435 4.414412 5.165957 3.643743                                    \n",
       "INF4cnt 7.095655 7.424271 6.727357 4.904967 6.044920                           \n",
       "M01cnt  7.138454 6.904380 7.230477 6.753164 5.601380 7.631682                  \n",
       "M02cnt  7.367442 7.216140 7.283591 6.975769 5.942788 7.269809 2.986267         \n",
       "M03cnt  7.138593 7.249086 7.761257 6.828700 5.615221 7.853546 2.797657 3.263361"
      ]
     },
     "metadata": {},
     "output_type": "display_data"
    }
   ],
   "source": [
    "sampleDists"
   ]
  },
  {
   "cell_type": "code",
   "execution_count": 83,
   "metadata": {},
   "outputs": [
    {
     "data": {
      "image/png": "[encoded data removed]",
      "text/plain": [
       "plot without title"
      ]
     },
     "metadata": {},
     "output_type": "display_data"
    }
   ],
   "source": [
    "sampleDistMatrix <- as.matrix(sampleDists)\n",
    "colors <- colorRampPalette( rev(brewer.pal(9, \"Blues\")) )(255)\n",
    "pheatmap(sampleDistMatrix,\n",
    "         clustering_distance_rows=sampleDists,\n",
    "         clustering_distance_cols=sampleDists,\n",
    "         col=colors)"
   ]
  },
  {
   "cell_type": "code",
   "execution_count": 84,
   "metadata": {},
   "outputs": [],
   "source": [
    "resOrdered <- res[order(res$padj),]"
   ]
  },
  {
   "cell_type": "code",
   "execution_count": 85,
   "metadata": {},
   "outputs": [],
   "source": [
    "write.csv(as.data.frame(res), file=\"UN_HK_results.csv\")\n",
    "write.csv(as.data.frame(resOrdered), file=\"UN_HK_results_ordered.csv\")"
   ]
  },
  {
   "cell_type": "code",
   "execution_count": null,
   "metadata": {},
   "outputs": [],
   "source": []
  }
 ],
 "metadata": {
  "kernelspec": {
   "display_name": "R",
   "language": "R",
   "name": "ir"
  },
  "language_info": {
   "codemirror_mode": "r",
   "file_extension": ".r",
   "mimetype": "text/x-r-source",
   "name": "R",
   "pygments_lexer": "r",
   "version": "3.4.3"
  }
 },
 "nbformat": 4,
 "nbformat_minor": 2
}
