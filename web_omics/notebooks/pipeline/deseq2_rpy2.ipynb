{
 "cells": [
  {
   "cell_type": "markdown",
   "metadata": {},
   "source": [
    "# deseq2 pipeline in rpy2"
   ]
  },
  {
   "cell_type": "code",
   "execution_count": 1,
   "metadata": {},
   "outputs": [],
   "source": [
    "%load_ext autoreload\n",
    "%autoreload 2"
   ]
  },
  {
   "cell_type": "code",
   "execution_count": 2,
   "metadata": {},
   "outputs": [],
   "source": [
    "import os\n",
    "import uuid\n",
    "import pylab as plt\n",
    "import matplotlib\n",
    "from IPython.display import display, HTML, Image\n",
    "\n",
    "import numpy as np\n",
    "import pandas as pd\n",
    "    \n",
    "%matplotlib inline"
   ]
  },
  {
   "cell_type": "markdown",
   "metadata": {},
   "source": [
    "Load test data"
   ]
  },
  {
   "cell_type": "code",
   "execution_count": 3,
   "metadata": {},
   "outputs": [
    {
     "data": {
      "text/html": [
       "<div>\n",
       "<style scoped>\n",
       "    .dataframe tbody tr th:only-of-type {\n",
       "        vertical-align: middle;\n",
       "    }\n",
       "\n",
       "    .dataframe tbody tr th {\n",
       "        vertical-align: top;\n",
       "    }\n",
       "\n",
       "    .dataframe thead th {\n",
       "        text-align: right;\n",
       "    }\n",
       "</style>\n",
       "<table border=\"1\" class=\"dataframe\">\n",
       "  <thead>\n",
       "    <tr style=\"text-align: right;\">\n",
       "      <th></th>\n",
       "      <th>HK1cnt</th>\n",
       "      <th>HK2cnt</th>\n",
       "      <th>HK3cnt</th>\n",
       "      <th>INF2cnt</th>\n",
       "      <th>INF3cnt</th>\n",
       "      <th>INF4cnt</th>\n",
       "      <th>M01cnt</th>\n",
       "      <th>M02cnt</th>\n",
       "      <th>M03cnt</th>\n",
       "    </tr>\n",
       "    <tr>\n",
       "      <th>gene_pk</th>\n",
       "      <th></th>\n",
       "      <th></th>\n",
       "      <th></th>\n",
       "      <th></th>\n",
       "      <th></th>\n",
       "      <th></th>\n",
       "      <th></th>\n",
       "      <th></th>\n",
       "      <th></th>\n",
       "    </tr>\n",
       "  </thead>\n",
       "  <tbody>\n",
       "    <tr>\n",
       "      <th>ENSMUSG00000000001</th>\n",
       "      <td>4390</td>\n",
       "      <td>4003</td>\n",
       "      <td>5739</td>\n",
       "      <td>3005</td>\n",
       "      <td>3674</td>\n",
       "      <td>2221</td>\n",
       "      <td>4255</td>\n",
       "      <td>4587</td>\n",
       "      <td>3927</td>\n",
       "    </tr>\n",
       "    <tr>\n",
       "      <th>ENSMUSG00000000028</th>\n",
       "      <td>44</td>\n",
       "      <td>47</td>\n",
       "      <td>57</td>\n",
       "      <td>43</td>\n",
       "      <td>46</td>\n",
       "      <td>36</td>\n",
       "      <td>60</td>\n",
       "      <td>91</td>\n",
       "      <td>57</td>\n",
       "    </tr>\n",
       "    <tr>\n",
       "      <th>ENSMUSG00000000031</th>\n",
       "      <td>0</td>\n",
       "      <td>0</td>\n",
       "      <td>0</td>\n",
       "      <td>0</td>\n",
       "      <td>1</td>\n",
       "      <td>0</td>\n",
       "      <td>0</td>\n",
       "      <td>0</td>\n",
       "      <td>0</td>\n",
       "    </tr>\n",
       "    <tr>\n",
       "      <th>ENSMUSG00000000037</th>\n",
       "      <td>2</td>\n",
       "      <td>0</td>\n",
       "      <td>3</td>\n",
       "      <td>0</td>\n",
       "      <td>0</td>\n",
       "      <td>0</td>\n",
       "      <td>4</td>\n",
       "      <td>0</td>\n",
       "      <td>0</td>\n",
       "    </tr>\n",
       "    <tr>\n",
       "      <th>ENSMUSG00000000049</th>\n",
       "      <td>0</td>\n",
       "      <td>1</td>\n",
       "      <td>1</td>\n",
       "      <td>0</td>\n",
       "      <td>0</td>\n",
       "      <td>3</td>\n",
       "      <td>0</td>\n",
       "      <td>2</td>\n",
       "      <td>3</td>\n",
       "    </tr>\n",
       "  </tbody>\n",
       "</table>\n",
       "</div>"
      ],
      "text/plain": [
       "                    HK1cnt  HK2cnt  HK3cnt  INF2cnt  INF3cnt  INF4cnt  M01cnt  \\\n",
       "gene_pk                                                                         \n",
       "ENSMUSG00000000001    4390    4003    5739     3005     3674     2221    4255   \n",
       "ENSMUSG00000000028      44      47      57       43       46       36      60   \n",
       "ENSMUSG00000000031       0       0       0        0        1        0       0   \n",
       "ENSMUSG00000000037       2       0       3        0        0        0       4   \n",
       "ENSMUSG00000000049       0       1       1        0        0        3       0   \n",
       "\n",
       "                    M02cnt  M03cnt  \n",
       "gene_pk                             \n",
       "ENSMUSG00000000001    4587    3927  \n",
       "ENSMUSG00000000028      91      57  \n",
       "ENSMUSG00000000031       0       0  \n",
       "ENSMUSG00000000037       0       0  \n",
       "ENSMUSG00000000049       2       3  "
      ]
     },
     "execution_count": 3,
     "metadata": {},
     "output_type": "execute_result"
    }
   ],
   "source": [
    "count_data = pd.read_pickle('../static/data/debugging/data_df.p')\n",
    "count_data = count_data.drop('gene_id', axis=1)\n",
    "count_data.head()"
   ]
  },
  {
   "cell_type": "code",
   "execution_count": 4,
   "metadata": {},
   "outputs": [
    {
     "data": {
      "text/html": [
       "<div>\n",
       "<style scoped>\n",
       "    .dataframe tbody tr th:only-of-type {\n",
       "        vertical-align: middle;\n",
       "    }\n",
       "\n",
       "    .dataframe tbody tr th {\n",
       "        vertical-align: top;\n",
       "    }\n",
       "\n",
       "    .dataframe thead th {\n",
       "        text-align: right;\n",
       "    }\n",
       "</style>\n",
       "<table border=\"1\" class=\"dataframe\">\n",
       "  <thead>\n",
       "    <tr style=\"text-align: right;\">\n",
       "      <th></th>\n",
       "      <th>group</th>\n",
       "    </tr>\n",
       "    <tr>\n",
       "      <th>sample</th>\n",
       "      <th></th>\n",
       "    </tr>\n",
       "  </thead>\n",
       "  <tbody>\n",
       "    <tr>\n",
       "      <th>HK1cnt</th>\n",
       "      <td>HK</td>\n",
       "    </tr>\n",
       "    <tr>\n",
       "      <th>HK2cnt</th>\n",
       "      <td>HK</td>\n",
       "    </tr>\n",
       "    <tr>\n",
       "      <th>HK3cnt</th>\n",
       "      <td>HK</td>\n",
       "    </tr>\n",
       "    <tr>\n",
       "      <th>INF2cnt</th>\n",
       "      <td>INFEC</td>\n",
       "    </tr>\n",
       "    <tr>\n",
       "      <th>INF3cnt</th>\n",
       "      <td>INFEC</td>\n",
       "    </tr>\n",
       "    <tr>\n",
       "      <th>INF4cnt</th>\n",
       "      <td>INFEC</td>\n",
       "    </tr>\n",
       "    <tr>\n",
       "      <th>M01cnt</th>\n",
       "      <td>UN</td>\n",
       "    </tr>\n",
       "    <tr>\n",
       "      <th>M02cnt</th>\n",
       "      <td>UN</td>\n",
       "    </tr>\n",
       "    <tr>\n",
       "      <th>M03cnt</th>\n",
       "      <td>UN</td>\n",
       "    </tr>\n",
       "  </tbody>\n",
       "</table>\n",
       "</div>"
      ],
      "text/plain": [
       "         group\n",
       "sample        \n",
       "HK1cnt      HK\n",
       "HK2cnt      HK\n",
       "HK3cnt      HK\n",
       "INF2cnt  INFEC\n",
       "INF3cnt  INFEC\n",
       "INF4cnt  INFEC\n",
       "M01cnt      UN\n",
       "M02cnt      UN\n",
       "M03cnt      UN"
      ]
     },
     "execution_count": 4,
     "metadata": {},
     "output_type": "execute_result"
    }
   ],
   "source": [
    "col_data = pd.read_pickle('../static/data/debugging/design_df.p')\n",
    "col_data"
   ]
  },
  {
   "cell_type": "markdown",
   "metadata": {},
   "source": [
    "Run DESeq2"
   ]
  },
  {
   "cell_type": "code",
   "execution_count": 5,
   "metadata": {},
   "outputs": [],
   "source": [
    "from rpy2.robjects.packages import importr\n",
    "from rpy2 import robjects\n",
    "from rpy2.robjects import Formula\n",
    "from rpy2.robjects import pandas2ri\n",
    "pandas2ri.activate()\n",
    "\n",
    "deseq = importr('DESeq2')    \n",
    "grdevices = importr('grDevices')"
   ]
  },
  {
   "cell_type": "code",
   "execution_count": 6,
   "metadata": {},
   "outputs": [],
   "source": [
    "def to_pd_df(r_df):\n",
    "    pd_df = pandas2ri.ri2py_dataframe(r_df)\n",
    "    pd_df.index = r_df.rownames\n",
    "    return pd_df"
   ]
  },
  {
   "cell_type": "code",
   "execution_count": 7,
   "metadata": {},
   "outputs": [],
   "source": [
    "def run_deseq(count_data, col_data, keep_threshold, case, control):\n",
    "    design = Formula(\"~ group\")\n",
    "    dds = deseq.DESeqDataSetFromMatrix(countData=count_data, colData=col_data, design=design)\n",
    "    sv = robjects.StrVector(col_data['group'].values)\n",
    "    condition = robjects.FactorVector(sv)\n",
    "    runs = col_data.index\n",
    "    rstring = \"\"\"\n",
    "        function(dds, condition, runs, keepThreshold, case, control) {\n",
    "            # collapse technical replicates\n",
    "            dds$condition <- condition\n",
    "            dds$condition <- relevel(dds$condition, ref=control) # set control    \n",
    "            dds$sample <- runs \n",
    "            dds$run <- runs        \n",
    "            ddsColl <- collapseReplicates(dds, dds$sample, dds$run) \n",
    "            # count filter\n",
    "            keep <- rowSums(counts(ddsColl)) >= keepThreshold\n",
    "            ddsColl <- ddsColl[keep,]\n",
    "            # run DESeq2 analysis\n",
    "            ddsAnalysis <- DESeq(dds)\n",
    "            res <- results(ddsAnalysis, contrast=c(\"group\", control, case))\n",
    "            resOrdered <- res[order(res$padj),]  # sort by p-adjusted values\n",
    "            df = as.data.frame(resOrdered)\n",
    "            rld <- as.data.frame(assay(rlog(dds, blind=FALSE)))\n",
    "            list(df, rld, resOrdered)\n",
    "        }\n",
    "    \"\"\"\n",
    "    rfunc = robjects.r(rstring)\n",
    "    results = rfunc(dds, condition, runs, keep_threshold, case, control)\n",
    "    pd_df = to_pd_df(results[0])\n",
    "    rld_df = to_pd_df(results[1])\n",
    "    res_ordered = results[2]    \n",
    "    return pd_df, rld_df, res_ordered"
   ]
  },
  {
   "cell_type": "code",
   "execution_count": 8,
   "metadata": {
    "scrolled": true
   },
   "outputs": [
    {
     "name": "stderr",
     "output_type": "stream",
     "text": [
      "c:\\users\\joewa\\.virtualenvs\\web_omics-mv1eiydh\\lib\\site-packages\\rpy2\\robjects\\pandas2ri.py:191: FutureWarning: from_items is deprecated. Please use DataFrame.from_dict(dict(items), ...) instead. DataFrame.from_dict(OrderedDict(items)) may be used to preserve the key order.\n",
      "  res = PandasDataFrame.from_items(items)\n"
     ]
    }
   ],
   "source": [
    "pd_df, rld_df, res_ordered = run_deseq(count_data, col_data, 10, 'HK', 'UN')"
   ]
  },
  {
   "cell_type": "code",
   "execution_count": 15,
   "metadata": {},
   "outputs": [
    {
     "data": {
      "text/html": [
       "<div>\n",
       "<style scoped>\n",
       "    .dataframe tbody tr th:only-of-type {\n",
       "        vertical-align: middle;\n",
       "    }\n",
       "\n",
       "    .dataframe tbody tr th {\n",
       "        vertical-align: top;\n",
       "    }\n",
       "\n",
       "    .dataframe thead th {\n",
       "        text-align: right;\n",
       "    }\n",
       "</style>\n",
       "<table border=\"1\" class=\"dataframe\">\n",
       "  <thead>\n",
       "    <tr style=\"text-align: right;\">\n",
       "      <th></th>\n",
       "      <th>baseMean</th>\n",
       "      <th>log2FoldChange</th>\n",
       "      <th>lfcSE</th>\n",
       "      <th>stat</th>\n",
       "      <th>pvalue</th>\n",
       "      <th>padj</th>\n",
       "    </tr>\n",
       "  </thead>\n",
       "  <tbody>\n",
       "    <tr>\n",
       "      <th>ENSMUSG00000005413</th>\n",
       "      <td>47345.338505</td>\n",
       "      <td>-1.859125</td>\n",
       "      <td>0.102720</td>\n",
       "      <td>-18.099001</td>\n",
       "      <td>3.244986e-73</td>\n",
       "      <td>3.001612e-70</td>\n",
       "    </tr>\n",
       "    <tr>\n",
       "      <th>ENSMUSG00000006818</th>\n",
       "      <td>9914.258982</td>\n",
       "      <td>-1.296424</td>\n",
       "      <td>0.089109</td>\n",
       "      <td>-14.548720</td>\n",
       "      <td>5.950584e-48</td>\n",
       "      <td>2.752145e-45</td>\n",
       "    </tr>\n",
       "    <tr>\n",
       "      <th>ENSMUSG00000001627</th>\n",
       "      <td>3007.600574</td>\n",
       "      <td>-1.453466</td>\n",
       "      <td>0.107287</td>\n",
       "      <td>-13.547518</td>\n",
       "      <td>8.195448e-42</td>\n",
       "      <td>2.526930e-39</td>\n",
       "    </tr>\n",
       "    <tr>\n",
       "      <th>ENSMUSG00000000732</th>\n",
       "      <td>1078.876925</td>\n",
       "      <td>-1.894211</td>\n",
       "      <td>0.140503</td>\n",
       "      <td>-13.481603</td>\n",
       "      <td>2.006974e-41</td>\n",
       "      <td>4.641128e-39</td>\n",
       "    </tr>\n",
       "    <tr>\n",
       "      <th>ENSMUSG00000002983</th>\n",
       "      <td>3611.565998</td>\n",
       "      <td>-1.143474</td>\n",
       "      <td>0.087681</td>\n",
       "      <td>-13.041291</td>\n",
       "      <td>7.124027e-39</td>\n",
       "      <td>1.317945e-36</td>\n",
       "    </tr>\n",
       "    <tr>\n",
       "      <th>ENSMUSG00000004359</th>\n",
       "      <td>664.419262</td>\n",
       "      <td>-1.859148</td>\n",
       "      <td>0.145997</td>\n",
       "      <td>-12.734111</td>\n",
       "      <td>3.821749e-37</td>\n",
       "      <td>5.891863e-35</td>\n",
       "    </tr>\n",
       "    <tr>\n",
       "      <th>ENSMUSG00000000555</th>\n",
       "      <td>8682.144547</td>\n",
       "      <td>-1.212585</td>\n",
       "      <td>0.095790</td>\n",
       "      <td>-12.658757</td>\n",
       "      <td>1.000718e-36</td>\n",
       "      <td>1.322377e-34</td>\n",
       "    </tr>\n",
       "    <tr>\n",
       "      <th>ENSMUSG00000005686</th>\n",
       "      <td>1036.416239</td>\n",
       "      <td>-1.888249</td>\n",
       "      <td>0.152207</td>\n",
       "      <td>-12.405805</td>\n",
       "      <td>2.430588e-35</td>\n",
       "      <td>2.810367e-33</td>\n",
       "    </tr>\n",
       "    <tr>\n",
       "      <th>ENSMUSG00000003283</th>\n",
       "      <td>2696.541863</td>\n",
       "      <td>-1.049054</td>\n",
       "      <td>0.088282</td>\n",
       "      <td>-11.883002</td>\n",
       "      <td>1.450617e-32</td>\n",
       "      <td>1.490912e-30</td>\n",
       "    </tr>\n",
       "    <tr>\n",
       "      <th>ENSMUSG00000000686</th>\n",
       "      <td>882.459763</td>\n",
       "      <td>1.331700</td>\n",
       "      <td>0.114840</td>\n",
       "      <td>11.596159</td>\n",
       "      <td>4.309897e-31</td>\n",
       "      <td>3.986655e-29</td>\n",
       "    </tr>\n",
       "    <tr>\n",
       "      <th>ENSMUSG00000003382</th>\n",
       "      <td>4153.734421</td>\n",
       "      <td>-0.907647</td>\n",
       "      <td>0.079449</td>\n",
       "      <td>-11.424219</td>\n",
       "      <td>3.164890e-30</td>\n",
       "      <td>2.661385e-28</td>\n",
       "    </tr>\n",
       "    <tr>\n",
       "      <th>ENSMUSG00000000489</th>\n",
       "      <td>3414.267117</td>\n",
       "      <td>-1.162959</td>\n",
       "      <td>0.108313</td>\n",
       "      <td>-10.737033</td>\n",
       "      <td>6.820093e-27</td>\n",
       "      <td>5.257155e-25</td>\n",
       "    </tr>\n",
       "    <tr>\n",
       "      <th>ENSMUSG00000005043</th>\n",
       "      <td>2301.829536</td>\n",
       "      <td>0.956407</td>\n",
       "      <td>0.097522</td>\n",
       "      <td>9.807042</td>\n",
       "      <td>1.050016e-22</td>\n",
       "      <td>7.471270e-21</td>\n",
       "    </tr>\n",
       "    <tr>\n",
       "      <th>ENSMUSG00000003545</th>\n",
       "      <td>161.326302</td>\n",
       "      <td>-2.561610</td>\n",
       "      <td>0.264273</td>\n",
       "      <td>-9.693039</td>\n",
       "      <td>3.227779e-22</td>\n",
       "      <td>2.132640e-20</td>\n",
       "    </tr>\n",
       "    <tr>\n",
       "      <th>ENSMUSG00000000628</th>\n",
       "      <td>564.424105</td>\n",
       "      <td>1.173210</td>\n",
       "      <td>0.121474</td>\n",
       "      <td>9.658136</td>\n",
       "      <td>4.540518e-22</td>\n",
       "      <td>2.799986e-20</td>\n",
       "    </tr>\n",
       "    <tr>\n",
       "      <th>ENSMUSG00000001741</th>\n",
       "      <td>431.079697</td>\n",
       "      <td>1.167695</td>\n",
       "      <td>0.123786</td>\n",
       "      <td>9.433169</td>\n",
       "      <td>3.978821e-21</td>\n",
       "      <td>2.300256e-19</td>\n",
       "    </tr>\n",
       "    <tr>\n",
       "      <th>ENSMUSG00000000957</th>\n",
       "      <td>2778.433329</td>\n",
       "      <td>-0.971017</td>\n",
       "      <td>0.115718</td>\n",
       "      <td>-8.391245</td>\n",
       "      <td>4.810222e-17</td>\n",
       "      <td>2.617327e-15</td>\n",
       "    </tr>\n",
       "    <tr>\n",
       "      <th>ENSMUSG00000003070</th>\n",
       "      <td>51.543119</td>\n",
       "      <td>-3.268305</td>\n",
       "      <td>0.402084</td>\n",
       "      <td>-8.128412</td>\n",
       "      <td>4.349517e-16</td>\n",
       "      <td>2.235168e-14</td>\n",
       "    </tr>\n",
       "    <tr>\n",
       "      <th>ENSMUSG00000005615</th>\n",
       "      <td>3737.803041</td>\n",
       "      <td>0.652108</td>\n",
       "      <td>0.081968</td>\n",
       "      <td>7.955674</td>\n",
       "      <td>1.781587e-15</td>\n",
       "      <td>8.673518e-14</td>\n",
       "    </tr>\n",
       "    <tr>\n",
       "      <th>ENSMUSG00000001473</th>\n",
       "      <td>5481.873099</td>\n",
       "      <td>-0.735826</td>\n",
       "      <td>0.093098</td>\n",
       "      <td>-7.903815</td>\n",
       "      <td>2.704950e-15</td>\n",
       "      <td>1.251040e-13</td>\n",
       "    </tr>\n",
       "  </tbody>\n",
       "</table>\n",
       "</div>"
      ],
      "text/plain": [
       "                        baseMean  log2FoldChange     lfcSE       stat  \\\n",
       "ENSMUSG00000005413  47345.338505       -1.859125  0.102720 -18.099001   \n",
       "ENSMUSG00000006818   9914.258982       -1.296424  0.089109 -14.548720   \n",
       "ENSMUSG00000001627   3007.600574       -1.453466  0.107287 -13.547518   \n",
       "ENSMUSG00000000732   1078.876925       -1.894211  0.140503 -13.481603   \n",
       "ENSMUSG00000002983   3611.565998       -1.143474  0.087681 -13.041291   \n",
       "ENSMUSG00000004359    664.419262       -1.859148  0.145997 -12.734111   \n",
       "ENSMUSG00000000555   8682.144547       -1.212585  0.095790 -12.658757   \n",
       "ENSMUSG00000005686   1036.416239       -1.888249  0.152207 -12.405805   \n",
       "ENSMUSG00000003283   2696.541863       -1.049054  0.088282 -11.883002   \n",
       "ENSMUSG00000000686    882.459763        1.331700  0.114840  11.596159   \n",
       "ENSMUSG00000003382   4153.734421       -0.907647  0.079449 -11.424219   \n",
       "ENSMUSG00000000489   3414.267117       -1.162959  0.108313 -10.737033   \n",
       "ENSMUSG00000005043   2301.829536        0.956407  0.097522   9.807042   \n",
       "ENSMUSG00000003545    161.326302       -2.561610  0.264273  -9.693039   \n",
       "ENSMUSG00000000628    564.424105        1.173210  0.121474   9.658136   \n",
       "ENSMUSG00000001741    431.079697        1.167695  0.123786   9.433169   \n",
       "ENSMUSG00000000957   2778.433329       -0.971017  0.115718  -8.391245   \n",
       "ENSMUSG00000003070     51.543119       -3.268305  0.402084  -8.128412   \n",
       "ENSMUSG00000005615   3737.803041        0.652108  0.081968   7.955674   \n",
       "ENSMUSG00000001473   5481.873099       -0.735826  0.093098  -7.903815   \n",
       "\n",
       "                          pvalue          padj  \n",
       "ENSMUSG00000005413  3.244986e-73  3.001612e-70  \n",
       "ENSMUSG00000006818  5.950584e-48  2.752145e-45  \n",
       "ENSMUSG00000001627  8.195448e-42  2.526930e-39  \n",
       "ENSMUSG00000000732  2.006974e-41  4.641128e-39  \n",
       "ENSMUSG00000002983  7.124027e-39  1.317945e-36  \n",
       "ENSMUSG00000004359  3.821749e-37  5.891863e-35  \n",
       "ENSMUSG00000000555  1.000718e-36  1.322377e-34  \n",
       "ENSMUSG00000005686  2.430588e-35  2.810367e-33  \n",
       "ENSMUSG00000003283  1.450617e-32  1.490912e-30  \n",
       "ENSMUSG00000000686  4.309897e-31  3.986655e-29  \n",
       "ENSMUSG00000003382  3.164890e-30  2.661385e-28  \n",
       "ENSMUSG00000000489  6.820093e-27  5.257155e-25  \n",
       "ENSMUSG00000005043  1.050016e-22  7.471270e-21  \n",
       "ENSMUSG00000003545  3.227779e-22  2.132640e-20  \n",
       "ENSMUSG00000000628  4.540518e-22  2.799986e-20  \n",
       "ENSMUSG00000001741  3.978821e-21  2.300256e-19  \n",
       "ENSMUSG00000000957  4.810222e-17  2.617327e-15  \n",
       "ENSMUSG00000003070  4.349517e-16  2.235168e-14  \n",
       "ENSMUSG00000005615  1.781587e-15  8.673518e-14  \n",
       "ENSMUSG00000001473  2.704950e-15  1.251040e-13  "
      ]
     },
     "execution_count": 15,
     "metadata": {},
     "output_type": "execute_result"
    }
   ],
   "source": [
    "pd_df.head(20)"
   ]
  },
  {
   "cell_type": "markdown",
   "metadata": {},
   "source": [
    "### Make some plots"
   ]
  },
  {
   "cell_type": "code",
   "execution_count": 9,
   "metadata": {},
   "outputs": [],
   "source": [
    "def plot_notebook(rfunc, res):\n",
    "    fn = '{uuid}.png'.format(uuid = uuid.uuid4())\n",
    "    grdevices.png(fn)\n",
    "    rfunc(res)\n",
    "    grdevices.dev_off()\n",
    "    return Image(filename=fn)"
   ]
  },
  {
   "cell_type": "code",
   "execution_count": 10,
   "metadata": {},
   "outputs": [
    {
     "data": {
      "image/png": "[encoded data removed]",
      "text/plain": [
       "<IPython.core.display.Image object>"
      ]
     },
     "execution_count": 10,
     "metadata": {},
     "output_type": "execute_result"
    }
   ],
   "source": [
    "rfunc = robjects.r('function(res) { plotMA(res, ylim=c(-2,2)) }')\n",
    "plot_notebook(rfunc, res_ordered)"
   ]
  },
  {
   "cell_type": "code",
   "execution_count": 11,
   "metadata": {},
   "outputs": [],
   "source": [
    "import pandas as pd\n",
    "import numpy as np\n",
    "from sklearn.decomposition import PCA"
   ]
  },
  {
   "cell_type": "code",
   "execution_count": 12,
   "metadata": {},
   "outputs": [],
   "source": [
    "df = rld_df.transpose()"
   ]
  },
  {
   "cell_type": "code",
   "execution_count": 13,
   "metadata": {},
   "outputs": [],
   "source": [
    "n_components = 10\n",
    "pca = PCA(n_components=n_components)\n",
    "X = pca.fit_transform(df)"
   ]
  },
  {
   "cell_type": "code",
   "execution_count": 14,
   "metadata": {},
   "outputs": [
    {
     "data": {
      "text/plain": [
       "array([0.48836903, 0.73566107, 0.85245316, 0.89653963, 0.92763339,\n",
       "       0.95525853, 0.97877805, 1.        , 1.        ])"
      ]
     },
     "execution_count": 14,
     "metadata": {},
     "output_type": "execute_result"
    }
   ],
   "source": [
    "np.cumsum(pca.explained_variance_ratio_)"
   ]
  },
  {
   "cell_type": "code",
   "execution_count": 15,
   "metadata": {},
   "outputs": [
    {
     "data": {
      "text/plain": [
       "(9, 9)"
      ]
     },
     "execution_count": 15,
     "metadata": {},
     "output_type": "execute_result"
    }
   ],
   "source": [
    "X.shape"
   ]
  },
  {
   "cell_type": "code",
   "execution_count": 16,
   "metadata": {},
   "outputs": [
    {
     "data": {
      "image/png": "[encoded data removed]",
      "text/plain": [
       "<Figure size 432x288 with 1 Axes>"
      ]
     },
     "metadata": {},
     "output_type": "display_data"
    }
   ],
   "source": [
    "fig, ax = plt.subplots()\n",
    "ax.scatter(X[:, 0], X[:, 1])\n",
    "\n",
    "for i, txt in enumerate(df.index):\n",
    "    ax.annotate(txt, (X[i, 0], X[i, 1]))\n",
    "    \n",
    "plt.tight_layout()"
   ]
  },
  {
   "cell_type": "code",
   "execution_count": null,
   "metadata": {},
   "outputs": [],
   "source": []
  }
 ],
 "metadata": {
  "kernelspec": {
   "display_name": "Python 3",
   "language": "python",
   "name": "python3"
  },
  "language_info": {
   "codemirror_mode": {
    "name": "ipython",
    "version": 3
   },
   "file_extension": ".py",
   "mimetype": "text/x-python",
   "name": "python",
   "nbconvert_exporter": "python",
   "pygments_lexer": "ipython3",
   "version": "3.6.5"
  }
 },
 "nbformat": 4,
 "nbformat_minor": 2
}
