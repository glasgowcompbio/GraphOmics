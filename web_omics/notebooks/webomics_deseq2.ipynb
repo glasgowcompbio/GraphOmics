{
 "cells": [
  {
   "cell_type": "code",
   "execution_count": 156,
   "metadata": {},
   "outputs": [],
   "source": [
    "library(DESeq2)"
   ]
  },
  {
   "cell_type": "code",
   "execution_count": 157,
   "metadata": {},
   "outputs": [
    {
     "data": {
      "text/html": [
       "<table>\n",
       "<thead><tr><th></th><th scope=col>HK1cnt</th><th scope=col>HK2cnt</th><th scope=col>HK3cnt</th><th scope=col>INF2cnt</th><th scope=col>INF3cnt</th><th scope=col>INF4cnt</th><th scope=col>M01cnt</th><th scope=col>M02cnt</th><th scope=col>M03cnt</th></tr></thead>\n",
       "<tbody>\n",
       "\t<tr><th scope=row>ENSMUSG00000000001</th><td>4390</td><td>4003</td><td>5739</td><td>3005</td><td>3674</td><td>2221</td><td>4255</td><td>4587</td><td>3927</td></tr>\n",
       "\t<tr><th scope=row>ENSMUSG00000000028</th><td>  44</td><td>  47</td><td>  57</td><td>  43</td><td>  46</td><td>  36</td><td>  60</td><td>  91</td><td>  57</td></tr>\n",
       "\t<tr><th scope=row>ENSMUSG00000000031</th><td>   0</td><td>   0</td><td>   0</td><td>   0</td><td>   1</td><td>   0</td><td>   0</td><td>   0</td><td>   0</td></tr>\n",
       "\t<tr><th scope=row>ENSMUSG00000000037</th><td>   2</td><td>   0</td><td>   3</td><td>   0</td><td>   0</td><td>   0</td><td>   4</td><td>   0</td><td>   0</td></tr>\n",
       "\t<tr><th scope=row>ENSMUSG00000000049</th><td>   0</td><td>   1</td><td>   1</td><td>   0</td><td>   0</td><td>   3</td><td>   0</td><td>   2</td><td>   3</td></tr>\n",
       "\t<tr><th scope=row>ENSMUSG00000000056</th><td> 312</td><td> 366</td><td> 418</td><td> 352</td><td> 370</td><td> 260</td><td> 495</td><td> 558</td><td> 467</td></tr>\n",
       "</tbody>\n",
       "</table>\n"
      ],
      "text/latex": [
       "\\begin{tabular}{r|lllllllll}\n",
       "  & HK1cnt & HK2cnt & HK3cnt & INF2cnt & INF3cnt & INF4cnt & M01cnt & M02cnt & M03cnt\\\\\n",
       "\\hline\n",
       "\tENSMUSG00000000001 & 4390 & 4003 & 5739 & 3005 & 3674 & 2221 & 4255 & 4587 & 3927\\\\\n",
       "\tENSMUSG00000000028 &   44 &   47 &   57 &   43 &   46 &   36 &   60 &   91 &   57\\\\\n",
       "\tENSMUSG00000000031 &    0 &    0 &    0 &    0 &    1 &    0 &    0 &    0 &    0\\\\\n",
       "\tENSMUSG00000000037 &    2 &    0 &    3 &    0 &    0 &    0 &    4 &    0 &    0\\\\\n",
       "\tENSMUSG00000000049 &    0 &    1 &    1 &    0 &    0 &    3 &    0 &    2 &    3\\\\\n",
       "\tENSMUSG00000000056 &  312 &  366 &  418 &  352 &  370 &  260 &  495 &  558 &  467\\\\\n",
       "\\end{tabular}\n"
      ],
      "text/markdown": [
       "\n",
       "| <!--/--> | HK1cnt | HK2cnt | HK3cnt | INF2cnt | INF3cnt | INF4cnt | M01cnt | M02cnt | M03cnt | \n",
       "|---|---|---|---|---|---|\n",
       "| ENSMUSG00000000001 | 4390 | 4003 | 5739 | 3005 | 3674 | 2221 | 4255 | 4587 | 3927 | \n",
       "| ENSMUSG00000000028 |   44 |   47 |   57 |   43 |   46 |   36 |   60 |   91 |   57 | \n",
       "| ENSMUSG00000000031 |    0 |    0 |    0 |    0 |    1 |    0 |    0 |    0 |    0 | \n",
       "| ENSMUSG00000000037 |    2 |    0 |    3 |    0 |    0 |    0 |    4 |    0 |    0 | \n",
       "| ENSMUSG00000000049 |    0 |    1 |    1 |    0 |    0 |    3 |    0 |    2 |    3 | \n",
       "| ENSMUSG00000000056 |  312 |  366 |  418 |  352 |  370 |  260 |  495 |  558 |  467 | \n",
       "\n",
       "\n"
      ],
      "text/plain": [
       "                   HK1cnt HK2cnt HK3cnt INF2cnt INF3cnt INF4cnt M01cnt M02cnt\n",
       "ENSMUSG00000000001 4390   4003   5739   3005    3674    2221    4255   4587  \n",
       "ENSMUSG00000000028   44     47     57     43      46      36      60     91  \n",
       "ENSMUSG00000000031    0      0      0      0       1       0       0      0  \n",
       "ENSMUSG00000000037    2      0      3      0       0       0       4      0  \n",
       "ENSMUSG00000000049    0      1      1      0       0       3       0      2  \n",
       "ENSMUSG00000000056  312    366    418    352     370     260     495    558  \n",
       "                   M03cnt\n",
       "ENSMUSG00000000001 3927  \n",
       "ENSMUSG00000000028   57  \n",
       "ENSMUSG00000000031    0  \n",
       "ENSMUSG00000000037    0  \n",
       "ENSMUSG00000000049    3  \n",
       "ENSMUSG00000000056  467  "
      ]
     },
     "metadata": {},
     "output_type": "display_data"
    }
   ],
   "source": [
    "cts = read.csv(file='../static/data/debugging/data_df.csv', header=TRUE, sep=',')\n",
    "rownames(cts) = cts$gene_pk\n",
    "cts$gene_pk = NULL\n",
    "cts$gene_id = NULL\n",
    "head(cts)"
   ]
  },
  {
   "cell_type": "code",
   "execution_count": 158,
   "metadata": {},
   "outputs": [
    {
     "data": {
      "text/html": [
       "<table>\n",
       "<thead><tr><th></th><th scope=col>group</th></tr></thead>\n",
       "<tbody>\n",
       "\t<tr><th scope=row>HK1cnt</th><td>HK   </td></tr>\n",
       "\t<tr><th scope=row>HK2cnt</th><td>HK   </td></tr>\n",
       "\t<tr><th scope=row>HK3cnt</th><td>HK   </td></tr>\n",
       "\t<tr><th scope=row>INF2cnt</th><td>INFEC</td></tr>\n",
       "\t<tr><th scope=row>INF3cnt</th><td>INFEC</td></tr>\n",
       "\t<tr><th scope=row>INF4cnt</th><td>INFEC</td></tr>\n",
       "\t<tr><th scope=row>M01cnt</th><td>UN   </td></tr>\n",
       "\t<tr><th scope=row>M02cnt</th><td>UN   </td></tr>\n",
       "\t<tr><th scope=row>M03cnt</th><td>UN   </td></tr>\n",
       "</tbody>\n",
       "</table>\n"
      ],
      "text/latex": [
       "\\begin{tabular}{r|l}\n",
       "  & group\\\\\n",
       "\\hline\n",
       "\tHK1cnt & HK   \\\\\n",
       "\tHK2cnt & HK   \\\\\n",
       "\tHK3cnt & HK   \\\\\n",
       "\tINF2cnt & INFEC\\\\\n",
       "\tINF3cnt & INFEC\\\\\n",
       "\tINF4cnt & INFEC\\\\\n",
       "\tM01cnt & UN   \\\\\n",
       "\tM02cnt & UN   \\\\\n",
       "\tM03cnt & UN   \\\\\n",
       "\\end{tabular}\n"
      ],
      "text/markdown": [
       "\n",
       "| <!--/--> | group | \n",
       "|---|---|---|---|---|---|---|---|---|\n",
       "| HK1cnt | HK    | \n",
       "| HK2cnt | HK    | \n",
       "| HK3cnt | HK    | \n",
       "| INF2cnt | INFEC | \n",
       "| INF3cnt | INFEC | \n",
       "| INF4cnt | INFEC | \n",
       "| M01cnt | UN    | \n",
       "| M02cnt | UN    | \n",
       "| M03cnt | UN    | \n",
       "\n",
       "\n"
      ],
      "text/plain": [
       "        group\n",
       "HK1cnt  HK   \n",
       "HK2cnt  HK   \n",
       "HK3cnt  HK   \n",
       "INF2cnt INFEC\n",
       "INF3cnt INFEC\n",
       "INF4cnt INFEC\n",
       "M01cnt  UN   \n",
       "M02cnt  UN   \n",
       "M03cnt  UN   "
      ]
     },
     "metadata": {},
     "output_type": "display_data"
    }
   ],
   "source": [
    "coldata = read.csv(file='../static/data/debugging/design_df.csv', header=TRUE, sep=',')\n",
    "rownames(coldata) = coldata$sample # set as index\n",
    "runs = coldata$sample\n",
    "coldata$sample = NULL # remove the sample column\n",
    "coldata"
   ]
  },
  {
   "cell_type": "code",
   "execution_count": 159,
   "metadata": {},
   "outputs": [
    {
     "data": {
      "text/html": [
       "<ol class=list-inline>\n",
       "\t<li>HK1cnt</li>\n",
       "\t<li>HK2cnt</li>\n",
       "\t<li>HK3cnt</li>\n",
       "\t<li>INF2cnt</li>\n",
       "\t<li>INF3cnt</li>\n",
       "\t<li>INF4cnt</li>\n",
       "\t<li>M01cnt</li>\n",
       "\t<li>M02cnt</li>\n",
       "\t<li>M03cnt</li>\n",
       "</ol>\n"
      ],
      "text/latex": [
       "\\begin{enumerate*}\n",
       "\\item HK1cnt\n",
       "\\item HK2cnt\n",
       "\\item HK3cnt\n",
       "\\item INF2cnt\n",
       "\\item INF3cnt\n",
       "\\item INF4cnt\n",
       "\\item M01cnt\n",
       "\\item M02cnt\n",
       "\\item M03cnt\n",
       "\\end{enumerate*}\n"
      ],
      "text/markdown": [
       "1. HK1cnt\n",
       "2. HK2cnt\n",
       "3. HK3cnt\n",
       "4. INF2cnt\n",
       "5. INF3cnt\n",
       "6. INF4cnt\n",
       "7. M01cnt\n",
       "8. M02cnt\n",
       "9. M03cnt\n",
       "\n",
       "\n"
      ],
      "text/plain": [
       "[1] HK1cnt  HK2cnt  HK3cnt  INF2cnt INF3cnt INF4cnt M01cnt  M02cnt  M03cnt \n",
       "9 Levels: HK1cnt HK2cnt HK3cnt INF2cnt INF3cnt INF4cnt M01cnt ... M03cnt"
      ]
     },
     "metadata": {},
     "output_type": "display_data"
    }
   ],
   "source": [
    "runs"
   ]
  },
  {
   "cell_type": "code",
   "execution_count": 160,
   "metadata": {},
   "outputs": [],
   "source": [
    "dds <- DESeqDataSetFromMatrix(countData = cts,\n",
    "                              colData = coldata,\n",
    "                              design = ~ group)"
   ]
  },
  {
   "cell_type": "code",
   "execution_count": 161,
   "metadata": {},
   "outputs": [
    {
     "data": {
      "text/plain": [
       "class: DESeqDataSet \n",
       "dim: 1704 9 \n",
       "metadata(1): version\n",
       "assays(1): counts\n",
       "rownames(1704): ENSMUSG00000000001 ENSMUSG00000000028 ...\n",
       "  ENSMUSG00000115338 -\n",
       "rowData names(0):\n",
       "colnames(9): HK1cnt HK2cnt ... M02cnt M03cnt\n",
       "colData names(1): group"
      ]
     },
     "metadata": {},
     "output_type": "display_data"
    }
   ],
   "source": [
    "dds"
   ]
  },
  {
   "cell_type": "code",
   "execution_count": 162,
   "metadata": {},
   "outputs": [],
   "source": [
    "treatments <- factor(c('HK', 'HK', 'HK', 'INFEC', 'INFEC', 'INFEC', 'UN', 'UN', 'UN'))"
   ]
  },
  {
   "cell_type": "code",
   "execution_count": 163,
   "metadata": {},
   "outputs": [],
   "source": [
    "dds$condition <- treatments\n",
    "dds$condition <- relevel(dds$condition, ref = \"UN\") # set control"
   ]
  },
  {
   "cell_type": "code",
   "execution_count": 164,
   "metadata": {},
   "outputs": [],
   "source": [
    "dds$sample <- treatments"
   ]
  },
  {
   "cell_type": "code",
   "execution_count": 165,
   "metadata": {},
   "outputs": [],
   "source": [
    "dds$run <- runs"
   ]
  },
  {
   "cell_type": "code",
   "execution_count": 166,
   "metadata": {},
   "outputs": [],
   "source": [
    "ddsColl <- collapseReplicates(dds, dds$sample, dds$run)"
   ]
  },
  {
   "cell_type": "code",
   "execution_count": 167,
   "metadata": {},
   "outputs": [
    {
     "data": {
      "text/html": [
       "<table>\n",
       "<thead><tr><th></th><th scope=col>HK</th><th scope=col>INFEC</th><th scope=col>UN</th></tr></thead>\n",
       "<tbody>\n",
       "\t<tr><th scope=row>ENSMUSG00000000001</th><td>14132</td><td>8900 </td><td>12769</td></tr>\n",
       "\t<tr><th scope=row>ENSMUSG00000000028</th><td>  148</td><td> 125 </td><td>  208</td></tr>\n",
       "\t<tr><th scope=row>ENSMUSG00000000031</th><td>    0</td><td>   1 </td><td>    0</td></tr>\n",
       "\t<tr><th scope=row>ENSMUSG00000000037</th><td>    5</td><td>   0 </td><td>    4</td></tr>\n",
       "\t<tr><th scope=row>ENSMUSG00000000049</th><td>    2</td><td>   3 </td><td>    5</td></tr>\n",
       "\t<tr><th scope=row>ENSMUSG00000000056</th><td> 1096</td><td> 982 </td><td> 1520</td></tr>\n",
       "</tbody>\n",
       "</table>\n"
      ],
      "text/latex": [
       "\\begin{tabular}{r|lll}\n",
       "  & HK & INFEC & UN\\\\\n",
       "\\hline\n",
       "\tENSMUSG00000000001 & 14132 & 8900  & 12769\\\\\n",
       "\tENSMUSG00000000028 &   148 &  125  &   208\\\\\n",
       "\tENSMUSG00000000031 &     0 &    1  &     0\\\\\n",
       "\tENSMUSG00000000037 &     5 &    0  &     4\\\\\n",
       "\tENSMUSG00000000049 &     2 &    3  &     5\\\\\n",
       "\tENSMUSG00000000056 &  1096 &  982  &  1520\\\\\n",
       "\\end{tabular}\n"
      ],
      "text/markdown": [
       "\n",
       "| <!--/--> | HK | INFEC | UN | \n",
       "|---|---|---|---|---|---|\n",
       "| ENSMUSG00000000001 | 14132 | 8900  | 12769 | \n",
       "| ENSMUSG00000000028 |   148 |  125  |   208 | \n",
       "| ENSMUSG00000000031 |     0 |    1  |     0 | \n",
       "| ENSMUSG00000000037 |     5 |    0  |     4 | \n",
       "| ENSMUSG00000000049 |     2 |    3  |     5 | \n",
       "| ENSMUSG00000000056 |  1096 |  982  |  1520 | \n",
       "\n",
       "\n"
      ],
      "text/plain": [
       "                   HK    INFEC UN   \n",
       "ENSMUSG00000000001 14132 8900  12769\n",
       "ENSMUSG00000000028   148  125    208\n",
       "ENSMUSG00000000031     0    1      0\n",
       "ENSMUSG00000000037     5    0      4\n",
       "ENSMUSG00000000049     2    3      5\n",
       "ENSMUSG00000000056  1096  982   1520"
      ]
     },
     "metadata": {},
     "output_type": "display_data"
    }
   ],
   "source": [
    "head(counts(ddsColl))"
   ]
  },
  {
   "cell_type": "code",
   "execution_count": 168,
   "metadata": {},
   "outputs": [
    {
     "data": {
      "text/plain": [
       "DataFrame with 3 rows and 5 columns\n",
       "         group condition   sample      run           runsCollapsed\n",
       "      <factor>  <factor> <factor> <factor>             <character>\n",
       "HK          HK        HK       HK   HK1cnt    HK1cnt,HK2cnt,HK3cnt\n",
       "INFEC    INFEC     INFEC    INFEC  INF2cnt INF2cnt,INF3cnt,INF4cnt\n",
       "UN          UN        UN       UN   M01cnt    M01cnt,M02cnt,M03cnt"
      ]
     },
     "metadata": {},
     "output_type": "display_data"
    },
    {
     "data": {
      "text/html": [
       "<ol class=list-inline>\n",
       "\t<li>'HK'</li>\n",
       "\t<li>'INFEC'</li>\n",
       "\t<li>'UN'</li>\n",
       "</ol>\n"
      ],
      "text/latex": [
       "\\begin{enumerate*}\n",
       "\\item 'HK'\n",
       "\\item 'INFEC'\n",
       "\\item 'UN'\n",
       "\\end{enumerate*}\n"
      ],
      "text/markdown": [
       "1. 'HK'\n",
       "2. 'INFEC'\n",
       "3. 'UN'\n",
       "\n",
       "\n"
      ],
      "text/plain": [
       "[1] \"HK\"    \"INFEC\" \"UN\"   "
      ]
     },
     "metadata": {},
     "output_type": "display_data"
    }
   ],
   "source": [
    "# examine the colData and column names of the collapsed data\n",
    "colData(ddsColl)\n",
    "colnames(ddsColl)"
   ]
  },
  {
   "cell_type": "code",
   "execution_count": 169,
   "metadata": {},
   "outputs": [],
   "source": [
    "# check that the sum of the counts for \"sample1\" is the same\n",
    "# as the counts in the \"sample1\" column in ddsColl\n",
    "matchFirstLevel <- dds$sample == levels(dds$sample)[1]\n",
    "stopifnot(all(rowSums(counts(dds[,matchFirstLevel])) == counts(ddsColl[,1])))"
   ]
  },
  {
   "cell_type": "markdown",
   "metadata": {},
   "source": [
    "Keep rows that have at least 10 reads total"
   ]
  },
  {
   "cell_type": "code",
   "execution_count": 170,
   "metadata": {},
   "outputs": [],
   "source": [
    "keep <- rowSums(counts(ddsColl)) >= 10\n",
    "ddsColl <- ddsColl[keep,]"
   ]
  },
  {
   "cell_type": "markdown",
   "metadata": {},
   "source": [
    "Differential expression analysis"
   ]
  },
  {
   "cell_type": "code",
   "execution_count": 185,
   "metadata": {},
   "outputs": [
    {
     "name": "stderr",
     "output_type": "stream",
     "text": [
      "using pre-existing size factors\n",
      "estimating dispersions\n",
      "found already estimated dispersions, replacing these\n",
      "gene-wise dispersion estimates\n",
      "mean-dispersion relationship\n",
      "final dispersion estimates\n",
      "fitting model and testing\n"
     ]
    },
    {
     "data": {
      "text/plain": [
       "log2 fold change (MLE): group UN vs HK \n",
       "Wald test p-value: group UN vs HK \n",
       "DataFrame with 1704 rows and 6 columns\n",
       "                       baseMean log2FoldChange     lfcSE         stat\n",
       "                      <numeric>      <numeric> <numeric>    <numeric>\n",
       "ENSMUSG00000000001 3886.0433951    -0.15309494 0.1326098 -1.154476853\n",
       "ENSMUSG00000000028   52.2237747     0.46394672 0.2778108  1.670009638\n",
       "ENSMUSG00000000031    0.1251176    -0.02146205 4.0804559 -0.005259718\n",
       "ENSMUSG00000000037    0.8993391    -0.19131753 2.6577975 -0.071983485\n",
       "ENSMUSG00000000049    1.1069567     1.33036997 2.2101841  0.601927217\n",
       "...                         ...            ...       ...          ...\n",
       "ENSMUSG00000111727            0             NA        NA           NA\n",
       "ENSMUSG00000113475            0             NA        NA           NA\n",
       "ENSMUSG00000114797            0             NA        NA           NA\n",
       "ENSMUSG00000115338            0             NA        NA           NA\n",
       "-                             0             NA        NA           NA\n",
       "                       pvalue      padj\n",
       "                    <numeric> <numeric>\n",
       "ENSMUSG00000000001 0.24830472 0.4687385\n",
       "ENSMUSG00000000028 0.09491746 0.2353851\n",
       "ENSMUSG00000000031 0.99580337        NA\n",
       "ENSMUSG00000000037 0.94261505 0.9712218\n",
       "ENSMUSG00000000049 0.54722259 0.7417787\n",
       "...                       ...       ...\n",
       "ENSMUSG00000111727         NA        NA\n",
       "ENSMUSG00000113475         NA        NA\n",
       "ENSMUSG00000114797         NA        NA\n",
       "ENSMUSG00000115338         NA        NA\n",
       "-                          NA        NA"
      ]
     },
     "metadata": {},
     "output_type": "display_data"
    }
   ],
   "source": [
    "dds <- DESeq(dds)\n",
    "res <- results(dds, contrast=c(\"group\", 'UN', 'HK'))\n",
    "res"
   ]
  },
  {
   "cell_type": "code",
   "execution_count": 186,
   "metadata": {},
   "outputs": [
    {
     "data": {
      "image/png": "[encoded data removed]",
      "text/plain": [
       "Plot with title \"\""
      ]
     },
     "metadata": {},
     "output_type": "display_data"
    }
   ],
   "source": [
    "plotMA(res, ylim=c(-2,2))"
   ]
  },
  {
   "cell_type": "code",
   "execution_count": 187,
   "metadata": {},
   "outputs": [
    {
     "data": {
      "image/png": "[encoded data removed]",
      "text/plain": [
       "Plot with title \"ENSMUSG00000005413\""
      ]
     },
     "metadata": {},
     "output_type": "display_data"
    }
   ],
   "source": [
    "plotCounts(dds, gene=which.min(res$padj), intgroup=\"condition\")"
   ]
  },
  {
   "cell_type": "code",
   "execution_count": 193,
   "metadata": {},
   "outputs": [
    {
     "data": {},
     "metadata": {},
     "output_type": "display_data"
    },
    {
     "data": {
      "image/png": "[encoded data removed]",
      "text/plain": [
       "plot without title"
      ]
     },
     "metadata": {},
     "output_type": "display_data"
    }
   ],
   "source": [
    "# vsd <- vst(dds, blind=FALSE)\n",
    "rld <- rlog(dds, blind=FALSE)\n",
    "plotPCA(rld, intgroup=c(\"condition\"))"
   ]
  },
  {
   "cell_type": "code",
   "execution_count": 199,
   "metadata": {},
   "outputs": [],
   "source": [
    "sampleDists <- dist(t(assay(rld)))"
   ]
  },
  {
   "cell_type": "code",
   "execution_count": 203,
   "metadata": {},
   "outputs": [],
   "source": [
    "library(\"RColorBrewer\")\n",
    "library(\"pheatmap\")"
   ]
  },
  {
   "cell_type": "code",
   "execution_count": 207,
   "metadata": {},
   "outputs": [
    {
     "data": {
      "text/plain": [
       "          HK1cnt   HK2cnt   HK3cnt  INF2cnt  INF3cnt  INF4cnt   M01cnt   M02cnt\n",
       "HK2cnt  3.397618                                                               \n",
       "HK3cnt  4.615692 3.314634                                                      \n",
       "INF2cnt 4.625126 5.284141 5.571452                                             \n",
       "INF3cnt 3.988705 4.377213 5.126246 3.610438                                    \n",
       "INF4cnt 7.057336 7.383264 6.685015 4.870071 6.013126                           \n",
       "M01cnt  7.099300 6.865949 7.188868 6.720606 5.573369 7.596965                  \n",
       "M02cnt  7.331111 7.178529 7.241183 6.941433 5.915105 7.234608 2.953553         \n",
       "M03cnt  7.099607 7.209091 7.720351 6.791892 5.586744 7.817899 2.765865 3.235547"
      ]
     },
     "metadata": {},
     "output_type": "display_data"
    }
   ],
   "source": [
    "sampleDists"
   ]
  },
  {
   "cell_type": "code",
   "execution_count": 208,
   "metadata": {},
   "outputs": [
    {
     "data": {
      "image/png": "[encoded data removed]",
      "text/plain": [
       "plot without title"
      ]
     },
     "metadata": {},
     "output_type": "display_data"
    }
   ],
   "source": [
    "sampleDistMatrix <- as.matrix(sampleDists)\n",
    "colors <- colorRampPalette( rev(brewer.pal(9, \"Blues\")) )(255)\n",
    "pheatmap(sampleDistMatrix,\n",
    "         clustering_distance_rows=sampleDists,\n",
    "         clustering_distance_cols=sampleDists,\n",
    "         col=colors)"
   ]
  },
  {
   "cell_type": "code",
   "execution_count": 195,
   "metadata": {},
   "outputs": [],
   "source": [
    "resOrdered <- res[order(res$padj),]"
   ]
  },
  {
   "cell_type": "code",
   "execution_count": 196,
   "metadata": {},
   "outputs": [],
   "source": [
    "write.csv(as.data.frame(res), file=\"UN_HK_results.csv\")\n",
    "write.csv(as.data.frame(resOrdered), file=\"UN_HK_results_ordered.csv\")"
   ]
  },
  {
   "cell_type": "code",
   "execution_count": null,
   "metadata": {},
   "outputs": [],
   "source": []
  }
 ],
 "metadata": {
  "kernelspec": {
   "display_name": "R",
   "language": "R",
   "name": "ir"
  },
  "language_info": {
   "codemirror_mode": "r",
   "file_extension": ".r",
   "mimetype": "text/x-r-source",
   "name": "R",
   "pygments_lexer": "r",
   "version": "3.4.3"
  }
 },
 "nbformat": 4,
 "nbformat_minor": 2
}
