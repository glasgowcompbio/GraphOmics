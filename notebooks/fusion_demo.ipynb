{
 "cells": [
  {
   "cell_type": "markdown",
   "metadata": {},
   "source": [
    "# Example 1"
   ]
  },
  {
   "cell_type": "markdown",
   "metadata": {},
   "source": [
    "Trying out the example codes in https://github.com/marinkaz/scikit-fusion"
   ]
  },
  {
   "cell_type": "code",
   "execution_count": 7,
   "metadata": {},
   "outputs": [],
   "source": [
    "import pylab as plt\n",
    "import matplotlib\n",
    "from IPython.display import display, HTML\n",
    "\n",
    "import numpy as np\n",
    "import pandas as pd\n",
    "from skfusion import fusion\n",
    "\n",
    "%matplotlib inline"
   ]
  },
  {
   "cell_type": "code",
   "execution_count": 8,
   "metadata": {},
   "outputs": [],
   "source": [
    "R12 = np.random.rand(50, 100)\n",
    "R13 = np.random.rand(50, 40)\n",
    "R23 = np.random.rand(100, 40)"
   ]
  },
  {
   "cell_type": "code",
   "execution_count": 9,
   "metadata": {},
   "outputs": [],
   "source": [
    "t1 = fusion.ObjectType('Type 1', 10)\n",
    "t2 = fusion.ObjectType('Type 2', 20)\n",
    "t3 = fusion.ObjectType('Type 3', 30)\n",
    "relations = [fusion.Relation(R12, t1, t2),\n",
    "             fusion.Relation(R13, t1, t3),\n",
    "             fusion.Relation(R23, t2, t3)]\n",
    "fusion_graph = fusion.FusionGraph()\n",
    "fusion_graph.add_relations_from(relations)"
   ]
  },
  {
   "cell_type": "code",
   "execution_count": 10,
   "metadata": {},
   "outputs": [
    {
     "data": {
      "text/plain": [
       "Dfmf(stopping_system=None, n_jobs=1, verbose=0, init_type=random_c, max_iter=100, compute_err=False, callback=None, random_state=None, stopping=None, n_run=1)"
      ]
     },
     "execution_count": 10,
     "metadata": {},
     "output_type": "execute_result"
    }
   ],
   "source": [
    "fuser = fusion.Dfmf()\n",
    "fuser.fuse(fusion_graph)"
   ]
  },
  {
   "cell_type": "code",
   "execution_count": 11,
   "metadata": {},
   "outputs": [
    {
     "name": "stdout",
     "output_type": "stream",
     "text": [
      "(50, 10)\n"
     ]
    },
    {
     "data": {
      "text/plain": [
       "<matplotlib.image.AxesImage at 0x10e63d150>"
      ]
     },
     "execution_count": 11,
     "metadata": {},
     "output_type": "execute_result"
    },
    {
     "data": {
      "image/png": "[encoded data removed]",
      "text/plain": [
       "<matplotlib.figure.Figure at 0x10e44f590>"
      ]
     },
     "metadata": {},
     "output_type": "display_data"
    }
   ],
   "source": [
    "m1 = fuser.factor(t1)\n",
    "print m1.shape\n",
    "plt.imshow(m1)"
   ]
  },
  {
   "cell_type": "code",
   "execution_count": 12,
   "metadata": {},
   "outputs": [
    {
     "name": "stdout",
     "output_type": "stream",
     "text": [
      "(100, 20)\n"
     ]
    },
    {
     "data": {
      "text/plain": [
       "<matplotlib.image.AxesImage at 0x10e6fe0d0>"
      ]
     },
     "execution_count": 12,
     "metadata": {},
     "output_type": "execute_result"
    },
    {
     "data": {
      "image/png": "[encoded data removed]",
      "text/plain": [
       "<matplotlib.figure.Figure at 0x10e4ea650>"
      ]
     },
     "metadata": {},
     "output_type": "display_data"
    }
   ],
   "source": [
    "m2 = fuser.factor(t2)\n",
    "print m2.shape\n",
    "plt.imshow(m2)"
   ]
  },
  {
   "cell_type": "code",
   "execution_count": 14,
   "metadata": {},
   "outputs": [],
   "source": [
    "from skfusion import datasets"
   ]
  },
  {
   "cell_type": "code",
   "execution_count": 15,
   "metadata": {},
   "outputs": [],
   "source": [
    "pharma = datasets.load_pharma()\n",
    "action = pharma.get_object_type('Action')\n",
    "pmid = pharma.get_object_type('PMID')\n",
    "depositor = pharma.get_object_type('Depositor')\n",
    "fingerprint = pharma.get_object_type('Fingerprint')\n",
    "depo_cat = pharma.get_object_type('Depositor category')\n",
    "chemical = pharma.get_object_type('Chemical')"
   ]
  },
  {
   "cell_type": "code",
   "execution_count": 17,
   "metadata": {},
   "outputs": [
    {
     "data": {
      "text/plain": [
       "skfusion.fusion.base.fusion_graph.FusionGraph"
      ]
     },
     "execution_count": 17,
     "metadata": {},
     "output_type": "execute_result"
    }
   ],
   "source": [
    "type(pharma)"
   ]
  },
  {
   "cell_type": "code",
   "execution_count": 18,
   "metadata": {},
   "outputs": [],
   "source": [
    "action = pharma.get_object_type('Action')"
   ]
  },
  {
   "cell_type": "code",
   "execution_count": 20,
   "metadata": {},
   "outputs": [
    {
     "data": {
      "text/plain": [
       "OrderedDict([(Relation(ObjectType(\"Chemical\") → ObjectType(\"Action\")), True),\n",
       "             (Relation(ObjectType(\"Chemical\") → ObjectType(\"PMID\")), True),\n",
       "             (Relation(ObjectType(\"Chemical\") → ObjectType(\"Depositor\")),\n",
       "              True),\n",
       "             (Relation(ObjectType(\"Chemical\") → ObjectType(\"Fingerprint\")),\n",
       "              True),\n",
       "             (Relation(ObjectType(\"Depositor\") → ObjectType(\"Depositor category\")),\n",
       "              True),\n",
       "             (Relation(ObjectType(\"Chemical\") → ObjectType(\"Chemical\")),\n",
       "              True)])"
      ]
     },
     "execution_count": 20,
     "metadata": {},
     "output_type": "execute_result"
    }
   ],
   "source": [
    "pharma.relations"
   ]
  },
  {
   "cell_type": "code",
   "execution_count": null,
   "metadata": {},
   "outputs": [],
   "source": []
  },
  {
   "cell_type": "code",
   "execution_count": null,
   "metadata": {},
   "outputs": [],
   "source": []
  },
  {
   "cell_type": "markdown",
   "metadata": {},
   "source": [
    "# Example 2"
   ]
  },
  {
   "cell_type": "markdown",
   "metadata": {},
   "source": [
    "More example codes from https://github.com/marinkaz/scikit-fusion/blob/master/examples/dicty_association.py\n",
    "\n",
    "Fusion of three data sources for gene function prediction in Dictyostelium\n",
    "\n",
    "Fuse three data sets: gene expression data (Miranda et al., 2013, PLoS One),\n",
    "slim gene annotations from Gene Ontology and protein-protein interaction\n",
    "network from STRING database.\n",
    "\n",
    "Learnt latent matrix factors are utilized for the prediction of slim GO\n",
    "terms in Dictyostelium genes that are unavailable in the training phase.\n",
    "This example demonstrates how latent matrices estimated by data fusion\n",
    "can be utilized for association prediction."
   ]
  },
  {
   "cell_type": "code",
   "execution_count": 12,
   "metadata": {},
   "outputs": [
    {
     "name": "stderr",
     "output_type": "stream",
     "text": [
      "/Users/joewandy/anaconda/envs/omics/lib/python2.7/site-packages/sklearn/cross_validation.py:41: DeprecationWarning: This module was deprecated in version 0.18 in favor of the model_selection module into which all the refactored classes and functions are moved. Also note that the interface of the new CV iterators are different from that of this module. This module will be removed in 0.20.\n",
      "  \"This module will be removed in 0.20.\", DeprecationWarning)\n"
     ]
    }
   ],
   "source": [
    "from sklearn import cross_validation, metrics\n",
    "import numpy as np\n",
    "\n",
    "from skfusion import datasets\n",
    "from skfusion import fusion as skf"
   ]
  },
  {
   "cell_type": "code",
   "execution_count": 13,
   "metadata": {},
   "outputs": [],
   "source": [
    "dicty = datasets.load_dicty()\n",
    "gene = dicty.get_object_type(\"Gene\")\n",
    "go_term = dicty.get_object_type(\"GO term\")\n",
    "exp_cond = dicty.get_object_type(\"Experimental condition\")"
   ]
  },
  {
   "cell_type": "code",
   "execution_count": 19,
   "metadata": {},
   "outputs": [
    {
     "name": "stdout",
     "output_type": "stream",
     "text": [
      "FusionGraph(Object types: 3, Relations: 3)\n"
     ]
    }
   ],
   "source": [
    "print(dicty)"
   ]
  },
  {
   "cell_type": "code",
   "execution_count": 20,
   "metadata": {},
   "outputs": [
    {
     "name": "stdout",
     "output_type": "stream",
     "text": [
      "OrderedDict([(ObjectType(\"Gene\"), True), (ObjectType(\"GO term\"), True), (ObjectType(\"Experimental condition\"), True)])\n"
     ]
    }
   ],
   "source": [
    "print(dicty.object_types)"
   ]
  },
  {
   "cell_type": "code",
   "execution_count": 21,
   "metadata": {},
   "outputs": [
    {
     "name": "stdout",
     "output_type": "stream",
     "text": [
      "OrderedDict([(Relation(ObjectType(\"Gene\") \"ann\" ObjectType(\"GO term\")), True), (Relation(ObjectType(\"Gene\") \"expr\" ObjectType(\"Experimental condition\")), True), (Relation(ObjectType(\"Gene\") \"ppi\" ObjectType(\"Gene\")), True)])\n"
     ]
    }
   ],
   "source": [
    "print(dicty.relations)"
   ]
  },
  {
   "cell_type": "code",
   "execution_count": 14,
   "metadata": {},
   "outputs": [],
   "source": [
    "n_folds = 10\n",
    "n_genes = dicty[gene][go_term][0].data.shape[0]\n",
    "cv = cross_validation.KFold(n_genes, n_folds=n_folds)\n",
    "fold_mse = np.zeros(n_folds)\n",
    "ann_mask = np.zeros_like(dicty[gene][go_term][0].data).astype('bool')"
   ]
  },
  {
   "cell_type": "code",
   "execution_count": 15,
   "metadata": {},
   "outputs": [],
   "source": [
    "relations = [\n",
    "    skf.Relation(dicty[gene][go_term][0].data, gene, go_term),\n",
    "    skf.Relation(dicty[gene][exp_cond][0].data, gene, exp_cond),\n",
    "    skf.Relation(dicty[gene][gene][0].data, gene, gene)]\n",
    "fusion_graph = skf.FusionGraph(relations)\n",
    "fuser = skf.Dfmc(max_iter=30, n_run=1, init_type='random', random_state=0)"
   ]
  },
  {
   "cell_type": "code",
   "execution_count": 16,
   "metadata": {},
   "outputs": [
    {
     "name": "stdout",
     "output_type": "stream",
     "text": [
      "MSE: 0.0389\n"
     ]
    }
   ],
   "source": [
    "for i, (train_idx, test_idx) in enumerate(cv):\n",
    "    ann_mask[:] = False\n",
    "    ann_mask[test_idx, :] = True\n",
    "    fusion_graph[gene][go_term][0].mask = ann_mask\n",
    "\n",
    "    fuser.fuse(fusion_graph)\n",
    "    pred_ann = fuser.complete(fuser.fusion_graph[gene][go_term][0])[test_idx]\n",
    "    true_ann = dicty[gene][go_term][0].data[test_idx]\n",
    "    fold_mse[i] = metrics.mean_squared_error(pred_ann, true_ann)\n",
    "\n",
    "print(\"MSE: %5.4f\" % np.mean(fold_mse))"
   ]
  },
  {
   "cell_type": "code",
   "execution_count": null,
   "metadata": {},
   "outputs": [],
   "source": []
  }
 ],
 "metadata": {
  "kernelspec": {
   "display_name": "Python 2",
   "language": "python",
   "name": "python2"
  },
  "language_info": {
   "codemirror_mode": {
    "name": "ipython",
    "version": 2
   },
   "file_extension": ".py",
   "mimetype": "text/x-python",
   "name": "python",
   "nbconvert_exporter": "python",
   "pygments_lexer": "ipython2",
   "version": "2.7.13"
  }
 },
 "nbformat": 4,
 "nbformat_minor": 2
}
