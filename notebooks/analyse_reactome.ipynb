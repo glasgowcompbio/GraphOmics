{
 "cells": [
  {
   "cell_type": "markdown",
   "metadata": {},
   "source": [
    "# Maps Kevin's data onto reactome pathways"
   ]
  },
  {
   "cell_type": "code",
   "execution_count": 1,
   "metadata": {},
   "outputs": [],
   "source": [
    "import os\n",
    "import glob\n",
    "\n",
    "import pylab as plt\n",
    "import matplotlib\n",
    "from IPython.display import display, HTML\n",
    "\n",
    "import numpy as np\n",
    "from scipy.sparse import lil_matrix\n",
    "import pandas as pd\n",
    "from pandas import HDFStore\n",
    "\n",
    "import seaborn as sns\n",
    "from IPython.display import display\n",
    "\n",
    "from reactome import ensembl_to_uniprot, uniprot_to_reaction\n",
    "\n",
    "from ipywidgets import FloatProgress\n",
    "\n",
    "%matplotlib inline"
   ]
  },
  {
   "cell_type": "markdown",
   "metadata": {},
   "source": [
    "## Load data"
   ]
  },
  {
   "cell_type": "code",
   "execution_count": 2,
   "metadata": {},
   "outputs": [],
   "source": [
    "time = 7\n",
    "parasite = 'INFEC'\n",
    "treatment = 'Unsorted'\n",
    "\n",
    "filename = '../data/data_%d_%s_%s.h5' % (time, parasite, treatment)\n",
    "hdf = HDFStore(filename, complevel=9, complib='bzip2')\n",
    "\n",
    "pvt = hdf['peak_vs_transcript'].replace([np.inf, -np.inf], np.nan).fillna(0)\n",
    "# pvp = hdf['peak_vs_peak']\n",
    "# tvt = hdf['transcript_vs_transcript']\n",
    "\n",
    "hdf.close()"
   ]
  },
  {
   "cell_type": "code",
   "execution_count": 3,
   "metadata": {},
   "outputs": [
    {
     "data": {
      "text/plain": [
       "Index([u'ENSMUSG00000000001', u'ENSMUSG00000000028', u'ENSMUSG00000000031',\n",
       "       u'ENSMUSG00000000049', u'ENSMUSG00000000056', u'ENSMUSG00000000058',\n",
       "       u'ENSMUSG00000000078', u'ENSMUSG00000000085', u'ENSMUSG00000000088',\n",
       "       u'ENSMUSG00000000093',\n",
       "       ...\n",
       "       u'ENSMUSG00000110391', u'ENSMUSG00000110393', u'ENSMUSG00000110397',\n",
       "       u'ENSMUSG00000110399', u'ENSMUSG00000110404', u'ENSMUSG00000110405',\n",
       "       u'ENSMUSG00000110410', u'ENSMUSG00000110414', u'ENSMUSG00000110419',\n",
       "       u'ENSMUSG00000110424'],\n",
       "      dtype='object', length=21794)"
      ]
     },
     "execution_count": 3,
     "metadata": {},
     "output_type": "execute_result"
    }
   ],
   "source": [
    "pvt.columns"
   ]
  },
  {
   "cell_type": "code",
   "execution_count": 4,
   "metadata": {},
   "outputs": [],
   "source": [
    "species = 'Mus musculus'"
   ]
  },
  {
   "cell_type": "markdown",
   "metadata": {},
   "source": [
    "## Maps ENSEMBL IDs to UniProt IDs"
   ]
  },
  {
   "cell_type": "code",
   "execution_count": 5,
   "metadata": {},
   "outputs": [
    {
     "name": "stdout",
     "output_type": "stream",
     "text": [
      "ENSMUSG00000000001\n"
     ]
    }
   ],
   "source": [
    "ens_id = pvt.columns[0]\n",
    "print ens_id"
   ]
  },
  {
   "cell_type": "code",
   "execution_count": 6,
   "metadata": {},
   "outputs": [
    {
     "name": "stdout",
     "output_type": "stream",
     "text": [
      "21794\n"
     ]
    }
   ],
   "source": [
    "print len(pvt.columns)\n",
    "ens_ids = pvt.columns.values.tolist()"
   ]
  },
  {
   "cell_type": "code",
   "execution_count": 7,
   "metadata": {
    "scrolled": true
   },
   "outputs": [
    {
     "data": {
      "application/vnd.jupyter.widget-view+json": {
       "model_id": "cb5e7dc96f1a42458d54510e468ab16a",
       "version_major": 2,
       "version_minor": 0
      },
      "text/html": [
       "<p>Failed to display Jupyter Widget of type <code>FloatProgress</code>.</p>\n",
       "<p>\n",
       "  If you're reading this message in Jupyter Notebook or JupyterLab, it may mean\n",
       "  that the widgets JavaScript is still loading. If this message persists, it\n",
       "  likely means that the widgets JavaScript library is either not installed or\n",
       "  not enabled. See the <a href=\"https://ipywidgets.readthedocs.io/en/stable/user_install.html\">Jupyter\n",
       "  Widgets Documentation</a> for setup instructions.\n",
       "</p>\n",
       "<p>\n",
       "  If you're reading this message in another notebook frontend (for example, a static\n",
       "  rendering on GitHub or <a href=\"https://nbviewer.jupyter.org/\">NBViewer</a>),\n",
       "  it may mean that your frontend doesn't currently support widgets.\n",
       "</p>\n"
      ],
      "text/plain": [
       "FloatProgress(value=0.0, max=21794.0)"
      ]
     },
     "metadata": {},
     "output_type": "display_data"
    }
   ],
   "source": [
    "transcript_mapping = ensembl_to_uniprot(ens_ids, species, show_progress_bar=True)"
   ]
  },
  {
   "cell_type": "code",
   "execution_count": 8,
   "metadata": {},
   "outputs": [
    {
     "name": "stdout",
     "output_type": "stream",
     "text": [
      "ENSMUSG00000002010 [{'url': u'http://www.uniprot.org/entry/P70404', 'protein_id': u'P70404'}]\n",
      "ENSMUSG00000002015 [{'url': u'http://www.uniprot.org/entry/Q61335', 'protein_id': u'Q61335'}]\n",
      "ENSMUSG00000027673 [{'url': u'http://www.uniprot.org/entry/Q9CQH3', 'protein_id': u'Q9CQH3'}]\n",
      "ENSMUSG00000046027 [{'url': u'http://www.uniprot.org/entry/Q9EPQ7', 'protein_id': u'Q9EPQ7'}]\n",
      "ENSMUSG00000046756 [{'url': u'http://www.uniprot.org/entry/Q80X85', 'protein_id': u'Q80X85'}]\n",
      "ENSMUSG00000031805 [{'url': u'http://www.uniprot.org/entry/A0A0R4J0R7', 'protein_id': u'A0A0R4J0R7'}]\n",
      "ENSMUSG00000035133 [{'url': u'http://www.uniprot.org/entry/E9PYT0', 'protein_id': u'E9PYT0'}]\n",
      "ENSMUSG00000045482 [{'url': u'http://www.uniprot.org/entry/A0A1D5RLL4', 'protein_id': u'A0A1D5RLL4'}, {'url': u'http://www.uniprot.org/entry/D3YY11', 'protein_id': u'D3YY11'}, {'url': u'http://www.uniprot.org/entry/F7CGG2', 'protein_id': u'F7CGG2'}, {'url': u'http://www.uniprot.org/entry/E9PWT1', 'protein_id': u'E9PWT1'}, {'url': u'http://www.uniprot.org/entry/E9PZA7', 'protein_id': u'E9PZA7'}, {'url': u'http://www.uniprot.org/entry/E9QLK7', 'protein_id': u'E9QLK7'}]\n",
      "ENSMUSG00000020758 [{'url': u'http://www.uniprot.org/entry/A2A863', 'protein_id': u'A2A863'}]\n",
      "ENSMUSG00000069830 [{'url': u'http://www.uniprot.org/entry/Q2LKU9', 'protein_id': u'Q2LKU9'}]\n"
     ]
    }
   ],
   "source": [
    "ensembl_ids = transcript_mapping.keys()[0:10]\n",
    "for ensembl_id in ensembl_ids:\n",
    "    print ensembl_id, transcript_mapping[ensembl_id]"
   ]
  },
  {
   "cell_type": "code",
   "execution_count": 9,
   "metadata": {},
   "outputs": [
    {
     "name": "stdout",
     "output_type": "stream",
     "text": [
      "5987 613 6600 21794\n"
     ]
    }
   ],
   "source": [
    "total_mapped = len(transcript_mapping)\n",
    "total_genes = len(ens_ids)\n",
    "certain = []\n",
    "for ensembl_id in transcript_mapping:\n",
    "    if len(transcript_mapping[ensembl_id]) == 1:\n",
    "        certain.append(transcript_mapping[ensembl_id][0]['protein_id'])\n",
    "\n",
    "uncertain = total_mapped - len(certain)\n",
    "print len(certain), uncertain, total_mapped, total_genes"
   ]
  },
  {
   "cell_type": "markdown",
   "metadata": {},
   "source": [
    "## Map UniProt IDs to Reactions"
   ]
  },
  {
   "cell_type": "code",
   "execution_count": 10,
   "metadata": {},
   "outputs": [
    {
     "data": {
      "application/vnd.jupyter.widget-view+json": {
       "model_id": "9263a3598715420892336e22668f1b99",
       "version_major": 2,
       "version_minor": 0
      },
      "text/html": [
       "<p>Failed to display Jupyter Widget of type <code>FloatProgress</code>.</p>\n",
       "<p>\n",
       "  If you're reading this message in Jupyter Notebook or JupyterLab, it may mean\n",
       "  that the widgets JavaScript is still loading. If this message persists, it\n",
       "  likely means that the widgets JavaScript library is either not installed or\n",
       "  not enabled. See the <a href=\"https://ipywidgets.readthedocs.io/en/stable/user_install.html\">Jupyter\n",
       "  Widgets Documentation</a> for setup instructions.\n",
       "</p>\n",
       "<p>\n",
       "  If you're reading this message in another notebook frontend (for example, a static\n",
       "  rendering on GitHub or <a href=\"https://nbviewer.jupyter.org/\">NBViewer</a>),\n",
       "  it may mean that your frontend doesn't currently support widgets.\n",
       "</p>\n"
      ],
      "text/plain": [
       "FloatProgress(value=0.0, max=5987.0)"
      ]
     },
     "metadata": {},
     "output_type": "display_data"
    }
   ],
   "source": [
    "protein_mapping = uniprot_to_reaction(certain, species, show_progress_bar=True)"
   ]
  },
  {
   "cell_type": "code",
   "execution_count": 11,
   "metadata": {},
   "outputs": [
    {
     "name": "stdout",
     "output_type": "stream",
     "text": [
      "P70404 [{'reaction_id': u'R-MMU-70967', 'reaction_name': u'isocitrate + NAD+ => alpha-ketoglutarate + CO2 + NADH + H+ [IDH3]'}]\n",
      "\n",
      "Q61335 [{'reaction_id': u'R-MMU-351894', 'reaction_name': u'Caspase mediated cleavage of BAP31'}]\n",
      "\n",
      "Q9CQH3 [{'reaction_id': u'R-MMU-163217', 'reaction_name': u'Complex I oxidises NADH to NAD+, reduces CoQ to QH2'}, {'reaction_id': u'R-MMU-6799196', 'reaction_name': u'The MCIA complex, NDUFAF2-7 all dissociate from the 980kDa complex, resulting in Complex I'}, {'reaction_id': u'R-MMU-6799202', 'reaction_name': u'The 315kDa subcomplex binds the 370kDa subcomplex to form the 550kDa complex'}, {'reaction_id': u'R-MMU-6799179', 'reaction_name': u'Peripheral arm subunits bind the 815kDa complex to form a 980kDa complex'}, {'reaction_id': u'R-MMU-6799197', 'reaction_name': u'ND4, ND5 bind the 550kDa complex to form the 815kDa complex'}, {'reaction_id': u'R-MMU-6799191', 'reaction_name': u'Intermediate 2 binds MT-ND1:NDUFAF5:NDUFAF6 to form a 315kDa subcomplex'}, {'reaction_id': u'R-MMU-6799178', 'reaction_name': u'Intermediate 1 binds HP subcomplex to form Intermediate 2'}]\n",
      "\n",
      "Q9EPQ7 [{'reaction_id': u'R-MMU-8873850', 'reaction_name': u'STARD5 binds DCA, LCA'}]\n",
      "\n",
      "Q80X85 [{'reaction_id': u'R-MMU-5419261', 'reaction_name': u'55S ribosome with peptidyl-tRNA in A site binds GFM1:GTP'}, {'reaction_id': u'R-MMU-5419264', 'reaction_name': u'MTRF1L (MTRF1a) or ICT1 binds stop codon in 55S ribosome:mRNA:peptidyl-tRNA'}, {'reaction_id': u'R-MMU-5419271', 'reaction_name': u'55S ribosome hydrolyzes peptidyl-tRNA bond and MTRF1L hydrolyzes GTP'}, {'reaction_id': u'R-MMU-5419281', 'reaction_name': u'MRRF binds 55S ribosome:mRNA:tRNA'}, {'reaction_id': u'R-MMU-5419273', 'reaction_name': u'Hydrolysis of GTP and dissociation of 28S and 39S subunits'}]\n",
      "\n",
      "A0A0R4J0R7 [{'reaction_id': u'R-MMU-8983335', 'reaction_name': u'IL15:IL15RA:IL2RB:JAK1:IL2RG:JAK3 translocates from the plasma membrane to the endosome'}, {'reaction_id': u'R-MMU-8983300', 'reaction_name': u'IL15RA:IL15:IL2RB:JAK1:IL2RG:JAK3 phosphorylates JAK3 and JAK1'}, {'reaction_id': u'R-MMU-8983378', 'reaction_name': u'IL15:IL15RA:p-Y-IL2RB:p-Y-JAK1:p-Y-IL2RG:p-Y-JAK3 binds STAT3 and STAT5'}, {'reaction_id': u'R-MMU-8983371', 'reaction_name': u'IL15:IL15RA:p-Y-IL2RB:p-Y-JAK1:p-Y-IL2RG:p-Y-JAK3 phosphorylates STAT3 and STAT5'}, {'reaction_id': u'R-MMU-8983374', 'reaction_name': u'p-STAT3 and p-STAT5 dissociates from IL15:IL15RA:IL2RB:p-JAK1:IL2RG:p-JAK3:p-STAT3:p-STAT5'}, {'reaction_id': u'R-MMU-8983384', 'reaction_name': u'IL15:IL15RA:p-Y-IL2RB:p-Y-JAK1:p-Y-IL2RG:p-Y-JAK3:p-Y-SHC1:GRB2 binds SOS1,SOS2'}, {'reaction_id': u'R-MMU-8983005', 'reaction_name': u'p-STAT5 dissociates from IL7:p-Y449-IL7R:JAK1:p-FYN:IL2RG:JAK3:p-STAT5A,p-STAT5B complex'}, {'reaction_id': u'R-MMU-8983007', 'reaction_name': u'IL7R binds ELOC'}, {'reaction_id': u'R-MMU-8983020', 'reaction_name': u'IL7R degradation'}, {'reaction_id': u'R-MMU-8983008', 'reaction_name': u'SOCS2 and CIS binds IL7R'}, {'reaction_id': u'R-MMU-8983063', 'reaction_name': u'JAK3 in IL7:p-Y449-IL7R:JAK1:p-FYN:IL2RG:JAK3 is phosphorylated'}, {'reaction_id': u'R-MMU-5672965', 'reaction_name': u'RAS GEFs promote RAS nucleotide exchange'}, {'reaction_id': u'R-MMU-453111', 'reaction_name': u'Phosphorylated SHC recruits GRB2:SOS1'}, {'reaction_id': u'R-MMU-453104', 'reaction_name': u'Phosphorylated SHC1 recruits GRB2:GAB2'}, {'reaction_id': u'R-MMU-913374', 'reaction_name': u'Phosphorylated SHC1 recruits SHIP'}, {'reaction_id': u'R-MMU-913424', 'reaction_name': u'The SHC1:SHIP1 complex is stabilized by GRB2'}, {'reaction_id': u'R-MMU-452100', 'reaction_name': u'SHC1 bound to IL2 receptor is phosphorylated'}, {'reaction_id': u'R-MMU-198284', 'reaction_name': u'PIP3 recruits PDK1 and AKT to the membrane'}, {'reaction_id': u'R-MMU-508247', 'reaction_name': u'Gab2 binds the p85 subunit of Class 1A PI3 kinases'}, {'reaction_id': u'R-MMU-912527', 'reaction_name': u'SHC1 mediates cytokine-induced phosphorylation of GAB2'}, {'reaction_id': u'R-MMU-452091', 'reaction_name': u'Phosphorylation of IL2RB Y338 enables SHC recruitment'}, {'reaction_id': u'R-MMU-452122', 'reaction_name': u'JAK1 phosphorylates Y338, Y392 and Y510 of IL2RB'}, {'reaction_id': u'R-MMU-452097', 'reaction_name': u'Recruited STAT5 is phosphorylated'}, {'reaction_id': u'R-MMU-919404', 'reaction_name': u'Phosphorylated STAT5 is released'}, {'reaction_id': u'R-MMU-452108', 'reaction_name': u'Phosphorylation of IL2RB Y338, Y392 or Y510 enables STAT recruitment'}, {'reaction_id': u'R-MMU-451942', 'reaction_name': u'Within the IL-2R complex JAK3 phosphorylates JAK1'}, {'reaction_id': u'R-MMU-508292', 'reaction_name': u'Syk binds IL2RB'}, {'reaction_id': u'R-MMU-508282', 'reaction_name': u'SYK is a substrate for JAK1'}, {'reaction_id': u'R-MMU-450063', 'reaction_name': u'Interleukin-2: IL2 receptor alpha:beta binds IL2 receptor gamma subunit'}, {'reaction_id': u'R-MMU-451895', 'reaction_name': u'IL2RG binds JAK3'}, {'reaction_id': u'R-MMU-8983003', 'reaction_name': u'IL7:p-Y449-IL7R:JAK1:IL2RG:JAK3:PI3K-regulatory subunits binds IRS1,IRS2'}, {'reaction_id': u'R-MMU-449958', 'reaction_name': u'IL7:IL7R:JAK1:p-FYN binds IL2RG:JAK3'}, {'reaction_id': u'R-MMU-6786058', 'reaction_name': u'JAK1 binds IL4R in IL4-bound IL4R1'}, {'reaction_id': u'R-MMU-6786096', 'reaction_name': u'IL4R, IL2RG, JAK1 in IL4-bound IL4R1:JAK1 are phosphorylated'}, {'reaction_id': u'R-MMU-6786092', 'reaction_name': u'IL4:IL4R:JAK2 binds IL2RG:JAK3'}, {'reaction_id': u'R-MMU-449115', 'reaction_name': u'IL15:IL15RA binds IL2RB:JAK1 and IL2RG:JAK3'}, {'reaction_id': u'R-MMU-8983298', 'reaction_name': u'IL15 binds IL2RB:JAK1 and IL2RG:JAK3'}, {'reaction_id': u'R-MMU-8963734', 'reaction_name': u'IL9 binds IL9R:JAK1 and IL2RG:JAK3'}, {'reaction_id': u'R-MMU-6786095', 'reaction_name': u'JAK1 phosphorylates STAT3,STAT6'}, {'reaction_id': u'R-MMU-6786072', 'reaction_name': u'p-Y705-STAT3,p-Y641-STAT6 dissociate'}, {'reaction_id': u'R-MMU-6786124', 'reaction_name': u'STAT3,STAT6 bind p-Y-IL4R'}, {'reaction_id': u'R-MMU-508513', 'reaction_name': u'Pyk2 associates with Jak3'}, {'reaction_id': u'R-MMU-508451', 'reaction_name': u'Pyk2 is activated following IL2 stimulation'}]\n",
      "\n",
      "E9PYT0 [{'reaction_id': u'R-MMU-194922', 'reaction_name': u'GAPs inactivate Rho GTPase:GTP by hydrolysis'}]\n",
      "\n",
      "A2A863 [{'reaction_id': u'R-MMU-446083', 'reaction_name': u'CD151 interacts with BP180 and the integrin alpha 6 subunit'}, {'reaction_id': u'R-MMU-446077', 'reaction_name': u'BP230 interacts with keretin K5/K14'}, {'reaction_id': u'R-MMU-432956', 'reaction_name': u'BP230 is recruited to the hemidesmosome'}, {'reaction_id': u'R-MMU-446089', 'reaction_name': u'BP180 interacts extracellularly with Laminin 332'}, {'reaction_id': u'R-MMU-432909', 'reaction_name': u'Interaction of Plectin with Integrin beta 4'}, {'reaction_id': u'R-MMU-432952', 'reaction_name': u'BP180 interacts intracellularly with plectin and integrin beta4'}, {'reaction_id': u'R-MMU-216048', 'reaction_name': u'Integrins alpha3beta1, alpha6beta4 bind laminin-332, 511, 521, (211, 221)'}, {'reaction_id': u'R-MMU-2213192', 'reaction_name': u'Hemidesmosome formation'}]\n",
      "\n",
      "Q2LKU9 [{'reaction_id': u'R-MMU-844447', 'reaction_name': u'NLRP1 senses MDP'}, {'reaction_id': u'R-MMU-879222', 'reaction_name': u'MDP:NLRP1 binds ATP'}, {'reaction_id': u'R-MMU-844438', 'reaction_name': u'NLRP1 oligomerizes'}, {'reaction_id': u'R-MMU-879201', 'reaction_name': u'Bcl-2 and Bcl-XL bind NLRP1'}]\n",
      "\n",
      "Q80SY3 [{'reaction_id': u'R-MMU-1222516', 'reaction_name': u'Intraphagosomal pH is lowered to 5 by V-ATPase'}, {'reaction_id': u'R-MMU-74723', 'reaction_name': u'Endosome acidification'}, {'reaction_id': u'R-MMU-917841', 'reaction_name': u'Acidification of Tf:TfR1 containing endosome'}, {'reaction_id': u'R-MMU-5252133', 'reaction_name': u'ATP6AP1 binds V-ATPase'}]\n",
      "\n"
     ]
    }
   ],
   "source": [
    "for uniprot_id in certain[0:10]:\n",
    "    print uniprot_id, protein_mapping[uniprot_id]\n",
    "    print"
   ]
  },
  {
   "cell_type": "markdown",
   "metadata": {},
   "source": [
    "## Map KEGG Compound IDs to Reactions"
   ]
  },
  {
   "cell_type": "markdown",
   "metadata": {},
   "source": [
    "Use rdkit to convert from inchi to inchikey"
   ]
  },
  {
   "cell_type": "code",
   "execution_count": 12,
   "metadata": {},
   "outputs": [],
   "source": [
    "# import xmltodict\n",
    "# kegg_location = '../data/kegg/kegg.xml'\n",
    "\n",
    "# with open(kegg_location) as kegg_cmpd_file:\n",
    "#     cmpd_dict = xmltodict.parse(kegg_cmpd_file.read())"
   ]
  },
  {
   "cell_type": "code",
   "execution_count": 20,
   "metadata": {},
   "outputs": [],
   "source": [
    "# total = len(cmpd_dict['compounds']['compound'])\n",
    "# f = FloatProgress(min=0, max=total)\n",
    "# display(f)\n",
    "\n",
    "# duplicates = []\n",
    "# kegg_inchikey_to_compound = {}\n",
    "# for compound in cmpd_dict['compounds']['compound']:\n",
    "#     f.value += 1\n",
    "#     inchi = compound['inchi']\n",
    "#     if inchi is not None:\n",
    "#         inchi_key = Chem.inchi.InchiToInchiKey(str(inchi))\n",
    "#         if inchi_key in kegg_inchikey_to_compound:\n",
    "#             print inchi_key            \n",
    "#             print compound\n",
    "#             print kegg_inchikey_to_compound[inchi_key]\n",
    "#             print\n",
    "#             duplicates.append(inchi_key)\n",
    "#         else:\n",
    "#             kegg_inchikey_to_compound[inchi_key] = compound   \n",
    "            \n",
    "# print len(kegg_inchikey_to_compound)\n",
    "# print total"
   ]
  },
  {
   "cell_type": "markdown",
   "metadata": {},
   "source": [
    "Load a dataframe containing the KEGG IDs of identified compounds only"
   ]
  },
  {
   "cell_type": "code",
   "execution_count": 17,
   "metadata": {},
   "outputs": [],
   "source": [
    "peak_df = pd.read_csv('../data/my_analysis_peaks.csv', index_col=0)"
   ]
  },
  {
   "cell_type": "code",
   "execution_count": 19,
   "metadata": {},
   "outputs": [
    {
     "data": {
      "text/html": [
       "<div>\n",
       "<style>\n",
       "    .dataframe thead tr:only-child th {\n",
       "        text-align: right;\n",
       "    }\n",
       "\n",
       "    .dataframe thead th {\n",
       "        text-align: left;\n",
       "    }\n",
       "\n",
       "    .dataframe tbody tr th {\n",
       "        vertical-align: top;\n",
       "    }\n",
       "</style>\n",
       "<table border=\"1\" class=\"dataframe\">\n",
       "  <thead>\n",
       "    <tr style=\"text-align: right;\">\n",
       "      <th></th>\n",
       "      <th>sec_id</th>\n",
       "      <th>mass</th>\n",
       "      <th>rt</th>\n",
       "      <th>polarity</th>\n",
       "      <th>c_id</th>\n",
       "      <th>formula</th>\n",
       "      <th>adduct</th>\n",
       "      <th>rc_id</th>\n",
       "      <th>compound</th>\n",
       "      <th>db</th>\n",
       "      <th>identifier</th>\n",
       "    </tr>\n",
       "    <tr>\n",
       "      <th>pid</th>\n",
       "      <th></th>\n",
       "      <th></th>\n",
       "      <th></th>\n",
       "      <th></th>\n",
       "      <th></th>\n",
       "      <th></th>\n",
       "      <th></th>\n",
       "      <th></th>\n",
       "      <th></th>\n",
       "      <th></th>\n",
       "      <th></th>\n",
       "    </tr>\n",
       "  </thead>\n",
       "  <tbody>\n",
       "    <tr>\n",
       "      <th>741583</th>\n",
       "      <td>1</td>\n",
       "      <td>147.076381</td>\n",
       "      <td>905.000626</td>\n",
       "      <td>positive</td>\n",
       "      <td>2825862</td>\n",
       "      <td>C5H10N2O3</td>\n",
       "      <td>M+H</td>\n",
       "      <td>3453657</td>\n",
       "      <td>L-Glutamine</td>\n",
       "      <td>kegg</td>\n",
       "      <td>C00064</td>\n",
       "    </tr>\n",
       "    <tr>\n",
       "      <th>741598</th>\n",
       "      <td>16</td>\n",
       "      <td>162.076139</td>\n",
       "      <td>891.966177</td>\n",
       "      <td>positive</td>\n",
       "      <td>2826034</td>\n",
       "      <td>C6H11NO4</td>\n",
       "      <td>M+H</td>\n",
       "      <td>3453882</td>\n",
       "      <td>L-2-Aminoadipate</td>\n",
       "      <td>kegg</td>\n",
       "      <td>C00956</td>\n",
       "    </tr>\n",
       "    <tr>\n",
       "      <th>741599</th>\n",
       "      <td>17</td>\n",
       "      <td>116.070596</td>\n",
       "      <td>771.412376</td>\n",
       "      <td>positive</td>\n",
       "      <td>2826041</td>\n",
       "      <td>C5H9NO2</td>\n",
       "      <td>M+H</td>\n",
       "      <td>3453891</td>\n",
       "      <td>L-Proline</td>\n",
       "      <td>kegg</td>\n",
       "      <td>C00148</td>\n",
       "    </tr>\n",
       "    <tr>\n",
       "      <th>741611</th>\n",
       "      <td>29</td>\n",
       "      <td>132.101919</td>\n",
       "      <td>677.261473</td>\n",
       "      <td>positive</td>\n",
       "      <td>2826103</td>\n",
       "      <td>C6H13NO2</td>\n",
       "      <td>M+H</td>\n",
       "      <td>3453976</td>\n",
       "      <td>L-Leucine</td>\n",
       "      <td>kegg</td>\n",
       "      <td>C00123</td>\n",
       "    </tr>\n",
       "    <tr>\n",
       "      <th>741680</th>\n",
       "      <td>98</td>\n",
       "      <td>132.101919</td>\n",
       "      <td>646.385592</td>\n",
       "      <td>positive</td>\n",
       "      <td>2826221</td>\n",
       "      <td>C6H13NO2</td>\n",
       "      <td>M+H</td>\n",
       "      <td>3454135</td>\n",
       "      <td>L-Leucine</td>\n",
       "      <td>kegg</td>\n",
       "      <td>C00123</td>\n",
       "    </tr>\n",
       "  </tbody>\n",
       "</table>\n",
       "</div>"
      ],
      "text/plain": [
       "        sec_id        mass          rt  polarity     c_id    formula adduct  \\\n",
       "pid                                                                           \n",
       "741583       1  147.076381  905.000626  positive  2825862  C5H10N2O3    M+H   \n",
       "741598      16  162.076139  891.966177  positive  2826034   C6H11NO4    M+H   \n",
       "741599      17  116.070596  771.412376  positive  2826041    C5H9NO2    M+H   \n",
       "741611      29  132.101919  677.261473  positive  2826103   C6H13NO2    M+H   \n",
       "741680      98  132.101919  646.385592  positive  2826221   C6H13NO2    M+H   \n",
       "\n",
       "          rc_id          compound    db identifier  \n",
       "pid                                                 \n",
       "741583  3453657       L-Glutamine  kegg     C00064  \n",
       "741598  3453882  L-2-Aminoadipate  kegg     C00956  \n",
       "741599  3453891         L-Proline  kegg     C00148  \n",
       "741611  3453976         L-Leucine  kegg     C00123  \n",
       "741680  3454135         L-Leucine  kegg     C00123  "
      ]
     },
     "execution_count": 19,
     "metadata": {},
     "output_type": "execute_result"
    }
   ],
   "source": [
    "peak_df.head()"
   ]
  },
  {
   "cell_type": "code",
   "execution_count": 24,
   "metadata": {},
   "outputs": [
    {
     "data": {
      "text/plain": [
       "['C00009',\n",
       " 'C00009',\n",
       " 'C00013',\n",
       " 'C00020',\n",
       " 'C00020',\n",
       " 'C00025',\n",
       " 'C00025',\n",
       " 'C00025',\n",
       " 'C00026',\n",
       " 'C00031',\n",
       " 'C00037',\n",
       " 'C00041',\n",
       " 'C00041',\n",
       " 'C00049',\n",
       " 'C00049',\n",
       " 'C00051',\n",
       " 'C00051',\n",
       " 'C00051',\n",
       " 'C00064',\n",
       " 'C00064',\n",
       " 'C00064',\n",
       " 'C00065',\n",
       " 'C00065',\n",
       " 'C00073',\n",
       " 'C00073',\n",
       " 'C00077',\n",
       " 'C00077',\n",
       " 'C00078',\n",
       " 'C00078',\n",
       " 'C00079',\n",
       " 'C00079',\n",
       " 'C00089',\n",
       " 'C00093',\n",
       " 'C00093',\n",
       " 'C00095',\n",
       " 'C00095',\n",
       " 'C00099',\n",
       " 'C00099',\n",
       " 'C00121',\n",
       " 'C00123',\n",
       " 'C00123',\n",
       " 'C00123',\n",
       " 'C00140',\n",
       " 'C00147',\n",
       " 'C00147',\n",
       " 'C00148',\n",
       " 'C00148',\n",
       " 'C00149',\n",
       " 'C00152',\n",
       " 'C00152',\n",
       " 'C00152',\n",
       " 'C00153',\n",
       " 'C00178',\n",
       " 'C00180',\n",
       " 'C00180',\n",
       " 'C00183',\n",
       " 'C00183',\n",
       " 'C00188',\n",
       " 'C00188',\n",
       " 'C00208',\n",
       " 'C00216',\n",
       " 'C00242',\n",
       " 'C00245',\n",
       " 'C00256',\n",
       " 'C00257',\n",
       " 'C00262',\n",
       " 'C00262',\n",
       " 'C00263',\n",
       " 'C00263',\n",
       " 'C00270',\n",
       " 'C00270',\n",
       " 'C00295',\n",
       " 'C00299',\n",
       " 'C00314',\n",
       " 'C00314',\n",
       " 'C00318',\n",
       " 'C00327',\n",
       " 'C00327',\n",
       " 'C00327',\n",
       " 'C00328',\n",
       " 'C00329',\n",
       " 'C00333',\n",
       " 'C00334',\n",
       " 'C00346',\n",
       " 'C00346',\n",
       " 'C00385',\n",
       " 'C00417',\n",
       " 'C00475',\n",
       " 'C00475',\n",
       " 'C00490',\n",
       " 'C00539',\n",
       " 'C00539',\n",
       " 'C00568',\n",
       " 'C00719',\n",
       " 'C00791',\n",
       " 'C00791',\n",
       " 'C00864',\n",
       " 'C00956',\n",
       " 'C01087',\n",
       " 'C01089',\n",
       " 'C01157',\n",
       " 'C01157',\n",
       " 'C01157',\n",
       " 'C01551',\n",
       " 'C01879',\n",
       " 'C02225',\n",
       " 'C02291',\n",
       " 'C02711',\n",
       " 'C02835']"
      ]
     },
     "execution_count": 24,
     "metadata": {},
     "output_type": "execute_result"
    }
   ],
   "source": [
    "compound_ids = sorted(peak_df['identifier'].values.tolist())"
   ]
  },
  {
   "cell_type": "code",
   "execution_count": null,
   "metadata": {},
   "outputs": [],
   "source": []
  }
 ],
 "metadata": {
  "kernelspec": {
   "display_name": "Python 2",
   "language": "python",
   "name": "python2"
  },
  "language_info": {
   "codemirror_mode": {
    "name": "ipython",
    "version": 2
   },
   "file_extension": ".py",
   "mimetype": "text/x-python",
   "name": "python",
   "nbconvert_exporter": "python",
   "pygments_lexer": "ipython2",
   "version": "2.7.13"
  }
 },
 "nbformat": 4,
 "nbformat_minor": 2
}
