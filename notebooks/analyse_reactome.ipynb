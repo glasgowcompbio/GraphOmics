{
 "cells": [
  {
   "cell_type": "markdown",
   "metadata": {},
   "source": [
    "# Maps Kevin's data onto reactome pathways"
   ]
  },
  {
   "cell_type": "code",
   "execution_count": 1,
   "metadata": {},
   "outputs": [],
   "source": [
    "%load_ext autoreload\n",
    "%autoreload 2"
   ]
  },
  {
   "cell_type": "code",
   "execution_count": 24,
   "metadata": {},
   "outputs": [],
   "source": [
    "import os\n",
    "import glob\n",
    "\n",
    "import pylab as plt\n",
    "import matplotlib\n",
    "from IPython.display import display, HTML\n",
    "\n",
    "import numpy as np\n",
    "from scipy.sparse import lil_matrix\n",
    "import pandas as pd\n",
    "from pandas import HDFStore\n",
    "\n",
    "import seaborn as sns\n",
    "from IPython.display import display\n",
    "\n",
    "from reactome import ensembl_to_uniprot, uniprot_to_reaction, compound_to_reaction, \\\n",
    "    reaction_to_metabolite_pathway, get_reaction_ids, get_reaction_df, get_reaction_entities, \\\n",
    "    produce_kegg_dict\n",
    "    \n",
    "from collections import defaultdict\n",
    "\n",
    "from ipywidgets import FloatProgress\n",
    "\n",
    "%matplotlib inline"
   ]
  },
  {
   "cell_type": "markdown",
   "metadata": {},
   "source": [
    "## Load data"
   ]
  },
  {
   "cell_type": "code",
   "execution_count": 3,
   "metadata": {},
   "outputs": [],
   "source": [
    "basedir = '/Users/joewandy/Dropbox/Analysis/omics_integration'"
   ]
  },
  {
   "cell_type": "code",
   "execution_count": 4,
   "metadata": {},
   "outputs": [],
   "source": [
    "time = 7\n",
    "parasite = 'INFEC'\n",
    "treatment = 'Unsorted'\n",
    "\n",
    "filename = os.path.join(basedir, 'data/data_%d_%s_%s.h5' % (time, parasite, treatment))\n",
    "hdf = HDFStore(filename, complevel=9, complib='bzip2')\n",
    "\n",
    "pvt = hdf['peak_vs_transcript'].replace([np.inf, -np.inf], np.nan).fillna(0)\n",
    "# pvp = hdf['peak_vs_peak']\n",
    "# tvt = hdf['transcript_vs_transcript']\n",
    "\n",
    "hdf.close()"
   ]
  },
  {
   "cell_type": "code",
   "execution_count": 5,
   "metadata": {},
   "outputs": [
    {
     "data": {
      "text/plain": [
       "Index([u'ENSMUSG00000000001', u'ENSMUSG00000000028', u'ENSMUSG00000000031',\n",
       "       u'ENSMUSG00000000049', u'ENSMUSG00000000056', u'ENSMUSG00000000058',\n",
       "       u'ENSMUSG00000000078', u'ENSMUSG00000000085', u'ENSMUSG00000000088',\n",
       "       u'ENSMUSG00000000093',\n",
       "       ...\n",
       "       u'ENSMUSG00000110391', u'ENSMUSG00000110393', u'ENSMUSG00000110397',\n",
       "       u'ENSMUSG00000110399', u'ENSMUSG00000110404', u'ENSMUSG00000110405',\n",
       "       u'ENSMUSG00000110410', u'ENSMUSG00000110414', u'ENSMUSG00000110419',\n",
       "       u'ENSMUSG00000110424'],\n",
       "      dtype='object', length=21794)"
      ]
     },
     "execution_count": 5,
     "metadata": {},
     "output_type": "execute_result"
    }
   ],
   "source": [
    "pvt.columns"
   ]
  },
  {
   "cell_type": "code",
   "execution_count": 6,
   "metadata": {},
   "outputs": [],
   "source": [
    "species = 'Mus musculus'"
   ]
  },
  {
   "cell_type": "markdown",
   "metadata": {},
   "source": [
    "## Maps ENSEMBL IDs to UniProt IDs"
   ]
  },
  {
   "cell_type": "code",
   "execution_count": 7,
   "metadata": {},
   "outputs": [
    {
     "name": "stdout",
     "output_type": "stream",
     "text": [
      "ENSMUSG00000000001\n"
     ]
    }
   ],
   "source": [
    "ens_id = pvt.columns[0]\n",
    "print ens_id"
   ]
  },
  {
   "cell_type": "code",
   "execution_count": 8,
   "metadata": {},
   "outputs": [
    {
     "name": "stdout",
     "output_type": "stream",
     "text": [
      "21794\n"
     ]
    }
   ],
   "source": [
    "print len(pvt.columns)\n",
    "ens_ids = pvt.columns.values.tolist()"
   ]
  },
  {
   "cell_type": "code",
   "execution_count": 9,
   "metadata": {
    "scrolled": true
   },
   "outputs": [
    {
     "data": {
      "application/vnd.jupyter.widget-view+json": {
       "model_id": "c79e920bc72840bb8d54d2560d1738a9",
       "version_major": 2,
       "version_minor": 0
      },
      "text/html": [
       "<p>Failed to display Jupyter Widget of type <code>FloatProgress</code>.</p>\n",
       "<p>\n",
       "  If you're reading this message in Jupyter Notebook or JupyterLab, it may mean\n",
       "  that the widgets JavaScript is still loading. If this message persists, it\n",
       "  likely means that the widgets JavaScript library is either not installed or\n",
       "  not enabled. See the <a href=\"https://ipywidgets.readthedocs.io/en/stable/user_install.html\">Jupyter\n",
       "  Widgets Documentation</a> for setup instructions.\n",
       "</p>\n",
       "<p>\n",
       "  If you're reading this message in another notebook frontend (for example, a static\n",
       "  rendering on GitHub or <a href=\"https://nbviewer.jupyter.org/\">NBViewer</a>),\n",
       "  it may mean that your frontend doesn't currently support widgets.\n",
       "</p>\n"
      ],
      "text/plain": [
       "FloatProgress(value=0.0, max=21794.0)"
      ]
     },
     "metadata": {},
     "output_type": "display_data"
    }
   ],
   "source": [
    "transcript_mapping = ensembl_to_uniprot(ens_ids, species, show_progress_bar=True)"
   ]
  },
  {
   "cell_type": "code",
   "execution_count": 10,
   "metadata": {},
   "outputs": [
    {
     "name": "stdout",
     "output_type": "stream",
     "text": [
      "ENSMUSG00000002010 [u'P70404']\n",
      "ENSMUSG00000002015 [u'Q61335']\n",
      "ENSMUSG00000026020 [u'Q6DFW4']\n",
      "ENSMUSG00000074886 [u'O70293']\n",
      "ENSMUSG00000006005 [u'F6ZDS4']\n",
      "ENSMUSG00000003464 [u'Q8VCI5']\n",
      "ENSMUSG00000004895 [u'Q9EQC8']\n",
      "ENSMUSG00000046027 [u'Q9EPQ7']\n",
      "ENSMUSG00000046756 [u'Q80X85']\n",
      "ENSMUSG00000004892 [u'Q61361']\n"
     ]
    }
   ],
   "source": [
    "ensembl_ids = transcript_mapping.keys()[0:10]\n",
    "for ensembl_id in ensembl_ids:\n",
    "    print ensembl_id, transcript_mapping[ensembl_id]"
   ]
  },
  {
   "cell_type": "code",
   "execution_count": 11,
   "metadata": {},
   "outputs": [
    {
     "name": "stdout",
     "output_type": "stream",
     "text": [
      "5987 613 6600 21794\n"
     ]
    }
   ],
   "source": [
    "total_mapped = len(transcript_mapping)\n",
    "total_genes = len(ens_ids)\n",
    "certain = []\n",
    "for ensembl_id in transcript_mapping:\n",
    "    if len(transcript_mapping[ensembl_id]) == 1:\n",
    "        certain.append(transcript_mapping[ensembl_id][0])\n",
    "\n",
    "uncertain = total_mapped - len(certain)\n",
    "print len(certain), uncertain, total_mapped, total_genes"
   ]
  },
  {
   "cell_type": "markdown",
   "metadata": {},
   "source": [
    "## Map UniProt IDs to Reactions"
   ]
  },
  {
   "cell_type": "code",
   "execution_count": 12,
   "metadata": {},
   "outputs": [
    {
     "data": {
      "application/vnd.jupyter.widget-view+json": {
       "model_id": "fd26085403224c2ba24ed3ca6eaa39a5",
       "version_major": 2,
       "version_minor": 0
      },
      "text/html": [
       "<p>Failed to display Jupyter Widget of type <code>FloatProgress</code>.</p>\n",
       "<p>\n",
       "  If you're reading this message in Jupyter Notebook or JupyterLab, it may mean\n",
       "  that the widgets JavaScript is still loading. If this message persists, it\n",
       "  likely means that the widgets JavaScript library is either not installed or\n",
       "  not enabled. See the <a href=\"https://ipywidgets.readthedocs.io/en/stable/user_install.html\">Jupyter\n",
       "  Widgets Documentation</a> for setup instructions.\n",
       "</p>\n",
       "<p>\n",
       "  If you're reading this message in another notebook frontend (for example, a static\n",
       "  rendering on GitHub or <a href=\"https://nbviewer.jupyter.org/\">NBViewer</a>),\n",
       "  it may mean that your frontend doesn't currently support widgets.\n",
       "</p>\n"
      ],
      "text/plain": [
       "FloatProgress(value=0.0, max=5987.0)"
      ]
     },
     "metadata": {},
     "output_type": "display_data"
    }
   ],
   "source": [
    "protein_mapping = uniprot_to_reaction(certain, species, show_progress_bar=True)"
   ]
  },
  {
   "cell_type": "code",
   "execution_count": 13,
   "metadata": {},
   "outputs": [
    {
     "name": "stdout",
     "output_type": "stream",
     "text": [
      "P70404 [{'reaction_id': u'R-MMU-70967', 'reaction_name': u'isocitrate + NAD+ => alpha-ketoglutarate + CO2 + NADH + H+ [IDH3]'}]\n",
      "\n",
      "Q61335 [{'reaction_id': u'R-MMU-351894', 'reaction_name': u'Caspase mediated cleavage of BAP31'}]\n",
      "\n",
      "Q6DFW4 [{'reaction_id': u'R-MMU-4570467', 'reaction_name': u'SUMOylation of NOP58 with SUMO1'}, {'reaction_id': u'R-MMU-6791222', 'reaction_name': u'21S pre-rRNA is nucleolytically processed at site E (site2a) to yield 18SE pre-rRNA'}, {'reaction_id': u'R-MMU-6791227', 'reaction_name': u\"47S pre-rRNA is nucleolytically processed at A' (01,A1), site A0, and site 02 (site 6)  to yield 45S pre-rRNA\"}]\n",
      "\n"
     ]
    }
   ],
   "source": [
    "for uniprot_id in certain[0:3]:\n",
    "    print uniprot_id, protein_mapping[uniprot_id]\n",
    "    print"
   ]
  },
  {
   "cell_type": "markdown",
   "metadata": {},
   "source": [
    "## Map KEGG Compound IDs to Reactions"
   ]
  },
  {
   "cell_type": "markdown",
   "metadata": {},
   "source": [
    "Load a dataframe containing the KEGG IDs of identified compounds only"
   ]
  },
  {
   "cell_type": "code",
   "execution_count": 14,
   "metadata": {},
   "outputs": [],
   "source": [
    "peak_df = pd.read_csv(os.path.join(basedir, 'data/my_analysis_peaks.csv'), index_col=0)"
   ]
  },
  {
   "cell_type": "code",
   "execution_count": 15,
   "metadata": {},
   "outputs": [
    {
     "data": {
      "text/plain": [
       "(109, 11)"
      ]
     },
     "execution_count": 15,
     "metadata": {},
     "output_type": "execute_result"
    }
   ],
   "source": [
    "peak_df.shape"
   ]
  },
  {
   "cell_type": "code",
   "execution_count": 16,
   "metadata": {},
   "outputs": [
    {
     "data": {
      "text/html": [
       "<div>\n",
       "<style>\n",
       "    .dataframe thead tr:only-child th {\n",
       "        text-align: right;\n",
       "    }\n",
       "\n",
       "    .dataframe thead th {\n",
       "        text-align: left;\n",
       "    }\n",
       "\n",
       "    .dataframe tbody tr th {\n",
       "        vertical-align: top;\n",
       "    }\n",
       "</style>\n",
       "<table border=\"1\" class=\"dataframe\">\n",
       "  <thead>\n",
       "    <tr style=\"text-align: right;\">\n",
       "      <th></th>\n",
       "      <th>sec_id</th>\n",
       "      <th>mass</th>\n",
       "      <th>rt</th>\n",
       "      <th>polarity</th>\n",
       "      <th>c_id</th>\n",
       "      <th>formula</th>\n",
       "      <th>adduct</th>\n",
       "      <th>rc_id</th>\n",
       "      <th>compound</th>\n",
       "      <th>db</th>\n",
       "      <th>identifier</th>\n",
       "    </tr>\n",
       "    <tr>\n",
       "      <th>pid</th>\n",
       "      <th></th>\n",
       "      <th></th>\n",
       "      <th></th>\n",
       "      <th></th>\n",
       "      <th></th>\n",
       "      <th></th>\n",
       "      <th></th>\n",
       "      <th></th>\n",
       "      <th></th>\n",
       "      <th></th>\n",
       "      <th></th>\n",
       "    </tr>\n",
       "  </thead>\n",
       "  <tbody>\n",
       "    <tr>\n",
       "      <th>741583</th>\n",
       "      <td>1</td>\n",
       "      <td>147.076381</td>\n",
       "      <td>905.000626</td>\n",
       "      <td>positive</td>\n",
       "      <td>2825862</td>\n",
       "      <td>C5H10N2O3</td>\n",
       "      <td>M+H</td>\n",
       "      <td>3453657</td>\n",
       "      <td>L-Glutamine</td>\n",
       "      <td>kegg</td>\n",
       "      <td>C00064</td>\n",
       "    </tr>\n",
       "    <tr>\n",
       "      <th>741598</th>\n",
       "      <td>16</td>\n",
       "      <td>162.076139</td>\n",
       "      <td>891.966177</td>\n",
       "      <td>positive</td>\n",
       "      <td>2826034</td>\n",
       "      <td>C6H11NO4</td>\n",
       "      <td>M+H</td>\n",
       "      <td>3453882</td>\n",
       "      <td>L-2-Aminoadipate</td>\n",
       "      <td>kegg</td>\n",
       "      <td>C00956</td>\n",
       "    </tr>\n",
       "    <tr>\n",
       "      <th>741599</th>\n",
       "      <td>17</td>\n",
       "      <td>116.070596</td>\n",
       "      <td>771.412376</td>\n",
       "      <td>positive</td>\n",
       "      <td>2826041</td>\n",
       "      <td>C5H9NO2</td>\n",
       "      <td>M+H</td>\n",
       "      <td>3453891</td>\n",
       "      <td>L-Proline</td>\n",
       "      <td>kegg</td>\n",
       "      <td>C00148</td>\n",
       "    </tr>\n",
       "    <tr>\n",
       "      <th>741611</th>\n",
       "      <td>29</td>\n",
       "      <td>132.101919</td>\n",
       "      <td>677.261473</td>\n",
       "      <td>positive</td>\n",
       "      <td>2826103</td>\n",
       "      <td>C6H13NO2</td>\n",
       "      <td>M+H</td>\n",
       "      <td>3453976</td>\n",
       "      <td>L-Leucine</td>\n",
       "      <td>kegg</td>\n",
       "      <td>C00123</td>\n",
       "    </tr>\n",
       "    <tr>\n",
       "      <th>741680</th>\n",
       "      <td>98</td>\n",
       "      <td>132.101919</td>\n",
       "      <td>646.385592</td>\n",
       "      <td>positive</td>\n",
       "      <td>2826221</td>\n",
       "      <td>C6H13NO2</td>\n",
       "      <td>M+H</td>\n",
       "      <td>3454135</td>\n",
       "      <td>L-Leucine</td>\n",
       "      <td>kegg</td>\n",
       "      <td>C00123</td>\n",
       "    </tr>\n",
       "  </tbody>\n",
       "</table>\n",
       "</div>"
      ],
      "text/plain": [
       "        sec_id        mass          rt  polarity     c_id    formula adduct  \\\n",
       "pid                                                                           \n",
       "741583       1  147.076381  905.000626  positive  2825862  C5H10N2O3    M+H   \n",
       "741598      16  162.076139  891.966177  positive  2826034   C6H11NO4    M+H   \n",
       "741599      17  116.070596  771.412376  positive  2826041    C5H9NO2    M+H   \n",
       "741611      29  132.101919  677.261473  positive  2826103   C6H13NO2    M+H   \n",
       "741680      98  132.101919  646.385592  positive  2826221   C6H13NO2    M+H   \n",
       "\n",
       "          rc_id          compound    db identifier  \n",
       "pid                                                 \n",
       "741583  3453657       L-Glutamine  kegg     C00064  \n",
       "741598  3453882  L-2-Aminoadipate  kegg     C00956  \n",
       "741599  3453891         L-Proline  kegg     C00148  \n",
       "741611  3453976         L-Leucine  kegg     C00123  \n",
       "741680  3454135         L-Leucine  kegg     C00123  "
      ]
     },
     "execution_count": 16,
     "metadata": {},
     "output_type": "execute_result"
    }
   ],
   "source": [
    "peak_df.head()"
   ]
  },
  {
   "cell_type": "code",
   "execution_count": 17,
   "metadata": {},
   "outputs": [],
   "source": [
    "compound_ids = sorted(list(set(peak_df['identifier'].values.tolist())))"
   ]
  },
  {
   "cell_type": "code",
   "execution_count": 18,
   "metadata": {},
   "outputs": [
    {
     "data": {
      "application/vnd.jupyter.widget-view+json": {
       "model_id": "be6a9c79e25a40cd92fb599216d89a0d",
       "version_major": 2,
       "version_minor": 0
      },
      "text/html": [
       "<p>Failed to display Jupyter Widget of type <code>FloatProgress</code>.</p>\n",
       "<p>\n",
       "  If you're reading this message in Jupyter Notebook or JupyterLab, it may mean\n",
       "  that the widgets JavaScript is still loading. If this message persists, it\n",
       "  likely means that the widgets JavaScript library is either not installed or\n",
       "  not enabled. See the <a href=\"https://ipywidgets.readthedocs.io/en/stable/user_install.html\">Jupyter\n",
       "  Widgets Documentation</a> for setup instructions.\n",
       "</p>\n",
       "<p>\n",
       "  If you're reading this message in another notebook frontend (for example, a static\n",
       "  rendering on GitHub or <a href=\"https://nbviewer.jupyter.org/\">NBViewer</a>),\n",
       "  it may mean that your frontend doesn't currently support widgets.\n",
       "</p>\n"
      ],
      "text/plain": [
       "FloatProgress(value=0.0, max=70.0)"
      ]
     },
     "metadata": {},
     "output_type": "display_data"
    }
   ],
   "source": [
    "compound_mapping = compound_to_reaction(compound_ids, species, show_progress_bar=True)"
   ]
  },
  {
   "cell_type": "code",
   "execution_count": 19,
   "metadata": {},
   "outputs": [
    {
     "name": "stdout",
     "output_type": "stream",
     "text": [
      "[u'C00025', u'C00328', u'C00149', u'C00020', u'C00009', u'C00147', u'C00013', u'C00026', u'C00864', u'C00099']\n"
     ]
    }
   ],
   "source": [
    "print compound_mapping.keys()[0:10]"
   ]
  },
  {
   "cell_type": "markdown",
   "metadata": {},
   "source": [
    "## Map Reactions to Pathways"
   ]
  },
  {
   "cell_type": "code",
   "execution_count": 20,
   "metadata": {},
   "outputs": [
    {
     "name": "stdout",
     "output_type": "stream",
     "text": [
      "7096\n",
      "870\n",
      "7227\n"
     ]
    }
   ],
   "source": [
    "protein_reactions = list(set(get_reaction_ids(protein_mapping)))\n",
    "compound_reactions = list(set(get_reaction_ids(compound_mapping)))\n",
    "combined_reactions = list(set(protein_reactions + compound_reactions))\n",
    "\n",
    "print len(protein_reactions)\n",
    "print len(compound_reactions)\n",
    "print len(combined_reactions)"
   ]
  },
  {
   "cell_type": "code",
   "execution_count": 21,
   "metadata": {},
   "outputs": [
    {
     "name": "stdout",
     "output_type": "stream",
     "text": [
      "[u'R-MMU-9014672', u'R-MMU-2130336', u'R-MMU-5694018', u'R-MMU-6813740', u'R-MMU-9014678', u'R-MMU-204485', u'R-MMU-202626', u'R-MMU-1254386', u'R-MMU-5693561', u'R-MMU-8939706']\n"
     ]
    }
   ],
   "source": [
    "print combined_reactions[0:10]"
   ]
  },
  {
   "cell_type": "markdown",
   "metadata": {},
   "source": [
    "This is a map of reactions to pathways that are under the top-level biochemical ('Metabolism') pathways"
   ]
  },
  {
   "cell_type": "code",
   "execution_count": 28,
   "metadata": {},
   "outputs": [
    {
     "data": {
      "application/vnd.jupyter.widget-view+json": {
       "model_id": "236c879200934644b30d4f6a5c91f8cf",
       "version_major": 2,
       "version_minor": 0
      },
      "text/html": [
       "<p>Failed to display Jupyter Widget of type <code>FloatProgress</code>.</p>\n",
       "<p>\n",
       "  If you're reading this message in Jupyter Notebook or JupyterLab, it may mean\n",
       "  that the widgets JavaScript is still loading. If this message persists, it\n",
       "  likely means that the widgets JavaScript library is either not installed or\n",
       "  not enabled. See the <a href=\"https://ipywidgets.readthedocs.io/en/stable/user_install.html\">Jupyter\n",
       "  Widgets Documentation</a> for setup instructions.\n",
       "</p>\n",
       "<p>\n",
       "  If you're reading this message in another notebook frontend (for example, a static\n",
       "  rendering on GitHub or <a href=\"https://nbviewer.jupyter.org/\">NBViewer</a>),\n",
       "  it may mean that your frontend doesn't currently support widgets.\n",
       "</p>\n"
      ],
      "text/plain": [
       "FloatProgress(value=0.0, max=7227.0)"
      ]
     },
     "metadata": {},
     "output_type": "display_data"
    },
    {
     "name": "stdout",
     "output_type": "stream",
     "text": [
      "1386\n",
      "[{'pathway_id': u'R-MMU-975634', 'pathway_name': u'Retinoid metabolism and transport'}]\n"
     ]
    }
   ],
   "source": [
    "pathway_mapping = reaction_to_metabolite_pathway(combined_reactions, species, show_progress_bar=True, last_pathway=True)\n",
    "print len(pathway_mapping)\n",
    "print pathway_mapping['R-MMU-2395768']"
   ]
  },
  {
   "cell_type": "code",
   "execution_count": null,
   "metadata": {},
   "outputs": [],
   "source": [
    "kegg_location = os.path.join(basedir, 'data/kegg/kegg.xml')\n",
    "kegg_dict = produce_kegg_dict(kegg_location, 'id')"
   ]
  },
  {
   "cell_type": "code",
   "execution_count": null,
   "metadata": {
    "scrolled": true
   },
   "outputs": [],
   "source": [
    "reaction_df = get_reaction_df(transcript_mapping, protein_mapping, compound_mapping, pathway_mapping, species)\n",
    "reaction_df.sort_values(by=['compound_coverage', 'protein_coverage'], inplace=True, ascending=False)\n",
    "print reaction_df.shape"
   ]
  },
  {
   "cell_type": "code",
   "execution_count": null,
   "metadata": {
    "scrolled": true
   },
   "outputs": [],
   "source": [
    "reaction_df"
   ]
  },
  {
   "cell_type": "code",
   "execution_count": null,
   "metadata": {},
   "outputs": [],
   "source": [
    "reaction_df.to_csv('reaction_df.tsv', sep='\\t', index=False)"
   ]
  },
  {
   "cell_type": "markdown",
   "metadata": {},
   "source": [
    "How many unique pathways?"
   ]
  },
  {
   "cell_type": "code",
   "execution_count": null,
   "metadata": {},
   "outputs": [],
   "source": [
    "pathway_names = []\n",
    "for names in reaction_df['pathway_names'].values:\n",
    "    ps = names.split(':')\n",
    "    pathway_names.extend(ps)\n",
    "unique_names = sorted(list(set(pathway_names)))"
   ]
  },
  {
   "cell_type": "code",
   "execution_count": null,
   "metadata": {
    "scrolled": false
   },
   "outputs": [],
   "source": [
    "pathway_df = pd.DataFrame(unique_names, columns=['pathway_name'])\n",
    "pathway_df.to_csv('pathway_df.csv', index=False)\n",
    "print pathway_df.shape"
   ]
  },
  {
   "cell_type": "code",
   "execution_count": null,
   "metadata": {},
   "outputs": [],
   "source": [
    "pathway_df"
   ]
  },
  {
   "cell_type": "code",
   "execution_count": null,
   "metadata": {},
   "outputs": [],
   "source": []
  },
  {
   "cell_type": "code",
   "execution_count": null,
   "metadata": {},
   "outputs": [],
   "source": []
  }
 ],
 "metadata": {
  "kernelspec": {
   "display_name": "Python 2",
   "language": "python",
   "name": "python2"
  },
  "language_info": {
   "codemirror_mode": {
    "name": "ipython",
    "version": 2
   },
   "file_extension": ".py",
   "mimetype": "text/x-python",
   "name": "python",
   "nbconvert_exporter": "python",
   "pygments_lexer": "ipython2",
   "version": "2.7.13"
  }
 },
 "nbformat": 4,
 "nbformat_minor": 2
}
